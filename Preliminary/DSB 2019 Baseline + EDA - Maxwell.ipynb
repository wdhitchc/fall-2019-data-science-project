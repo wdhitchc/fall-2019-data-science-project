{
 "cells": [
  {
   "cell_type": "code",
   "execution_count": 1,
   "metadata": {},
   "outputs": [],
   "source": [
    "#imports\n",
    "\n",
    "import pandas as pd\n",
    "import numpy as np\n",
    "import json\n",
    "import matplotlib\n",
    "%matplotlib inline\n",
    "\n",
    "import joblib"
   ]
  },
  {
   "cell_type": "markdown",
   "metadata": {},
   "source": [
    "# Outline\n",
    "\n",
    "- Begin the process by taking a look at the *training* data basic features:\n",
    "    - Event code counts\n",
    "    - unique installations\n",
    "    - unique sessions\n",
    "- Add another layer by looking at grouped features:\n",
    "    - group by installation id: game time, event code counts,\n",
    "    - group by session within an installation\n",
    "- Compare train and test data as a reality check\n",
    "- Unpack inner data\n",
    "    - event data\n",
    "    - specs args\n",
    "- Join the train_labels to train data\n",
    "- Set up an initial naive baseline"
   ]
  },
  {
   "cell_type": "code",
   "execution_count": 2,
   "metadata": {},
   "outputs": [],
   "source": [
    "#Read in training data first\n",
    "train = pd.read_csv(\"data-science-bowl-2019/train.csv\")"
   ]
  },
  {
   "cell_type": "code",
   "execution_count": 3,
   "metadata": {},
   "outputs": [
    {
     "data": {
      "text/html": [
       "<div>\n",
       "<style scoped>\n",
       "    .dataframe tbody tr th:only-of-type {\n",
       "        vertical-align: middle;\n",
       "    }\n",
       "\n",
       "    .dataframe tbody tr th {\n",
       "        vertical-align: top;\n",
       "    }\n",
       "\n",
       "    .dataframe thead th {\n",
       "        text-align: right;\n",
       "    }\n",
       "</style>\n",
       "<table border=\"1\" class=\"dataframe\">\n",
       "  <thead>\n",
       "    <tr style=\"text-align: right;\">\n",
       "      <th></th>\n",
       "      <th>event_id</th>\n",
       "      <th>game_session</th>\n",
       "      <th>timestamp</th>\n",
       "      <th>event_data</th>\n",
       "      <th>installation_id</th>\n",
       "      <th>event_count</th>\n",
       "      <th>event_code</th>\n",
       "      <th>game_time</th>\n",
       "      <th>title</th>\n",
       "      <th>type</th>\n",
       "      <th>world</th>\n",
       "    </tr>\n",
       "  </thead>\n",
       "  <tbody>\n",
       "    <tr>\n",
       "      <td>0</td>\n",
       "      <td>27253bdc</td>\n",
       "      <td>45bb1e1b6b50c07b</td>\n",
       "      <td>2019-09-06T17:53:46.937Z</td>\n",
       "      <td>{\"event_code\": 2000, \"event_count\": 1}</td>\n",
       "      <td>0001e90f</td>\n",
       "      <td>1</td>\n",
       "      <td>2000</td>\n",
       "      <td>0</td>\n",
       "      <td>Welcome to Lost Lagoon!</td>\n",
       "      <td>Clip</td>\n",
       "      <td>NONE</td>\n",
       "    </tr>\n",
       "    <tr>\n",
       "      <td>1</td>\n",
       "      <td>27253bdc</td>\n",
       "      <td>17eeb7f223665f53</td>\n",
       "      <td>2019-09-06T17:54:17.519Z</td>\n",
       "      <td>{\"event_code\": 2000, \"event_count\": 1}</td>\n",
       "      <td>0001e90f</td>\n",
       "      <td>1</td>\n",
       "      <td>2000</td>\n",
       "      <td>0</td>\n",
       "      <td>Magma Peak - Level 1</td>\n",
       "      <td>Clip</td>\n",
       "      <td>MAGMAPEAK</td>\n",
       "    </tr>\n",
       "    <tr>\n",
       "      <td>2</td>\n",
       "      <td>77261ab5</td>\n",
       "      <td>0848ef14a8dc6892</td>\n",
       "      <td>2019-09-06T17:54:56.302Z</td>\n",
       "      <td>{\"version\":\"1.0\",\"event_count\":1,\"game_time\":0...</td>\n",
       "      <td>0001e90f</td>\n",
       "      <td>1</td>\n",
       "      <td>2000</td>\n",
       "      <td>0</td>\n",
       "      <td>Sandcastle Builder (Activity)</td>\n",
       "      <td>Activity</td>\n",
       "      <td>MAGMAPEAK</td>\n",
       "    </tr>\n",
       "    <tr>\n",
       "      <td>3</td>\n",
       "      <td>b2dba42b</td>\n",
       "      <td>0848ef14a8dc6892</td>\n",
       "      <td>2019-09-06T17:54:56.387Z</td>\n",
       "      <td>{\"description\":\"Let's build a sandcastle! Firs...</td>\n",
       "      <td>0001e90f</td>\n",
       "      <td>2</td>\n",
       "      <td>3010</td>\n",
       "      <td>53</td>\n",
       "      <td>Sandcastle Builder (Activity)</td>\n",
       "      <td>Activity</td>\n",
       "      <td>MAGMAPEAK</td>\n",
       "    </tr>\n",
       "    <tr>\n",
       "      <td>4</td>\n",
       "      <td>1bb5fbdb</td>\n",
       "      <td>0848ef14a8dc6892</td>\n",
       "      <td>2019-09-06T17:55:03.253Z</td>\n",
       "      <td>{\"description\":\"Let's build a sandcastle! Firs...</td>\n",
       "      <td>0001e90f</td>\n",
       "      <td>3</td>\n",
       "      <td>3110</td>\n",
       "      <td>6972</td>\n",
       "      <td>Sandcastle Builder (Activity)</td>\n",
       "      <td>Activity</td>\n",
       "      <td>MAGMAPEAK</td>\n",
       "    </tr>\n",
       "  </tbody>\n",
       "</table>\n",
       "</div>"
      ],
      "text/plain": [
       "   event_id      game_session                 timestamp  \\\n",
       "0  27253bdc  45bb1e1b6b50c07b  2019-09-06T17:53:46.937Z   \n",
       "1  27253bdc  17eeb7f223665f53  2019-09-06T17:54:17.519Z   \n",
       "2  77261ab5  0848ef14a8dc6892  2019-09-06T17:54:56.302Z   \n",
       "3  b2dba42b  0848ef14a8dc6892  2019-09-06T17:54:56.387Z   \n",
       "4  1bb5fbdb  0848ef14a8dc6892  2019-09-06T17:55:03.253Z   \n",
       "\n",
       "                                          event_data installation_id  \\\n",
       "0             {\"event_code\": 2000, \"event_count\": 1}        0001e90f   \n",
       "1             {\"event_code\": 2000, \"event_count\": 1}        0001e90f   \n",
       "2  {\"version\":\"1.0\",\"event_count\":1,\"game_time\":0...        0001e90f   \n",
       "3  {\"description\":\"Let's build a sandcastle! Firs...        0001e90f   \n",
       "4  {\"description\":\"Let's build a sandcastle! Firs...        0001e90f   \n",
       "\n",
       "   event_count  event_code  game_time                          title  \\\n",
       "0            1        2000          0        Welcome to Lost Lagoon!   \n",
       "1            1        2000          0           Magma Peak - Level 1   \n",
       "2            1        2000          0  Sandcastle Builder (Activity)   \n",
       "3            2        3010         53  Sandcastle Builder (Activity)   \n",
       "4            3        3110       6972  Sandcastle Builder (Activity)   \n",
       "\n",
       "       type      world  \n",
       "0      Clip       NONE  \n",
       "1      Clip  MAGMAPEAK  \n",
       "2  Activity  MAGMAPEAK  \n",
       "3  Activity  MAGMAPEAK  \n",
       "4  Activity  MAGMAPEAK  "
      ]
     },
     "execution_count": 3,
     "metadata": {},
     "output_type": "execute_result"
    }
   ],
   "source": [
    "train.head()"
   ]
  },
  {
   "cell_type": "code",
   "execution_count": 4,
   "metadata": {},
   "outputs": [
    {
     "data": {
      "text/plain": [
       "(11341042, 11)"
      ]
     },
     "execution_count": 4,
     "metadata": {},
     "output_type": "execute_result"
    }
   ],
   "source": [
    "train.shape"
   ]
  },
  {
   "cell_type": "markdown",
   "metadata": {},
   "source": [
    "In order to explore the features more easily let's sample a small piece of the total. Total shape has over 11 million observations.\n",
    "It's also worth noting that some of the installation ids in the training data don't contain assessments so we can eliminate those as they are not useful for training."
   ]
  },
  {
   "cell_type": "code",
   "execution_count": 5,
   "metadata": {},
   "outputs": [],
   "source": [
    "hasAssessmentIds = train[train[\"type\"] == \"Assessment\"].loc[:,'installation_id'].drop_duplicates()\n",
    "useful_train = pd.merge(train, hasAssessmentIds, on=\"installation_id\", how=\"inner\")"
   ]
  },
  {
   "cell_type": "code",
   "execution_count": 104,
   "metadata": {},
   "outputs": [
    {
     "data": {
      "text/plain": [
       "(8294138, 11)"
      ]
     },
     "execution_count": 104,
     "metadata": {},
     "output_type": "execute_result"
    }
   ],
   "source": [
    "useful_train.shape"
   ]
  },
  {
   "cell_type": "code",
   "execution_count": 105,
   "metadata": {},
   "outputs": [],
   "source": [
    "train_sample = useful_train.sample(100000)"
   ]
  },
  {
   "cell_type": "markdown",
   "metadata": {},
   "source": [
    "Let's list out the columns we're going to need to look at for each observation."
   ]
  },
  {
   "cell_type": "code",
   "execution_count": 106,
   "metadata": {},
   "outputs": [
    {
     "data": {
      "text/plain": [
       "Index(['event_id', 'game_session', 'timestamp', 'event_data',\n",
       "       'installation_id', 'event_count', 'event_code', 'game_time', 'title',\n",
       "       'type', 'world'],\n",
       "      dtype='object')"
      ]
     },
     "execution_count": 106,
     "metadata": {},
     "output_type": "execute_result"
    }
   ],
   "source": [
    "train_sample.columns"
   ]
  },
  {
   "cell_type": "markdown",
   "metadata": {},
   "source": [
    "It seems like it could be useful to categorize different observations in the data. Event codes could represent some of these differences."
   ]
  },
  {
   "cell_type": "code",
   "execution_count": 107,
   "metadata": {},
   "outputs": [
    {
     "data": {
      "text/plain": [
       "<matplotlib.axes._subplots.AxesSubplot at 0x7f6e52868fd0>"
      ]
     },
     "execution_count": 107,
     "metadata": {},
     "output_type": "execute_result"
    },
    {
     "data": {
      "image/png": "[encoded data removed]",
      "text/plain": [
       "<Figure size 432x288 with 1 Axes>"
      ]
     },
     "metadata": {
      "needs_background": "light"
     },
     "output_type": "display_data"
    }
   ],
   "source": [
    "train_sample[\"event_code\"].value_counts().plot.bar()"
   ]
  },
  {
   "cell_type": "code",
   "execution_count": 108,
   "metadata": {},
   "outputs": [
    {
     "data": {
      "text/html": [
       "<div>\n",
       "<style scoped>\n",
       "    .dataframe tbody tr th:only-of-type {\n",
       "        vertical-align: middle;\n",
       "    }\n",
       "\n",
       "    .dataframe tbody tr th {\n",
       "        vertical-align: top;\n",
       "    }\n",
       "\n",
       "    .dataframe thead th {\n",
       "        text-align: right;\n",
       "    }\n",
       "</style>\n",
       "<table border=\"1\" class=\"dataframe\">\n",
       "  <thead>\n",
       "    <tr style=\"text-align: right;\">\n",
       "      <th></th>\n",
       "      <th>event_count</th>\n",
       "      <th>event_code</th>\n",
       "      <th>game_time</th>\n",
       "    </tr>\n",
       "    <tr>\n",
       "      <th>installation_id</th>\n",
       "      <th></th>\n",
       "      <th></th>\n",
       "      <th></th>\n",
       "    </tr>\n",
       "  </thead>\n",
       "  <tbody>\n",
       "    <tr>\n",
       "      <td>0006a69f</td>\n",
       "      <td>3242</td>\n",
       "      <td>181819</td>\n",
       "      <td>3347729</td>\n",
       "    </tr>\n",
       "    <tr>\n",
       "      <td>0006c192</td>\n",
       "      <td>3630</td>\n",
       "      <td>161086</td>\n",
       "      <td>3633287</td>\n",
       "    </tr>\n",
       "    <tr>\n",
       "      <td>00129856</td>\n",
       "      <td>867</td>\n",
       "      <td>31530</td>\n",
       "      <td>999164</td>\n",
       "    </tr>\n",
       "    <tr>\n",
       "      <td>001d0ed0</td>\n",
       "      <td>901</td>\n",
       "      <td>47590</td>\n",
       "      <td>869382</td>\n",
       "    </tr>\n",
       "    <tr>\n",
       "      <td>00225f67</td>\n",
       "      <td>818</td>\n",
       "      <td>30476</td>\n",
       "      <td>785277</td>\n",
       "    </tr>\n",
       "    <tr>\n",
       "      <td>...</td>\n",
       "      <td>...</td>\n",
       "      <td>...</td>\n",
       "      <td>...</td>\n",
       "    </tr>\n",
       "    <tr>\n",
       "      <td>ff9715db</td>\n",
       "      <td>789</td>\n",
       "      <td>52832</td>\n",
       "      <td>914783</td>\n",
       "    </tr>\n",
       "    <tr>\n",
       "      <td>ffc90c32</td>\n",
       "      <td>1503</td>\n",
       "      <td>83194</td>\n",
       "      <td>2003772</td>\n",
       "    </tr>\n",
       "    <tr>\n",
       "      <td>ffd2871d</td>\n",
       "      <td>2070</td>\n",
       "      <td>115282</td>\n",
       "      <td>3795167</td>\n",
       "    </tr>\n",
       "    <tr>\n",
       "      <td>ffe3b25d</td>\n",
       "      <td>356</td>\n",
       "      <td>7091</td>\n",
       "      <td>329046</td>\n",
       "    </tr>\n",
       "    <tr>\n",
       "      <td>ffeb0b1b</td>\n",
       "      <td>3362</td>\n",
       "      <td>65040</td>\n",
       "      <td>4781284</td>\n",
       "    </tr>\n",
       "  </tbody>\n",
       "</table>\n",
       "<p>4062 rows × 3 columns</p>\n",
       "</div>"
      ],
      "text/plain": [
       "                 event_count  event_code  game_time\n",
       "installation_id                                    \n",
       "0006a69f                3242      181819    3347729\n",
       "0006c192                3630      161086    3633287\n",
       "00129856                 867       31530     999164\n",
       "001d0ed0                 901       47590     869382\n",
       "00225f67                 818       30476     785277\n",
       "...                      ...         ...        ...\n",
       "ff9715db                 789       52832     914783\n",
       "ffc90c32                1503       83194    2003772\n",
       "ffd2871d                2070      115282    3795167\n",
       "ffe3b25d                 356        7091     329046\n",
       "ffeb0b1b                3362       65040    4781284\n",
       "\n",
       "[4062 rows x 3 columns]"
      ]
     },
     "execution_count": 108,
     "metadata": {},
     "output_type": "execute_result"
    }
   ],
   "source": [
    "train_sample.groupby(\"installation_id\").sum()"
   ]
  },
  {
   "cell_type": "markdown",
   "metadata": {},
   "source": [
    "This tells us there are about 4000 installation ids in the sample and gives us information about total game time."
   ]
  },
  {
   "cell_type": "code",
   "execution_count": 11,
   "metadata": {},
   "outputs": [
    {
     "data": {
      "text/html": [
       "<div>\n",
       "<style scoped>\n",
       "    .dataframe tbody tr th:only-of-type {\n",
       "        vertical-align: middle;\n",
       "    }\n",
       "\n",
       "    .dataframe tbody tr th {\n",
       "        vertical-align: top;\n",
       "    }\n",
       "\n",
       "    .dataframe thead th {\n",
       "        text-align: right;\n",
       "    }\n",
       "</style>\n",
       "<table border=\"1\" class=\"dataframe\">\n",
       "  <thead>\n",
       "    <tr style=\"text-align: right;\">\n",
       "      <th></th>\n",
       "      <th>event_count</th>\n",
       "      <th>event_code</th>\n",
       "      <th>game_time</th>\n",
       "    </tr>\n",
       "    <tr>\n",
       "      <th>game_session</th>\n",
       "      <th></th>\n",
       "      <th></th>\n",
       "      <th></th>\n",
       "    </tr>\n",
       "  </thead>\n",
       "  <tbody>\n",
       "    <tr>\n",
       "      <td>000050630c4b081b</td>\n",
       "      <td>24</td>\n",
       "      <td>4070</td>\n",
       "      <td>59879</td>\n",
       "    </tr>\n",
       "    <tr>\n",
       "      <td>0000d473b2f78883</td>\n",
       "      <td>168</td>\n",
       "      <td>11110</td>\n",
       "      <td>214507</td>\n",
       "    </tr>\n",
       "    <tr>\n",
       "      <td>00020f3bd042b3f0</td>\n",
       "      <td>33</td>\n",
       "      <td>6020</td>\n",
       "      <td>55364</td>\n",
       "    </tr>\n",
       "    <tr>\n",
       "      <td>00030865234e6b3d</td>\n",
       "      <td>31</td>\n",
       "      <td>4020</td>\n",
       "      <td>40806</td>\n",
       "    </tr>\n",
       "    <tr>\n",
       "      <td>000319989d08f8aa</td>\n",
       "      <td>398</td>\n",
       "      <td>10250</td>\n",
       "      <td>568087</td>\n",
       "    </tr>\n",
       "    <tr>\n",
       "      <td>...</td>\n",
       "      <td>...</td>\n",
       "      <td>...</td>\n",
       "      <td>...</td>\n",
       "    </tr>\n",
       "    <tr>\n",
       "      <td>fffb2fe838347917</td>\n",
       "      <td>88</td>\n",
       "      <td>3020</td>\n",
       "      <td>224151</td>\n",
       "    </tr>\n",
       "    <tr>\n",
       "      <td>fffc152654849cbe</td>\n",
       "      <td>97</td>\n",
       "      <td>2020</td>\n",
       "      <td>96792</td>\n",
       "    </tr>\n",
       "    <tr>\n",
       "      <td>fffc54cfd9f4d7b2</td>\n",
       "      <td>57</td>\n",
       "      <td>4030</td>\n",
       "      <td>153328</td>\n",
       "    </tr>\n",
       "    <tr>\n",
       "      <td>fffcdc3a0ff75a77</td>\n",
       "      <td>807</td>\n",
       "      <td>12283</td>\n",
       "      <td>1114145</td>\n",
       "    </tr>\n",
       "    <tr>\n",
       "      <td>fffebbb01855e28b</td>\n",
       "      <td>60</td>\n",
       "      <td>3021</td>\n",
       "      <td>72431</td>\n",
       "    </tr>\n",
       "  </tbody>\n",
       "</table>\n",
       "<p>49379 rows × 3 columns</p>\n",
       "</div>"
      ],
      "text/plain": [
       "                  event_count  event_code  game_time\n",
       "game_session                                        \n",
       "000050630c4b081b           24        4070      59879\n",
       "0000d473b2f78883          168       11110     214507\n",
       "00020f3bd042b3f0           33        6020      55364\n",
       "00030865234e6b3d           31        4020      40806\n",
       "000319989d08f8aa          398       10250     568087\n",
       "...                       ...         ...        ...\n",
       "fffb2fe838347917           88        3020     224151\n",
       "fffc152654849cbe           97        2020      96792\n",
       "fffc54cfd9f4d7b2           57        4030     153328\n",
       "fffcdc3a0ff75a77          807       12283    1114145\n",
       "fffebbb01855e28b           60        3021      72431\n",
       "\n",
       "[49379 rows x 3 columns]"
      ]
     },
     "execution_count": 11,
     "metadata": {},
     "output_type": "execute_result"
    }
   ],
   "source": [
    "train_sample.groupby(\"game_session\").sum()"
   ]
  },
  {
   "cell_type": "markdown",
   "metadata": {},
   "source": [
    "Not sure game session ids are telling me what I thought they were here. They don't seem to overlap much, some sessions only contining 1 obseravtion.\n",
    "\n",
    "Let's take a deeper look at a set of events for a single ID."
   ]
  },
  {
   "cell_type": "code",
   "execution_count": 12,
   "metadata": {},
   "outputs": [
    {
     "data": {
      "text/html": [
       "<div>\n",
       "<style scoped>\n",
       "    .dataframe tbody tr th:only-of-type {\n",
       "        vertical-align: middle;\n",
       "    }\n",
       "\n",
       "    .dataframe tbody tr th {\n",
       "        vertical-align: top;\n",
       "    }\n",
       "\n",
       "    .dataframe thead th {\n",
       "        text-align: right;\n",
       "    }\n",
       "</style>\n",
       "<table border=\"1\" class=\"dataframe\">\n",
       "  <thead>\n",
       "    <tr style=\"text-align: right;\">\n",
       "      <th></th>\n",
       "      <th>event_id</th>\n",
       "      <th>game_session</th>\n",
       "      <th>timestamp</th>\n",
       "      <th>event_data</th>\n",
       "      <th>installation_id</th>\n",
       "      <th>event_count</th>\n",
       "      <th>event_code</th>\n",
       "      <th>game_time</th>\n",
       "      <th>title</th>\n",
       "      <th>type</th>\n",
       "      <th>world</th>\n",
       "    </tr>\n",
       "  </thead>\n",
       "  <tbody>\n",
       "    <tr>\n",
       "      <td>2907</td>\n",
       "      <td>f71c4741</td>\n",
       "      <td>6693061f235f04a7</td>\n",
       "      <td>2019-08-09T18:27:19.526Z</td>\n",
       "      <td>{\"description\":\"Which soap is just right for t...</td>\n",
       "      <td>0006a69f</td>\n",
       "      <td>63</td>\n",
       "      <td>3010</td>\n",
       "      <td>38219</td>\n",
       "      <td>Scrub-A-Dub</td>\n",
       "      <td>Game</td>\n",
       "      <td>MAGMAPEAK</td>\n",
       "    </tr>\n",
       "    <tr>\n",
       "      <td>1795</td>\n",
       "      <td>9e4c8c7b</td>\n",
       "      <td>faed1805baea37b0</td>\n",
       "      <td>2019-08-06T17:46:52.516Z</td>\n",
       "      <td>{\"media_type\":\"animation\",\"duration\":4042,\"des...</td>\n",
       "      <td>0006a69f</td>\n",
       "      <td>35</td>\n",
       "      <td>3110</td>\n",
       "      <td>51504</td>\n",
       "      <td>All Star Sorting</td>\n",
       "      <td>Game</td>\n",
       "      <td>TREETOPCITY</td>\n",
       "    </tr>\n",
       "    <tr>\n",
       "      <td>140</td>\n",
       "      <td>26fd2d99</td>\n",
       "      <td>0336db4dee65ad4b</td>\n",
       "      <td>2019-08-06T05:01:47.802Z</td>\n",
       "      <td>{\"round_target\":{\"size\":1,\"type\":\"Soap\",\"anima...</td>\n",
       "      <td>0006a69f</td>\n",
       "      <td>37</td>\n",
       "      <td>2020</td>\n",
       "      <td>34512</td>\n",
       "      <td>Scrub-A-Dub</td>\n",
       "      <td>Game</td>\n",
       "      <td>MAGMAPEAK</td>\n",
       "    </tr>\n",
       "    <tr>\n",
       "      <td>456</td>\n",
       "      <td>02a42007</td>\n",
       "      <td>05921a6eb858eeba</td>\n",
       "      <td>2019-08-06T05:15:54.858Z</td>\n",
       "      <td>{\"rocket\":5,\"coordinates\":{\"x\":519,\"y\":602,\"st...</td>\n",
       "      <td>0006a69f</td>\n",
       "      <td>63</td>\n",
       "      <td>4030</td>\n",
       "      <td>63548</td>\n",
       "      <td>Fireworks (Activity)</td>\n",
       "      <td>Activity</td>\n",
       "      <td>TREETOPCITY</td>\n",
       "    </tr>\n",
       "    <tr>\n",
       "      <td>1689</td>\n",
       "      <td>e9c52111</td>\n",
       "      <td>7a4ee0624abb5ef8</td>\n",
       "      <td>2019-08-06T05:50:31.289Z</td>\n",
       "      <td>{\"jar\":[{\"color\":\"pink\",\"amount\":2},{\"color\":\"...</td>\n",
       "      <td>0006a69f</td>\n",
       "      <td>41</td>\n",
       "      <td>2030</td>\n",
       "      <td>52634</td>\n",
       "      <td>Bottle Filler (Activity)</td>\n",
       "      <td>Activity</td>\n",
       "      <td>MAGMAPEAK</td>\n",
       "    </tr>\n",
       "  </tbody>\n",
       "</table>\n",
       "</div>"
      ],
      "text/plain": [
       "      event_id      game_session                 timestamp  \\\n",
       "2907  f71c4741  6693061f235f04a7  2019-08-09T18:27:19.526Z   \n",
       "1795  9e4c8c7b  faed1805baea37b0  2019-08-06T17:46:52.516Z   \n",
       "140   26fd2d99  0336db4dee65ad4b  2019-08-06T05:01:47.802Z   \n",
       "456   02a42007  05921a6eb858eeba  2019-08-06T05:15:54.858Z   \n",
       "1689  e9c52111  7a4ee0624abb5ef8  2019-08-06T05:50:31.289Z   \n",
       "\n",
       "                                             event_data installation_id  \\\n",
       "2907  {\"description\":\"Which soap is just right for t...        0006a69f   \n",
       "1795  {\"media_type\":\"animation\",\"duration\":4042,\"des...        0006a69f   \n",
       "140   {\"round_target\":{\"size\":1,\"type\":\"Soap\",\"anima...        0006a69f   \n",
       "456   {\"rocket\":5,\"coordinates\":{\"x\":519,\"y\":602,\"st...        0006a69f   \n",
       "1689  {\"jar\":[{\"color\":\"pink\",\"amount\":2},{\"color\":\"...        0006a69f   \n",
       "\n",
       "      event_count  event_code  game_time                     title      type  \\\n",
       "2907           63        3010      38219               Scrub-A-Dub      Game   \n",
       "1795           35        3110      51504          All Star Sorting      Game   \n",
       "140            37        2020      34512               Scrub-A-Dub      Game   \n",
       "456            63        4030      63548      Fireworks (Activity)  Activity   \n",
       "1689           41        2030      52634  Bottle Filler (Activity)  Activity   \n",
       "\n",
       "            world  \n",
       "2907    MAGMAPEAK  \n",
       "1795  TREETOPCITY  \n",
       "140     MAGMAPEAK  \n",
       "456   TREETOPCITY  \n",
       "1689    MAGMAPEAK  "
      ]
     },
     "execution_count": 12,
     "metadata": {},
     "output_type": "execute_result"
    }
   ],
   "source": [
    "single_id = train_sample.query('installation_id==\"0006a69f\"')\n",
    "single_id.head()"
   ]
  },
  {
   "cell_type": "code",
   "execution_count": 13,
   "metadata": {},
   "outputs": [
    {
     "data": {
      "text/plain": [
       "<matplotlib.axes._subplots.AxesSubplot at 0x7f6faa489b90>"
      ]
     },
     "execution_count": 13,
     "metadata": {},
     "output_type": "execute_result"
    },
    {
     "data": {
      "image/png": "[encoded data removed]",
      "text/plain": [
       "<Figure size 432x288 with 1 Axes>"
      ]
     },
     "metadata": {
      "needs_background": "light"
     },
     "output_type": "display_data"
    }
   ],
   "source": [
    "single_id[\"event_code\"].value_counts().plot.bar()"
   ]
  },
  {
   "cell_type": "code",
   "execution_count": 14,
   "metadata": {},
   "outputs": [
    {
     "data": {
      "text/plain": [
       "31"
      ]
     },
     "execution_count": 14,
     "metadata": {},
     "output_type": "execute_result"
    }
   ],
   "source": [
    "#This user has 25 different game sessions\n",
    "single_id[\"game_session\"].value_counts().count()"
   ]
  },
  {
   "cell_type": "code",
   "execution_count": 15,
   "metadata": {},
   "outputs": [
    {
     "data": {
      "text/plain": [
       "Game          29\n",
       "Activity      26\n",
       "Assessment     5\n",
       "Name: type, dtype: int64"
      ]
     },
     "execution_count": 15,
     "metadata": {},
     "output_type": "execute_result"
    }
   ],
   "source": [
    "single_id[\"type\"].value_counts()"
   ]
  },
  {
   "cell_type": "markdown",
   "metadata": {},
   "source": [
    "It might be interesting to compare some features in the train data to the test data, as a reality check that things are relatively similar."
   ]
  },
  {
   "cell_type": "code",
   "execution_count": 16,
   "metadata": {},
   "outputs": [],
   "source": [
    "test = pd.read_csv(\"data-science-bowl-2019/test.csv\")"
   ]
  },
  {
   "cell_type": "code",
   "execution_count": 17,
   "metadata": {},
   "outputs": [
    {
     "data": {
      "text/plain": [
       "(1156414, 11)"
      ]
     },
     "execution_count": 17,
     "metadata": {},
     "output_type": "execute_result"
    }
   ],
   "source": [
    "test.shape"
   ]
  },
  {
   "cell_type": "code",
   "execution_count": 18,
   "metadata": {},
   "outputs": [
    {
     "data": {
      "text/plain": [
       "<matplotlib.axes._subplots.AxesSubplot at 0x7f6e9f68a7d0>"
      ]
     },
     "execution_count": 18,
     "metadata": {},
     "output_type": "execute_result"
    },
    {
     "data": {
      "image/png": "[encoded data removed]",
      "text/plain": [
       "<Figure size 432x288 with 1 Axes>"
      ]
     },
     "metadata": {
      "needs_background": "light"
     },
     "output_type": "display_data"
    }
   ],
   "source": [
    "test[\"event_code\"].value_counts().plot.bar()"
   ]
  },
  {
   "cell_type": "markdown",
   "metadata": {},
   "source": [
    "Event code, at least, looks fairly similar. That's good!\n",
    "Next, let's look at various other statistics."
   ]
  },
  {
   "cell_type": "code",
   "execution_count": 19,
   "metadata": {},
   "outputs": [
    {
     "data": {
      "text/plain": [
       "42"
      ]
     },
     "metadata": {},
     "output_type": "display_data"
    },
    {
     "data": {
      "text/plain": [
       "42"
      ]
     },
     "metadata": {},
     "output_type": "display_data"
    }
   ],
   "source": [
    "display(train_sample[\"event_code\"].nunique())\n",
    "display(test[\"event_code\"].nunique())"
   ]
  },
  {
   "cell_type": "code",
   "execution_count": 20,
   "metadata": {},
   "outputs": [
    {
     "data": {
      "text/plain": [
       "362"
      ]
     },
     "metadata": {},
     "output_type": "display_data"
    },
    {
     "data": {
      "text/plain": [
       "365"
      ]
     },
     "metadata": {},
     "output_type": "display_data"
    }
   ],
   "source": [
    "display(train_sample[\"event_id\"].nunique())\n",
    "display(test[\"event_id\"].nunique())"
   ]
  },
  {
   "cell_type": "code",
   "execution_count": 21,
   "metadata": {},
   "outputs": [
    {
     "data": {
      "text/plain": [
       "4052"
      ]
     },
     "metadata": {},
     "output_type": "display_data"
    },
    {
     "data": {
      "text/plain": [
       "1000"
      ]
     },
     "metadata": {},
     "output_type": "display_data"
    }
   ],
   "source": [
    "display(train_sample[\"installation_id\"].nunique())\n",
    "display(test[\"installation_id\"].nunique())"
   ]
  },
  {
   "cell_type": "markdown",
   "metadata": {},
   "source": [
    "Unpack the inner data"
   ]
  },
  {
   "cell_type": "code",
   "execution_count": 22,
   "metadata": {},
   "outputs": [],
   "source": [
    "# Code below based on code original written/published by Gabriel Preda\n",
    "# on Kaggle, accessed Mon, 18 Nov, 2019\n",
    "# https://www.kaggle.com/gpreda/2019-data-science-bowl-eda\n",
    "extracted_event_data = pd.io.json.json_normalize(train_sample.event_data.apply(json.loads))"
   ]
  },
  {
   "cell_type": "code",
   "execution_count": 23,
   "metadata": {},
   "outputs": [
    {
     "data": {
      "text/plain": [
       "(100000, 136)"
      ]
     },
     "execution_count": 23,
     "metadata": {},
     "output_type": "execute_result"
    }
   ],
   "source": [
    "extracted_event_data.shape"
   ]
  },
  {
   "cell_type": "code",
   "execution_count": 24,
   "metadata": {},
   "outputs": [
    {
     "data": {
      "text/html": [
       "<div>\n",
       "<style scoped>\n",
       "    .dataframe tbody tr th:only-of-type {\n",
       "        vertical-align: middle;\n",
       "    }\n",
       "\n",
       "    .dataframe tbody tr th {\n",
       "        vertical-align: top;\n",
       "    }\n",
       "\n",
       "    .dataframe thead th {\n",
       "        text-align: right;\n",
       "    }\n",
       "</style>\n",
       "<table border=\"1\" class=\"dataframe\">\n",
       "  <thead>\n",
       "    <tr style=\"text-align: right;\">\n",
       "      <th></th>\n",
       "      <th>description</th>\n",
       "      <th>identifier</th>\n",
       "      <th>media_type</th>\n",
       "      <th>duration</th>\n",
       "      <th>round</th>\n",
       "      <th>event_count</th>\n",
       "      <th>game_time</th>\n",
       "      <th>event_code</th>\n",
       "      <th>bottles</th>\n",
       "      <th>source</th>\n",
       "      <th>...</th>\n",
       "      <th>tape_length</th>\n",
       "      <th>bug_length</th>\n",
       "      <th>time_played</th>\n",
       "      <th>round_prompt</th>\n",
       "      <th>toy_earned</th>\n",
       "      <th>molds</th>\n",
       "      <th>max_position</th>\n",
       "      <th>end_position</th>\n",
       "      <th>dwell_time</th>\n",
       "      <th>chests</th>\n",
       "    </tr>\n",
       "  </thead>\n",
       "  <tbody>\n",
       "    <tr>\n",
       "      <td>0</td>\n",
       "      <td>That's too much food. Try taking a piece off t...</td>\n",
       "      <td>1437</td>\n",
       "      <td>animation</td>\n",
       "      <td>950.0</td>\n",
       "      <td>3.0</td>\n",
       "      <td>72</td>\n",
       "      <td>82886.0</td>\n",
       "      <td>3120</td>\n",
       "      <td>NaN</td>\n",
       "      <td>NaN</td>\n",
       "      <td>...</td>\n",
       "      <td>NaN</td>\n",
       "      <td>NaN</td>\n",
       "      <td>NaN</td>\n",
       "      <td>NaN</td>\n",
       "      <td>NaN</td>\n",
       "      <td>NaN</td>\n",
       "      <td>NaN</td>\n",
       "      <td>NaN</td>\n",
       "      <td>NaN</td>\n",
       "      <td>NaN</td>\n",
       "    </tr>\n",
       "    <tr>\n",
       "      <td>1</td>\n",
       "      <td>NaN</td>\n",
       "      <td>NaN</td>\n",
       "      <td>NaN</td>\n",
       "      <td>NaN</td>\n",
       "      <td>5.0</td>\n",
       "      <td>73</td>\n",
       "      <td>84022.0</td>\n",
       "      <td>4030</td>\n",
       "      <td>[{'color': 'blue', 'amount': 2}, {'color': 'bl...</td>\n",
       "      <td>8</td>\n",
       "      <td>...</td>\n",
       "      <td>NaN</td>\n",
       "      <td>NaN</td>\n",
       "      <td>NaN</td>\n",
       "      <td>NaN</td>\n",
       "      <td>NaN</td>\n",
       "      <td>NaN</td>\n",
       "      <td>NaN</td>\n",
       "      <td>NaN</td>\n",
       "      <td>NaN</td>\n",
       "      <td>NaN</td>\n",
       "    </tr>\n",
       "    <tr>\n",
       "      <td>2</td>\n",
       "      <td>NaN</td>\n",
       "      <td>NaN</td>\n",
       "      <td>NaN</td>\n",
       "      <td>NaN</td>\n",
       "      <td>1.0</td>\n",
       "      <td>18</td>\n",
       "      <td>22229.0</td>\n",
       "      <td>4020</td>\n",
       "      <td>NaN</td>\n",
       "      <td>scale</td>\n",
       "      <td>...</td>\n",
       "      <td>NaN</td>\n",
       "      <td>NaN</td>\n",
       "      <td>NaN</td>\n",
       "      <td>NaN</td>\n",
       "      <td>NaN</td>\n",
       "      <td>NaN</td>\n",
       "      <td>NaN</td>\n",
       "      <td>NaN</td>\n",
       "      <td>NaN</td>\n",
       "      <td>NaN</td>\n",
       "    </tr>\n",
       "    <tr>\n",
       "      <td>3</td>\n",
       "      <td>Let's set off these fireworks. We can drag the...</td>\n",
       "      <td>Dot_LetsFireworks,Dot_DragAnyHeight</td>\n",
       "      <td>audio</td>\n",
       "      <td>4175.0</td>\n",
       "      <td>NaN</td>\n",
       "      <td>5</td>\n",
       "      <td>4175.0</td>\n",
       "      <td>3110</td>\n",
       "      <td>NaN</td>\n",
       "      <td>NaN</td>\n",
       "      <td>...</td>\n",
       "      <td>NaN</td>\n",
       "      <td>NaN</td>\n",
       "      <td>NaN</td>\n",
       "      <td>NaN</td>\n",
       "      <td>NaN</td>\n",
       "      <td>NaN</td>\n",
       "      <td>NaN</td>\n",
       "      <td>NaN</td>\n",
       "      <td>NaN</td>\n",
       "      <td>NaN</td>\n",
       "    </tr>\n",
       "    <tr>\n",
       "      <td>4</td>\n",
       "      <td>NaN</td>\n",
       "      <td>NaN</td>\n",
       "      <td>NaN</td>\n",
       "      <td>NaN</td>\n",
       "      <td>NaN</td>\n",
       "      <td>87</td>\n",
       "      <td>74830.0</td>\n",
       "      <td>4030</td>\n",
       "      <td>NaN</td>\n",
       "      <td>NaN</td>\n",
       "      <td>...</td>\n",
       "      <td>NaN</td>\n",
       "      <td>NaN</td>\n",
       "      <td>NaN</td>\n",
       "      <td>NaN</td>\n",
       "      <td>NaN</td>\n",
       "      <td>NaN</td>\n",
       "      <td>NaN</td>\n",
       "      <td>NaN</td>\n",
       "      <td>NaN</td>\n",
       "      <td>NaN</td>\n",
       "    </tr>\n",
       "  </tbody>\n",
       "</table>\n",
       "<p>5 rows × 136 columns</p>\n",
       "</div>"
      ],
      "text/plain": [
       "                                         description  \\\n",
       "0  That's too much food. Try taking a piece off t...   \n",
       "1                                                NaN   \n",
       "2                                                NaN   \n",
       "3  Let's set off these fireworks. We can drag the...   \n",
       "4                                                NaN   \n",
       "\n",
       "                            identifier media_type  duration  round  \\\n",
       "0                                 1437  animation     950.0    3.0   \n",
       "1                                  NaN        NaN       NaN    5.0   \n",
       "2                                  NaN        NaN       NaN    1.0   \n",
       "3  Dot_LetsFireworks,Dot_DragAnyHeight      audio    4175.0    NaN   \n",
       "4                                  NaN        NaN       NaN    NaN   \n",
       "\n",
       "   event_count  game_time  event_code  \\\n",
       "0           72    82886.0        3120   \n",
       "1           73    84022.0        4030   \n",
       "2           18    22229.0        4020   \n",
       "3            5     4175.0        3110   \n",
       "4           87    74830.0        4030   \n",
       "\n",
       "                                             bottles source  ...  tape_length  \\\n",
       "0                                                NaN    NaN  ...          NaN   \n",
       "1  [{'color': 'blue', 'amount': 2}, {'color': 'bl...      8  ...          NaN   \n",
       "2                                                NaN  scale  ...          NaN   \n",
       "3                                                NaN    NaN  ...          NaN   \n",
       "4                                                NaN    NaN  ...          NaN   \n",
       "\n",
       "  bug_length  time_played  round_prompt  toy_earned  molds  max_position  \\\n",
       "0        NaN          NaN           NaN         NaN    NaN           NaN   \n",
       "1        NaN          NaN           NaN         NaN    NaN           NaN   \n",
       "2        NaN          NaN           NaN         NaN    NaN           NaN   \n",
       "3        NaN          NaN           NaN         NaN    NaN           NaN   \n",
       "4        NaN          NaN           NaN         NaN    NaN           NaN   \n",
       "\n",
       "   end_position dwell_time chests  \n",
       "0           NaN        NaN    NaN  \n",
       "1           NaN        NaN    NaN  \n",
       "2           NaN        NaN    NaN  \n",
       "3           NaN        NaN    NaN  \n",
       "4           NaN        NaN    NaN  \n",
       "\n",
       "[5 rows x 136 columns]"
      ]
     },
     "execution_count": 24,
     "metadata": {},
     "output_type": "execute_result"
    }
   ],
   "source": [
    "extracted_event_data.head()"
   ]
  },
  {
   "cell_type": "code",
   "execution_count": 25,
   "metadata": {},
   "outputs": [
    {
     "data": {
      "text/plain": [
       "<matplotlib.axes._subplots.AxesSubplot at 0x7f6e51d4bdd0>"
      ]
     },
     "execution_count": 25,
     "metadata": {},
     "output_type": "execute_result"
    },
    {
     "data": {
      "image/png": "[encoded data removed]",
      "text/plain": [
       "<Figure size 432x288 with 1 Axes>"
      ]
     },
     "metadata": {
      "needs_background": "light"
     },
     "output_type": "display_data"
    }
   ],
   "source": [
    "extracted_event_data[\"event_code\"].value_counts().plot.bar()"
   ]
  },
  {
   "cell_type": "markdown",
   "metadata": {},
   "source": [
    "Join the labels to the training set."
   ]
  },
  {
   "cell_type": "code",
   "execution_count": 26,
   "metadata": {},
   "outputs": [],
   "source": [
    "train_labels = pd.read_csv(\"data-science-bowl-2019/train_labels.csv\")"
   ]
  },
  {
   "cell_type": "code",
   "execution_count": 27,
   "metadata": {},
   "outputs": [],
   "source": [
    "# Code below based on code original written/published by Gabriel Preda\n",
    "# on Kaggle, accessed Mon, 18 Nov, 2019\n",
    "# https://www.kaggle.com/gpreda/2019-data-science-bowl-eda\n",
    "\n",
    "numerical_columns = ['game_time']\n",
    "categorical_columns = ['type', 'world']\n",
    "\n",
    "comp_train_sample = pd.DataFrame({'installation_id': train_sample['installation_id'].unique()})\n",
    "comp_train_sample.set_index('installation_id', inplace = True)"
   ]
  },
  {
   "cell_type": "code",
   "execution_count": 28,
   "metadata": {},
   "outputs": [],
   "source": [
    "def get_numeric_columns(df, column):\n",
    "    df = df.groupby('installation_id').agg({f'{column}': ['mean', 'sum', 'min', 'max', 'std', 'skew']})\n",
    "    df[column].fillna(df[column].mean(), inplace = True)\n",
    "    df.columns = [f'{column}_mean', f'{column}_sum', f'{column}_min', f'{column}_max', f'{column}_std', f'{column}_skew']\n",
    "    return df"
   ]
  },
  {
   "cell_type": "code",
   "execution_count": 29,
   "metadata": {},
   "outputs": [
    {
     "name": "stderr",
     "output_type": "stream",
     "text": [
      "/home/maxwell/anaconda3/lib/python3.7/site-packages/pandas/core/generic.py:6287: SettingWithCopyWarning: \n",
      "A value is trying to be set on a copy of a slice from a DataFrame\n",
      "\n",
      "See the caveats in the documentation: http://pandas.pydata.org/pandas-docs/stable/user_guide/indexing.html#returning-a-view-versus-a-copy\n",
      "  self._update_inplace(new_data)\n"
     ]
    }
   ],
   "source": [
    "for i in numerical_columns:\n",
    "    comp_train_sample = comp_train_sample.merge(get_numeric_columns(train_sample, i), left_index = True, right_index = True)"
   ]
  },
  {
   "cell_type": "code",
   "execution_count": 30,
   "metadata": {},
   "outputs": [
    {
     "name": "stdout",
     "output_type": "stream",
     "text": [
      "We have 17690 training rows\n"
     ]
    }
   ],
   "source": [
    "# get the mode of the title\n",
    "labels_map = dict(train_labels.groupby('title')['accuracy_group'].agg(lambda x:x.value_counts().index[0]))\n",
    "# merge target\n",
    "labels = train_labels.loc[:, ['installation_id', 'title', 'accuracy_group']]\n",
    "# replace title with the mode\n",
    "labels['title'] = labels['title'].map(labels_map)\n",
    "# join train with labels\n",
    "comp_train_sample = labels.merge(comp_train_sample, on = 'installation_id', how = 'left')\n",
    "print('We have {} training rows'.format(comp_train_sample.shape[0]))"
   ]
  },
  {
   "cell_type": "markdown",
   "metadata": {},
   "source": [
    "This gives us the number of rows we can actually use in a future model.\n",
    "\n",
    "## Let's establish a naive baseline model to work from"
   ]
  },
  {
   "cell_type": "code",
   "execution_count": 31,
   "metadata": {},
   "outputs": [],
   "source": [
    "# Code below based on code original written/published by Massoud Hosseinali\n",
    "# on Kaggle, accessed 20 Nov, 2019\n",
    "# https://www.kaggle.com/mhviraf/a-baseline-for-dsb-2019\n",
    "submission = pd.read_csv(\"data-science-bowl-2019/sample_submission.csv\")"
   ]
  },
  {
   "cell_type": "code",
   "execution_count": 32,
   "metadata": {},
   "outputs": [
    {
     "data": {
      "text/plain": [
       "{'Bird Measurer (Assessment)': 0,\n",
       " 'Cart Balancer (Assessment)': 3,\n",
       " 'Cauldron Filler (Assessment)': 3,\n",
       " 'Chest Sorter (Assessment)': 0,\n",
       " 'Mushroom Sorter (Assessment)': 3}"
      ]
     },
     "execution_count": 32,
     "metadata": {},
     "output_type": "execute_result"
    }
   ],
   "source": [
    "labels_map = dict(train_labels.groupby('title')['accuracy_group'].agg(lambda x:x.value_counts().index[0])) # get the mode\n",
    "labels_map"
   ]
  },
  {
   "cell_type": "code",
   "execution_count": 33,
   "metadata": {},
   "outputs": [
    {
     "data": {
      "text/plain": [
       "(1000, 2)"
      ]
     },
     "metadata": {},
     "output_type": "display_data"
    },
    {
     "data": {
      "text/html": [
       "<div>\n",
       "<style scoped>\n",
       "    .dataframe tbody tr th:only-of-type {\n",
       "        vertical-align: middle;\n",
       "    }\n",
       "\n",
       "    .dataframe tbody tr th {\n",
       "        vertical-align: top;\n",
       "    }\n",
       "\n",
       "    .dataframe thead th {\n",
       "        text-align: right;\n",
       "    }\n",
       "</style>\n",
       "<table border=\"1\" class=\"dataframe\">\n",
       "  <thead>\n",
       "    <tr style=\"text-align: right;\">\n",
       "      <th></th>\n",
       "      <th>installation_id</th>\n",
       "      <th>accuracy_group</th>\n",
       "    </tr>\n",
       "  </thead>\n",
       "  <tbody>\n",
       "    <tr>\n",
       "      <td>0</td>\n",
       "      <td>00abaee7</td>\n",
       "      <td>3</td>\n",
       "    </tr>\n",
       "    <tr>\n",
       "      <td>1</td>\n",
       "      <td>01242218</td>\n",
       "      <td>3</td>\n",
       "    </tr>\n",
       "    <tr>\n",
       "      <td>2</td>\n",
       "      <td>017c5718</td>\n",
       "      <td>3</td>\n",
       "    </tr>\n",
       "    <tr>\n",
       "      <td>3</td>\n",
       "      <td>01a44906</td>\n",
       "      <td>3</td>\n",
       "    </tr>\n",
       "    <tr>\n",
       "      <td>4</td>\n",
       "      <td>01bc6cb6</td>\n",
       "      <td>3</td>\n",
       "    </tr>\n",
       "  </tbody>\n",
       "</table>\n",
       "</div>"
      ],
      "text/plain": [
       "  installation_id  accuracy_group\n",
       "0        00abaee7               3\n",
       "1        01242218               3\n",
       "2        017c5718               3\n",
       "3        01a44906               3\n",
       "4        01bc6cb6               3"
      ]
     },
     "execution_count": 33,
     "metadata": {},
     "output_type": "execute_result"
    }
   ],
   "source": [
    "submission['accuracy_group'] = test.groupby('installation_id').last()['title'].map(labels_map).reset_index(drop=True)\n",
    "submission.to_csv('submission.csv', index=None)\n",
    "display(submission.shape)\n",
    "submission.head()"
   ]
  },
  {
   "cell_type": "code",
   "execution_count": 34,
   "metadata": {},
   "outputs": [
    {
     "data": {
      "text/plain": [
       "<matplotlib.axes._subplots.AxesSubplot at 0x7f6e51e869d0>"
      ]
     },
     "execution_count": 34,
     "metadata": {},
     "output_type": "execute_result"
    },
    {
     "data": {
      "image/png": "[encoded data removed]",
      "text/plain": [
       "<Figure size 432x288 with 1 Axes>"
      ]
     },
     "metadata": {
      "needs_background": "light"
     },
     "output_type": "display_data"
    }
   ],
   "source": [
    "submission['accuracy_group'].plot(kind='hist')"
   ]
  },
  {
   "cell_type": "code",
   "execution_count": 35,
   "metadata": {},
   "outputs": [
    {
     "data": {
      "text/plain": [
       "<matplotlib.axes._subplots.AxesSubplot at 0x7f6e51ed2390>"
      ]
     },
     "execution_count": 35,
     "metadata": {},
     "output_type": "execute_result"
    },
    {
     "data": {
      "image/png": "[encoded data removed]",
      "text/plain": [
       "<Figure size 432x288 with 1 Axes>"
      ]
     },
     "metadata": {
      "needs_background": "light"
     },
     "output_type": "display_data"
    }
   ],
   "source": [
    "train_labels['accuracy_group'].plot(kind='hist')"
   ]
  },
  {
   "cell_type": "markdown",
   "metadata": {},
   "source": [
    "### Use joblib to save the data extracted"
   ]
  },
  {
   "cell_type": "code",
   "execution_count": null,
   "metadata": {},
   "outputs": [],
   "source": [
    "joblib.dump(train_sample, \"\")"
   ]
  },
  {
   "cell_type": "markdown",
   "metadata": {},
   "source": [
    "## Make a slightly better predictive baseline with KNN"
   ]
  },
  {
   "cell_type": "markdown",
   "metadata": {},
   "source": [
    "First, the data needs to be prepared for the KNN. The following code creates summary statistics to be used."
   ]
  },
  {
   "cell_type": "code",
   "execution_count": 109,
   "metadata": {},
   "outputs": [],
   "source": [
    "#first we need to make a mapping to the proper event code for a completion of each event\n",
    "\n",
    "#list all activity titles\n",
    "list_of_user_activities = list(set(train_sample['title'].value_counts().index).union(set(test['title'].value_counts().index)))\n",
    "#map each activity to its integer index (very simple hash)\n",
    "activities_map = dict(zip(list_of_user_activities, np.arange(len(list_of_user_activities))))\n",
    "\n",
    "# modify the df (essentially a rename)\n",
    "train_sample['title'] = train_sample['title'].map(activities_map)\n",
    "test['title'] = test['title'].map(activities_map)\n",
    "\n",
    "#assessment successful event, or win code, is 4100 for most\n",
    "#assesments but 4110 for the final\n",
    "#make a mapping for this \n",
    "win_code = dict(zip(activities_map.values(), (4100*np.ones(len(activities_map))).astype('int')))\n",
    "win_code[activities_map['Bird Measurer (Assessment)']] = 4110"
   ]
  },
  {
   "cell_type": "code",
   "execution_count": 110,
   "metadata": {},
   "outputs": [],
   "source": [
    "#convert the time data\n",
    "train_sample['timestamp'] = pd.to_datetime(train_sample['timestamp'])\n",
    "test['timestamp'] = pd.to_datetime(test['timestamp'])"
   ]
  },
  {
   "cell_type": "code",
   "execution_count": 111,
   "metadata": {},
   "outputs": [],
   "source": [
    "# create a function to summarize the data in each session\n",
    "\n",
    "def agg_data(data, test_set=False):\n",
    "    \n",
    "    activityData = []\n",
    "    user_activities_count = {'Clip':0, 'Activity': 0, 'Assessment': 0, 'Game':0}\n",
    "    accuracy_groups = {0:0, 1:0, 2:0, 3:0}\n",
    "    accumulated_accuracy_group = 0\n",
    "    accumulated_accuracy=0\n",
    "    accumulated_correct_attempts = 0 \n",
    "    accumulated_incorrect_attempts = 0 \n",
    "    accumulated_actions = 0\n",
    "    counter = 0\n",
    "    durations = []\n",
    "    last_activity = 0\n",
    "    \n",
    "    for i, session in data.groupby('game_session', sort=False):\n",
    "        session_type = session['type'].iloc[0]\n",
    "        session_title = session['title'].iloc[0]\n",
    "        \n",
    "        #if we find an assessment and a session\n",
    "        #look at assessment data\n",
    "        if (session_type == 'Assessment') & (len(session) > 1):\n",
    "            \n",
    "            all_attempts = session.query(f'event_code == {win_code[session_title]}')\n",
    "            #check true or false by searching json event data str\n",
    "            true_attempts = all_attempts['event_data'].str.contains('true').sum()\n",
    "            false_attempts = all_attempts['event_data'].str.contains('false').sum()\n",
    "            \n",
    "            features = user_activities_count.copy()\n",
    "            \n",
    "            #baseline the number of attempts\n",
    "            features['session_title'] = session['title'].iloc[0] \n",
    "            features['accumulated_correct_attempts'] = accumulated_correct_attempts\n",
    "            features['accumulated_incorrect_attempts'] = accumulated_incorrect_attempts\n",
    "            accumulated_correct_attempts += true_attempts \n",
    "            accumulated_incorrect_attempts += false_attempts\n",
    "            \n",
    "            #recalc average of the duration\n",
    "            if durations == []:\n",
    "                features['duration_mean'] = 0\n",
    "            else:\n",
    "                features['duration_mean'] = np.mean(durations)\n",
    "            durations.append((session.iloc[-1, 2] - session.iloc[0, 2]).seconds)\n",
    "            \n",
    "            #compute accuracy as described in the competition\n",
    "            features['accumulated_accuracy'] = accumulated_accuracy/counter if counter > 0 else 0\n",
    "            accuracy = true_attempts/(true_attempts+false_attempts) if (true_attempts+false_attempts) != 0 else 0\n",
    "            accumulated_accuracy += accuracy\n",
    "            if accuracy == 0:\n",
    "                features['accuracy_group'] = 0\n",
    "            elif accuracy == 1:\n",
    "                features['accuracy_group'] = 3\n",
    "            elif accuracy == 0.5:\n",
    "                features['accuracy_group'] = 2\n",
    "            else:\n",
    "                features['accuracy_group'] = 1\n",
    "                \n",
    "            \n",
    "            features.update(accuracy_groups)\n",
    "            features['accumulated_accuracy_group'] = accumulated_accuracy_group/counter if counter > 0 else 0\n",
    "            features['accumulated_actions'] = accumulated_actions\n",
    "            accumulated_accuracy_group += features['accuracy_group']\n",
    "            accuracy_groups[features['accuracy_group']] += 1\n",
    "                \n",
    "            if true_attempts+false_attempts > 0:\n",
    "                activityData.append(features)\n",
    "                \n",
    "            counter += 1\n",
    "        \n",
    "        # sum total actions for a session\n",
    "        accumulated_actions += len(session)\n",
    "        if last_activity != session_type:\n",
    "            user_activities_count[session_type] += 1\n",
    "            last_activitiy = session_type\n",
    "                \n",
    "    return activityData"
   ]
  },
  {
   "cell_type": "code",
   "execution_count": 112,
   "metadata": {},
   "outputs": [
    {
     "data": {
      "text/plain": [
       "(244, 16)"
      ]
     },
     "execution_count": 112,
     "metadata": {},
     "output_type": "execute_result"
    }
   ],
   "source": [
    "#compile data for each installation id by running above function\n",
    "compiled_data = []\n",
    "for i, (ins_id, data) in enumerate(train_sample.groupby('installation_id', sort=False)):\n",
    "    compiled_data += agg_data(data)\n",
    "\n",
    "new_train_sample = pd.DataFrame(compiled_data)\n",
    "del compiled_data\n",
    "new_train_sample.shape"
   ]
  },
  {
   "cell_type": "code",
   "execution_count": 114,
   "metadata": {},
   "outputs": [
    {
     "data": {
      "text/plain": [
       "(244, 15)"
      ]
     },
     "execution_count": 114,
     "metadata": {},
     "output_type": "execute_result"
    }
   ],
   "source": [
    "all_features = [x for x in new_train_sample.columns if x not in ['accuracy_group']]\n",
    "X, y = new_train_sample[all_features], new_train_sample['accuracy_group']\n",
    "X.shape"
   ]
  },
  {
   "cell_type": "markdown",
   "metadata": {},
   "source": [
    "Fit and predict based on the model:"
   ]
  },
  {
   "cell_type": "code",
   "execution_count": 115,
   "metadata": {},
   "outputs": [
    {
     "data": {
      "text/plain": [
       "0.05297884727343283"
      ]
     },
     "execution_count": 115,
     "metadata": {},
     "output_type": "execute_result"
    }
   ],
   "source": [
    "from sklearn.neighbors import KNeighborsClassifier\n",
    "from sklearn.metrics import accuracy_score\n",
    "from sklearn.metrics import cohen_kappa_score\n",
    "from sklearn.model_selection import KFold\n",
    "from sklearn.preprocessing import StandardScaler\n",
    "from sklearn.feature_extraction import DictVectorizer\n",
    "\n",
    "oof = np.zeros(len(X))\n",
    "\n",
    "NFOLDS = 2\n",
    "folds = KFold(n_splits=NFOLDS, shuffle=True, random_state=2019)\n",
    "\n",
    "for fold, (trn_idx, test_idx) in enumerate(folds.split(X, y)):\n",
    "    currX = X.loc[trn_idx, all_features]\n",
    "    scaler = StandardScaler()\n",
    "    scaler.fit(currX)\n",
    "    currX_sc = scaler.transform(currX)\n",
    "    \n",
    "    # K-Nearest Neighbors Model\n",
    "    model = KNeighborsClassifier(n_neighbors=6)\n",
    "    model.fit(currX_sc, y.loc[trn_idx])\n",
    "    oof[test_idx] = model.predict(currX_sc)\n",
    "\n",
    "\n",
    "cohen_kappa_score(y, oof)"
   ]
  },
  {
   "cell_type": "markdown",
   "metadata": {},
   "source": [
    "Looks like this model is pretty poor but it's possible the features are not really set up properly for a KNN classification."
   ]
  },
  {
   "cell_type": "code",
   "execution_count": null,
   "metadata": {},
   "outputs": [],
   "source": []
  }
 ],
 "metadata": {
  "kernelspec": {
   "display_name": "Python 3",
   "language": "python",
   "name": "python3"
  },
  "language_info": {
   "codemirror_mode": {
    "name": "ipython",
    "version": 3
   },
   "file_extension": ".py",
   "mimetype": "text/x-python",
   "name": "python",
   "nbconvert_exporter": "python",
   "pygments_lexer": "ipython3",
   "version": "3.7.4"
  }
 },
 "nbformat": 4,
 "nbformat_minor": 2
}
