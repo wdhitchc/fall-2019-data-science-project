{
 "cells": [
  {
   "cell_type": "code",
   "execution_count": 17,
   "metadata": {},
   "outputs": [],
   "source": [
    "#imports\n",
    "\n",
    "import pandas as pd\n",
    "import numpy as np\n",
    "import json\n",
    "import matplotlib\n",
    "%matplotlib inline"
   ]
  },
  {
   "cell_type": "markdown",
   "metadata": {},
   "source": [
    "# Outline\n",
    "\n",
    "- Begin the process by taking a look at the *training* data basic features:\n",
    "    - Event code counts\n",
    "    - unique installations\n",
    "    - unique sessions\n",
    "- Add another layer by looking at grouped features:\n",
    "    - group by installation id: game time, event code counts,\n",
    "    - group by session within an installation\n",
    "- Compare train and test data as a reality check\n",
    "- Unpack inner data\n",
    "    - event data\n",
    "    - specs args\n",
    "- Join the train_labels to train data\n",
    "- Set up an initial naive baseline"
   ]
  },
  {
   "cell_type": "code",
   "execution_count": 3,
   "metadata": {},
   "outputs": [],
   "source": [
    "#Read in training data first\n",
    "train = pd.read_csv(\"data-science-bowl-2019/train.csv\")"
   ]
  },
  {
   "cell_type": "code",
   "execution_count": 4,
   "metadata": {},
   "outputs": [
    {
     "data": {
      "text/html": [
       "<div>\n",
       "<style scoped>\n",
       "    .dataframe tbody tr th:only-of-type {\n",
       "        vertical-align: middle;\n",
       "    }\n",
       "\n",
       "    .dataframe tbody tr th {\n",
       "        vertical-align: top;\n",
       "    }\n",
       "\n",
       "    .dataframe thead th {\n",
       "        text-align: right;\n",
       "    }\n",
       "</style>\n",
       "<table border=\"1\" class=\"dataframe\">\n",
       "  <thead>\n",
       "    <tr style=\"text-align: right;\">\n",
       "      <th></th>\n",
       "      <th>event_id</th>\n",
       "      <th>game_session</th>\n",
       "      <th>timestamp</th>\n",
       "      <th>event_data</th>\n",
       "      <th>installation_id</th>\n",
       "      <th>event_count</th>\n",
       "      <th>event_code</th>\n",
       "      <th>game_time</th>\n",
       "      <th>title</th>\n",
       "      <th>type</th>\n",
       "      <th>world</th>\n",
       "    </tr>\n",
       "  </thead>\n",
       "  <tbody>\n",
       "    <tr>\n",
       "      <td>0</td>\n",
       "      <td>27253bdc</td>\n",
       "      <td>45bb1e1b6b50c07b</td>\n",
       "      <td>2019-09-06T17:53:46.937Z</td>\n",
       "      <td>{\"event_code\": 2000, \"event_count\": 1}</td>\n",
       "      <td>0001e90f</td>\n",
       "      <td>1</td>\n",
       "      <td>2000</td>\n",
       "      <td>0</td>\n",
       "      <td>Welcome to Lost Lagoon!</td>\n",
       "      <td>Clip</td>\n",
       "      <td>NONE</td>\n",
       "    </tr>\n",
       "    <tr>\n",
       "      <td>1</td>\n",
       "      <td>27253bdc</td>\n",
       "      <td>17eeb7f223665f53</td>\n",
       "      <td>2019-09-06T17:54:17.519Z</td>\n",
       "      <td>{\"event_code\": 2000, \"event_count\": 1}</td>\n",
       "      <td>0001e90f</td>\n",
       "      <td>1</td>\n",
       "      <td>2000</td>\n",
       "      <td>0</td>\n",
       "      <td>Magma Peak - Level 1</td>\n",
       "      <td>Clip</td>\n",
       "      <td>MAGMAPEAK</td>\n",
       "    </tr>\n",
       "    <tr>\n",
       "      <td>2</td>\n",
       "      <td>77261ab5</td>\n",
       "      <td>0848ef14a8dc6892</td>\n",
       "      <td>2019-09-06T17:54:56.302Z</td>\n",
       "      <td>{\"version\":\"1.0\",\"event_count\":1,\"game_time\":0...</td>\n",
       "      <td>0001e90f</td>\n",
       "      <td>1</td>\n",
       "      <td>2000</td>\n",
       "      <td>0</td>\n",
       "      <td>Sandcastle Builder (Activity)</td>\n",
       "      <td>Activity</td>\n",
       "      <td>MAGMAPEAK</td>\n",
       "    </tr>\n",
       "    <tr>\n",
       "      <td>3</td>\n",
       "      <td>b2dba42b</td>\n",
       "      <td>0848ef14a8dc6892</td>\n",
       "      <td>2019-09-06T17:54:56.387Z</td>\n",
       "      <td>{\"description\":\"Let's build a sandcastle! Firs...</td>\n",
       "      <td>0001e90f</td>\n",
       "      <td>2</td>\n",
       "      <td>3010</td>\n",
       "      <td>53</td>\n",
       "      <td>Sandcastle Builder (Activity)</td>\n",
       "      <td>Activity</td>\n",
       "      <td>MAGMAPEAK</td>\n",
       "    </tr>\n",
       "    <tr>\n",
       "      <td>4</td>\n",
       "      <td>1bb5fbdb</td>\n",
       "      <td>0848ef14a8dc6892</td>\n",
       "      <td>2019-09-06T17:55:03.253Z</td>\n",
       "      <td>{\"description\":\"Let's build a sandcastle! Firs...</td>\n",
       "      <td>0001e90f</td>\n",
       "      <td>3</td>\n",
       "      <td>3110</td>\n",
       "      <td>6972</td>\n",
       "      <td>Sandcastle Builder (Activity)</td>\n",
       "      <td>Activity</td>\n",
       "      <td>MAGMAPEAK</td>\n",
       "    </tr>\n",
       "  </tbody>\n",
       "</table>\n",
       "</div>"
      ],
      "text/plain": [
       "   event_id      game_session                 timestamp  \\\n",
       "0  27253bdc  45bb1e1b6b50c07b  2019-09-06T17:53:46.937Z   \n",
       "1  27253bdc  17eeb7f223665f53  2019-09-06T17:54:17.519Z   \n",
       "2  77261ab5  0848ef14a8dc6892  2019-09-06T17:54:56.302Z   \n",
       "3  b2dba42b  0848ef14a8dc6892  2019-09-06T17:54:56.387Z   \n",
       "4  1bb5fbdb  0848ef14a8dc6892  2019-09-06T17:55:03.253Z   \n",
       "\n",
       "                                          event_data installation_id  \\\n",
       "0             {\"event_code\": 2000, \"event_count\": 1}        0001e90f   \n",
       "1             {\"event_code\": 2000, \"event_count\": 1}        0001e90f   \n",
       "2  {\"version\":\"1.0\",\"event_count\":1,\"game_time\":0...        0001e90f   \n",
       "3  {\"description\":\"Let's build a sandcastle! Firs...        0001e90f   \n",
       "4  {\"description\":\"Let's build a sandcastle! Firs...        0001e90f   \n",
       "\n",
       "   event_count  event_code  game_time                          title  \\\n",
       "0            1        2000          0        Welcome to Lost Lagoon!   \n",
       "1            1        2000          0           Magma Peak - Level 1   \n",
       "2            1        2000          0  Sandcastle Builder (Activity)   \n",
       "3            2        3010         53  Sandcastle Builder (Activity)   \n",
       "4            3        3110       6972  Sandcastle Builder (Activity)   \n",
       "\n",
       "       type      world  \n",
       "0      Clip       NONE  \n",
       "1      Clip  MAGMAPEAK  \n",
       "2  Activity  MAGMAPEAK  \n",
       "3  Activity  MAGMAPEAK  \n",
       "4  Activity  MAGMAPEAK  "
      ]
     },
     "execution_count": 4,
     "metadata": {},
     "output_type": "execute_result"
    }
   ],
   "source": [
    "train.head()"
   ]
  },
  {
   "cell_type": "code",
   "execution_count": 5,
   "metadata": {},
   "outputs": [
    {
     "data": {
      "text/plain": [
       "(11341042, 11)"
      ]
     },
     "execution_count": 5,
     "metadata": {},
     "output_type": "execute_result"
    }
   ],
   "source": [
    "train.shape"
   ]
  },
  {
   "cell_type": "markdown",
   "metadata": {},
   "source": [
    "In order to explore the features more easily let's sample a small piece of the total. Total shape has over 11 million observations.\n",
    "It's also worth noting that some of the installation ids in the training data don't contain assessments so we can eliminate those as they are not useful for training."
   ]
  },
  {
   "cell_type": "code",
   "execution_count": 6,
   "metadata": {},
   "outputs": [],
   "source": [
    "hasAssessmentIds = train[train[\"type\"] == \"Assessment\"].loc[:,'installation_id'].drop_duplicates()\n",
    "useful_train = pd.merge(train, hasAssessmentIds, on=\"installation_id\", how=\"inner\")"
   ]
  },
  {
   "cell_type": "code",
   "execution_count": 7,
   "metadata": {},
   "outputs": [
    {
     "data": {
      "text/plain": [
       "(8294138, 11)"
      ]
     },
     "execution_count": 7,
     "metadata": {},
     "output_type": "execute_result"
    }
   ],
   "source": [
    "useful_train.shape"
   ]
  },
  {
   "cell_type": "code",
   "execution_count": 8,
   "metadata": {},
   "outputs": [],
   "source": [
    "train_sample = useful_train.sample(100000)"
   ]
  },
  {
   "cell_type": "markdown",
   "metadata": {},
   "source": [
    "Let's list out the columns we're going to need to look at for each observation."
   ]
  },
  {
   "cell_type": "code",
   "execution_count": 9,
   "metadata": {},
   "outputs": [
    {
     "data": {
      "text/plain": [
       "Index(['event_id', 'game_session', 'timestamp', 'event_data',\n",
       "       'installation_id', 'event_count', 'event_code', 'game_time', 'title',\n",
       "       'type', 'world'],\n",
       "      dtype='object')"
      ]
     },
     "execution_count": 9,
     "metadata": {},
     "output_type": "execute_result"
    }
   ],
   "source": [
    "train_sample.columns"
   ]
  },
  {
   "cell_type": "markdown",
   "metadata": {},
   "source": [
    "It seems like it could be useful to categorize different observations in the data. Event codes could represent some of these differences."
   ]
  },
  {
   "cell_type": "code",
   "execution_count": 10,
   "metadata": {},
   "outputs": [
    {
     "data": {
      "text/plain": [
       "<matplotlib.axes._subplots.AxesSubplot at 0x7fdd87ccd350>"
      ]
     },
     "execution_count": 10,
     "metadata": {},
     "output_type": "execute_result"
    },
    {
     "data": {
      "image/png": "[encoded data removed]",
      "text/plain": [
       "<Figure size 432x288 with 1 Axes>"
      ]
     },
     "metadata": {
      "needs_background": "light"
     },
     "output_type": "display_data"
    }
   ],
   "source": [
    "train_sample[\"event_code\"].value_counts().plot.bar()"
   ]
  },
  {
   "cell_type": "code",
   "execution_count": 28,
   "metadata": {},
   "outputs": [
    {
     "data": {
      "text/html": [
       "<div>\n",
       "<style scoped>\n",
       "    .dataframe tbody tr th:only-of-type {\n",
       "        vertical-align: middle;\n",
       "    }\n",
       "\n",
       "    .dataframe tbody tr th {\n",
       "        vertical-align: top;\n",
       "    }\n",
       "\n",
       "    .dataframe thead th {\n",
       "        text-align: right;\n",
       "    }\n",
       "</style>\n",
       "<table border=\"1\" class=\"dataframe\">\n",
       "  <thead>\n",
       "    <tr style=\"text-align: right;\">\n",
       "      <th></th>\n",
       "      <th>event_count</th>\n",
       "      <th>event_code</th>\n",
       "      <th>game_time</th>\n",
       "    </tr>\n",
       "    <tr>\n",
       "      <th>installation_id</th>\n",
       "      <th></th>\n",
       "      <th></th>\n",
       "      <th></th>\n",
       "    </tr>\n",
       "  </thead>\n",
       "  <tbody>\n",
       "    <tr>\n",
       "      <td>0006a69f</td>\n",
       "      <td>2907</td>\n",
       "      <td>163998</td>\n",
       "      <td>3762663</td>\n",
       "    </tr>\n",
       "    <tr>\n",
       "      <td>0006c192</td>\n",
       "      <td>1345</td>\n",
       "      <td>77092</td>\n",
       "      <td>1165856</td>\n",
       "    </tr>\n",
       "    <tr>\n",
       "      <td>00129856</td>\n",
       "      <td>848</td>\n",
       "      <td>37395</td>\n",
       "      <td>997418</td>\n",
       "    </tr>\n",
       "    <tr>\n",
       "      <td>001d0ed0</td>\n",
       "      <td>481</td>\n",
       "      <td>32460</td>\n",
       "      <td>491822</td>\n",
       "    </tr>\n",
       "    <tr>\n",
       "      <td>00225f67</td>\n",
       "      <td>675</td>\n",
       "      <td>36520</td>\n",
       "      <td>668930</td>\n",
       "    </tr>\n",
       "    <tr>\n",
       "      <td>...</td>\n",
       "      <td>...</td>\n",
       "      <td>...</td>\n",
       "      <td>...</td>\n",
       "    </tr>\n",
       "    <tr>\n",
       "      <td>ff9715db</td>\n",
       "      <td>1239</td>\n",
       "      <td>74225</td>\n",
       "      <td>1355872</td>\n",
       "    </tr>\n",
       "    <tr>\n",
       "      <td>ffc90c32</td>\n",
       "      <td>962</td>\n",
       "      <td>70992</td>\n",
       "      <td>1194293</td>\n",
       "    </tr>\n",
       "    <tr>\n",
       "      <td>ffd2871d</td>\n",
       "      <td>1806</td>\n",
       "      <td>91151</td>\n",
       "      <td>3561018</td>\n",
       "    </tr>\n",
       "    <tr>\n",
       "      <td>ffe3b25d</td>\n",
       "      <td>311</td>\n",
       "      <td>12110</td>\n",
       "      <td>260324</td>\n",
       "    </tr>\n",
       "    <tr>\n",
       "      <td>ffeb0b1b</td>\n",
       "      <td>3594</td>\n",
       "      <td>68911</td>\n",
       "      <td>4724759</td>\n",
       "    </tr>\n",
       "  </tbody>\n",
       "</table>\n",
       "<p>4060 rows × 3 columns</p>\n",
       "</div>"
      ],
      "text/plain": [
       "                 event_count  event_code  game_time\n",
       "installation_id                                    \n",
       "0006a69f                2907      163998    3762663\n",
       "0006c192                1345       77092    1165856\n",
       "00129856                 848       37395     997418\n",
       "001d0ed0                 481       32460     491822\n",
       "00225f67                 675       36520     668930\n",
       "...                      ...         ...        ...\n",
       "ff9715db                1239       74225    1355872\n",
       "ffc90c32                 962       70992    1194293\n",
       "ffd2871d                1806       91151    3561018\n",
       "ffe3b25d                 311       12110     260324\n",
       "ffeb0b1b                3594       68911    4724759\n",
       "\n",
       "[4060 rows x 3 columns]"
      ]
     },
     "execution_count": 28,
     "metadata": {},
     "output_type": "execute_result"
    }
   ],
   "source": [
    "train_sample.groupby(\"installation_id\").sum()"
   ]
  },
  {
   "cell_type": "markdown",
   "metadata": {},
   "source": [
    "This tells us there are about 4000 installation ids in the sample and gives us information about total game time."
   ]
  },
  {
   "cell_type": "code",
   "execution_count": 12,
   "metadata": {},
   "outputs": [
    {
     "data": {
      "text/html": [
       "<div>\n",
       "<style scoped>\n",
       "    .dataframe tbody tr th:only-of-type {\n",
       "        vertical-align: middle;\n",
       "    }\n",
       "\n",
       "    .dataframe tbody tr th {\n",
       "        vertical-align: top;\n",
       "    }\n",
       "\n",
       "    .dataframe thead th {\n",
       "        text-align: right;\n",
       "    }\n",
       "</style>\n",
       "<table border=\"1\" class=\"dataframe\">\n",
       "  <thead>\n",
       "    <tr style=\"text-align: right;\">\n",
       "      <th></th>\n",
       "      <th>event_count</th>\n",
       "      <th>event_code</th>\n",
       "      <th>game_time</th>\n",
       "    </tr>\n",
       "    <tr>\n",
       "      <th>game_session</th>\n",
       "      <th></th>\n",
       "      <th></th>\n",
       "      <th></th>\n",
       "    </tr>\n",
       "  </thead>\n",
       "  <tbody>\n",
       "    <tr>\n",
       "      <td>0000d473b2f78883</td>\n",
       "      <td>40</td>\n",
       "      <td>4030</td>\n",
       "      <td>57082</td>\n",
       "    </tr>\n",
       "    <tr>\n",
       "      <td>00030865234e6b3d</td>\n",
       "      <td>27</td>\n",
       "      <td>8100</td>\n",
       "      <td>38261</td>\n",
       "    </tr>\n",
       "    <tr>\n",
       "      <td>000319989d08f8aa</td>\n",
       "      <td>384</td>\n",
       "      <td>24245</td>\n",
       "      <td>442942</td>\n",
       "    </tr>\n",
       "    <tr>\n",
       "      <td>00037e484eac6640</td>\n",
       "      <td>156</td>\n",
       "      <td>9230</td>\n",
       "      <td>190573</td>\n",
       "    </tr>\n",
       "    <tr>\n",
       "      <td>0007729b666af371</td>\n",
       "      <td>291</td>\n",
       "      <td>16230</td>\n",
       "      <td>436949</td>\n",
       "    </tr>\n",
       "    <tr>\n",
       "      <td>...</td>\n",
       "      <td>...</td>\n",
       "      <td>...</td>\n",
       "      <td>...</td>\n",
       "    </tr>\n",
       "    <tr>\n",
       "      <td>fffb2fe838347917</td>\n",
       "      <td>133</td>\n",
       "      <td>6230</td>\n",
       "      <td>338772</td>\n",
       "    </tr>\n",
       "    <tr>\n",
       "      <td>fffc036248965403</td>\n",
       "      <td>260</td>\n",
       "      <td>10170</td>\n",
       "      <td>212523</td>\n",
       "    </tr>\n",
       "    <tr>\n",
       "      <td>fffcdc3a0ff75a77</td>\n",
       "      <td>1040</td>\n",
       "      <td>16260</td>\n",
       "      <td>1457188</td>\n",
       "    </tr>\n",
       "    <tr>\n",
       "      <td>fffe9cd0cc5b076b</td>\n",
       "      <td>19</td>\n",
       "      <td>4070</td>\n",
       "      <td>22336</td>\n",
       "    </tr>\n",
       "    <tr>\n",
       "      <td>fffebbb01855e28b</td>\n",
       "      <td>113</td>\n",
       "      <td>7150</td>\n",
       "      <td>136028</td>\n",
       "    </tr>\n",
       "  </tbody>\n",
       "</table>\n",
       "<p>49404 rows × 3 columns</p>\n",
       "</div>"
      ],
      "text/plain": [
       "                  event_count  event_code  game_time\n",
       "game_session                                        \n",
       "0000d473b2f78883           40        4030      57082\n",
       "00030865234e6b3d           27        8100      38261\n",
       "000319989d08f8aa          384       24245     442942\n",
       "00037e484eac6640          156        9230     190573\n",
       "0007729b666af371          291       16230     436949\n",
       "...                       ...         ...        ...\n",
       "fffb2fe838347917          133        6230     338772\n",
       "fffc036248965403          260       10170     212523\n",
       "fffcdc3a0ff75a77         1040       16260    1457188\n",
       "fffe9cd0cc5b076b           19        4070      22336\n",
       "fffebbb01855e28b          113        7150     136028\n",
       "\n",
       "[49404 rows x 3 columns]"
      ]
     },
     "execution_count": 12,
     "metadata": {},
     "output_type": "execute_result"
    }
   ],
   "source": [
    "train_sample.groupby(\"game_session\").sum()"
   ]
  },
  {
   "cell_type": "markdown",
   "metadata": {},
   "source": [
    "Not sure game session ids are telling me what I thought they were here. They don't seem to overlap much, some sessions only contining 1 obseravtion.\n",
    "\n",
    "Let's take a deeper look at a set of events for a single ID."
   ]
  },
  {
   "cell_type": "code",
   "execution_count": 32,
   "metadata": {},
   "outputs": [
    {
     "data": {
      "text/html": [
       "<div>\n",
       "<style scoped>\n",
       "    .dataframe tbody tr th:only-of-type {\n",
       "        vertical-align: middle;\n",
       "    }\n",
       "\n",
       "    .dataframe tbody tr th {\n",
       "        vertical-align: top;\n",
       "    }\n",
       "\n",
       "    .dataframe thead th {\n",
       "        text-align: right;\n",
       "    }\n",
       "</style>\n",
       "<table border=\"1\" class=\"dataframe\">\n",
       "  <thead>\n",
       "    <tr style=\"text-align: right;\">\n",
       "      <th></th>\n",
       "      <th>event_id</th>\n",
       "      <th>game_session</th>\n",
       "      <th>timestamp</th>\n",
       "      <th>event_data</th>\n",
       "      <th>installation_id</th>\n",
       "      <th>event_count</th>\n",
       "      <th>event_code</th>\n",
       "      <th>game_time</th>\n",
       "      <th>title</th>\n",
       "      <th>type</th>\n",
       "      <th>world</th>\n",
       "    </tr>\n",
       "  </thead>\n",
       "  <tbody>\n",
       "    <tr>\n",
       "      <td>60</td>\n",
       "      <td>9ee1c98c</td>\n",
       "      <td>2b9d5af79bcdb79f</td>\n",
       "      <td>2019-08-06T04:58:51.696Z</td>\n",
       "      <td>{\"size\":2,\"sand\":1,\"duration\":509,\"coordinates...</td>\n",
       "      <td>0006a69f</td>\n",
       "      <td>59</td>\n",
       "      <td>4021</td>\n",
       "      <td>37155</td>\n",
       "      <td>Sandcastle Builder (Activity)</td>\n",
       "      <td>Activity</td>\n",
       "      <td>MAGMAPEAK</td>\n",
       "    </tr>\n",
       "    <tr>\n",
       "      <td>3397</td>\n",
       "      <td>1996c610</td>\n",
       "      <td>60a7cbbd3cdb859f</td>\n",
       "      <td>2019-08-29T16:21:34.614Z</td>\n",
       "      <td>{\"shell_size\":2,\"round\":3,\"event_count\":82,\"ga...</td>\n",
       "      <td>0006a69f</td>\n",
       "      <td>82</td>\n",
       "      <td>4031</td>\n",
       "      <td>93099</td>\n",
       "      <td>Dino Drink</td>\n",
       "      <td>Game</td>\n",
       "      <td>MAGMAPEAK</td>\n",
       "    </tr>\n",
       "    <tr>\n",
       "      <td>479</td>\n",
       "      <td>27253bdc</td>\n",
       "      <td>7fb287ace174adee</td>\n",
       "      <td>2019-08-06T05:17:35.568Z</td>\n",
       "      <td>{\"event_code\": 2000, \"event_count\": 1}</td>\n",
       "      <td>0006a69f</td>\n",
       "      <td>1</td>\n",
       "      <td>2000</td>\n",
       "      <td>0</td>\n",
       "      <td>Tree Top City - Level 2</td>\n",
       "      <td>Clip</td>\n",
       "      <td>TREETOPCITY</td>\n",
       "    </tr>\n",
       "    <tr>\n",
       "      <td>89</td>\n",
       "      <td>5e812b27</td>\n",
       "      <td>2b9d5af79bcdb79f</td>\n",
       "      <td>2019-08-06T04:59:25.042Z</td>\n",
       "      <td>{\"size\":0,\"coordinates\":{\"x\":782,\"y\":207,\"stag...</td>\n",
       "      <td>0006a69f</td>\n",
       "      <td>88</td>\n",
       "      <td>4030</td>\n",
       "      <td>70490</td>\n",
       "      <td>Sandcastle Builder (Activity)</td>\n",
       "      <td>Activity</td>\n",
       "      <td>MAGMAPEAK</td>\n",
       "    </tr>\n",
       "    <tr>\n",
       "      <td>3088</td>\n",
       "      <td>a29c5338</td>\n",
       "      <td>b478a149cebc4934</td>\n",
       "      <td>2019-08-09T18:32:36.762Z</td>\n",
       "      <td>{\"description\":\"There are two holes and two di...</td>\n",
       "      <td>0006a69f</td>\n",
       "      <td>18</td>\n",
       "      <td>3010</td>\n",
       "      <td>34834</td>\n",
       "      <td>Dino Drink</td>\n",
       "      <td>Game</td>\n",
       "      <td>MAGMAPEAK</td>\n",
       "    </tr>\n",
       "  </tbody>\n",
       "</table>\n",
       "</div>"
      ],
      "text/plain": [
       "      event_id      game_session                 timestamp  \\\n",
       "60    9ee1c98c  2b9d5af79bcdb79f  2019-08-06T04:58:51.696Z   \n",
       "3397  1996c610  60a7cbbd3cdb859f  2019-08-29T16:21:34.614Z   \n",
       "479   27253bdc  7fb287ace174adee  2019-08-06T05:17:35.568Z   \n",
       "89    5e812b27  2b9d5af79bcdb79f  2019-08-06T04:59:25.042Z   \n",
       "3088  a29c5338  b478a149cebc4934  2019-08-09T18:32:36.762Z   \n",
       "\n",
       "                                             event_data installation_id  \\\n",
       "60    {\"size\":2,\"sand\":1,\"duration\":509,\"coordinates...        0006a69f   \n",
       "3397  {\"shell_size\":2,\"round\":3,\"event_count\":82,\"ga...        0006a69f   \n",
       "479              {\"event_code\": 2000, \"event_count\": 1}        0006a69f   \n",
       "89    {\"size\":0,\"coordinates\":{\"x\":782,\"y\":207,\"stag...        0006a69f   \n",
       "3088  {\"description\":\"There are two holes and two di...        0006a69f   \n",
       "\n",
       "      event_count  event_code  game_time                          title  \\\n",
       "60             59        4021      37155  Sandcastle Builder (Activity)   \n",
       "3397           82        4031      93099                     Dino Drink   \n",
       "479             1        2000          0        Tree Top City - Level 2   \n",
       "89             88        4030      70490  Sandcastle Builder (Activity)   \n",
       "3088           18        3010      34834                     Dino Drink   \n",
       "\n",
       "          type        world  \n",
       "60    Activity    MAGMAPEAK  \n",
       "3397      Game    MAGMAPEAK  \n",
       "479       Clip  TREETOPCITY  \n",
       "89    Activity    MAGMAPEAK  \n",
       "3088      Game    MAGMAPEAK  "
      ]
     },
     "execution_count": 32,
     "metadata": {},
     "output_type": "execute_result"
    }
   ],
   "source": [
    "single_id = train_sample.query('installation_id==\"0006a69f\"')\n",
    "single_id.head()"
   ]
  },
  {
   "cell_type": "code",
   "execution_count": 34,
   "metadata": {},
   "outputs": [
    {
     "data": {
      "text/plain": [
       "<matplotlib.axes._subplots.AxesSubplot at 0x7fdc81075250>"
      ]
     },
     "execution_count": 34,
     "metadata": {},
     "output_type": "execute_result"
    },
    {
     "data": {
      "image/png": "[encoded data removed]",
      "text/plain": [
       "<Figure size 432x288 with 1 Axes>"
      ]
     },
     "metadata": {
      "needs_background": "light"
     },
     "output_type": "display_data"
    }
   ],
   "source": [
    "single_id[\"event_code\"].value_counts().plot.bar()"
   ]
  },
  {
   "cell_type": "code",
   "execution_count": 38,
   "metadata": {},
   "outputs": [
    {
     "data": {
      "text/plain": [
       "25"
      ]
     },
     "execution_count": 38,
     "metadata": {},
     "output_type": "execute_result"
    }
   ],
   "source": [
    "#This user has 25 different game sessions\n",
    "single_id[\"game_session\"].value_counts().count()"
   ]
  },
  {
   "cell_type": "code",
   "execution_count": 40,
   "metadata": {},
   "outputs": [
    {
     "data": {
      "text/plain": [
       "Activity      23\n",
       "Game          21\n",
       "Clip           1\n",
       "Assessment     1\n",
       "Name: type, dtype: int64"
      ]
     },
     "execution_count": 40,
     "metadata": {},
     "output_type": "execute_result"
    }
   ],
   "source": [
    "single_id[\"type\"].value_counts()"
   ]
  },
  {
   "cell_type": "markdown",
   "metadata": {},
   "source": [
    "It might be interesting to compare some features in the train data to the test data, as a reality check that things are relatively similar."
   ]
  },
  {
   "cell_type": "code",
   "execution_count": 13,
   "metadata": {},
   "outputs": [],
   "source": [
    "test = pd.read_csv(\"data-science-bowl-2019/test.csv\")"
   ]
  },
  {
   "cell_type": "code",
   "execution_count": 14,
   "metadata": {},
   "outputs": [
    {
     "data": {
      "text/plain": [
       "(1156414, 11)"
      ]
     },
     "execution_count": 14,
     "metadata": {},
     "output_type": "execute_result"
    }
   ],
   "source": [
    "test.shape"
   ]
  },
  {
   "cell_type": "code",
   "execution_count": 24,
   "metadata": {},
   "outputs": [
    {
     "data": {
      "text/plain": [
       "<matplotlib.axes._subplots.AxesSubplot at 0x7fb64e162690>"
      ]
     },
     "execution_count": 24,
     "metadata": {},
     "output_type": "execute_result"
    },
    {
     "data": {
      "image/png": "[encoded data removed]",
      "text/plain": [
       "<Figure size 432x288 with 1 Axes>"
      ]
     },
     "metadata": {
      "needs_background": "light"
     },
     "output_type": "display_data"
    }
   ],
   "source": [
    "test[\"event_code\"].value_counts().plot.bar()"
   ]
  },
  {
   "cell_type": "markdown",
   "metadata": {},
   "source": [
    "Event code, at least, looks fairly similar. That's good!\n",
    "Next, let's look at various other statistics."
   ]
  },
  {
   "cell_type": "code",
   "execution_count": 25,
   "metadata": {},
   "outputs": [
    {
     "data": {
      "text/plain": [
       "42"
      ]
     },
     "metadata": {},
     "output_type": "display_data"
    },
    {
     "data": {
      "text/plain": [
       "42"
      ]
     },
     "metadata": {},
     "output_type": "display_data"
    }
   ],
   "source": [
    "display(train_sample[\"event_code\"].nunique())\n",
    "display(test[\"event_code\"].nunique())"
   ]
  },
  {
   "cell_type": "code",
   "execution_count": 26,
   "metadata": {},
   "outputs": [
    {
     "data": {
      "text/plain": [
       "361"
      ]
     },
     "metadata": {},
     "output_type": "display_data"
    },
    {
     "data": {
      "text/plain": [
       "365"
      ]
     },
     "metadata": {},
     "output_type": "display_data"
    }
   ],
   "source": [
    "display(train_sample[\"event_id\"].nunique())\n",
    "display(test[\"event_id\"].nunique())"
   ]
  },
  {
   "cell_type": "code",
   "execution_count": 36,
   "metadata": {},
   "outputs": [
    {
     "data": {
      "text/plain": [
       "4071"
      ]
     },
     "metadata": {},
     "output_type": "display_data"
    },
    {
     "data": {
      "text/plain": [
       "1000"
      ]
     },
     "metadata": {},
     "output_type": "display_data"
    }
   ],
   "source": [
    "display(train_sample[\"installation_id\"].nunique())\n",
    "display(test[\"installation_id\"].nunique())"
   ]
  },
  {
   "cell_type": "markdown",
   "metadata": {},
   "source": [
    "Unpack the inner data"
   ]
  },
  {
   "cell_type": "code",
   "execution_count": 18,
   "metadata": {},
   "outputs": [],
   "source": [
    "# Code below based on code original written/published by Gabriel Preda\n",
    "# on Kaggle, accessed Mon, 18 Nov, 2019\n",
    "# https://www.kaggle.com/gpreda/2019-data-science-bowl-eda\n",
    "extracted_event_data = pd.io.json.json_normalize(train_sample.event_data.apply(json.loads))"
   ]
  },
  {
   "cell_type": "code",
   "execution_count": 20,
   "metadata": {},
   "outputs": [
    {
     "data": {
      "text/plain": [
       "(100000, 136)"
      ]
     },
     "execution_count": 20,
     "metadata": {},
     "output_type": "execute_result"
    }
   ],
   "source": [
    "extracted_event_data.shape"
   ]
  },
  {
   "cell_type": "code",
   "execution_count": 21,
   "metadata": {},
   "outputs": [
    {
     "data": {
      "text/html": [
       "<div>\n",
       "<style scoped>\n",
       "    .dataframe tbody tr th:only-of-type {\n",
       "        vertical-align: middle;\n",
       "    }\n",
       "\n",
       "    .dataframe tbody tr th {\n",
       "        vertical-align: top;\n",
       "    }\n",
       "\n",
       "    .dataframe thead th {\n",
       "        text-align: right;\n",
       "    }\n",
       "</style>\n",
       "<table border=\"1\" class=\"dataframe\">\n",
       "  <thead>\n",
       "    <tr style=\"text-align: right;\">\n",
       "      <th></th>\n",
       "      <th>hat</th>\n",
       "      <th>caterpillar</th>\n",
       "      <th>hats</th>\n",
       "      <th>caterpillars</th>\n",
       "      <th>source</th>\n",
       "      <th>event_count</th>\n",
       "      <th>game_time</th>\n",
       "      <th>event_code</th>\n",
       "      <th>coordinates.x</th>\n",
       "      <th>coordinates.y</th>\n",
       "      <th>...</th>\n",
       "      <th>max_position</th>\n",
       "      <th>end_position</th>\n",
       "      <th>dwell_time</th>\n",
       "      <th>time_played</th>\n",
       "      <th>containers</th>\n",
       "      <th>exit_type</th>\n",
       "      <th>tape_length</th>\n",
       "      <th>bug_length</th>\n",
       "      <th>molds</th>\n",
       "      <th>chests</th>\n",
       "    </tr>\n",
       "  </thead>\n",
       "  <tbody>\n",
       "    <tr>\n",
       "      <td>0</td>\n",
       "      <td>0.0</td>\n",
       "      <td>left</td>\n",
       "      <td>[0, 0, 0]</td>\n",
       "      <td>[5, 8, 5]</td>\n",
       "      <td>N/A</td>\n",
       "      <td>65</td>\n",
       "      <td>46316.0</td>\n",
       "      <td>4030</td>\n",
       "      <td>64.0</td>\n",
       "      <td>486.0</td>\n",
       "      <td>...</td>\n",
       "      <td>NaN</td>\n",
       "      <td>NaN</td>\n",
       "      <td>NaN</td>\n",
       "      <td>NaN</td>\n",
       "      <td>NaN</td>\n",
       "      <td>NaN</td>\n",
       "      <td>NaN</td>\n",
       "      <td>NaN</td>\n",
       "      <td>NaN</td>\n",
       "      <td>NaN</td>\n",
       "    </tr>\n",
       "    <tr>\n",
       "      <td>1</td>\n",
       "      <td>NaN</td>\n",
       "      <td>NaN</td>\n",
       "      <td>NaN</td>\n",
       "      <td>NaN</td>\n",
       "      <td>4</td>\n",
       "      <td>373</td>\n",
       "      <td>637758.0</td>\n",
       "      <td>4030</td>\n",
       "      <td>185.0</td>\n",
       "      <td>599.0</td>\n",
       "      <td>...</td>\n",
       "      <td>NaN</td>\n",
       "      <td>NaN</td>\n",
       "      <td>NaN</td>\n",
       "      <td>NaN</td>\n",
       "      <td>NaN</td>\n",
       "      <td>NaN</td>\n",
       "      <td>NaN</td>\n",
       "      <td>NaN</td>\n",
       "      <td>NaN</td>\n",
       "      <td>NaN</td>\n",
       "    </tr>\n",
       "    <tr>\n",
       "      <td>2</td>\n",
       "      <td>NaN</td>\n",
       "      <td>NaN</td>\n",
       "      <td>NaN</td>\n",
       "      <td>NaN</td>\n",
       "      <td>NaN</td>\n",
       "      <td>35</td>\n",
       "      <td>45936.0</td>\n",
       "      <td>4070</td>\n",
       "      <td>269.0</td>\n",
       "      <td>456.0</td>\n",
       "      <td>...</td>\n",
       "      <td>NaN</td>\n",
       "      <td>NaN</td>\n",
       "      <td>NaN</td>\n",
       "      <td>NaN</td>\n",
       "      <td>NaN</td>\n",
       "      <td>NaN</td>\n",
       "      <td>NaN</td>\n",
       "      <td>NaN</td>\n",
       "      <td>NaN</td>\n",
       "      <td>NaN</td>\n",
       "    </tr>\n",
       "    <tr>\n",
       "      <td>3</td>\n",
       "      <td>NaN</td>\n",
       "      <td>NaN</td>\n",
       "      <td>NaN</td>\n",
       "      <td>NaN</td>\n",
       "      <td>NaN</td>\n",
       "      <td>38</td>\n",
       "      <td>79309.0</td>\n",
       "      <td>4070</td>\n",
       "      <td>198.0</td>\n",
       "      <td>345.0</td>\n",
       "      <td>...</td>\n",
       "      <td>NaN</td>\n",
       "      <td>NaN</td>\n",
       "      <td>NaN</td>\n",
       "      <td>NaN</td>\n",
       "      <td>NaN</td>\n",
       "      <td>NaN</td>\n",
       "      <td>NaN</td>\n",
       "      <td>NaN</td>\n",
       "      <td>NaN</td>\n",
       "      <td>NaN</td>\n",
       "    </tr>\n",
       "    <tr>\n",
       "      <td>4</td>\n",
       "      <td>NaN</td>\n",
       "      <td>NaN</td>\n",
       "      <td>NaN</td>\n",
       "      <td>NaN</td>\n",
       "      <td>NaN</td>\n",
       "      <td>29</td>\n",
       "      <td>29531.0</td>\n",
       "      <td>4070</td>\n",
       "      <td>352.0</td>\n",
       "      <td>335.0</td>\n",
       "      <td>...</td>\n",
       "      <td>NaN</td>\n",
       "      <td>NaN</td>\n",
       "      <td>NaN</td>\n",
       "      <td>NaN</td>\n",
       "      <td>NaN</td>\n",
       "      <td>NaN</td>\n",
       "      <td>NaN</td>\n",
       "      <td>NaN</td>\n",
       "      <td>NaN</td>\n",
       "      <td>NaN</td>\n",
       "    </tr>\n",
       "  </tbody>\n",
       "</table>\n",
       "<p>5 rows × 136 columns</p>\n",
       "</div>"
      ],
      "text/plain": [
       "   hat caterpillar       hats caterpillars source  event_count  game_time  \\\n",
       "0  0.0        left  [0, 0, 0]    [5, 8, 5]    N/A           65    46316.0   \n",
       "1  NaN         NaN        NaN          NaN      4          373   637758.0   \n",
       "2  NaN         NaN        NaN          NaN    NaN           35    45936.0   \n",
       "3  NaN         NaN        NaN          NaN    NaN           38    79309.0   \n",
       "4  NaN         NaN        NaN          NaN    NaN           29    29531.0   \n",
       "\n",
       "   event_code  coordinates.x  coordinates.y  ...  max_position  end_position  \\\n",
       "0        4030           64.0          486.0  ...           NaN           NaN   \n",
       "1        4030          185.0          599.0  ...           NaN           NaN   \n",
       "2        4070          269.0          456.0  ...           NaN           NaN   \n",
       "3        4070          198.0          345.0  ...           NaN           NaN   \n",
       "4        4070          352.0          335.0  ...           NaN           NaN   \n",
       "\n",
       "  dwell_time  time_played  containers exit_type  tape_length  bug_length  \\\n",
       "0        NaN          NaN         NaN       NaN          NaN         NaN   \n",
       "1        NaN          NaN         NaN       NaN          NaN         NaN   \n",
       "2        NaN          NaN         NaN       NaN          NaN         NaN   \n",
       "3        NaN          NaN         NaN       NaN          NaN         NaN   \n",
       "4        NaN          NaN         NaN       NaN          NaN         NaN   \n",
       "\n",
       "  molds chests  \n",
       "0   NaN    NaN  \n",
       "1   NaN    NaN  \n",
       "2   NaN    NaN  \n",
       "3   NaN    NaN  \n",
       "4   NaN    NaN  \n",
       "\n",
       "[5 rows x 136 columns]"
      ]
     },
     "execution_count": 21,
     "metadata": {},
     "output_type": "execute_result"
    }
   ],
   "source": [
    "extracted_event_data.head()"
   ]
  },
  {
   "cell_type": "code",
   "execution_count": 23,
   "metadata": {},
   "outputs": [
    {
     "data": {
      "text/plain": [
       "<matplotlib.axes._subplots.AxesSubplot at 0x7fdc80f8d310>"
      ]
     },
     "execution_count": 23,
     "metadata": {},
     "output_type": "execute_result"
    },
    {
     "data": {
      "image/png": "[encoded data removed]",
      "text/plain": [
       "<Figure size 432x288 with 1 Axes>"
      ]
     },
     "metadata": {
      "needs_background": "light"
     },
     "output_type": "display_data"
    }
   ],
   "source": [
    "extracted_event_data[\"event_code\"].value_counts().plot.bar()"
   ]
  },
  {
   "cell_type": "markdown",
   "metadata": {},
   "source": [
    "Join the labels to the training set."
   ]
  },
  {
   "cell_type": "code",
   "execution_count": 44,
   "metadata": {},
   "outputs": [],
   "source": [
    "train_labels = pd.read_csv(\"data-science-bowl-2019/train_labels.csv\")"
   ]
  },
  {
   "cell_type": "code",
   "execution_count": 45,
   "metadata": {},
   "outputs": [],
   "source": [
    "# Code below based on code original written/published by Gabriel Preda\n",
    "# on Kaggle, accessed Mon, 18 Nov, 2019\n",
    "# https://www.kaggle.com/gpreda/2019-data-science-bowl-eda\n",
    "\n",
    "numerical_columns = ['game_time']\n",
    "categorical_columns = ['type', 'world']\n",
    "\n",
    "comp_train_sample = pd.DataFrame({'installation_id': train_sample['installation_id'].unique()})\n",
    "comp_train_sample.set_index('installation_id', inplace = True)"
   ]
  },
  {
   "cell_type": "code",
   "execution_count": 46,
   "metadata": {},
   "outputs": [],
   "source": [
    "def get_numeric_columns(df, column):\n",
    "    df = df.groupby('installation_id').agg({f'{column}': ['mean', 'sum', 'min', 'max', 'std', 'skew']})\n",
    "    df[column].fillna(df[column].mean(), inplace = True)\n",
    "    df.columns = [f'{column}_mean', f'{column}_sum', f'{column}_min', f'{column}_max', f'{column}_std', f'{column}_skew']\n",
    "    return df"
   ]
  },
  {
   "cell_type": "code",
   "execution_count": 47,
   "metadata": {},
   "outputs": [
    {
     "name": "stderr",
     "output_type": "stream",
     "text": [
      "/home/maxwell/anaconda3/lib/python3.7/site-packages/pandas/core/generic.py:6287: SettingWithCopyWarning: \n",
      "A value is trying to be set on a copy of a slice from a DataFrame\n",
      "\n",
      "See the caveats in the documentation: http://pandas.pydata.org/pandas-docs/stable/user_guide/indexing.html#returning-a-view-versus-a-copy\n",
      "  self._update_inplace(new_data)\n"
     ]
    }
   ],
   "source": [
    "for i in numerical_columns:\n",
    "    comp_train_sample = comp_train_sample.merge(get_numeric_columns(train_sample, i), left_index = True, right_index = True)"
   ]
  },
  {
   "cell_type": "code",
   "execution_count": 48,
   "metadata": {},
   "outputs": [
    {
     "name": "stdout",
     "output_type": "stream",
     "text": [
      "We have 17690 training rows\n"
     ]
    }
   ],
   "source": [
    "# get the mode of the title\n",
    "labels_map = dict(train_labels.groupby('title')['accuracy_group'].agg(lambda x:x.value_counts().index[0]))\n",
    "# merge target\n",
    "labels = train_labels.loc[:, ['installation_id', 'title', 'accuracy_group']]\n",
    "# replace title with the mode\n",
    "labels['title'] = labels['title'].map(labels_map)\n",
    "# join train with labels\n",
    "comp_train_sample = labels.merge(comp_train_sample, on = 'installation_id', how = 'left')\n",
    "print('We have {} training rows'.format(comp_train_sample.shape[0]))"
   ]
  },
  {
   "cell_type": "markdown",
   "metadata": {},
   "source": [
    "This gives us the number of rows we can actually use in a future model.\n",
    "\n",
    "## Let's establish a naive baseline model to work from"
   ]
  },
  {
   "cell_type": "code",
   "execution_count": 51,
   "metadata": {},
   "outputs": [],
   "source": [
    "# Code below based on code original written/published by Massoud Hosseinali\n",
    "# on Kaggle, accessed 20 Nov, 2019\n",
    "# https://www.kaggle.com/mhviraf/a-baseline-for-dsb-2019\n",
    "submission = pd.read_csv(\"data-science-bowl-2019/sample_submission.csv\")"
   ]
  },
  {
   "cell_type": "code",
   "execution_count": 52,
   "metadata": {},
   "outputs": [
    {
     "data": {
      "text/plain": [
       "{'Bird Measurer (Assessment)': 0,\n",
       " 'Cart Balancer (Assessment)': 3,\n",
       " 'Cauldron Filler (Assessment)': 3,\n",
       " 'Chest Sorter (Assessment)': 0,\n",
       " 'Mushroom Sorter (Assessment)': 3}"
      ]
     },
     "execution_count": 52,
     "metadata": {},
     "output_type": "execute_result"
    }
   ],
   "source": [
    "labels_map = dict(train_labels.groupby('title')['accuracy_group'].agg(lambda x:x.value_counts().index[0])) # get the mode\n",
    "labels_map"
   ]
  },
  {
   "cell_type": "code",
   "execution_count": 56,
   "metadata": {},
   "outputs": [
    {
     "data": {
      "text/plain": [
       "(1000, 2)"
      ]
     },
     "metadata": {},
     "output_type": "display_data"
    },
    {
     "data": {
      "text/html": [
       "<div>\n",
       "<style scoped>\n",
       "    .dataframe tbody tr th:only-of-type {\n",
       "        vertical-align: middle;\n",
       "    }\n",
       "\n",
       "    .dataframe tbody tr th {\n",
       "        vertical-align: top;\n",
       "    }\n",
       "\n",
       "    .dataframe thead th {\n",
       "        text-align: right;\n",
       "    }\n",
       "</style>\n",
       "<table border=\"1\" class=\"dataframe\">\n",
       "  <thead>\n",
       "    <tr style=\"text-align: right;\">\n",
       "      <th></th>\n",
       "      <th>installation_id</th>\n",
       "      <th>accuracy_group</th>\n",
       "    </tr>\n",
       "  </thead>\n",
       "  <tbody>\n",
       "    <tr>\n",
       "      <td>0</td>\n",
       "      <td>00abaee7</td>\n",
       "      <td>3</td>\n",
       "    </tr>\n",
       "    <tr>\n",
       "      <td>1</td>\n",
       "      <td>01242218</td>\n",
       "      <td>3</td>\n",
       "    </tr>\n",
       "    <tr>\n",
       "      <td>2</td>\n",
       "      <td>017c5718</td>\n",
       "      <td>3</td>\n",
       "    </tr>\n",
       "    <tr>\n",
       "      <td>3</td>\n",
       "      <td>01a44906</td>\n",
       "      <td>3</td>\n",
       "    </tr>\n",
       "    <tr>\n",
       "      <td>4</td>\n",
       "      <td>01bc6cb6</td>\n",
       "      <td>3</td>\n",
       "    </tr>\n",
       "  </tbody>\n",
       "</table>\n",
       "</div>"
      ],
      "text/plain": [
       "  installation_id  accuracy_group\n",
       "0        00abaee7               3\n",
       "1        01242218               3\n",
       "2        017c5718               3\n",
       "3        01a44906               3\n",
       "4        01bc6cb6               3"
      ]
     },
     "execution_count": 56,
     "metadata": {},
     "output_type": "execute_result"
    }
   ],
   "source": [
    "submission['accuracy_group'] = test.groupby('installation_id').last()['title'].map(labels_map).reset_index(drop=True)\n",
    "submission.to_csv('submission.csv', index=None)\n",
    "display(submission.shape)\n",
    "submission.head()"
   ]
  },
  {
   "cell_type": "code",
   "execution_count": 54,
   "metadata": {},
   "outputs": [
    {
     "data": {
      "text/plain": [
       "<matplotlib.axes._subplots.AxesSubplot at 0x7fdc81264bd0>"
      ]
     },
     "execution_count": 54,
     "metadata": {},
     "output_type": "execute_result"
    },
    {
     "data": {
      "image/png": "[encoded data removed]",
      "text/plain": [
       "<Figure size 432x288 with 1 Axes>"
      ]
     },
     "metadata": {
      "needs_background": "light"
     },
     "output_type": "display_data"
    }
   ],
   "source": [
    "submission['accuracy_group'].plot(kind='hist')"
   ]
  },
  {
   "cell_type": "code",
   "execution_count": 55,
   "metadata": {},
   "outputs": [
    {
     "data": {
      "text/plain": [
       "<matplotlib.axes._subplots.AxesSubplot at 0x7fdc8122d6d0>"
      ]
     },
     "execution_count": 55,
     "metadata": {},
     "output_type": "execute_result"
    },
    {
     "data": {
      "image/png": "[encoded data removed]",
      "text/plain": [
       "<Figure size 432x288 with 1 Axes>"
      ]
     },
     "metadata": {
      "needs_background": "light"
     },
     "output_type": "display_data"
    }
   ],
   "source": [
    "train_labels['accuracy_group'].plot(kind='hist')"
   ]
  },
  {
   "cell_type": "code",
   "execution_count": null,
   "metadata": {},
   "outputs": [],
   "source": []
  }
 ],
 "metadata": {
  "kernelspec": {
   "display_name": "Python 3",
   "language": "python",
   "name": "python3"
  },
  "language_info": {
   "codemirror_mode": {
    "name": "ipython",
    "version": 3
   },
   "file_extension": ".py",
   "mimetype": "text/x-python",
   "name": "python",
   "nbconvert_exporter": "python",
   "pygments_lexer": "ipython3",
   "version": "3.7.4"
  }
 },
 "nbformat": 4,
 "nbformat_minor": 2
}
