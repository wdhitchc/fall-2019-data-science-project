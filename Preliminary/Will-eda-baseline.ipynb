{
 "cells": [
  {
   "cell_type": "code",
   "execution_count": 1,
   "metadata": {},
   "outputs": [],
   "source": [
    "import pandas as pd\n",
    "import numpy as np\n",
    "%matplotlib inline\n",
    "train = pd.read_csv('train.csv')\n",
    "train_labels = pd.read_csv('train_labels.csv')\n",
    "test = pd.read_csv('test.csv')"
   ]
  },
  {
   "cell_type": "markdown",
   "metadata": {},
   "source": [
    "The first step we want to do is read in all of our data and preprare our packages"
   ]
  },
  {
   "cell_type": "markdown",
   "metadata": {},
   "source": [
    "Were first going to do some very basic feature engineering on our train data set. Since I havent previously dealt with time stamps I've decided to reformat that data into something I'm more familiar with"
   ]
  },
  {
   "cell_type": "code",
   "execution_count": 2,
   "metadata": {},
   "outputs": [],
   "source": [
    "train['timestamp'] = pd.to_datetime(train['timestamp'])\n",
    "train['date'] = train['timestamp'].dt.date\n",
    "train['hour'] = train['timestamp'].dt.hour\n",
    "train['weekday_name'] = train['timestamp'].dt.weekday_name"
   ]
  },
  {
   "cell_type": "markdown",
   "metadata": {},
   "source": [
    "The first data set we want to take a look at is the train data set. However, because creating visualizations with such a large amount of data would take a lot of computing time, we will be using a sample of 10000 rows."
   ]
  },
  {
   "cell_type": "code",
   "execution_count": 3,
   "metadata": {},
   "outputs": [],
   "source": [
    "train_sample = train.sample(10000)"
   ]
  },
  {
   "cell_type": "code",
   "execution_count": 4,
   "metadata": {},
   "outputs": [
    {
     "data": {
      "text/html": [
       "<div>\n",
       "<style scoped>\n",
       "    .dataframe tbody tr th:only-of-type {\n",
       "        vertical-align: middle;\n",
       "    }\n",
       "\n",
       "    .dataframe tbody tr th {\n",
       "        vertical-align: top;\n",
       "    }\n",
       "\n",
       "    .dataframe thead th {\n",
       "        text-align: right;\n",
       "    }\n",
       "</style>\n",
       "<table border=\"1\" class=\"dataframe\">\n",
       "  <thead>\n",
       "    <tr style=\"text-align: right;\">\n",
       "      <th></th>\n",
       "      <th>event_id</th>\n",
       "      <th>game_session</th>\n",
       "      <th>timestamp</th>\n",
       "      <th>event_data</th>\n",
       "      <th>installation_id</th>\n",
       "      <th>event_count</th>\n",
       "      <th>event_code</th>\n",
       "      <th>game_time</th>\n",
       "      <th>title</th>\n",
       "      <th>type</th>\n",
       "      <th>world</th>\n",
       "      <th>date</th>\n",
       "      <th>hour</th>\n",
       "      <th>weekday_name</th>\n",
       "    </tr>\n",
       "  </thead>\n",
       "  <tbody>\n",
       "    <tr>\n",
       "      <th>6252045</th>\n",
       "      <td>27253bdc</td>\n",
       "      <td>b44a300574009304</td>\n",
       "      <td>2019-10-11 14:01:54.615</td>\n",
       "      <td>{\"event_code\": 2000, \"event_count\": 1}</td>\n",
       "      <td>8a896f35</td>\n",
       "      <td>1</td>\n",
       "      <td>2000</td>\n",
       "      <td>0</td>\n",
       "      <td>Crystal Caves - Level 3</td>\n",
       "      <td>Clip</td>\n",
       "      <td>CRYSTALCAVES</td>\n",
       "      <td>2019-10-11</td>\n",
       "      <td>14</td>\n",
       "      <td>Friday</td>\n",
       "    </tr>\n",
       "    <tr>\n",
       "      <th>126902</th>\n",
       "      <td>71fe8f75</td>\n",
       "      <td>75f48864b6747b7a</td>\n",
       "      <td>2019-09-11 18:35:12.964</td>\n",
       "      <td>{\"description\":\"One!\",\"identifier\":\"sid_1\",\"me...</td>\n",
       "      <td>02cc511e</td>\n",
       "      <td>241</td>\n",
       "      <td>3110</td>\n",
       "      <td>145010</td>\n",
       "      <td>Bug Measurer (Activity)</td>\n",
       "      <td>Activity</td>\n",
       "      <td>TREETOPCITY</td>\n",
       "      <td>2019-09-11</td>\n",
       "      <td>18</td>\n",
       "      <td>Wednesday</td>\n",
       "    </tr>\n",
       "    <tr>\n",
       "      <th>9539910</th>\n",
       "      <td>d3f1e122</td>\n",
       "      <td>a8405a42b22680f0</td>\n",
       "      <td>2019-10-05 21:42:41.371</td>\n",
       "      <td>{\"bottle\":{\"amount\":1,\"color\":\"green\"},\"coordi...</td>\n",
       "      <td>d4db7ff5</td>\n",
       "      <td>133</td>\n",
       "      <td>4035</td>\n",
       "      <td>150393</td>\n",
       "      <td>Bottle Filler (Activity)</td>\n",
       "      <td>Activity</td>\n",
       "      <td>MAGMAPEAK</td>\n",
       "      <td>2019-10-05</td>\n",
       "      <td>21</td>\n",
       "      <td>Saturday</td>\n",
       "    </tr>\n",
       "    <tr>\n",
       "      <th>2361762</th>\n",
       "      <td>a0faea5d</td>\n",
       "      <td>34b90b4cfea858d2</td>\n",
       "      <td>2019-09-28 14:17:43.414</td>\n",
       "      <td>{\"coordinates\":{\"x\":39,\"y\":516,\"stage_width\":1...</td>\n",
       "      <td>343f56f4</td>\n",
       "      <td>304</td>\n",
       "      <td>4070</td>\n",
       "      <td>688067</td>\n",
       "      <td>Bubble Bath</td>\n",
       "      <td>Game</td>\n",
       "      <td>MAGMAPEAK</td>\n",
       "      <td>2019-09-28</td>\n",
       "      <td>14</td>\n",
       "      <td>Saturday</td>\n",
       "    </tr>\n",
       "    <tr>\n",
       "      <th>2621104</th>\n",
       "      <td>73757a5e</td>\n",
       "      <td>8329aa10fd3a6e23</td>\n",
       "      <td>2019-09-08 15:12:29.971</td>\n",
       "      <td>{\"description\":\"Everybody has just the right a...</td>\n",
       "      <td>3a1ab046</td>\n",
       "      <td>131</td>\n",
       "      <td>3021</td>\n",
       "      <td>71434</td>\n",
       "      <td>Scrub-A-Dub</td>\n",
       "      <td>Game</td>\n",
       "      <td>MAGMAPEAK</td>\n",
       "      <td>2019-09-08</td>\n",
       "      <td>15</td>\n",
       "      <td>Sunday</td>\n",
       "    </tr>\n",
       "  </tbody>\n",
       "</table>\n",
       "</div>"
      ],
      "text/plain": [
       "         event_id      game_session               timestamp  \\\n",
       "6252045  27253bdc  b44a300574009304 2019-10-11 14:01:54.615   \n",
       "126902   71fe8f75  75f48864b6747b7a 2019-09-11 18:35:12.964   \n",
       "9539910  d3f1e122  a8405a42b22680f0 2019-10-05 21:42:41.371   \n",
       "2361762  a0faea5d  34b90b4cfea858d2 2019-09-28 14:17:43.414   \n",
       "2621104  73757a5e  8329aa10fd3a6e23 2019-09-08 15:12:29.971   \n",
       "\n",
       "                                                event_data installation_id  \\\n",
       "6252045             {\"event_code\": 2000, \"event_count\": 1}        8a896f35   \n",
       "126902   {\"description\":\"One!\",\"identifier\":\"sid_1\",\"me...        02cc511e   \n",
       "9539910  {\"bottle\":{\"amount\":1,\"color\":\"green\"},\"coordi...        d4db7ff5   \n",
       "2361762  {\"coordinates\":{\"x\":39,\"y\":516,\"stage_width\":1...        343f56f4   \n",
       "2621104  {\"description\":\"Everybody has just the right a...        3a1ab046   \n",
       "\n",
       "         event_count  event_code  game_time                     title  \\\n",
       "6252045            1        2000          0   Crystal Caves - Level 3   \n",
       "126902           241        3110     145010   Bug Measurer (Activity)   \n",
       "9539910          133        4035     150393  Bottle Filler (Activity)   \n",
       "2361762          304        4070     688067               Bubble Bath   \n",
       "2621104          131        3021      71434               Scrub-A-Dub   \n",
       "\n",
       "             type         world        date  hour weekday_name  \n",
       "6252045      Clip  CRYSTALCAVES  2019-10-11    14       Friday  \n",
       "126902   Activity   TREETOPCITY  2019-09-11    18    Wednesday  \n",
       "9539910  Activity     MAGMAPEAK  2019-10-05    21     Saturday  \n",
       "2361762      Game     MAGMAPEAK  2019-09-28    14     Saturday  \n",
       "2621104      Game     MAGMAPEAK  2019-09-08    15       Sunday  "
      ]
     },
     "execution_count": 4,
     "metadata": {},
     "output_type": "execute_result"
    }
   ],
   "source": [
    "train_sample.head()"
   ]
  },
  {
   "cell_type": "code",
   "execution_count": 5,
   "metadata": {},
   "outputs": [
    {
     "data": {
      "text/plain": [
       "<matplotlib.axes._subplots.AxesSubplot at 0x1df5bb3fbe0>"
      ]
     },
     "execution_count": 5,
     "metadata": {},
     "output_type": "execute_result"
    },
    {
     "data": {
      "image/png": "[encoded data removed]",
      "text/plain": [
       "<Figure size 432x288 with 1 Axes>"
      ]
     },
     "metadata": {
      "needs_background": "light"
     },
     "output_type": "display_data"
    }
   ],
   "source": [
    "train_sample.event_code.value_counts().plot.bar()"
   ]
  },
  {
   "cell_type": "markdown",
   "metadata": {},
   "source": [
    "We note that the most popular event codes are 4070, 4030, and 3010"
   ]
  },
  {
   "cell_type": "markdown",
   "metadata": {},
   "source": [
    "Since our goal is to predict assessment scores for installation ids, we should look at what percentage of installs, actually go on to even attempt an assessment"
   ]
  },
  {
   "cell_type": "code",
   "execution_count": 6,
   "metadata": {},
   "outputs": [
    {
     "name": "stdout",
     "output_type": "stream",
     "text": [
      "num of installation IDS:  4427\n",
      "num of installs that attempted assessment  604\n",
      "percentage  0.1364355093742941\n"
     ]
    }
   ],
   "source": [
    "print('num of installation IDS: ', (len(train_sample.installation_id.unique())))\n",
    "print('num of installs that attempted assessment ', train_sample.groupby('installation_id').type.value_counts().unstack().Assessment.count())\n",
    "percent = train_sample.groupby('installation_id').type.value_counts().unstack().Assessment.count() / len(train_sample.installation_id.unique())\n",
    "print('percentage ', percent )"
   ]
  },
  {
   "cell_type": "markdown",
   "metadata": {},
   "source": [
    "just 15% of our sample of installation ids ever attempt an assessment\n",
    "\n",
    "One feature we created earlier was days of the week. Lets see if children are more likely to play on different days."
   ]
  },
  {
   "cell_type": "code",
   "execution_count": 7,
   "metadata": {},
   "outputs": [
    {
     "data": {
      "text/plain": [
       "<matplotlib.axes._subplots.AxesSubplot at 0x1df56577c50>"
      ]
     },
     "execution_count": 7,
     "metadata": {},
     "output_type": "execute_result"
    },
    {
     "data": {
      "image/png": "[encoded data removed]",
      "text/plain": [
       "<Figure size 432x288 with 1 Axes>"
      ]
     },
     "metadata": {
      "needs_background": "light"
     },
     "output_type": "display_data"
    }
   ],
   "source": [
    "train_sample.weekday_name.value_counts().plot.bar()"
   ]
  },
  {
   "cell_type": "markdown",
   "metadata": {},
   "source": [
    "It appears Friday and Thursday are the most popular days for the app. However, all days are relatively similiar."
   ]
  },
  {
   "cell_type": "code",
   "execution_count": 8,
   "metadata": {},
   "outputs": [
    {
     "data": {
      "text/plain": [
       "<matplotlib.axes._subplots.AxesSubplot at 0x1df5663bda0>"
      ]
     },
     "execution_count": 8,
     "metadata": {},
     "output_type": "execute_result"
    },
    {
     "data": {
      "image/png": "[encoded data removed]",
      "text/plain": [
       "<Figure size 432x288 with 1 Axes>"
      ]
     },
     "metadata": {
      "needs_background": "light"
     },
     "output_type": "display_data"
    }
   ],
   "source": [
    "train_sample.event_count.plot.hist(bins=500)"
   ]
  },
  {
   "cell_type": "markdown",
   "metadata": {},
   "source": [
    "Looking at the distribution of event count, we can see that its strongly skewed right with the vase majority close to 0.\n",
    "Interestingly, we see several values over 500. Its fair to wonder is this an error, or are there really children playing this much of the measure up app."
   ]
  },
  {
   "cell_type": "code",
   "execution_count": 9,
   "metadata": {},
   "outputs": [
    {
     "data": {
      "text/plain": [
       "<matplotlib.axes._subplots.AxesSubplot at 0x1df56a34748>"
      ]
     },
     "execution_count": 9,
     "metadata": {},
     "output_type": "execute_result"
    },
    {
     "data": {
      "image/png": "[encoded data removed]",
      "text/plain": [
       "<Figure size 432x288 with 1 Axes>"
      ]
     },
     "metadata": {
      "needs_background": "light"
     },
     "output_type": "display_data"
    }
   ],
   "source": [
    "train_sample.type.value_counts().plot.bar()"
   ]
  },
  {
   "cell_type": "markdown",
   "metadata": {},
   "source": [
    "Among the sample, games are the most popular event type. there could be several reasons for this. Its possible that users do play more games then they participate with activitys or assesments, but its also possible that interacting with a game simply creates more events."
   ]
  },
  {
   "cell_type": "code",
   "execution_count": 10,
   "metadata": {},
   "outputs": [
    {
     "data": {
      "text/plain": [
       "<matplotlib.axes._subplots.AxesSubplot at 0x1df56b3be48>"
      ]
     },
     "execution_count": 10,
     "metadata": {},
     "output_type": "execute_result"
    },
    {
     "data": {
      "image/png": "[encoded data removed]",
      "text/plain": [
       "<Figure size 432x288 with 1 Axes>"
      ]
     },
     "metadata": {
      "needs_background": "light"
     },
     "output_type": "display_data"
    }
   ],
   "source": [
    "train_sample.world.value_counts().plot.bar()"
   ]
  },
  {
   "cell_type": "markdown",
   "metadata": {},
   "source": [
    "The next data set we should look into is the test data set. It's important to see how this data set compares to the training dataset."
   ]
  },
  {
   "cell_type": "code",
   "execution_count": 11,
   "metadata": {},
   "outputs": [
    {
     "data": {
      "text/html": [
       "<div>\n",
       "<style scoped>\n",
       "    .dataframe tbody tr th:only-of-type {\n",
       "        vertical-align: middle;\n",
       "    }\n",
       "\n",
       "    .dataframe tbody tr th {\n",
       "        vertical-align: top;\n",
       "    }\n",
       "\n",
       "    .dataframe thead th {\n",
       "        text-align: right;\n",
       "    }\n",
       "</style>\n",
       "<table border=\"1\" class=\"dataframe\">\n",
       "  <thead>\n",
       "    <tr style=\"text-align: right;\">\n",
       "      <th></th>\n",
       "      <th>event_id</th>\n",
       "      <th>game_session</th>\n",
       "      <th>timestamp</th>\n",
       "      <th>event_data</th>\n",
       "      <th>installation_id</th>\n",
       "      <th>event_count</th>\n",
       "      <th>event_code</th>\n",
       "      <th>game_time</th>\n",
       "      <th>title</th>\n",
       "      <th>type</th>\n",
       "      <th>world</th>\n",
       "    </tr>\n",
       "  </thead>\n",
       "  <tbody>\n",
       "    <tr>\n",
       "      <th>0</th>\n",
       "      <td>27253bdc</td>\n",
       "      <td>0ea9ecc81a565215</td>\n",
       "      <td>2019-09-10T16:50:24.910Z</td>\n",
       "      <td>{\"event_code\": 2000, \"event_count\": 1}</td>\n",
       "      <td>00abaee7</td>\n",
       "      <td>1</td>\n",
       "      <td>2000</td>\n",
       "      <td>0</td>\n",
       "      <td>Welcome to Lost Lagoon!</td>\n",
       "      <td>Clip</td>\n",
       "      <td>NONE</td>\n",
       "    </tr>\n",
       "    <tr>\n",
       "      <th>1</th>\n",
       "      <td>27253bdc</td>\n",
       "      <td>c1ea43d8b8261d27</td>\n",
       "      <td>2019-09-10T16:50:55.503Z</td>\n",
       "      <td>{\"event_code\": 2000, \"event_count\": 1}</td>\n",
       "      <td>00abaee7</td>\n",
       "      <td>1</td>\n",
       "      <td>2000</td>\n",
       "      <td>0</td>\n",
       "      <td>Magma Peak - Level 1</td>\n",
       "      <td>Clip</td>\n",
       "      <td>MAGMAPEAK</td>\n",
       "    </tr>\n",
       "    <tr>\n",
       "      <th>2</th>\n",
       "      <td>27253bdc</td>\n",
       "      <td>7ed86c6b72e725e2</td>\n",
       "      <td>2019-09-10T16:51:51.805Z</td>\n",
       "      <td>{\"event_code\": 2000, \"event_count\": 1}</td>\n",
       "      <td>00abaee7</td>\n",
       "      <td>1</td>\n",
       "      <td>2000</td>\n",
       "      <td>0</td>\n",
       "      <td>Magma Peak - Level 2</td>\n",
       "      <td>Clip</td>\n",
       "      <td>MAGMAPEAK</td>\n",
       "    </tr>\n",
       "    <tr>\n",
       "      <th>3</th>\n",
       "      <td>27253bdc</td>\n",
       "      <td>7e516ace50e7fe67</td>\n",
       "      <td>2019-09-10T16:53:12.825Z</td>\n",
       "      <td>{\"event_code\": 2000, \"event_count\": 1}</td>\n",
       "      <td>00abaee7</td>\n",
       "      <td>1</td>\n",
       "      <td>2000</td>\n",
       "      <td>0</td>\n",
       "      <td>Crystal Caves - Level 1</td>\n",
       "      <td>Clip</td>\n",
       "      <td>CRYSTALCAVES</td>\n",
       "    </tr>\n",
       "    <tr>\n",
       "      <th>4</th>\n",
       "      <td>7d093bf9</td>\n",
       "      <td>a022c3f60ba547e7</td>\n",
       "      <td>2019-09-10T16:54:12.115Z</td>\n",
       "      <td>{\"version\":\"1.0\",\"round\":0,\"event_count\":1,\"ga...</td>\n",
       "      <td>00abaee7</td>\n",
       "      <td>1</td>\n",
       "      <td>2000</td>\n",
       "      <td>0</td>\n",
       "      <td>Chow Time</td>\n",
       "      <td>Game</td>\n",
       "      <td>CRYSTALCAVES</td>\n",
       "    </tr>\n",
       "  </tbody>\n",
       "</table>\n",
       "</div>"
      ],
      "text/plain": [
       "   event_id      game_session                 timestamp  \\\n",
       "0  27253bdc  0ea9ecc81a565215  2019-09-10T16:50:24.910Z   \n",
       "1  27253bdc  c1ea43d8b8261d27  2019-09-10T16:50:55.503Z   \n",
       "2  27253bdc  7ed86c6b72e725e2  2019-09-10T16:51:51.805Z   \n",
       "3  27253bdc  7e516ace50e7fe67  2019-09-10T16:53:12.825Z   \n",
       "4  7d093bf9  a022c3f60ba547e7  2019-09-10T16:54:12.115Z   \n",
       "\n",
       "                                          event_data installation_id  \\\n",
       "0             {\"event_code\": 2000, \"event_count\": 1}        00abaee7   \n",
       "1             {\"event_code\": 2000, \"event_count\": 1}        00abaee7   \n",
       "2             {\"event_code\": 2000, \"event_count\": 1}        00abaee7   \n",
       "3             {\"event_code\": 2000, \"event_count\": 1}        00abaee7   \n",
       "4  {\"version\":\"1.0\",\"round\":0,\"event_count\":1,\"ga...        00abaee7   \n",
       "\n",
       "   event_count  event_code  game_time                    title  type  \\\n",
       "0            1        2000          0  Welcome to Lost Lagoon!  Clip   \n",
       "1            1        2000          0     Magma Peak - Level 1  Clip   \n",
       "2            1        2000          0     Magma Peak - Level 2  Clip   \n",
       "3            1        2000          0  Crystal Caves - Level 1  Clip   \n",
       "4            1        2000          0                Chow Time  Game   \n",
       "\n",
       "          world  \n",
       "0          NONE  \n",
       "1     MAGMAPEAK  \n",
       "2     MAGMAPEAK  \n",
       "3  CRYSTALCAVES  \n",
       "4  CRYSTALCAVES  "
      ]
     },
     "execution_count": 11,
     "metadata": {},
     "output_type": "execute_result"
    }
   ],
   "source": [
    "test.head()"
   ]
  },
  {
   "cell_type": "code",
   "execution_count": 12,
   "metadata": {},
   "outputs": [
    {
     "name": "stdout",
     "output_type": "stream",
     "text": [
      "num of installation IDS:  1000\n",
      "num of installs that attempted assessment  1000\n",
      "percentage  1.0\n"
     ]
    }
   ],
   "source": [
    "print('num of installation IDS: ', (len(test.installation_id.unique())))\n",
    "print('num of installs that attempted assessment ', test.groupby('installation_id').type.value_counts().unstack().Assessment.count())\n",
    "percent = test.groupby('installation_id').type.value_counts().unstack().Assessment.count() / len(test.installation_id.unique())\n",
    "print('percentage ', percent )"
   ]
  },
  {
   "cell_type": "markdown",
   "metadata": {},
   "source": [
    "As you can see, unlike the training set, the test set has no installation ids that never took an assessment. This will be important to keep in mind later on."
   ]
  },
  {
   "cell_type": "code",
   "execution_count": 13,
   "metadata": {},
   "outputs": [
    {
     "data": {
      "text/plain": [
       "<matplotlib.axes._subplots.AxesSubplot at 0x1df56b99940>"
      ]
     },
     "execution_count": 13,
     "metadata": {},
     "output_type": "execute_result"
    },
    {
     "data": {
      "image/png": "[encoded data removed]",
      "text/plain": [
       "<Figure size 432x288 with 1 Axes>"
      ]
     },
     "metadata": {
      "needs_background": "light"
     },
     "output_type": "display_data"
    }
   ],
   "source": [
    "test.event_code.value_counts().plot.bar()"
   ]
  },
  {
   "cell_type": "markdown",
   "metadata": {},
   "source": [
    "The graph of event code for the test data looks almost identitical to the train data."
   ]
  },
  {
   "cell_type": "code",
   "execution_count": 14,
   "metadata": {},
   "outputs": [
    {
     "data": {
      "text/plain": [
       "<matplotlib.axes._subplots.AxesSubplot at 0x1df56c8c048>"
      ]
     },
     "execution_count": 14,
     "metadata": {},
     "output_type": "execute_result"
    },
    {
     "data": {
      "image/png": "[encoded data removed]",
      "text/plain": [
       "<Figure size 432x288 with 1 Axes>"
      ]
     },
     "metadata": {
      "needs_background": "light"
     },
     "output_type": "display_data"
    }
   ],
   "source": [
    "test.world.value_counts().plot.bar()"
   ]
  },
  {
   "cell_type": "code",
   "execution_count": 15,
   "metadata": {},
   "outputs": [
    {
     "data": {
      "text/plain": [
       "<matplotlib.axes._subplots.AxesSubplot at 0x1df56d10a20>"
      ]
     },
     "execution_count": 15,
     "metadata": {},
     "output_type": "execute_result"
    },
    {
     "data": {
      "image/png": "[encoded data removed]",
      "text/plain": [
       "<Figure size 432x288 with 1 Axes>"
      ]
     },
     "metadata": {
      "needs_background": "light"
     },
     "output_type": "display_data"
    }
   ],
   "source": [
    "test.event_count.plot.hist(bins=500)"
   ]
  },
  {
   "cell_type": "markdown",
   "metadata": {},
   "source": [
    "The distributions of both event count and world look very similiar to train data sets.\n",
    "\n",
    "finally we will take a quick look at the train labels data"
   ]
  },
  {
   "cell_type": "code",
   "execution_count": 16,
   "metadata": {},
   "outputs": [
    {
     "data": {
      "text/plain": [
       "<matplotlib.axes._subplots.AxesSubplot at 0x1df57171e80>"
      ]
     },
     "execution_count": 16,
     "metadata": {},
     "output_type": "execute_result"
    },
    {
     "data": {
      "image/png": "[encoded data removed]",
      "text/plain": [
       "<Figure size 432x288 with 1 Axes>"
      ]
     },
     "metadata": {
      "needs_background": "light"
     },
     "output_type": "display_data"
    }
   ],
   "source": [
    "train_labels.accuracy_group.value_counts().plot.bar()"
   ]
  },
  {
   "cell_type": "code",
   "execution_count": 17,
   "metadata": {},
   "outputs": [
    {
     "data": {
      "text/plain": [
       "3614"
      ]
     },
     "execution_count": 17,
     "metadata": {},
     "output_type": "execute_result"
    }
   ],
   "source": [
    "train_labels.installation_id.nunique()"
   ]
  },
  {
   "cell_type": "markdown",
   "metadata": {},
   "source": [
    "We see that 3 is the most common accuracy score, occuring almost 50% of the time. We also want to note that there are 3614 unique installation ids in the train labels set. Many installation ids have assessment scores for multiple different assessments and game sessions."
   ]
  },
  {
   "cell_type": "markdown",
   "metadata": {},
   "source": [
    "I am going to continue to explore the data, but now I am going to do so within the context of the problem.\n",
    "\n",
    "Some very important information was given to us by PBS. Firstly its important to know that assessments attempts are marked with and event code of either 4100, or 4110.\n",
    "\n",
    "We should also take note that the user begining any type of event is marked with an event code of 2000.\n",
    "\n",
    "Were are asked to predict for each installation ID, What their final assessment score is going to be.\n",
    "To do this we want to use all of the installation IDs play history up until the assesment to predict is begun.\n",
    "\n",
    "We can see that for any individual installation ID, the last row of Test DF is always an assesment with event code 200.\n",
    "We will try to get our training data into a similar working format."
   ]
  },
  {
   "cell_type": "markdown",
   "metadata": {},
   "source": [
    "To walk through the problem were addressing its easiest to look at a single installation id."
   ]
  },
  {
   "cell_type": "code",
   "execution_count": 18,
   "metadata": {},
   "outputs": [],
   "source": [
    "single_id = train[train.installation_id == '85697782']\n",
    "single_id = single_id.sort_values('timestamp')\n",
    "single_id['lastPlay_time'] = single_id['timestamp'].shift(periods=1)\n",
    "single_id['time_since_lastPlay'] =( single_id['timestamp'] - single_id['lastPlay_time'])\n",
    "single_id['time_since_lastPlay'] = single_id['time_since_lastPlay']/np.timedelta64(1, 's')"
   ]
  },
  {
   "cell_type": "markdown",
   "metadata": {},
   "source": [
    "We have taken all of the play data for a single installation ID and put it into a data frame of its own. Then we went on to do some simple feature engineering to get the amount of time elapsed since this user last played the game. I beleive this data may be useful as children tend to forget things they learned a while back."
   ]
  },
  {
   "cell_type": "markdown",
   "metadata": {},
   "source": [
    "As stated above we want to use the history prior to the beginning of the final assessment attempted, to make a prediction for that final assessment.\n",
    "\n",
    "So, lets find where the beginning of the final assessment is, take all the data prior to the point and make that our X.\n",
    "We then want to go into training labels and find the true assessment group for that assesment, and make it our Y."
   ]
  },
  {
   "cell_type": "code",
   "execution_count": 19,
   "metadata": {},
   "outputs": [
    {
     "data": {
      "text/plain": [
       "index                                                            6012423\n",
       "event_id                                                        90d848e0\n",
       "game_session                                            b74ddc8c115f9857\n",
       "timestamp                                     2019-08-23 14:25:09.357000\n",
       "event_data             {\"version\":\"1.0\",\"event_count\":1,\"game_time\":0...\n",
       "installation_id                                                 85697782\n",
       "event_count                                                            1\n",
       "event_code                                                          2000\n",
       "game_time                                                              0\n",
       "title                                       Cauldron Filler (Assessment)\n",
       "type                                                          Assessment\n",
       "world                                                          MAGMAPEAK\n",
       "date                                                          2019-08-23\n",
       "hour                                                                  14\n",
       "weekday_name                                                      Friday\n",
       "lastPlay_time                                 2019-08-23 14:24:47.871000\n",
       "time_since_lastPlay                                               21.486\n",
       "Name: 4727, dtype: object"
      ]
     },
     "execution_count": 19,
     "metadata": {},
     "output_type": "execute_result"
    }
   ],
   "source": [
    "single_id.reset_index(inplace=True)\n",
    "assessment_begins = single_id[(single_id['type'] == 'Assessment') & (single_id['event_code'] == 2000)]\n",
    "assessments_with_attempts = assessment_begins[assessment_begins.game_session.isin(train_labels.game_session.unique())]\n",
    "cut_off_idx = assessments_with_attempts.tail(1).index\n",
    "single_id.iloc[cut_off_idx[0]]"
   ]
  },
  {
   "cell_type": "code",
   "execution_count": 27,
   "metadata": {},
   "outputs": [
    {
     "data": {
      "text/html": [
       "<div>\n",
       "<style scoped>\n",
       "    .dataframe tbody tr th:only-of-type {\n",
       "        vertical-align: middle;\n",
       "    }\n",
       "\n",
       "    .dataframe tbody tr th {\n",
       "        vertical-align: top;\n",
       "    }\n",
       "\n",
       "    .dataframe thead th {\n",
       "        text-align: right;\n",
       "    }\n",
       "</style>\n",
       "<table border=\"1\" class=\"dataframe\">\n",
       "  <thead>\n",
       "    <tr style=\"text-align: right;\">\n",
       "      <th></th>\n",
       "      <th>index</th>\n",
       "      <th>event_id</th>\n",
       "      <th>game_session</th>\n",
       "      <th>timestamp</th>\n",
       "      <th>event_data</th>\n",
       "      <th>installation_id</th>\n",
       "      <th>event_count</th>\n",
       "      <th>event_code</th>\n",
       "      <th>game_time</th>\n",
       "      <th>title</th>\n",
       "      <th>type</th>\n",
       "      <th>world</th>\n",
       "      <th>date</th>\n",
       "      <th>hour</th>\n",
       "      <th>weekday_name</th>\n",
       "      <th>lastPlay_time</th>\n",
       "      <th>time_since_lastPlay</th>\n",
       "    </tr>\n",
       "  </thead>\n",
       "  <tbody>\n",
       "    <tr>\n",
       "      <th>0</th>\n",
       "      <td>6007696</td>\n",
       "      <td>15ba1109</td>\n",
       "      <td>7291f93554c20c01</td>\n",
       "      <td>2019-08-14 18:06:47.927</td>\n",
       "      <td>{\"version\":\"1\",\"round\":0,\"event_count\":1,\"game...</td>\n",
       "      <td>85697782</td>\n",
       "      <td>1</td>\n",
       "      <td>2000</td>\n",
       "      <td>0</td>\n",
       "      <td>Air Show</td>\n",
       "      <td>Game</td>\n",
       "      <td>TREETOPCITY</td>\n",
       "      <td>2019-08-14</td>\n",
       "      <td>18</td>\n",
       "      <td>Wednesday</td>\n",
       "      <td>NaT</td>\n",
       "      <td>NaN</td>\n",
       "    </tr>\n",
       "  </tbody>\n",
       "</table>\n",
       "</div>"
      ],
      "text/plain": [
       "     index  event_id      game_session               timestamp  \\\n",
       "0  6007696  15ba1109  7291f93554c20c01 2019-08-14 18:06:47.927   \n",
       "\n",
       "                                          event_data installation_id  \\\n",
       "0  {\"version\":\"1\",\"round\":0,\"event_count\":1,\"game...        85697782   \n",
       "\n",
       "   event_count  event_code  game_time     title  type        world  \\\n",
       "0            1        2000          0  Air Show  Game  TREETOPCITY   \n",
       "\n",
       "         date  hour weekday_name lastPlay_time  time_since_lastPlay  \n",
       "0  2019-08-14    18    Wednesday           NaT                  NaN  "
      ]
     },
     "metadata": {},
     "output_type": "display_data"
    },
    {
     "name": "stdout",
     "output_type": "stream",
     "text": [
      "\n"
     ]
    },
    {
     "data": {
      "text/html": [
       "<div>\n",
       "<style scoped>\n",
       "    .dataframe tbody tr th:only-of-type {\n",
       "        vertical-align: middle;\n",
       "    }\n",
       "\n",
       "    .dataframe tbody tr th {\n",
       "        vertical-align: top;\n",
       "    }\n",
       "\n",
       "    .dataframe thead th {\n",
       "        text-align: right;\n",
       "    }\n",
       "</style>\n",
       "<table border=\"1\" class=\"dataframe\">\n",
       "  <thead>\n",
       "    <tr style=\"text-align: right;\">\n",
       "      <th></th>\n",
       "      <th>index</th>\n",
       "      <th>event_id</th>\n",
       "      <th>game_session</th>\n",
       "      <th>timestamp</th>\n",
       "      <th>event_data</th>\n",
       "      <th>installation_id</th>\n",
       "      <th>event_count</th>\n",
       "      <th>event_code</th>\n",
       "      <th>game_time</th>\n",
       "      <th>title</th>\n",
       "      <th>type</th>\n",
       "      <th>world</th>\n",
       "      <th>date</th>\n",
       "      <th>hour</th>\n",
       "      <th>weekday_name</th>\n",
       "      <th>lastPlay_time</th>\n",
       "      <th>time_since_lastPlay</th>\n",
       "    </tr>\n",
       "  </thead>\n",
       "  <tbody>\n",
       "    <tr>\n",
       "      <th>4727</th>\n",
       "      <td>6012423</td>\n",
       "      <td>90d848e0</td>\n",
       "      <td>b74ddc8c115f9857</td>\n",
       "      <td>2019-08-23 14:25:09.357</td>\n",
       "      <td>{\"version\":\"1.0\",\"event_count\":1,\"game_time\":0...</td>\n",
       "      <td>85697782</td>\n",
       "      <td>1</td>\n",
       "      <td>2000</td>\n",
       "      <td>0</td>\n",
       "      <td>Cauldron Filler (Assessment)</td>\n",
       "      <td>Assessment</td>\n",
       "      <td>MAGMAPEAK</td>\n",
       "      <td>2019-08-23</td>\n",
       "      <td>14</td>\n",
       "      <td>Friday</td>\n",
       "      <td>2019-08-23 14:24:47.871</td>\n",
       "      <td>21.486</td>\n",
       "    </tr>\n",
       "  </tbody>\n",
       "</table>\n",
       "</div>"
      ],
      "text/plain": [
       "        index  event_id      game_session               timestamp  \\\n",
       "4727  6012423  90d848e0  b74ddc8c115f9857 2019-08-23 14:25:09.357   \n",
       "\n",
       "                                             event_data installation_id  \\\n",
       "4727  {\"version\":\"1.0\",\"event_count\":1,\"game_time\":0...        85697782   \n",
       "\n",
       "      event_count  event_code  game_time                         title  \\\n",
       "4727            1        2000          0  Cauldron Filler (Assessment)   \n",
       "\n",
       "            type      world        date  hour weekday_name  \\\n",
       "4727  Assessment  MAGMAPEAK  2019-08-23    14       Friday   \n",
       "\n",
       "               lastPlay_time  time_since_lastPlay  \n",
       "4727 2019-08-23 14:24:47.871               21.486  "
      ]
     },
     "metadata": {},
     "output_type": "display_data"
    }
   ],
   "source": [
    "X = single_id.iloc[:cut_off_idx[0] + 1]\n",
    "display(X.head(1))\n",
    "print()\n",
    "display(X.tail(1))"
   ]
  },
  {
   "cell_type": "markdown",
   "metadata": {},
   "source": [
    "As you can see, our X is now in the same form for a single installation ID as the test set."
   ]
  },
  {
   "cell_type": "code",
   "execution_count": 21,
   "metadata": {},
   "outputs": [
    {
     "data": {
      "text/html": [
       "<div>\n",
       "<style scoped>\n",
       "    .dataframe tbody tr th:only-of-type {\n",
       "        vertical-align: middle;\n",
       "    }\n",
       "\n",
       "    .dataframe tbody tr th {\n",
       "        vertical-align: top;\n",
       "    }\n",
       "\n",
       "    .dataframe thead th {\n",
       "        text-align: right;\n",
       "    }\n",
       "</style>\n",
       "<table border=\"1\" class=\"dataframe\">\n",
       "  <thead>\n",
       "    <tr style=\"text-align: right;\">\n",
       "      <th></th>\n",
       "      <th>game_session</th>\n",
       "      <th>installation_id</th>\n",
       "      <th>title</th>\n",
       "      <th>num_correct</th>\n",
       "      <th>num_incorrect</th>\n",
       "      <th>accuracy</th>\n",
       "      <th>accuracy_group</th>\n",
       "    </tr>\n",
       "  </thead>\n",
       "  <tbody>\n",
       "    <tr>\n",
       "      <th>9529</th>\n",
       "      <td>b74ddc8c115f9857</td>\n",
       "      <td>85697782</td>\n",
       "      <td>Cauldron Filler (Assessment)</td>\n",
       "      <td>1</td>\n",
       "      <td>2</td>\n",
       "      <td>0.333333</td>\n",
       "      <td>1</td>\n",
       "    </tr>\n",
       "  </tbody>\n",
       "</table>\n",
       "</div>"
      ],
      "text/plain": [
       "          game_session installation_id                         title  \\\n",
       "9529  b74ddc8c115f9857        85697782  Cauldron Filler (Assessment)   \n",
       "\n",
       "      num_correct  num_incorrect  accuracy  accuracy_group  \n",
       "9529            1              2  0.333333               1  "
      ]
     },
     "execution_count": 21,
     "metadata": {},
     "output_type": "execute_result"
    }
   ],
   "source": [
    "labels_install = train_labels[train_labels['installation_id'] == '85697782']\n",
    "Y = labels_install[labels_install.game_session == single_id.iloc[cut_off_idx[0]].game_session]\n",
    "Y"
   ]
  },
  {
   "cell_type": "markdown",
   "metadata": {},
   "source": [
    "To find our Y we simply needed to go into the train labels and find the row representing the data that corresponds to the assessment were trying to predict for."
   ]
  },
  {
   "cell_type": "markdown",
   "metadata": {},
   "source": [
    "If your wondering how train labels calculates accuracy, we can look at the corresponding assessment attempts from the train data"
   ]
  },
  {
   "cell_type": "code",
   "execution_count": 28,
   "metadata": {},
   "outputs": [
    {
     "data": {
      "text/html": [
       "<div>\n",
       "<style scoped>\n",
       "    .dataframe tbody tr th:only-of-type {\n",
       "        vertical-align: middle;\n",
       "    }\n",
       "\n",
       "    .dataframe tbody tr th {\n",
       "        vertical-align: top;\n",
       "    }\n",
       "\n",
       "    .dataframe thead th {\n",
       "        text-align: right;\n",
       "    }\n",
       "</style>\n",
       "<table border=\"1\" class=\"dataframe\">\n",
       "  <thead>\n",
       "    <tr style=\"text-align: right;\">\n",
       "      <th></th>\n",
       "      <th>index</th>\n",
       "      <th>event_id</th>\n",
       "      <th>game_session</th>\n",
       "      <th>timestamp</th>\n",
       "      <th>event_data</th>\n",
       "      <th>installation_id</th>\n",
       "      <th>event_count</th>\n",
       "      <th>event_code</th>\n",
       "      <th>game_time</th>\n",
       "      <th>title</th>\n",
       "      <th>type</th>\n",
       "      <th>world</th>\n",
       "      <th>date</th>\n",
       "      <th>hour</th>\n",
       "      <th>weekday_name</th>\n",
       "      <th>lastPlay_time</th>\n",
       "      <th>time_since_lastPlay</th>\n",
       "    </tr>\n",
       "  </thead>\n",
       "  <tbody>\n",
       "    <tr>\n",
       "      <th>4743</th>\n",
       "      <td>6012439</td>\n",
       "      <td>392e14df</td>\n",
       "      <td>b74ddc8c115f9857</td>\n",
       "      <td>2019-08-23 14:25:26.542</td>\n",
       "      <td>{\"buckets\":[0,0,0],\"correct\":false,\"buckets_pl...</td>\n",
       "      <td>85697782</td>\n",
       "      <td>17</td>\n",
       "      <td>4100</td>\n",
       "      <td>17364</td>\n",
       "      <td>Cauldron Filler (Assessment)</td>\n",
       "      <td>Assessment</td>\n",
       "      <td>MAGMAPEAK</td>\n",
       "      <td>2019-08-23</td>\n",
       "      <td>14</td>\n",
       "      <td>Friday</td>\n",
       "      <td>2019-08-23 14:25:25.125</td>\n",
       "      <td>1.417</td>\n",
       "    </tr>\n",
       "    <tr>\n",
       "      <th>4753</th>\n",
       "      <td>6012449</td>\n",
       "      <td>392e14df</td>\n",
       "      <td>b74ddc8c115f9857</td>\n",
       "      <td>2019-08-23 14:25:33.954</td>\n",
       "      <td>{\"buckets\":[0,0,0],\"correct\":false,\"buckets_pl...</td>\n",
       "      <td>85697782</td>\n",
       "      <td>27</td>\n",
       "      <td>4100</td>\n",
       "      <td>24787</td>\n",
       "      <td>Cauldron Filler (Assessment)</td>\n",
       "      <td>Assessment</td>\n",
       "      <td>MAGMAPEAK</td>\n",
       "      <td>2019-08-23</td>\n",
       "      <td>14</td>\n",
       "      <td>Friday</td>\n",
       "      <td>2019-08-23 14:25:32.720</td>\n",
       "      <td>1.234</td>\n",
       "    </tr>\n",
       "    <tr>\n",
       "      <th>4762</th>\n",
       "      <td>6012458</td>\n",
       "      <td>392e14df</td>\n",
       "      <td>b74ddc8c115f9857</td>\n",
       "      <td>2019-08-23 14:25:40.359</td>\n",
       "      <td>{\"buckets\":[0,0,0],\"correct\":true,\"buckets_pla...</td>\n",
       "      <td>85697782</td>\n",
       "      <td>36</td>\n",
       "      <td>4100</td>\n",
       "      <td>31196</td>\n",
       "      <td>Cauldron Filler (Assessment)</td>\n",
       "      <td>Assessment</td>\n",
       "      <td>MAGMAPEAK</td>\n",
       "      <td>2019-08-23</td>\n",
       "      <td>14</td>\n",
       "      <td>Friday</td>\n",
       "      <td>2019-08-23 14:25:38.759</td>\n",
       "      <td>1.600</td>\n",
       "    </tr>\n",
       "  </tbody>\n",
       "</table>\n",
       "</div>"
      ],
      "text/plain": [
       "        index  event_id      game_session               timestamp  \\\n",
       "4743  6012439  392e14df  b74ddc8c115f9857 2019-08-23 14:25:26.542   \n",
       "4753  6012449  392e14df  b74ddc8c115f9857 2019-08-23 14:25:33.954   \n",
       "4762  6012458  392e14df  b74ddc8c115f9857 2019-08-23 14:25:40.359   \n",
       "\n",
       "                                             event_data installation_id  \\\n",
       "4743  {\"buckets\":[0,0,0],\"correct\":false,\"buckets_pl...        85697782   \n",
       "4753  {\"buckets\":[0,0,0],\"correct\":false,\"buckets_pl...        85697782   \n",
       "4762  {\"buckets\":[0,0,0],\"correct\":true,\"buckets_pla...        85697782   \n",
       "\n",
       "      event_count  event_code  game_time                         title  \\\n",
       "4743           17        4100      17364  Cauldron Filler (Assessment)   \n",
       "4753           27        4100      24787  Cauldron Filler (Assessment)   \n",
       "4762           36        4100      31196  Cauldron Filler (Assessment)   \n",
       "\n",
       "            type      world        date  hour weekday_name  \\\n",
       "4743  Assessment  MAGMAPEAK  2019-08-23    14       Friday   \n",
       "4753  Assessment  MAGMAPEAK  2019-08-23    14       Friday   \n",
       "4762  Assessment  MAGMAPEAK  2019-08-23    14       Friday   \n",
       "\n",
       "               lastPlay_time  time_since_lastPlay  \n",
       "4743 2019-08-23 14:25:25.125                1.417  \n",
       "4753 2019-08-23 14:25:32.720                1.234  \n",
       "4762 2019-08-23 14:25:38.759                1.600  "
      ]
     },
     "execution_count": 28,
     "metadata": {},
     "output_type": "execute_result"
    }
   ],
   "source": [
    "single_id[(single_id['type'] == 'Assessment') & (single_id.event_code.isin([4100, 4110])) & (single_id['game_session'] == 'b74ddc8c115f9857')]"
   ]
  },
  {
   "cell_type": "markdown",
   "metadata": {},
   "source": [
    "There are 3 attempts here. To check if an attempt is succesful or not, you look at the event Data and check if correct: -> True.\n",
    "Here the user fails the first 2 attempts at the Cauldron filler and succesfully completes the assessment on their third."
   ]
  },
  {
   "cell_type": "code",
   "execution_count": 32,
   "metadata": {},
   "outputs": [
    {
     "data": {
      "text/plain": [
       "index                           int64\n",
       "event_id                       object\n",
       "game_session                   object\n",
       "timestamp              datetime64[ns]\n",
       "event_data                     object\n",
       "installation_id                object\n",
       "event_count                     int64\n",
       "event_code                      int64\n",
       "game_time                       int64\n",
       "title                          object\n",
       "type                           object\n",
       "world                          object\n",
       "date                           object\n",
       "hour                            int64\n",
       "weekday_name                   object\n",
       "lastPlay_time          datetime64[ns]\n",
       "time_since_lastPlay           float64\n",
       "dtype: object"
      ]
     },
     "execution_count": 32,
     "metadata": {},
     "output_type": "execute_result"
    }
   ],
   "source": [
    "X.dtypes"
   ]
  },
  {
   "cell_type": "code",
   "execution_count": 52,
   "metadata": {},
   "outputs": [],
   "source": [
    "toAppend = pd.DataFrame({'installation_id' : [X.iloc[0].installation_id]})\n",
    "toAppend['event_count'] = X.event_count.mean()\n",
    "toAppend['event_code'] = X.event_code.mean()\n",
    "toAppend['hour'] = X.hour.mean()\n",
    "toAppend['time_since_lastPlay'] = X.time_since_lastPlay.mean()\n",
    "toAppend['game_time'] = X.game_time.mean()\n",
    "toAppend['accuracy_group'] = Y.iloc[0].accuracy_group"
   ]
  },
  {
   "cell_type": "code",
   "execution_count": 53,
   "metadata": {},
   "outputs": [
    {
     "data": {
      "text/html": [
       "<div>\n",
       "<style scoped>\n",
       "    .dataframe tbody tr th:only-of-type {\n",
       "        vertical-align: middle;\n",
       "    }\n",
       "\n",
       "    .dataframe tbody tr th {\n",
       "        vertical-align: top;\n",
       "    }\n",
       "\n",
       "    .dataframe thead th {\n",
       "        text-align: right;\n",
       "    }\n",
       "</style>\n",
       "<table border=\"1\" class=\"dataframe\">\n",
       "  <thead>\n",
       "    <tr style=\"text-align: right;\">\n",
       "      <th></th>\n",
       "      <th>installation_id</th>\n",
       "      <th>event_count</th>\n",
       "      <th>event_code</th>\n",
       "      <th>hour</th>\n",
       "      <th>time_since_lastPlay</th>\n",
       "      <th>game_time</th>\n",
       "      <th>accuracy_group</th>\n",
       "    </tr>\n",
       "  </thead>\n",
       "  <tbody>\n",
       "    <tr>\n",
       "      <th>0</th>\n",
       "      <td>85697782</td>\n",
       "      <td>97.560914</td>\n",
       "      <td>3487.811337</td>\n",
       "      <td>17.52813</td>\n",
       "      <td>161.688477</td>\n",
       "      <td>125851.571912</td>\n",
       "      <td>1</td>\n",
       "    </tr>\n",
       "  </tbody>\n",
       "</table>\n",
       "</div>"
      ],
      "text/plain": [
       "  installation_id  event_count   event_code      hour  time_since_lastPlay  \\\n",
       "0        85697782    97.560914  3487.811337  17.52813           161.688477   \n",
       "\n",
       "       game_time  accuracy_group  \n",
       "0  125851.571912               1  "
      ]
     },
     "execution_count": 53,
     "metadata": {},
     "output_type": "execute_result"
    }
   ],
   "source": [
    "baselinetrain"
   ]
  },
  {
   "cell_type": "code",
   "execution_count": 73,
   "metadata": {},
   "outputs": [
    {
     "data": {
      "text/plain": [
       "3614"
      ]
     },
     "execution_count": 73,
     "metadata": {},
     "output_type": "execute_result"
    }
   ],
   "source": [
    "installs = train_labels.installation_id.unique()\n",
    "len(installs)"
   ]
  },
  {
   "cell_type": "code",
   "execution_count": 159,
   "metadata": {},
   "outputs": [],
   "source": [
    "installs = train_labels.installation_id.unique()\n",
    "train_installs = train.installation_id.unique()\n",
    "\n",
    "baselineTrain = pd.DataFrame()\n",
    "installs = installs[:100]\n",
    "for install in installs:\n",
    "    if install in train_installs:\n",
    "        \n",
    "        single_id = train[train.installation_id == install]\n",
    "        single_id = single_id.sort_values('timestamp')\n",
    "        single_id['lastPlay_time'] = single_id['timestamp'].shift(periods=1)\n",
    "        single_id['time_since_lastPlay'] =( single_id['timestamp'] - single_id['lastPlay_time'])\n",
    "        single_id['time_since_lastPlay'] = single_id['time_since_lastPlay']/np.timedelta64(1, 's')\n",
    "\n",
    "        single_id.reset_index(inplace=True)\n",
    "        assessment_begins = single_id[(single_id['type'] == 'Assessment') & (single_id['event_code'] == 2000)]\n",
    "        assessments_with_attempts = assessment_begins[assessment_begins.game_session.isin(train_labels.game_session.unique())]\n",
    "        cut_off_idx = assessments_with_attempts.tail(1).index\n",
    "\n",
    "        X = single_id.iloc[:cut_off_idx[0] + 1]\n",
    "\n",
    "\n",
    "        labels_install = train_labels[train_labels['installation_id'] == install]\n",
    "        Y = labels_install[labels_install.game_session == single_id.iloc[cut_off_idx[0]].game_session]\n",
    "\n",
    "        toAppend = pd.DataFrame({'installation_id' : [X.iloc[0].installation_id]})\n",
    "        toAppend['event_count'] = X.event_count.mean()\n",
    "        toAppend['event_code'] = X.event_code.mean()\n",
    "        toAppend['hour'] = X.hour.mean()\n",
    "        toAppend['time_since_lastPlay'] = X.time_since_lastPlay.mean()\n",
    "        toAppend['game_time'] = X.game_time.mean()\n",
    "        toAppend['accuracy_group'] = Y.iloc[0].accuracy_group\n",
    "        toAppend['Magma_World_count'] = X[X.type == 'MAGMAPEAK'].size\n",
    "        toAppend['Crystal_World_count'] = X[X.type == 'CRYSTALCAVES'].size\n",
    "        toAppend['Treetop_World_count'] = X[X.type == 'TREETOPCITY'].size\n",
    "        toAppend['None_World_count'] = X[X.type == 'NONE'].size\n",
    "        toAppend['game_count'] = X[X.type == 'Game'].size\n",
    "        toAppend['clip_count'] = X[X.type == 'Clip'].size\n",
    "        toAppend['Activity_count'] = X[X.type == 'Activity'].size\n",
    "        toAppend['Assessment_count'] = X[X.type == 'Assessment'].size\n",
    "\n",
    "\n",
    "        \n",
    "        baselineTrain = baselineTrain.append(toAppend)"
   ]
  },
  {
   "cell_type": "code",
   "execution_count": 160,
   "metadata": {},
   "outputs": [],
   "source": [
    "acc_grouped_df = baselineTrain.groupby('accuracy_group')"
   ]
  },
  {
   "cell_type": "code",
   "execution_count": 161,
   "metadata": {},
   "outputs": [
    {
     "data": {
      "text/plain": [
       "<matplotlib.axes._subplots.AxesSubplot at 0x1df591a4e10>"
      ]
     },
     "execution_count": 161,
     "metadata": {},
     "output_type": "execute_result"
    },
    {
     "data": {
      "image/png": "[encoded data removed]",
      "text/plain": [
       "<Figure size 432x288 with 1 Axes>"
      ]
     },
     "metadata": {
      "needs_background": "light"
     },
     "output_type": "display_data"
    }
   ],
   "source": [
    "acc_grouped_df.game_time.mean().plot.bar()"
   ]
  },
  {
   "cell_type": "code",
   "execution_count": 162,
   "metadata": {},
   "outputs": [
    {
     "data": {
      "text/plain": [
       "<matplotlib.axes._subplots.AxesSubplot at 0x1df59215be0>"
      ]
     },
     "execution_count": 162,
     "metadata": {},
     "output_type": "execute_result"
    },
    {
     "data": {
      "image/png": "[encoded data removed]",
      "text/plain": [
       "<Figure size 432x288 with 1 Axes>"
      ]
     },
     "metadata": {
      "needs_background": "light"
     },
     "output_type": "display_data"
    }
   ],
   "source": [
    "acc_grouped_df.hour.mean().plot.bar()"
   ]
  },
  {
   "cell_type": "code",
   "execution_count": 163,
   "metadata": {},
   "outputs": [
    {
     "data": {
      "text/plain": [
       "<matplotlib.axes._subplots.AxesSubplot at 0x1df5925b940>"
      ]
     },
     "execution_count": 163,
     "metadata": {},
     "output_type": "execute_result"
    },
    {
     "data": {
      "image/png": "[encoded data removed]",
      "text/plain": [
       "<Figure size 432x288 with 1 Axes>"
      ]
     },
     "metadata": {
      "needs_background": "light"
     },
     "output_type": "display_data"
    }
   ],
   "source": [
    "acc_grouped_df.time_since_lastPlay.mean().plot.bar()"
   ]
  },
  {
   "cell_type": "markdown",
   "metadata": {},
   "source": [
    "This is Awesome to see! it means I potentially created a feature that will be useful in predicting accuracy group. Lets look into this a little more."
   ]
  },
  {
   "cell_type": "code",
   "execution_count": 164,
   "metadata": {},
   "outputs": [
    {
     "data": {
      "text/plain": [
       "<matplotlib.axes._subplots.AxesSubplot at 0x1df592e9828>"
      ]
     },
     "execution_count": 164,
     "metadata": {},
     "output_type": "execute_result"
    },
    {
     "data": {
      "image/png": "[encoded data removed]",
      "text/plain": [
       "<Figure size 432x288 with 1 Axes>"
      ]
     },
     "metadata": {
      "needs_background": "light"
     },
     "output_type": "display_data"
    }
   ],
   "source": [
    "acc_grouped_df.time_since_lastPlay.std().plot.bar()"
   ]
  },
  {
   "cell_type": "markdown",
   "metadata": {},
   "source": [
    "As you can see the std of the time since last play for accuracy group 3 is is very large. however its nearly none existent for group 2. this could mean a number very close to the mean of accuracy group 2 could be a good indicator."
   ]
  },
  {
   "cell_type": "code",
   "execution_count": 165,
   "metadata": {},
   "outputs": [
    {
     "data": {
      "text/plain": [
       "<matplotlib.axes._subplots.AxesSubplot at 0x1df59288d30>"
      ]
     },
     "execution_count": 165,
     "metadata": {},
     "output_type": "execute_result"
    },
    {
     "data": {
      "image/png": "[encoded data removed]",
      "text/plain": [
       "<Figure size 432x288 with 1 Axes>"
      ]
     },
     "metadata": {
      "needs_background": "light"
     },
     "output_type": "display_data"
    }
   ],
   "source": [
    "acc_grouped_df.event_count.mean().plot.bar()"
   ]
  },
  {
   "cell_type": "code",
   "execution_count": 173,
   "metadata": {},
   "outputs": [
    {
     "data": {
      "text/html": [
       "<div>\n",
       "<style scoped>\n",
       "    .dataframe tbody tr th:only-of-type {\n",
       "        vertical-align: middle;\n",
       "    }\n",
       "\n",
       "    .dataframe tbody tr th {\n",
       "        vertical-align: top;\n",
       "    }\n",
       "\n",
       "    .dataframe thead th {\n",
       "        text-align: right;\n",
       "    }\n",
       "</style>\n",
       "<table border=\"1\" class=\"dataframe\">\n",
       "  <thead>\n",
       "    <tr style=\"text-align: right;\">\n",
       "      <th></th>\n",
       "      <th>installation_id</th>\n",
       "      <th>event_count</th>\n",
       "      <th>event_code</th>\n",
       "      <th>hour</th>\n",
       "      <th>time_since_lastPlay</th>\n",
       "      <th>game_time</th>\n",
       "      <th>accuracy_group</th>\n",
       "      <th>Magma_World_count</th>\n",
       "      <th>Crystal_World_count</th>\n",
       "      <th>Treetop_World_count</th>\n",
       "      <th>None_World_count</th>\n",
       "      <th>game_count</th>\n",
       "      <th>clip_count</th>\n",
       "      <th>Activity_count</th>\n",
       "      <th>Assessment_count</th>\n",
       "    </tr>\n",
       "  </thead>\n",
       "  <tbody>\n",
       "    <tr>\n",
       "      <th>0</th>\n",
       "      <td>0006a69f</td>\n",
       "      <td>61.807886</td>\n",
       "      <td>3452.519521</td>\n",
       "      <td>9.470043</td>\n",
       "      <td>22.103709</td>\n",
       "      <td>89062.887901</td>\n",
       "      <td>3</td>\n",
       "      <td>0</td>\n",
       "      <td>0</td>\n",
       "      <td>0</td>\n",
       "      <td>0</td>\n",
       "      <td>18887</td>\n",
       "      <td>476</td>\n",
       "      <td>20706</td>\n",
       "      <td>3910</td>\n",
       "    </tr>\n",
       "    <tr>\n",
       "      <th>0</th>\n",
       "      <td>0006c192</td>\n",
       "      <td>86.678695</td>\n",
       "      <td>3598.561048</td>\n",
       "      <td>10.788433</td>\n",
       "      <td>769.993060</td>\n",
       "      <td>88522.025210</td>\n",
       "      <td>2</td>\n",
       "      <td>0</td>\n",
       "      <td>0</td>\n",
       "      <td>0</td>\n",
       "      <td>0</td>\n",
       "      <td>10931</td>\n",
       "      <td>510</td>\n",
       "      <td>20502</td>\n",
       "      <td>2448</td>\n",
       "    </tr>\n",
       "    <tr>\n",
       "      <th>0</th>\n",
       "      <td>00129856</td>\n",
       "      <td>1.750000</td>\n",
       "      <td>2258.750000</td>\n",
       "      <td>6.250000</td>\n",
       "      <td>822334.093000</td>\n",
       "      <td>20.500000</td>\n",
       "      <td>3</td>\n",
       "      <td>0</td>\n",
       "      <td>0</td>\n",
       "      <td>0</td>\n",
       "      <td>0</td>\n",
       "      <td>0</td>\n",
       "      <td>0</td>\n",
       "      <td>0</td>\n",
       "      <td>68</td>\n",
       "    </tr>\n",
       "    <tr>\n",
       "      <th>0</th>\n",
       "      <td>001d0ed0</td>\n",
       "      <td>25.530184</td>\n",
       "      <td>3475.123360</td>\n",
       "      <td>13.753281</td>\n",
       "      <td>5.658326</td>\n",
       "      <td>30571.643045</td>\n",
       "      <td>0</td>\n",
       "      <td>0</td>\n",
       "      <td>0</td>\n",
       "      <td>0</td>\n",
       "      <td>0</td>\n",
       "      <td>2992</td>\n",
       "      <td>323</td>\n",
       "      <td>204</td>\n",
       "      <td>2958</td>\n",
       "    </tr>\n",
       "    <tr>\n",
       "      <th>0</th>\n",
       "      <td>00225f67</td>\n",
       "      <td>64.758678</td>\n",
       "      <td>3588.732231</td>\n",
       "      <td>15.282645</td>\n",
       "      <td>1.627560</td>\n",
       "      <td>64426.095868</td>\n",
       "      <td>0</td>\n",
       "      <td>0</td>\n",
       "      <td>0</td>\n",
       "      <td>0</td>\n",
       "      <td>0</td>\n",
       "      <td>6035</td>\n",
       "      <td>170</td>\n",
       "      <td>3587</td>\n",
       "      <td>493</td>\n",
       "    </tr>\n",
       "    <tr>\n",
       "      <th>0</th>\n",
       "      <td>00279ac5</td>\n",
       "      <td>77.569372</td>\n",
       "      <td>3440.591763</td>\n",
       "      <td>14.433027</td>\n",
       "      <td>6.981858</td>\n",
       "      <td>138732.873251</td>\n",
       "      <td>0</td>\n",
       "      <td>0</td>\n",
       "      <td>0</td>\n",
       "      <td>0</td>\n",
       "      <td>0</td>\n",
       "      <td>22950</td>\n",
       "      <td>357</td>\n",
       "      <td>19193</td>\n",
       "      <td>17</td>\n",
       "    </tr>\n",
       "    <tr>\n",
       "      <th>0</th>\n",
       "      <td>002db7e3</td>\n",
       "      <td>79.212722</td>\n",
       "      <td>3478.184024</td>\n",
       "      <td>19.110947</td>\n",
       "      <td>126.975455</td>\n",
       "      <td>111541.170118</td>\n",
       "      <td>1</td>\n",
       "      <td>0</td>\n",
       "      <td>0</td>\n",
       "      <td>0</td>\n",
       "      <td>0</td>\n",
       "      <td>23834</td>\n",
       "      <td>663</td>\n",
       "      <td>26078</td>\n",
       "      <td>6885</td>\n",
       "    </tr>\n",
       "    <tr>\n",
       "      <th>0</th>\n",
       "      <td>003372b0</td>\n",
       "      <td>52.966228</td>\n",
       "      <td>3430.493417</td>\n",
       "      <td>13.023469</td>\n",
       "      <td>49.712051</td>\n",
       "      <td>64811.343446</td>\n",
       "      <td>3</td>\n",
       "      <td>0</td>\n",
       "      <td>0</td>\n",
       "      <td>0</td>\n",
       "      <td>0</td>\n",
       "      <td>16660</td>\n",
       "      <td>459</td>\n",
       "      <td>9146</td>\n",
       "      <td>3434</td>\n",
       "    </tr>\n",
       "    <tr>\n",
       "      <th>0</th>\n",
       "      <td>004c2091</td>\n",
       "      <td>20.747604</td>\n",
       "      <td>3270.370607</td>\n",
       "      <td>19.345048</td>\n",
       "      <td>438.645369</td>\n",
       "      <td>31181.638978</td>\n",
       "      <td>0</td>\n",
       "      <td>0</td>\n",
       "      <td>0</td>\n",
       "      <td>0</td>\n",
       "      <td>0</td>\n",
       "      <td>119</td>\n",
       "      <td>357</td>\n",
       "      <td>2499</td>\n",
       "      <td>2346</td>\n",
       "    </tr>\n",
       "    <tr>\n",
       "      <th>0</th>\n",
       "      <td>00634433</td>\n",
       "      <td>37.319797</td>\n",
       "      <td>3458.659898</td>\n",
       "      <td>20.000000</td>\n",
       "      <td>3.777730</td>\n",
       "      <td>57172.406091</td>\n",
       "      <td>0</td>\n",
       "      <td>0</td>\n",
       "      <td>0</td>\n",
       "      <td>0</td>\n",
       "      <td>0</td>\n",
       "      <td>1683</td>\n",
       "      <td>119</td>\n",
       "      <td>0</td>\n",
       "      <td>1547</td>\n",
       "    </tr>\n",
       "    <tr>\n",
       "      <th>0</th>\n",
       "      <td>00667b88</td>\n",
       "      <td>38.304850</td>\n",
       "      <td>3567.933025</td>\n",
       "      <td>12.889145</td>\n",
       "      <td>10211.638609</td>\n",
       "      <td>42319.958430</td>\n",
       "      <td>0</td>\n",
       "      <td>0</td>\n",
       "      <td>0</td>\n",
       "      <td>0</td>\n",
       "      <td>0</td>\n",
       "      <td>816</td>\n",
       "      <td>629</td>\n",
       "      <td>5015</td>\n",
       "      <td>901</td>\n",
       "    </tr>\n",
       "    <tr>\n",
       "      <th>0</th>\n",
       "      <td>00691033</td>\n",
       "      <td>35.965370</td>\n",
       "      <td>3549.331120</td>\n",
       "      <td>19.236243</td>\n",
       "      <td>1435.087335</td>\n",
       "      <td>40304.597249</td>\n",
       "      <td>0</td>\n",
       "      <td>0</td>\n",
       "      <td>0</td>\n",
       "      <td>0</td>\n",
       "      <td>0</td>\n",
       "      <td>16422</td>\n",
       "      <td>510</td>\n",
       "      <td>10302</td>\n",
       "      <td>8602</td>\n",
       "    </tr>\n",
       "    <tr>\n",
       "      <th>0</th>\n",
       "      <td>00a0dbeb</td>\n",
       "      <td>35.358333</td>\n",
       "      <td>3587.991667</td>\n",
       "      <td>17.400000</td>\n",
       "      <td>984.017337</td>\n",
       "      <td>156280.858333</td>\n",
       "      <td>0</td>\n",
       "      <td>0</td>\n",
       "      <td>0</td>\n",
       "      <td>0</td>\n",
       "      <td>0</td>\n",
       "      <td>1768</td>\n",
       "      <td>340</td>\n",
       "      <td>1156</td>\n",
       "      <td>2856</td>\n",
       "    </tr>\n",
       "    <tr>\n",
       "      <th>0</th>\n",
       "      <td>00a53963</td>\n",
       "      <td>1.000000</td>\n",
       "      <td>2000.000000</td>\n",
       "      <td>22.000000</td>\n",
       "      <td>26.936000</td>\n",
       "      <td>0.000000</td>\n",
       "      <td>3</td>\n",
       "      <td>0</td>\n",
       "      <td>0</td>\n",
       "      <td>0</td>\n",
       "      <td>0</td>\n",
       "      <td>0</td>\n",
       "      <td>17</td>\n",
       "      <td>0</td>\n",
       "      <td>17</td>\n",
       "    </tr>\n",
       "    <tr>\n",
       "      <th>0</th>\n",
       "      <td>00ad158e</td>\n",
       "      <td>131.478923</td>\n",
       "      <td>3522.314988</td>\n",
       "      <td>4.934426</td>\n",
       "      <td>416.779699</td>\n",
       "      <td>179936.028103</td>\n",
       "      <td>1</td>\n",
       "      <td>0</td>\n",
       "      <td>0</td>\n",
       "      <td>0</td>\n",
       "      <td>0</td>\n",
       "      <td>680</td>\n",
       "      <td>323</td>\n",
       "      <td>13498</td>\n",
       "      <td>17</td>\n",
       "    </tr>\n",
       "    <tr>\n",
       "      <th>0</th>\n",
       "      <td>00b9d8e6</td>\n",
       "      <td>22.546875</td>\n",
       "      <td>3101.203125</td>\n",
       "      <td>14.000000</td>\n",
       "      <td>8.403175</td>\n",
       "      <td>38790.125000</td>\n",
       "      <td>2</td>\n",
       "      <td>0</td>\n",
       "      <td>0</td>\n",
       "      <td>0</td>\n",
       "      <td>0</td>\n",
       "      <td>918</td>\n",
       "      <td>119</td>\n",
       "      <td>34</td>\n",
       "      <td>17</td>\n",
       "    </tr>\n",
       "    <tr>\n",
       "      <th>0</th>\n",
       "      <td>00cef781</td>\n",
       "      <td>72.777778</td>\n",
       "      <td>3310.716049</td>\n",
       "      <td>18.969136</td>\n",
       "      <td>36920.357975</td>\n",
       "      <td>119641.765432</td>\n",
       "      <td>3</td>\n",
       "      <td>0</td>\n",
       "      <td>0</td>\n",
       "      <td>0</td>\n",
       "      <td>0</td>\n",
       "      <td>2601</td>\n",
       "      <td>136</td>\n",
       "      <td>0</td>\n",
       "      <td>17</td>\n",
       "    </tr>\n",
       "    <tr>\n",
       "      <th>0</th>\n",
       "      <td>00e17272</td>\n",
       "      <td>46.155589</td>\n",
       "      <td>3479.288520</td>\n",
       "      <td>17.787764</td>\n",
       "      <td>49.864643</td>\n",
       "      <td>66965.708459</td>\n",
       "      <td>3</td>\n",
       "      <td>0</td>\n",
       "      <td>0</td>\n",
       "      <td>0</td>\n",
       "      <td>0</td>\n",
       "      <td>13175</td>\n",
       "      <td>272</td>\n",
       "      <td>4216</td>\n",
       "      <td>4845</td>\n",
       "    </tr>\n",
       "    <tr>\n",
       "      <th>0</th>\n",
       "      <td>00e536bf</td>\n",
       "      <td>46.888261</td>\n",
       "      <td>3505.617075</td>\n",
       "      <td>16.180791</td>\n",
       "      <td>3596.975044</td>\n",
       "      <td>54377.124922</td>\n",
       "      <td>3</td>\n",
       "      <td>0</td>\n",
       "      <td>0</td>\n",
       "      <td>0</td>\n",
       "      <td>0</td>\n",
       "      <td>12767</td>\n",
       "      <td>323</td>\n",
       "      <td>8364</td>\n",
       "      <td>5627</td>\n",
       "    </tr>\n",
       "    <tr>\n",
       "      <th>0</th>\n",
       "      <td>00fa8681</td>\n",
       "      <td>90.446871</td>\n",
       "      <td>3383.960053</td>\n",
       "      <td>16.738216</td>\n",
       "      <td>25.823188</td>\n",
       "      <td>117870.664181</td>\n",
       "      <td>1</td>\n",
       "      <td>0</td>\n",
       "      <td>0</td>\n",
       "      <td>0</td>\n",
       "      <td>0</td>\n",
       "      <td>14722</td>\n",
       "      <td>1360</td>\n",
       "      <td>46342</td>\n",
       "      <td>1411</td>\n",
       "    </tr>\n",
       "    <tr>\n",
       "      <th>0</th>\n",
       "      <td>00fc65b6</td>\n",
       "      <td>95.665100</td>\n",
       "      <td>3535.198150</td>\n",
       "      <td>15.510158</td>\n",
       "      <td>84.582740</td>\n",
       "      <td>118783.300334</td>\n",
       "      <td>3</td>\n",
       "      <td>0</td>\n",
       "      <td>0</td>\n",
       "      <td>0</td>\n",
       "      <td>0</td>\n",
       "      <td>70414</td>\n",
       "      <td>578</td>\n",
       "      <td>33660</td>\n",
       "      <td>7480</td>\n",
       "    </tr>\n",
       "    <tr>\n",
       "      <th>0</th>\n",
       "      <td>010bc1d5</td>\n",
       "      <td>57.956436</td>\n",
       "      <td>3637.875248</td>\n",
       "      <td>12.409901</td>\n",
       "      <td>635.673696</td>\n",
       "      <td>65898.095050</td>\n",
       "      <td>0</td>\n",
       "      <td>0</td>\n",
       "      <td>0</td>\n",
       "      <td>0</td>\n",
       "      <td>0</td>\n",
       "      <td>2839</td>\n",
       "      <td>85</td>\n",
       "      <td>4012</td>\n",
       "      <td>1649</td>\n",
       "    </tr>\n",
       "    <tr>\n",
       "      <th>0</th>\n",
       "      <td>01120f12</td>\n",
       "      <td>74.917004</td>\n",
       "      <td>3480.520243</td>\n",
       "      <td>15.038462</td>\n",
       "      <td>6794.563450</td>\n",
       "      <td>67146.441296</td>\n",
       "      <td>0</td>\n",
       "      <td>0</td>\n",
       "      <td>0</td>\n",
       "      <td>0</td>\n",
       "      <td>0</td>\n",
       "      <td>2635</td>\n",
       "      <td>17</td>\n",
       "      <td>5729</td>\n",
       "      <td>17</td>\n",
       "    </tr>\n",
       "    <tr>\n",
       "      <th>0</th>\n",
       "      <td>0153c957</td>\n",
       "      <td>81.843217</td>\n",
       "      <td>3524.346967</td>\n",
       "      <td>1.372870</td>\n",
       "      <td>882.970254</td>\n",
       "      <td>122304.434901</td>\n",
       "      <td>0</td>\n",
       "      <td>0</td>\n",
       "      <td>0</td>\n",
       "      <td>0</td>\n",
       "      <td>0</td>\n",
       "      <td>13056</td>\n",
       "      <td>238</td>\n",
       "      <td>11628</td>\n",
       "      <td>17</td>\n",
       "    </tr>\n",
       "    <tr>\n",
       "      <th>0</th>\n",
       "      <td>0155dd86</td>\n",
       "      <td>82.807199</td>\n",
       "      <td>3662.993590</td>\n",
       "      <td>8.393491</td>\n",
       "      <td>2512.969913</td>\n",
       "      <td>108559.154339</td>\n",
       "      <td>0</td>\n",
       "      <td>0</td>\n",
       "      <td>0</td>\n",
       "      <td>0</td>\n",
       "      <td>0</td>\n",
       "      <td>19720</td>\n",
       "      <td>289</td>\n",
       "      <td>11101</td>\n",
       "      <td>3366</td>\n",
       "    </tr>\n",
       "    <tr>\n",
       "      <th>0</th>\n",
       "      <td>015776b4</td>\n",
       "      <td>119.607102</td>\n",
       "      <td>3476.308523</td>\n",
       "      <td>18.430966</td>\n",
       "      <td>73.350999</td>\n",
       "      <td>167904.530682</td>\n",
       "      <td>0</td>\n",
       "      <td>0</td>\n",
       "      <td>0</td>\n",
       "      <td>0</td>\n",
       "      <td>0</td>\n",
       "      <td>46699</td>\n",
       "      <td>476</td>\n",
       "      <td>10506</td>\n",
       "      <td>2159</td>\n",
       "    </tr>\n",
       "    <tr>\n",
       "      <th>0</th>\n",
       "      <td>01582211</td>\n",
       "      <td>60.300000</td>\n",
       "      <td>3570.339908</td>\n",
       "      <td>18.032569</td>\n",
       "      <td>1651.117498</td>\n",
       "      <td>81810.701835</td>\n",
       "      <td>3</td>\n",
       "      <td>0</td>\n",
       "      <td>0</td>\n",
       "      <td>0</td>\n",
       "      <td>0</td>\n",
       "      <td>23443</td>\n",
       "      <td>510</td>\n",
       "      <td>10132</td>\n",
       "      <td>2975</td>\n",
       "    </tr>\n",
       "    <tr>\n",
       "      <th>0</th>\n",
       "      <td>0160e7c5</td>\n",
       "      <td>80.694352</td>\n",
       "      <td>3552.478405</td>\n",
       "      <td>20.973422</td>\n",
       "      <td>6138.257930</td>\n",
       "      <td>86670.196013</td>\n",
       "      <td>1</td>\n",
       "      <td>0</td>\n",
       "      <td>0</td>\n",
       "      <td>0</td>\n",
       "      <td>0</td>\n",
       "      <td>5066</td>\n",
       "      <td>34</td>\n",
       "      <td>0</td>\n",
       "      <td>17</td>\n",
       "    </tr>\n",
       "    <tr>\n",
       "      <th>0</th>\n",
       "      <td>01825124</td>\n",
       "      <td>75.685833</td>\n",
       "      <td>3517.719167</td>\n",
       "      <td>6.765833</td>\n",
       "      <td>853.040516</td>\n",
       "      <td>105933.349167</td>\n",
       "      <td>1</td>\n",
       "      <td>0</td>\n",
       "      <td>0</td>\n",
       "      <td>0</td>\n",
       "      <td>0</td>\n",
       "      <td>8806</td>\n",
       "      <td>187</td>\n",
       "      <td>8483</td>\n",
       "      <td>2924</td>\n",
       "    </tr>\n",
       "    <tr>\n",
       "      <th>0</th>\n",
       "      <td>01bdd720</td>\n",
       "      <td>104.445904</td>\n",
       "      <td>3509.197311</td>\n",
       "      <td>6.345841</td>\n",
       "      <td>19.277221</td>\n",
       "      <td>125437.639462</td>\n",
       "      <td>3</td>\n",
       "      <td>0</td>\n",
       "      <td>0</td>\n",
       "      <td>0</td>\n",
       "      <td>0</td>\n",
       "      <td>31926</td>\n",
       "      <td>510</td>\n",
       "      <td>17986</td>\n",
       "      <td>3944</td>\n",
       "    </tr>\n",
       "    <tr>\n",
       "      <th>...</th>\n",
       "      <td>...</td>\n",
       "      <td>...</td>\n",
       "      <td>...</td>\n",
       "      <td>...</td>\n",
       "      <td>...</td>\n",
       "      <td>...</td>\n",
       "      <td>...</td>\n",
       "      <td>...</td>\n",
       "      <td>...</td>\n",
       "      <td>...</td>\n",
       "      <td>...</td>\n",
       "      <td>...</td>\n",
       "      <td>...</td>\n",
       "      <td>...</td>\n",
       "      <td>...</td>\n",
       "    </tr>\n",
       "    <tr>\n",
       "      <th>0</th>\n",
       "      <td>046234c2</td>\n",
       "      <td>60.301158</td>\n",
       "      <td>3622.357143</td>\n",
       "      <td>18.000000</td>\n",
       "      <td>1.442391</td>\n",
       "      <td>40432.430502</td>\n",
       "      <td>1</td>\n",
       "      <td>0</td>\n",
       "      <td>0</td>\n",
       "      <td>0</td>\n",
       "      <td>0</td>\n",
       "      <td>3060</td>\n",
       "      <td>204</td>\n",
       "      <td>2108</td>\n",
       "      <td>3434</td>\n",
       "    </tr>\n",
       "    <tr>\n",
       "      <th>0</th>\n",
       "      <td>0478b042</td>\n",
       "      <td>77.436975</td>\n",
       "      <td>3541.750140</td>\n",
       "      <td>17.580392</td>\n",
       "      <td>2.906800</td>\n",
       "      <td>80006.242017</td>\n",
       "      <td>3</td>\n",
       "      <td>0</td>\n",
       "      <td>0</td>\n",
       "      <td>0</td>\n",
       "      <td>0</td>\n",
       "      <td>4607</td>\n",
       "      <td>323</td>\n",
       "      <td>18224</td>\n",
       "      <td>7191</td>\n",
       "    </tr>\n",
       "    <tr>\n",
       "      <th>0</th>\n",
       "      <td>04963bef</td>\n",
       "      <td>37.474088</td>\n",
       "      <td>3554.798464</td>\n",
       "      <td>18.456814</td>\n",
       "      <td>9.054462</td>\n",
       "      <td>47036.130518</td>\n",
       "      <td>2</td>\n",
       "      <td>0</td>\n",
       "      <td>0</td>\n",
       "      <td>0</td>\n",
       "      <td>0</td>\n",
       "      <td>3230</td>\n",
       "      <td>170</td>\n",
       "      <td>3740</td>\n",
       "      <td>1717</td>\n",
       "    </tr>\n",
       "    <tr>\n",
       "      <th>0</th>\n",
       "      <td>04a57775</td>\n",
       "      <td>63.179934</td>\n",
       "      <td>3506.834163</td>\n",
       "      <td>13.044776</td>\n",
       "      <td>1.318810</td>\n",
       "      <td>51241.296849</td>\n",
       "      <td>3</td>\n",
       "      <td>0</td>\n",
       "      <td>0</td>\n",
       "      <td>0</td>\n",
       "      <td>0</td>\n",
       "      <td>11526</td>\n",
       "      <td>119</td>\n",
       "      <td>6086</td>\n",
       "      <td>2771</td>\n",
       "    </tr>\n",
       "    <tr>\n",
       "      <th>0</th>\n",
       "      <td>04a5927d</td>\n",
       "      <td>87.951205</td>\n",
       "      <td>3559.973682</td>\n",
       "      <td>11.722025</td>\n",
       "      <td>31.410870</td>\n",
       "      <td>115573.612813</td>\n",
       "      <td>3</td>\n",
       "      <td>0</td>\n",
       "      <td>0</td>\n",
       "      <td>0</td>\n",
       "      <td>0</td>\n",
       "      <td>12580</td>\n",
       "      <td>1972</td>\n",
       "      <td>151300</td>\n",
       "      <td>11135</td>\n",
       "    </tr>\n",
       "    <tr>\n",
       "      <th>0</th>\n",
       "      <td>04c612fd</td>\n",
       "      <td>61.624908</td>\n",
       "      <td>3417.164164</td>\n",
       "      <td>8.479203</td>\n",
       "      <td>777.650500</td>\n",
       "      <td>103840.221019</td>\n",
       "      <td>3</td>\n",
       "      <td>0</td>\n",
       "      <td>0</td>\n",
       "      <td>0</td>\n",
       "      <td>0</td>\n",
       "      <td>36771</td>\n",
       "      <td>493</td>\n",
       "      <td>22032</td>\n",
       "      <td>9775</td>\n",
       "    </tr>\n",
       "    <tr>\n",
       "      <th>0</th>\n",
       "      <td>04d77ef2</td>\n",
       "      <td>28.283388</td>\n",
       "      <td>3437.566775</td>\n",
       "      <td>0.762215</td>\n",
       "      <td>3.475650</td>\n",
       "      <td>27910.778502</td>\n",
       "      <td>0</td>\n",
       "      <td>0</td>\n",
       "      <td>0</td>\n",
       "      <td>0</td>\n",
       "      <td>0</td>\n",
       "      <td>1683</td>\n",
       "      <td>136</td>\n",
       "      <td>2550</td>\n",
       "      <td>850</td>\n",
       "    </tr>\n",
       "    <tr>\n",
       "      <th>0</th>\n",
       "      <td>04de2aae</td>\n",
       "      <td>56.695157</td>\n",
       "      <td>3328.840456</td>\n",
       "      <td>13.000000</td>\n",
       "      <td>2.770894</td>\n",
       "      <td>66876.943020</td>\n",
       "      <td>2</td>\n",
       "      <td>0</td>\n",
       "      <td>0</td>\n",
       "      <td>0</td>\n",
       "      <td>0</td>\n",
       "      <td>2601</td>\n",
       "      <td>85</td>\n",
       "      <td>1921</td>\n",
       "      <td>1360</td>\n",
       "    </tr>\n",
       "    <tr>\n",
       "      <th>0</th>\n",
       "      <td>04e2712b</td>\n",
       "      <td>166.215635</td>\n",
       "      <td>3542.204235</td>\n",
       "      <td>21.043485</td>\n",
       "      <td>43.188232</td>\n",
       "      <td>276590.433388</td>\n",
       "      <td>2</td>\n",
       "      <td>0</td>\n",
       "      <td>0</td>\n",
       "      <td>0</td>\n",
       "      <td>0</td>\n",
       "      <td>59789</td>\n",
       "      <td>935</td>\n",
       "      <td>43639</td>\n",
       "      <td>17</td>\n",
       "    </tr>\n",
       "    <tr>\n",
       "      <th>0</th>\n",
       "      <td>04f2cf8f</td>\n",
       "      <td>48.135443</td>\n",
       "      <td>3462.384810</td>\n",
       "      <td>17.131646</td>\n",
       "      <td>2.069596</td>\n",
       "      <td>55546.082278</td>\n",
       "      <td>1</td>\n",
       "      <td>0</td>\n",
       "      <td>0</td>\n",
       "      <td>0</td>\n",
       "      <td>0</td>\n",
       "      <td>4335</td>\n",
       "      <td>136</td>\n",
       "      <td>8364</td>\n",
       "      <td>595</td>\n",
       "    </tr>\n",
       "    <tr>\n",
       "      <th>0</th>\n",
       "      <td>04f8b246</td>\n",
       "      <td>45.287081</td>\n",
       "      <td>3390.985646</td>\n",
       "      <td>18.000000</td>\n",
       "      <td>1.615952</td>\n",
       "      <td>46221.229665</td>\n",
       "      <td>3</td>\n",
       "      <td>0</td>\n",
       "      <td>0</td>\n",
       "      <td>0</td>\n",
       "      <td>0</td>\n",
       "      <td>3196</td>\n",
       "      <td>34</td>\n",
       "      <td>0</td>\n",
       "      <td>323</td>\n",
       "    </tr>\n",
       "    <tr>\n",
       "      <th>0</th>\n",
       "      <td>04fa906f</td>\n",
       "      <td>81.039519</td>\n",
       "      <td>3555.893471</td>\n",
       "      <td>21.000000</td>\n",
       "      <td>1.966948</td>\n",
       "      <td>126634.152921</td>\n",
       "      <td>3</td>\n",
       "      <td>0</td>\n",
       "      <td>0</td>\n",
       "      <td>0</td>\n",
       "      <td>0</td>\n",
       "      <td>1445</td>\n",
       "      <td>0</td>\n",
       "      <td>8432</td>\n",
       "      <td>17</td>\n",
       "    </tr>\n",
       "    <tr>\n",
       "      <th>0</th>\n",
       "      <td>04fbee62</td>\n",
       "      <td>47.644231</td>\n",
       "      <td>3358.461538</td>\n",
       "      <td>15.000000</td>\n",
       "      <td>6.324612</td>\n",
       "      <td>123867.471154</td>\n",
       "      <td>0</td>\n",
       "      <td>0</td>\n",
       "      <td>0</td>\n",
       "      <td>0</td>\n",
       "      <td>0</td>\n",
       "      <td>0</td>\n",
       "      <td>68</td>\n",
       "      <td>1683</td>\n",
       "      <td>17</td>\n",
       "    </tr>\n",
       "    <tr>\n",
       "      <th>0</th>\n",
       "      <td>05047409</td>\n",
       "      <td>282.562444</td>\n",
       "      <td>3564.287842</td>\n",
       "      <td>1.330725</td>\n",
       "      <td>201.005216</td>\n",
       "      <td>329345.331327</td>\n",
       "      <td>3</td>\n",
       "      <td>0</td>\n",
       "      <td>0</td>\n",
       "      <td>0</td>\n",
       "      <td>0</td>\n",
       "      <td>57477</td>\n",
       "      <td>697</td>\n",
       "      <td>46716</td>\n",
       "      <td>8092</td>\n",
       "    </tr>\n",
       "    <tr>\n",
       "      <th>0</th>\n",
       "      <td>050f6d04</td>\n",
       "      <td>51.190716</td>\n",
       "      <td>3497.193744</td>\n",
       "      <td>5.286579</td>\n",
       "      <td>34.061586</td>\n",
       "      <td>77252.977800</td>\n",
       "      <td>2</td>\n",
       "      <td>0</td>\n",
       "      <td>0</td>\n",
       "      <td>0</td>\n",
       "      <td>0</td>\n",
       "      <td>11118</td>\n",
       "      <td>187</td>\n",
       "      <td>4998</td>\n",
       "      <td>544</td>\n",
       "    </tr>\n",
       "    <tr>\n",
       "      <th>0</th>\n",
       "      <td>05118f81</td>\n",
       "      <td>81.693099</td>\n",
       "      <td>3549.411462</td>\n",
       "      <td>15.598363</td>\n",
       "      <td>590.924479</td>\n",
       "      <td>90005.608187</td>\n",
       "      <td>3</td>\n",
       "      <td>0</td>\n",
       "      <td>0</td>\n",
       "      <td>0</td>\n",
       "      <td>0</td>\n",
       "      <td>28594</td>\n",
       "      <td>1139</td>\n",
       "      <td>26044</td>\n",
       "      <td>16898</td>\n",
       "    </tr>\n",
       "    <tr>\n",
       "      <th>0</th>\n",
       "      <td>051794c4</td>\n",
       "      <td>80.749246</td>\n",
       "      <td>3477.619910</td>\n",
       "      <td>14.563097</td>\n",
       "      <td>314.957989</td>\n",
       "      <td>125210.695827</td>\n",
       "      <td>0</td>\n",
       "      <td>0</td>\n",
       "      <td>0</td>\n",
       "      <td>0</td>\n",
       "      <td>0</td>\n",
       "      <td>72913</td>\n",
       "      <td>1394</td>\n",
       "      <td>46070</td>\n",
       "      <td>14875</td>\n",
       "    </tr>\n",
       "    <tr>\n",
       "      <th>0</th>\n",
       "      <td>051bc5a5</td>\n",
       "      <td>41.027778</td>\n",
       "      <td>3526.767094</td>\n",
       "      <td>12.000000</td>\n",
       "      <td>2.592163</td>\n",
       "      <td>72337.320513</td>\n",
       "      <td>0</td>\n",
       "      <td>0</td>\n",
       "      <td>0</td>\n",
       "      <td>0</td>\n",
       "      <td>0</td>\n",
       "      <td>2907</td>\n",
       "      <td>68</td>\n",
       "      <td>2142</td>\n",
       "      <td>2839</td>\n",
       "    </tr>\n",
       "    <tr>\n",
       "      <th>0</th>\n",
       "      <td>05239f3f</td>\n",
       "      <td>67.273132</td>\n",
       "      <td>3633.097865</td>\n",
       "      <td>18.837189</td>\n",
       "      <td>1627.944211</td>\n",
       "      <td>74977.347865</td>\n",
       "      <td>3</td>\n",
       "      <td>0</td>\n",
       "      <td>0</td>\n",
       "      <td>0</td>\n",
       "      <td>0</td>\n",
       "      <td>7684</td>\n",
       "      <td>238</td>\n",
       "      <td>7905</td>\n",
       "      <td>3281</td>\n",
       "    </tr>\n",
       "    <tr>\n",
       "      <th>0</th>\n",
       "      <td>05309abe</td>\n",
       "      <td>36.168067</td>\n",
       "      <td>3470.341176</td>\n",
       "      <td>15.954622</td>\n",
       "      <td>145.108178</td>\n",
       "      <td>44986.040336</td>\n",
       "      <td>3</td>\n",
       "      <td>0</td>\n",
       "      <td>0</td>\n",
       "      <td>0</td>\n",
       "      <td>0</td>\n",
       "      <td>3621</td>\n",
       "      <td>187</td>\n",
       "      <td>2635</td>\n",
       "      <td>3672</td>\n",
       "    </tr>\n",
       "    <tr>\n",
       "      <th>0</th>\n",
       "      <td>053e6353</td>\n",
       "      <td>60.846154</td>\n",
       "      <td>3565.527244</td>\n",
       "      <td>22.000000</td>\n",
       "      <td>2.499756</td>\n",
       "      <td>91176.123397</td>\n",
       "      <td>3</td>\n",
       "      <td>0</td>\n",
       "      <td>0</td>\n",
       "      <td>0</td>\n",
       "      <td>0</td>\n",
       "      <td>6307</td>\n",
       "      <td>102</td>\n",
       "      <td>3298</td>\n",
       "      <td>901</td>\n",
       "    </tr>\n",
       "    <tr>\n",
       "      <th>0</th>\n",
       "      <td>0583693e</td>\n",
       "      <td>61.170000</td>\n",
       "      <td>3487.945349</td>\n",
       "      <td>13.538605</td>\n",
       "      <td>621.581777</td>\n",
       "      <td>67616.702326</td>\n",
       "      <td>0</td>\n",
       "      <td>0</td>\n",
       "      <td>0</td>\n",
       "      <td>0</td>\n",
       "      <td>0</td>\n",
       "      <td>31603</td>\n",
       "      <td>1190</td>\n",
       "      <td>30107</td>\n",
       "      <td>10200</td>\n",
       "    </tr>\n",
       "    <tr>\n",
       "      <th>0</th>\n",
       "      <td>05a3ae61</td>\n",
       "      <td>46.706924</td>\n",
       "      <td>3475.579710</td>\n",
       "      <td>15.874396</td>\n",
       "      <td>556.992153</td>\n",
       "      <td>59682.764090</td>\n",
       "      <td>0</td>\n",
       "      <td>0</td>\n",
       "      <td>0</td>\n",
       "      <td>0</td>\n",
       "      <td>0</td>\n",
       "      <td>11475</td>\n",
       "      <td>221</td>\n",
       "      <td>7055</td>\n",
       "      <td>2363</td>\n",
       "    </tr>\n",
       "    <tr>\n",
       "      <th>0</th>\n",
       "      <td>05aaa5c9</td>\n",
       "      <td>46.328012</td>\n",
       "      <td>3470.924528</td>\n",
       "      <td>19.957910</td>\n",
       "      <td>2917.417625</td>\n",
       "      <td>64564.246734</td>\n",
       "      <td>3</td>\n",
       "      <td>0</td>\n",
       "      <td>0</td>\n",
       "      <td>0</td>\n",
       "      <td>0</td>\n",
       "      <td>8262</td>\n",
       "      <td>493</td>\n",
       "      <td>1122</td>\n",
       "      <td>1836</td>\n",
       "    </tr>\n",
       "    <tr>\n",
       "      <th>0</th>\n",
       "      <td>05b198a5</td>\n",
       "      <td>67.083491</td>\n",
       "      <td>3529.908918</td>\n",
       "      <td>19.000000</td>\n",
       "      <td>4.276262</td>\n",
       "      <td>96001.935484</td>\n",
       "      <td>3</td>\n",
       "      <td>0</td>\n",
       "      <td>0</td>\n",
       "      <td>0</td>\n",
       "      <td>0</td>\n",
       "      <td>1190</td>\n",
       "      <td>136</td>\n",
       "      <td>7616</td>\n",
       "      <td>17</td>\n",
       "    </tr>\n",
       "    <tr>\n",
       "      <th>0</th>\n",
       "      <td>05bc97c3</td>\n",
       "      <td>48.865766</td>\n",
       "      <td>3424.924324</td>\n",
       "      <td>15.319820</td>\n",
       "      <td>2.442231</td>\n",
       "      <td>47696.851351</td>\n",
       "      <td>2</td>\n",
       "      <td>0</td>\n",
       "      <td>0</td>\n",
       "      <td>0</td>\n",
       "      <td>0</td>\n",
       "      <td>10659</td>\n",
       "      <td>306</td>\n",
       "      <td>5984</td>\n",
       "      <td>1921</td>\n",
       "    </tr>\n",
       "    <tr>\n",
       "      <th>0</th>\n",
       "      <td>0607efb8</td>\n",
       "      <td>120.452370</td>\n",
       "      <td>3442.680432</td>\n",
       "      <td>13.694979</td>\n",
       "      <td>1.736554</td>\n",
       "      <td>114656.637729</td>\n",
       "      <td>3</td>\n",
       "      <td>0</td>\n",
       "      <td>0</td>\n",
       "      <td>0</td>\n",
       "      <td>0</td>\n",
       "      <td>21913</td>\n",
       "      <td>221</td>\n",
       "      <td>10047</td>\n",
       "      <td>4046</td>\n",
       "    </tr>\n",
       "    <tr>\n",
       "      <th>0</th>\n",
       "      <td>0633cad0</td>\n",
       "      <td>33.423786</td>\n",
       "      <td>3518.189280</td>\n",
       "      <td>18.623116</td>\n",
       "      <td>1707.008401</td>\n",
       "      <td>32934.691792</td>\n",
       "      <td>2</td>\n",
       "      <td>0</td>\n",
       "      <td>0</td>\n",
       "      <td>0</td>\n",
       "      <td>0</td>\n",
       "      <td>663</td>\n",
       "      <td>306</td>\n",
       "      <td>2737</td>\n",
       "      <td>6443</td>\n",
       "    </tr>\n",
       "    <tr>\n",
       "      <th>0</th>\n",
       "      <td>063405ff</td>\n",
       "      <td>42.129518</td>\n",
       "      <td>3470.135542</td>\n",
       "      <td>21.096386</td>\n",
       "      <td>1.936772</td>\n",
       "      <td>54048.274096</td>\n",
       "      <td>3</td>\n",
       "      <td>0</td>\n",
       "      <td>0</td>\n",
       "      <td>0</td>\n",
       "      <td>0</td>\n",
       "      <td>7429</td>\n",
       "      <td>119</td>\n",
       "      <td>2992</td>\n",
       "      <td>748</td>\n",
       "    </tr>\n",
       "    <tr>\n",
       "      <th>0</th>\n",
       "      <td>06362232</td>\n",
       "      <td>99.345888</td>\n",
       "      <td>3561.720984</td>\n",
       "      <td>20.158724</td>\n",
       "      <td>327.049243</td>\n",
       "      <td>108905.255957</td>\n",
       "      <td>0</td>\n",
       "      <td>0</td>\n",
       "      <td>0</td>\n",
       "      <td>0</td>\n",
       "      <td>0</td>\n",
       "      <td>33626</td>\n",
       "      <td>204</td>\n",
       "      <td>9469</td>\n",
       "      <td>935</td>\n",
       "    </tr>\n",
       "  </tbody>\n",
       "</table>\n",
       "<p>100 rows × 15 columns</p>\n",
       "</div>"
      ],
      "text/plain": [
       "   installation_id  event_count   event_code       hour  time_since_lastPlay  \\\n",
       "0         0006a69f    61.807886  3452.519521   9.470043            22.103709   \n",
       "0         0006c192    86.678695  3598.561048  10.788433           769.993060   \n",
       "0         00129856     1.750000  2258.750000   6.250000        822334.093000   \n",
       "0         001d0ed0    25.530184  3475.123360  13.753281             5.658326   \n",
       "0         00225f67    64.758678  3588.732231  15.282645             1.627560   \n",
       "0         00279ac5    77.569372  3440.591763  14.433027             6.981858   \n",
       "0         002db7e3    79.212722  3478.184024  19.110947           126.975455   \n",
       "0         003372b0    52.966228  3430.493417  13.023469            49.712051   \n",
       "0         004c2091    20.747604  3270.370607  19.345048           438.645369   \n",
       "0         00634433    37.319797  3458.659898  20.000000             3.777730   \n",
       "0         00667b88    38.304850  3567.933025  12.889145         10211.638609   \n",
       "0         00691033    35.965370  3549.331120  19.236243          1435.087335   \n",
       "0         00a0dbeb    35.358333  3587.991667  17.400000           984.017337   \n",
       "0         00a53963     1.000000  2000.000000  22.000000            26.936000   \n",
       "0         00ad158e   131.478923  3522.314988   4.934426           416.779699   \n",
       "0         00b9d8e6    22.546875  3101.203125  14.000000             8.403175   \n",
       "0         00cef781    72.777778  3310.716049  18.969136         36920.357975   \n",
       "0         00e17272    46.155589  3479.288520  17.787764            49.864643   \n",
       "0         00e536bf    46.888261  3505.617075  16.180791          3596.975044   \n",
       "0         00fa8681    90.446871  3383.960053  16.738216            25.823188   \n",
       "0         00fc65b6    95.665100  3535.198150  15.510158            84.582740   \n",
       "0         010bc1d5    57.956436  3637.875248  12.409901           635.673696   \n",
       "0         01120f12    74.917004  3480.520243  15.038462          6794.563450   \n",
       "0         0153c957    81.843217  3524.346967   1.372870           882.970254   \n",
       "0         0155dd86    82.807199  3662.993590   8.393491          2512.969913   \n",
       "0         015776b4   119.607102  3476.308523  18.430966            73.350999   \n",
       "0         01582211    60.300000  3570.339908  18.032569          1651.117498   \n",
       "0         0160e7c5    80.694352  3552.478405  20.973422          6138.257930   \n",
       "0         01825124    75.685833  3517.719167   6.765833           853.040516   \n",
       "0         01bdd720   104.445904  3509.197311   6.345841            19.277221   \n",
       "..             ...          ...          ...        ...                  ...   \n",
       "0         046234c2    60.301158  3622.357143  18.000000             1.442391   \n",
       "0         0478b042    77.436975  3541.750140  17.580392             2.906800   \n",
       "0         04963bef    37.474088  3554.798464  18.456814             9.054462   \n",
       "0         04a57775    63.179934  3506.834163  13.044776             1.318810   \n",
       "0         04a5927d    87.951205  3559.973682  11.722025            31.410870   \n",
       "0         04c612fd    61.624908  3417.164164   8.479203           777.650500   \n",
       "0         04d77ef2    28.283388  3437.566775   0.762215             3.475650   \n",
       "0         04de2aae    56.695157  3328.840456  13.000000             2.770894   \n",
       "0         04e2712b   166.215635  3542.204235  21.043485            43.188232   \n",
       "0         04f2cf8f    48.135443  3462.384810  17.131646             2.069596   \n",
       "0         04f8b246    45.287081  3390.985646  18.000000             1.615952   \n",
       "0         04fa906f    81.039519  3555.893471  21.000000             1.966948   \n",
       "0         04fbee62    47.644231  3358.461538  15.000000             6.324612   \n",
       "0         05047409   282.562444  3564.287842   1.330725           201.005216   \n",
       "0         050f6d04    51.190716  3497.193744   5.286579            34.061586   \n",
       "0         05118f81    81.693099  3549.411462  15.598363           590.924479   \n",
       "0         051794c4    80.749246  3477.619910  14.563097           314.957989   \n",
       "0         051bc5a5    41.027778  3526.767094  12.000000             2.592163   \n",
       "0         05239f3f    67.273132  3633.097865  18.837189          1627.944211   \n",
       "0         05309abe    36.168067  3470.341176  15.954622           145.108178   \n",
       "0         053e6353    60.846154  3565.527244  22.000000             2.499756   \n",
       "0         0583693e    61.170000  3487.945349  13.538605           621.581777   \n",
       "0         05a3ae61    46.706924  3475.579710  15.874396           556.992153   \n",
       "0         05aaa5c9    46.328012  3470.924528  19.957910          2917.417625   \n",
       "0         05b198a5    67.083491  3529.908918  19.000000             4.276262   \n",
       "0         05bc97c3    48.865766  3424.924324  15.319820             2.442231   \n",
       "0         0607efb8   120.452370  3442.680432  13.694979             1.736554   \n",
       "0         0633cad0    33.423786  3518.189280  18.623116          1707.008401   \n",
       "0         063405ff    42.129518  3470.135542  21.096386             1.936772   \n",
       "0         06362232    99.345888  3561.720984  20.158724           327.049243   \n",
       "\n",
       "        game_time  accuracy_group  Magma_World_count  Crystal_World_count  \\\n",
       "0    89062.887901               3                  0                    0   \n",
       "0    88522.025210               2                  0                    0   \n",
       "0       20.500000               3                  0                    0   \n",
       "0    30571.643045               0                  0                    0   \n",
       "0    64426.095868               0                  0                    0   \n",
       "0   138732.873251               0                  0                    0   \n",
       "0   111541.170118               1                  0                    0   \n",
       "0    64811.343446               3                  0                    0   \n",
       "0    31181.638978               0                  0                    0   \n",
       "0    57172.406091               0                  0                    0   \n",
       "0    42319.958430               0                  0                    0   \n",
       "0    40304.597249               0                  0                    0   \n",
       "0   156280.858333               0                  0                    0   \n",
       "0        0.000000               3                  0                    0   \n",
       "0   179936.028103               1                  0                    0   \n",
       "0    38790.125000               2                  0                    0   \n",
       "0   119641.765432               3                  0                    0   \n",
       "0    66965.708459               3                  0                    0   \n",
       "0    54377.124922               3                  0                    0   \n",
       "0   117870.664181               1                  0                    0   \n",
       "0   118783.300334               3                  0                    0   \n",
       "0    65898.095050               0                  0                    0   \n",
       "0    67146.441296               0                  0                    0   \n",
       "0   122304.434901               0                  0                    0   \n",
       "0   108559.154339               0                  0                    0   \n",
       "0   167904.530682               0                  0                    0   \n",
       "0    81810.701835               3                  0                    0   \n",
       "0    86670.196013               1                  0                    0   \n",
       "0   105933.349167               1                  0                    0   \n",
       "0   125437.639462               3                  0                    0   \n",
       "..            ...             ...                ...                  ...   \n",
       "0    40432.430502               1                  0                    0   \n",
       "0    80006.242017               3                  0                    0   \n",
       "0    47036.130518               2                  0                    0   \n",
       "0    51241.296849               3                  0                    0   \n",
       "0   115573.612813               3                  0                    0   \n",
       "0   103840.221019               3                  0                    0   \n",
       "0    27910.778502               0                  0                    0   \n",
       "0    66876.943020               2                  0                    0   \n",
       "0   276590.433388               2                  0                    0   \n",
       "0    55546.082278               1                  0                    0   \n",
       "0    46221.229665               3                  0                    0   \n",
       "0   126634.152921               3                  0                    0   \n",
       "0   123867.471154               0                  0                    0   \n",
       "0   329345.331327               3                  0                    0   \n",
       "0    77252.977800               2                  0                    0   \n",
       "0    90005.608187               3                  0                    0   \n",
       "0   125210.695827               0                  0                    0   \n",
       "0    72337.320513               0                  0                    0   \n",
       "0    74977.347865               3                  0                    0   \n",
       "0    44986.040336               3                  0                    0   \n",
       "0    91176.123397               3                  0                    0   \n",
       "0    67616.702326               0                  0                    0   \n",
       "0    59682.764090               0                  0                    0   \n",
       "0    64564.246734               3                  0                    0   \n",
       "0    96001.935484               3                  0                    0   \n",
       "0    47696.851351               2                  0                    0   \n",
       "0   114656.637729               3                  0                    0   \n",
       "0    32934.691792               2                  0                    0   \n",
       "0    54048.274096               3                  0                    0   \n",
       "0   108905.255957               0                  0                    0   \n",
       "\n",
       "    Treetop_World_count  None_World_count  game_count  clip_count  \\\n",
       "0                     0                 0       18887         476   \n",
       "0                     0                 0       10931         510   \n",
       "0                     0                 0           0           0   \n",
       "0                     0                 0        2992         323   \n",
       "0                     0                 0        6035         170   \n",
       "0                     0                 0       22950         357   \n",
       "0                     0                 0       23834         663   \n",
       "0                     0                 0       16660         459   \n",
       "0                     0                 0         119         357   \n",
       "0                     0                 0        1683         119   \n",
       "0                     0                 0         816         629   \n",
       "0                     0                 0       16422         510   \n",
       "0                     0                 0        1768         340   \n",
       "0                     0                 0           0          17   \n",
       "0                     0                 0         680         323   \n",
       "0                     0                 0         918         119   \n",
       "0                     0                 0        2601         136   \n",
       "0                     0                 0       13175         272   \n",
       "0                     0                 0       12767         323   \n",
       "0                     0                 0       14722        1360   \n",
       "0                     0                 0       70414         578   \n",
       "0                     0                 0        2839          85   \n",
       "0                     0                 0        2635          17   \n",
       "0                     0                 0       13056         238   \n",
       "0                     0                 0       19720         289   \n",
       "0                     0                 0       46699         476   \n",
       "0                     0                 0       23443         510   \n",
       "0                     0                 0        5066          34   \n",
       "0                     0                 0        8806         187   \n",
       "0                     0                 0       31926         510   \n",
       "..                  ...               ...         ...         ...   \n",
       "0                     0                 0        3060         204   \n",
       "0                     0                 0        4607         323   \n",
       "0                     0                 0        3230         170   \n",
       "0                     0                 0       11526         119   \n",
       "0                     0                 0       12580        1972   \n",
       "0                     0                 0       36771         493   \n",
       "0                     0                 0        1683         136   \n",
       "0                     0                 0        2601          85   \n",
       "0                     0                 0       59789         935   \n",
       "0                     0                 0        4335         136   \n",
       "0                     0                 0        3196          34   \n",
       "0                     0                 0        1445           0   \n",
       "0                     0                 0           0          68   \n",
       "0                     0                 0       57477         697   \n",
       "0                     0                 0       11118         187   \n",
       "0                     0                 0       28594        1139   \n",
       "0                     0                 0       72913        1394   \n",
       "0                     0                 0        2907          68   \n",
       "0                     0                 0        7684         238   \n",
       "0                     0                 0        3621         187   \n",
       "0                     0                 0        6307         102   \n",
       "0                     0                 0       31603        1190   \n",
       "0                     0                 0       11475         221   \n",
       "0                     0                 0        8262         493   \n",
       "0                     0                 0        1190         136   \n",
       "0                     0                 0       10659         306   \n",
       "0                     0                 0       21913         221   \n",
       "0                     0                 0         663         306   \n",
       "0                     0                 0        7429         119   \n",
       "0                     0                 0       33626         204   \n",
       "\n",
       "    Activity_count  Assessment_count  \n",
       "0            20706              3910  \n",
       "0            20502              2448  \n",
       "0                0                68  \n",
       "0              204              2958  \n",
       "0             3587               493  \n",
       "0            19193                17  \n",
       "0            26078              6885  \n",
       "0             9146              3434  \n",
       "0             2499              2346  \n",
       "0                0              1547  \n",
       "0             5015               901  \n",
       "0            10302              8602  \n",
       "0             1156              2856  \n",
       "0                0                17  \n",
       "0            13498                17  \n",
       "0               34                17  \n",
       "0                0                17  \n",
       "0             4216              4845  \n",
       "0             8364              5627  \n",
       "0            46342              1411  \n",
       "0            33660              7480  \n",
       "0             4012              1649  \n",
       "0             5729                17  \n",
       "0            11628                17  \n",
       "0            11101              3366  \n",
       "0            10506              2159  \n",
       "0            10132              2975  \n",
       "0                0                17  \n",
       "0             8483              2924  \n",
       "0            17986              3944  \n",
       "..             ...               ...  \n",
       "0             2108              3434  \n",
       "0            18224              7191  \n",
       "0             3740              1717  \n",
       "0             6086              2771  \n",
       "0           151300             11135  \n",
       "0            22032              9775  \n",
       "0             2550               850  \n",
       "0             1921              1360  \n",
       "0            43639                17  \n",
       "0             8364               595  \n",
       "0                0               323  \n",
       "0             8432                17  \n",
       "0             1683                17  \n",
       "0            46716              8092  \n",
       "0             4998               544  \n",
       "0            26044             16898  \n",
       "0            46070             14875  \n",
       "0             2142              2839  \n",
       "0             7905              3281  \n",
       "0             2635              3672  \n",
       "0             3298               901  \n",
       "0            30107             10200  \n",
       "0             7055              2363  \n",
       "0             1122              1836  \n",
       "0             7616                17  \n",
       "0             5984              1921  \n",
       "0            10047              4046  \n",
       "0             2737              6443  \n",
       "0             2992               748  \n",
       "0             9469               935  \n",
       "\n",
       "[100 rows x 15 columns]"
      ]
     },
     "execution_count": 173,
     "metadata": {},
     "output_type": "execute_result"
    },
    {
     "data": {
      "image/png": "[encoded data removed]",
      "text/plain": [
       "<Figure size 432x288 with 1 Axes>"
      ]
     },
     "metadata": {
      "needs_background": "light"
     },
     "output_type": "display_data"
    }
   ],
   "source": [
    "acc_grouped_df.clip_count.mean().plot.bar()\n",
    "baselineTrain"
   ]
  },
  {
   "cell_type": "code",
   "execution_count": 198,
   "metadata": {},
   "outputs": [],
   "source": [
    "X_train = baselineTrain.drop(columns = 'accuracy_group')"
   ]
  },
  {
   "cell_type": "code",
   "execution_count": 199,
   "metadata": {},
   "outputs": [],
   "source": [
    "y_train = baselineTrain.accuracy_group"
   ]
  },
  {
   "cell_type": "code",
   "execution_count": 200,
   "metadata": {},
   "outputs": [
    {
     "data": {
      "text/plain": [
       "0.22596010717475445"
      ]
     },
     "execution_count": 200,
     "metadata": {},
     "output_type": "execute_result"
    }
   ],
   "source": [
    "from sklearn.preprocessing import StandardScaler\n",
    "from sklearn.feature_extraction import DictVectorizer\n",
    "from sklearn.neighbors import KNeighborsClassifier\n",
    "from sklearn.metrics import accuracy_score\n",
    "from sklearn.metrics import cohen_kappa_score\n",
    "\n",
    "\n",
    "\n",
    "X_train_dict = X_train.to_dict(orient='records')\n",
    "\n",
    "vec = DictVectorizer(sparse=False)\n",
    "vec.fit(X_train_dict)\n",
    "\n",
    "X_train = vec.transform(X_train_dict)\n",
    "\n",
    "# Standardization\n",
    "scaler = StandardScaler()\n",
    "scaler.fit(X_train)\n",
    "X_train_sc = scaler.transform(X_train)\n",
    "\n",
    "# K-Nearest Neighbors Model\n",
    "model = KNeighborsClassifier(n_neighbors=6)\n",
    "model.fit(X_train_sc, y_train)\n",
    "y_train_pred = model.predict(X_train_sc)\n",
    "\n",
    "\n",
    "cohen_kappa_score(y_train, y_train_pred)"
   ]
  },
  {
   "cell_type": "code",
   "execution_count": 186,
   "metadata": {},
   "outputs": [
    {
     "data": {
      "text/plain": [
       "<matplotlib.axes._subplots.AxesSubplot at 0x1df5a8acf60>"
      ]
     },
     "execution_count": 186,
     "metadata": {},
     "output_type": "execute_result"
    },
    {
     "data": {
      "image/png": "[encoded data removed]",
      "text/plain": [
       "<Figure size 432x288 with 1 Axes>"
      ]
     },
     "metadata": {
      "needs_background": "light"
     },
     "output_type": "display_data"
    }
   ],
   "source": [
    "baselineTrain.accuracy_group.value_counts().plot.bar()"
   ]
  },
  {
   "cell_type": "code",
   "execution_count": 191,
   "metadata": {},
   "outputs": [
    {
     "data": {
      "text/plain": [
       "0.42"
      ]
     },
     "execution_count": 191,
     "metadata": {},
     "output_type": "execute_result"
    }
   ],
   "source": [
    "baselineTrain[baselineTrain.accuracy_group == 3].size / baselineTrain.size"
   ]
  },
  {
   "cell_type": "code",
   "execution_count": 205,
   "metadata": {},
   "outputs": [
    {
     "data": {
      "text/plain": [
       "100"
      ]
     },
     "execution_count": 205,
     "metadata": {},
     "output_type": "execute_result"
    }
   ],
   "source": [
    "y_train.size"
   ]
  },
  {
   "cell_type": "code",
   "execution_count": 206,
   "metadata": {},
   "outputs": [],
   "source": [
    "listofzeros = [0] * 100\n",
    "guessgroup3 = pd.Series(3, listofzeros)"
   ]
  },
  {
   "cell_type": "code",
   "execution_count": 209,
   "metadata": {},
   "outputs": [
    {
     "data": {
      "text/plain": [
       "0.22596010717475445"
      ]
     },
     "execution_count": 209,
     "metadata": {},
     "output_type": "execute_result"
    }
   ],
   "source": [
    "cohen_kappa_score(y_train, y_train_pred)"
   ]
  },
  {
   "cell_type": "code",
   "execution_count": null,
   "metadata": {},
   "outputs": [],
   "source": []
  }
 ],
 "metadata": {
  "kernelspec": {
   "display_name": "Python 3",
   "language": "python",
   "name": "python3"
  },
  "language_info": {
   "codemirror_mode": {
    "name": "ipython",
    "version": 3
   },
   "file_extension": ".py",
   "mimetype": "text/x-python",
   "name": "python",
   "nbconvert_exporter": "python",
   "pygments_lexer": "ipython3",
   "version": "3.7.1"
  }
 },
 "nbformat": 4,
 "nbformat_minor": 2
}
