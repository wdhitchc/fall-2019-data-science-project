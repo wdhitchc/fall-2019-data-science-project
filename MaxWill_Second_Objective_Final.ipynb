{
 "cells": [
  {
   "cell_type": "code",
   "execution_count": 2,
   "metadata": {},
   "outputs": [],
   "source": [
    "import pandas as pd\n",
    "import numpy as np\n",
    "import seaborn as sns\n",
    "import matplotlib.pyplot as plt\n",
    "%matplotlib inline\n"
   ]
  },
  {
   "cell_type": "markdown",
   "metadata": {},
   "source": [
    "# Second Objective\n",
    "\n",
    "### Time data based qualitative observations\n",
    "\n",
    "In this section our goal is look at aggregated time data from the baseline processing to see if any correlations (clusters) can be found. We will do this using KMeans. This could give us some insights into meta information about users."
   ]
  },
  {
   "cell_type": "code",
   "execution_count": 3,
   "metadata": {},
   "outputs": [],
   "source": [
    "train = pd.read_csv('../DSB2019/data-science-bowl-2019/train.csv')"
   ]
  },
  {
   "cell_type": "code",
   "execution_count": 4,
   "metadata": {},
   "outputs": [],
   "source": [
    "hasAssessmentIds = train[train[\"type\"] == \"Assessment\"].loc[:,'installation_id'].drop_duplicates()\n",
    "useful_train = pd.merge(train, hasAssessmentIds, on=\"installation_id\", how=\"inner\")\n",
    "del train\n",
    "train_sample = useful_train.sample(10000)"
   ]
  },
  {
   "cell_type": "markdown",
   "metadata": {},
   "source": [
    "Let's define a function to get time features with."
   ]
  },
  {
   "cell_type": "code",
   "execution_count": 5,
   "metadata": {},
   "outputs": [],
   "source": [
    "def extract_time_features(df):\n",
    "    df['timestamp'] = pd.to_datetime(df['timestamp'])\n",
    "    df['date'] = df['timestamp'].dt.date\n",
    "    df['month'] = df['timestamp'].dt.month\n",
    "    df['hour'] = df['timestamp'].dt.hour\n",
    "    df['year'] = df['timestamp'].dt.year\n",
    "    df['dayofweek'] = df['timestamp'].dt.dayofweek\n",
    "    df['weekofyear'] = df['timestamp'].dt.weekofyear\n",
    "    df['dayofyear'] = df['timestamp'].dt.dayofyear\n",
    "    df['quarter'] = df['timestamp'].dt.quarter\n",
    "    \n",
    "    return df"
   ]
  },
  {
   "cell_type": "code",
   "execution_count": 6,
   "metadata": {},
   "outputs": [
    {
     "data": {
      "text/html": [
       "<div>\n",
       "<style scoped>\n",
       "    .dataframe tbody tr th:only-of-type {\n",
       "        vertical-align: middle;\n",
       "    }\n",
       "\n",
       "    .dataframe tbody tr th {\n",
       "        vertical-align: top;\n",
       "    }\n",
       "\n",
       "    .dataframe thead th {\n",
       "        text-align: right;\n",
       "    }\n",
       "</style>\n",
       "<table border=\"1\" class=\"dataframe\">\n",
       "  <thead>\n",
       "    <tr style=\"text-align: right;\">\n",
       "      <th></th>\n",
       "      <th>event_id</th>\n",
       "      <th>game_session</th>\n",
       "      <th>timestamp</th>\n",
       "      <th>event_data</th>\n",
       "      <th>installation_id</th>\n",
       "      <th>event_count</th>\n",
       "      <th>event_code</th>\n",
       "      <th>game_time</th>\n",
       "      <th>title</th>\n",
       "      <th>type</th>\n",
       "      <th>world</th>\n",
       "      <th>date</th>\n",
       "      <th>month</th>\n",
       "      <th>hour</th>\n",
       "      <th>year</th>\n",
       "      <th>dayofweek</th>\n",
       "      <th>weekofyear</th>\n",
       "      <th>dayofyear</th>\n",
       "      <th>quarter</th>\n",
       "    </tr>\n",
       "  </thead>\n",
       "  <tbody>\n",
       "    <tr>\n",
       "      <td>5966892</td>\n",
       "      <td>6bf9e3e1</td>\n",
       "      <td>0d6c034852d557d5</td>\n",
       "      <td>2019-08-25 21:57:15.619000+00:00</td>\n",
       "      <td>{\"source\":\"scale\",\"has_toy\":false,\"bowl_id\":1,...</td>\n",
       "      <td>b69d5756</td>\n",
       "      <td>17</td>\n",
       "      <td>4040</td>\n",
       "      <td>36327</td>\n",
       "      <td>Happy Camel</td>\n",
       "      <td>Game</td>\n",
       "      <td>CRYSTALCAVES</td>\n",
       "      <td>2019-08-25</td>\n",
       "      <td>8</td>\n",
       "      <td>21</td>\n",
       "      <td>2019</td>\n",
       "      <td>6</td>\n",
       "      <td>34</td>\n",
       "      <td>237</td>\n",
       "      <td>3</td>\n",
       "    </tr>\n",
       "    <tr>\n",
       "      <td>379367</td>\n",
       "      <td>e080a381</td>\n",
       "      <td>f1ba7b2718d2831b</td>\n",
       "      <td>2019-08-06 18:56:01.398000+00:00</td>\n",
       "      <td>{\"scale_weights\":1,\"target_weight\":3,\"table_we...</td>\n",
       "      <td>0b6d68e5</td>\n",
       "      <td>131</td>\n",
       "      <td>4090</td>\n",
       "      <td>232777</td>\n",
       "      <td>Pan Balance</td>\n",
       "      <td>Game</td>\n",
       "      <td>CRYSTALCAVES</td>\n",
       "      <td>2019-08-06</td>\n",
       "      <td>8</td>\n",
       "      <td>18</td>\n",
       "      <td>2019</td>\n",
       "      <td>1</td>\n",
       "      <td>32</td>\n",
       "      <td>218</td>\n",
       "      <td>3</td>\n",
       "    </tr>\n",
       "    <tr>\n",
       "      <td>4392771</td>\n",
       "      <td>49ed92e9</td>\n",
       "      <td>43f726a91b643cae</td>\n",
       "      <td>2019-09-13 10:33:21.243000+00:00</td>\n",
       "      <td>{\"description\":\"Looks like there's no water le...</td>\n",
       "      <td>85099eda</td>\n",
       "      <td>55</td>\n",
       "      <td>3010</td>\n",
       "      <td>91230</td>\n",
       "      <td>Watering Hole (Activity)</td>\n",
       "      <td>Activity</td>\n",
       "      <td>MAGMAPEAK</td>\n",
       "      <td>2019-09-13</td>\n",
       "      <td>9</td>\n",
       "      <td>10</td>\n",
       "      <td>2019</td>\n",
       "      <td>4</td>\n",
       "      <td>37</td>\n",
       "      <td>256</td>\n",
       "      <td>3</td>\n",
       "    </tr>\n",
       "    <tr>\n",
       "      <td>1413637</td>\n",
       "      <td>0a08139c</td>\n",
       "      <td>cb7dfdc98a8f7eef</td>\n",
       "      <td>2019-08-02 17:49:28.039000+00:00</td>\n",
       "      <td>{\"description\":\"Four!\",\"identifier\":\"sid_4\",\"m...</td>\n",
       "      <td>2cb958cf</td>\n",
       "      <td>45</td>\n",
       "      <td>3010</td>\n",
       "      <td>23776</td>\n",
       "      <td>Bug Measurer (Activity)</td>\n",
       "      <td>Activity</td>\n",
       "      <td>TREETOPCITY</td>\n",
       "      <td>2019-08-02</td>\n",
       "      <td>8</td>\n",
       "      <td>17</td>\n",
       "      <td>2019</td>\n",
       "      <td>4</td>\n",
       "      <td>31</td>\n",
       "      <td>214</td>\n",
       "      <td>3</td>\n",
       "    </tr>\n",
       "    <tr>\n",
       "      <td>1031219</td>\n",
       "      <td>1325467d</td>\n",
       "      <td>af1bccb7f75295e2</td>\n",
       "      <td>2019-08-10 00:45:55.066000+00:00</td>\n",
       "      <td>{\"coordinates\":{\"x\":812,\"y\":231,\"stage_width\":...</td>\n",
       "      <td>1f71eb61</td>\n",
       "      <td>76</td>\n",
       "      <td>4070</td>\n",
       "      <td>50354</td>\n",
       "      <td>Sandcastle Builder (Activity)</td>\n",
       "      <td>Activity</td>\n",
       "      <td>MAGMAPEAK</td>\n",
       "      <td>2019-08-10</td>\n",
       "      <td>8</td>\n",
       "      <td>0</td>\n",
       "      <td>2019</td>\n",
       "      <td>5</td>\n",
       "      <td>32</td>\n",
       "      <td>222</td>\n",
       "      <td>3</td>\n",
       "    </tr>\n",
       "  </tbody>\n",
       "</table>\n",
       "</div>"
      ],
      "text/plain": [
       "         event_id      game_session                        timestamp  \\\n",
       "5966892  6bf9e3e1  0d6c034852d557d5 2019-08-25 21:57:15.619000+00:00   \n",
       "379367   e080a381  f1ba7b2718d2831b 2019-08-06 18:56:01.398000+00:00   \n",
       "4392771  49ed92e9  43f726a91b643cae 2019-09-13 10:33:21.243000+00:00   \n",
       "1413637  0a08139c  cb7dfdc98a8f7eef 2019-08-02 17:49:28.039000+00:00   \n",
       "1031219  1325467d  af1bccb7f75295e2 2019-08-10 00:45:55.066000+00:00   \n",
       "\n",
       "                                                event_data installation_id  \\\n",
       "5966892  {\"source\":\"scale\",\"has_toy\":false,\"bowl_id\":1,...        b69d5756   \n",
       "379367   {\"scale_weights\":1,\"target_weight\":3,\"table_we...        0b6d68e5   \n",
       "4392771  {\"description\":\"Looks like there's no water le...        85099eda   \n",
       "1413637  {\"description\":\"Four!\",\"identifier\":\"sid_4\",\"m...        2cb958cf   \n",
       "1031219  {\"coordinates\":{\"x\":812,\"y\":231,\"stage_width\":...        1f71eb61   \n",
       "\n",
       "         event_count  event_code  game_time                          title  \\\n",
       "5966892           17        4040      36327                    Happy Camel   \n",
       "379367           131        4090     232777                    Pan Balance   \n",
       "4392771           55        3010      91230       Watering Hole (Activity)   \n",
       "1413637           45        3010      23776        Bug Measurer (Activity)   \n",
       "1031219           76        4070      50354  Sandcastle Builder (Activity)   \n",
       "\n",
       "             type         world        date  month  hour  year  dayofweek  \\\n",
       "5966892      Game  CRYSTALCAVES  2019-08-25      8    21  2019          6   \n",
       "379367       Game  CRYSTALCAVES  2019-08-06      8    18  2019          1   \n",
       "4392771  Activity     MAGMAPEAK  2019-09-13      9    10  2019          4   \n",
       "1413637  Activity   TREETOPCITY  2019-08-02      8    17  2019          4   \n",
       "1031219  Activity     MAGMAPEAK  2019-08-10      8     0  2019          5   \n",
       "\n",
       "         weekofyear  dayofyear  quarter  \n",
       "5966892          34        237        3  \n",
       "379367           32        218        3  \n",
       "4392771          37        256        3  \n",
       "1413637          31        214        3  \n",
       "1031219          32        222        3  "
      ]
     },
     "execution_count": 6,
     "metadata": {},
     "output_type": "execute_result"
    }
   ],
   "source": [
    "timeTrain = extract_time_features(train_sample)\n",
    "timeTrain.head()"
   ]
  },
  {
   "cell_type": "code",
   "execution_count": 7,
   "metadata": {},
   "outputs": [
    {
     "data": {
      "text/plain": [
       "(10000, 19)"
      ]
     },
     "execution_count": 7,
     "metadata": {},
     "output_type": "execute_result"
    }
   ],
   "source": [
    "timeTrain.shape"
   ]
  },
  {
   "cell_type": "code",
   "execution_count": 6,
   "metadata": {},
   "outputs": [],
   "source": [
    "# plotting based on https://www.kaggle.com/gpreda/2019-data-science-bowl-eda\n",
    "def plot_count(feature, title, df, size=1):\n",
    "    f, ax = plt.subplots(1,1, figsize=(4*size,4))\n",
    "    total = float(len(df))\n",
    "    g = sns.countplot(df[feature], order = df[feature].value_counts().index[:20], palette='Set3')\n",
    "    g.set_title(\"Distribution of {}\".format(title))\n",
    "    if(size > 2):\n",
    "        plt.xticks(rotation=90, size=8)\n",
    "    for p in ax.patches:\n",
    "        height = p.get_height()\n",
    "        ax.text(p.get_x()+p.get_width()/2.,\n",
    "                height + 3,\n",
    "                '{:1.2f}%'.format(100*height/total),\n",
    "                ha=\"center\") \n",
    "    plt.show()  "
   ]
  },
  {
   "cell_type": "markdown",
   "metadata": {},
   "source": [
    "Next, we'll plot the distributions of the observations in time."
   ]
  },
  {
   "cell_type": "code",
   "execution_count": 26,
   "metadata": {},
   "outputs": [
    {
     "data": {
      "image/png": "[encoded data removed]",
      "text/plain": [
       "<Figure size 288x288 with 1 Axes>"
      ]
     },
     "metadata": {
      "needs_background": "light"
     },
     "output_type": "display_data"
    }
   ],
   "source": [
    "plot_count('month', 'month', timeTrain)"
   ]
  },
  {
   "cell_type": "code",
   "execution_count": 27,
   "metadata": {},
   "outputs": [
    {
     "data": {
      "image/png": "[encoded data removed]",
      "text/plain": [
       "<Figure size 288x288 with 1 Axes>"
      ]
     },
     "metadata": {
      "needs_background": "light"
     },
     "output_type": "display_data"
    }
   ],
   "source": [
    "plot_count('month', 'month', timeTrain)"
   ]
  },
  {
   "cell_type": "code",
   "execution_count": 28,
   "metadata": {},
   "outputs": [
    {
     "data": {
      "image/png": "[encoded data removed]",
      "text/plain": [
       "<Figure size 1152x288 with 1 Axes>"
      ]
     },
     "metadata": {
      "needs_background": "light"
     },
     "output_type": "display_data"
    }
   ],
   "source": [
    "plot_count('hour', 'hour', timeTrain, 4)"
   ]
  },
  {
   "cell_type": "code",
   "execution_count": 29,
   "metadata": {},
   "outputs": [
    {
     "data": {
      "image/png": "[encoded data removed]",
      "text/plain": [
       "<Figure size 576x288 with 1 Axes>"
      ]
     },
     "metadata": {
      "needs_background": "light"
     },
     "output_type": "display_data"
    }
   ],
   "source": [
    "plot_count('dayofweek', 'dayofweek', timeTrain, 2)"
   ]
  },
  {
   "cell_type": "code",
   "execution_count": 30,
   "metadata": {},
   "outputs": [
    {
     "data": {
      "image/png": "[encoded data removed]",
      "text/plain": [
       "<Figure size 576x288 with 1 Axes>"
      ]
     },
     "metadata": {
      "needs_background": "light"
     },
     "output_type": "display_data"
    }
   ],
   "source": [
    "plot_count('weekofyear', 'weekofyear', timeTrain, 2)"
   ]
  },
  {
   "cell_type": "markdown",
   "metadata": {},
   "source": [
    "Finally, let's explore some clustering based on the simple features."
   ]
  },
  {
   "cell_type": "code",
   "execution_count": 8,
   "metadata": {},
   "outputs": [],
   "source": [
    "# average time since user (id) last played\n",
    "# average game time\n",
    "\n",
    "def timeAvgs(singleIdData):\n",
    "\n",
    "    singleIdData.sort_values('timestamp')\n",
    "    singleIdData['lastPlay_time'] = singleIdData['timestamp'].shift(periods=1)\n",
    "    singleIdData['time_since_lastPlay'] = (singleIdData['timestamp'] - singleIdData['lastPlay_time'])\n",
    "    singleIdData['time_since_lastPlay'] = singleIdData['time_since_lastPlay']/np.timedelta64(1, 's')\n",
    "    \n",
    "    return singleIdData"
   ]
  },
  {
   "cell_type": "code",
   "execution_count": 9,
   "metadata": {},
   "outputs": [
    {
     "data": {
      "text/html": [
       "<div>\n",
       "<style scoped>\n",
       "    .dataframe tbody tr th:only-of-type {\n",
       "        vertical-align: middle;\n",
       "    }\n",
       "\n",
       "    .dataframe tbody tr th {\n",
       "        vertical-align: top;\n",
       "    }\n",
       "\n",
       "    .dataframe thead th {\n",
       "        text-align: right;\n",
       "    }\n",
       "</style>\n",
       "<table border=\"1\" class=\"dataframe\">\n",
       "  <thead>\n",
       "    <tr style=\"text-align: right;\">\n",
       "      <th></th>\n",
       "      <th>event_id</th>\n",
       "      <th>game_session</th>\n",
       "      <th>timestamp</th>\n",
       "      <th>event_data</th>\n",
       "      <th>installation_id</th>\n",
       "      <th>event_count</th>\n",
       "      <th>event_code</th>\n",
       "      <th>game_time</th>\n",
       "      <th>title</th>\n",
       "      <th>type</th>\n",
       "      <th>...</th>\n",
       "      <th>date</th>\n",
       "      <th>month</th>\n",
       "      <th>hour</th>\n",
       "      <th>year</th>\n",
       "      <th>dayofweek</th>\n",
       "      <th>weekofyear</th>\n",
       "      <th>dayofyear</th>\n",
       "      <th>quarter</th>\n",
       "      <th>lastPlay_time</th>\n",
       "      <th>time_since_lastPlay</th>\n",
       "    </tr>\n",
       "  </thead>\n",
       "  <tbody>\n",
       "    <tr>\n",
       "      <td>5966892</td>\n",
       "      <td>6bf9e3e1</td>\n",
       "      <td>0d6c034852d557d5</td>\n",
       "      <td>2019-08-25 21:57:15.619000+00:00</td>\n",
       "      <td>{\"source\":\"scale\",\"has_toy\":false,\"bowl_id\":1,...</td>\n",
       "      <td>b69d5756</td>\n",
       "      <td>17</td>\n",
       "      <td>4040</td>\n",
       "      <td>36327</td>\n",
       "      <td>Happy Camel</td>\n",
       "      <td>Game</td>\n",
       "      <td>...</td>\n",
       "      <td>2019-08-25</td>\n",
       "      <td>8</td>\n",
       "      <td>21</td>\n",
       "      <td>2019</td>\n",
       "      <td>6</td>\n",
       "      <td>34</td>\n",
       "      <td>237</td>\n",
       "      <td>3</td>\n",
       "      <td>0</td>\n",
       "      <td>0.000</td>\n",
       "    </tr>\n",
       "    <tr>\n",
       "      <td>379367</td>\n",
       "      <td>e080a381</td>\n",
       "      <td>f1ba7b2718d2831b</td>\n",
       "      <td>2019-08-06 18:56:01.398000+00:00</td>\n",
       "      <td>{\"scale_weights\":1,\"target_weight\":3,\"table_we...</td>\n",
       "      <td>0b6d68e5</td>\n",
       "      <td>131</td>\n",
       "      <td>4090</td>\n",
       "      <td>232777</td>\n",
       "      <td>Pan Balance</td>\n",
       "      <td>Game</td>\n",
       "      <td>...</td>\n",
       "      <td>2019-08-06</td>\n",
       "      <td>8</td>\n",
       "      <td>18</td>\n",
       "      <td>2019</td>\n",
       "      <td>1</td>\n",
       "      <td>32</td>\n",
       "      <td>218</td>\n",
       "      <td>3</td>\n",
       "      <td>0</td>\n",
       "      <td>0.000</td>\n",
       "    </tr>\n",
       "    <tr>\n",
       "      <td>4392771</td>\n",
       "      <td>49ed92e9</td>\n",
       "      <td>43f726a91b643cae</td>\n",
       "      <td>2019-09-13 10:33:21.243000+00:00</td>\n",
       "      <td>{\"description\":\"Looks like there's no water le...</td>\n",
       "      <td>85099eda</td>\n",
       "      <td>55</td>\n",
       "      <td>3010</td>\n",
       "      <td>91230</td>\n",
       "      <td>Watering Hole (Activity)</td>\n",
       "      <td>Activity</td>\n",
       "      <td>...</td>\n",
       "      <td>2019-09-13</td>\n",
       "      <td>9</td>\n",
       "      <td>10</td>\n",
       "      <td>2019</td>\n",
       "      <td>4</td>\n",
       "      <td>37</td>\n",
       "      <td>256</td>\n",
       "      <td>3</td>\n",
       "      <td>0</td>\n",
       "      <td>0.000</td>\n",
       "    </tr>\n",
       "    <tr>\n",
       "      <td>1413637</td>\n",
       "      <td>0a08139c</td>\n",
       "      <td>cb7dfdc98a8f7eef</td>\n",
       "      <td>2019-08-02 17:49:28.039000+00:00</td>\n",
       "      <td>{\"description\":\"Four!\",\"identifier\":\"sid_4\",\"m...</td>\n",
       "      <td>2cb958cf</td>\n",
       "      <td>45</td>\n",
       "      <td>3010</td>\n",
       "      <td>23776</td>\n",
       "      <td>Bug Measurer (Activity)</td>\n",
       "      <td>Activity</td>\n",
       "      <td>...</td>\n",
       "      <td>2019-08-02</td>\n",
       "      <td>8</td>\n",
       "      <td>17</td>\n",
       "      <td>2019</td>\n",
       "      <td>4</td>\n",
       "      <td>31</td>\n",
       "      <td>214</td>\n",
       "      <td>3</td>\n",
       "      <td>0</td>\n",
       "      <td>0.000</td>\n",
       "    </tr>\n",
       "    <tr>\n",
       "      <td>1031219</td>\n",
       "      <td>1325467d</td>\n",
       "      <td>af1bccb7f75295e2</td>\n",
       "      <td>2019-08-10 00:45:55.066000+00:00</td>\n",
       "      <td>{\"coordinates\":{\"x\":812,\"y\":231,\"stage_width\":...</td>\n",
       "      <td>1f71eb61</td>\n",
       "      <td>76</td>\n",
       "      <td>4070</td>\n",
       "      <td>50354</td>\n",
       "      <td>Sandcastle Builder (Activity)</td>\n",
       "      <td>Activity</td>\n",
       "      <td>...</td>\n",
       "      <td>2019-08-10</td>\n",
       "      <td>8</td>\n",
       "      <td>0</td>\n",
       "      <td>2019</td>\n",
       "      <td>5</td>\n",
       "      <td>32</td>\n",
       "      <td>222</td>\n",
       "      <td>3</td>\n",
       "      <td>0</td>\n",
       "      <td>0.000</td>\n",
       "    </tr>\n",
       "    <tr>\n",
       "      <td>...</td>\n",
       "      <td>...</td>\n",
       "      <td>...</td>\n",
       "      <td>...</td>\n",
       "      <td>...</td>\n",
       "      <td>...</td>\n",
       "      <td>...</td>\n",
       "      <td>...</td>\n",
       "      <td>...</td>\n",
       "      <td>...</td>\n",
       "      <td>...</td>\n",
       "      <td>...</td>\n",
       "      <td>...</td>\n",
       "      <td>...</td>\n",
       "      <td>...</td>\n",
       "      <td>...</td>\n",
       "      <td>...</td>\n",
       "      <td>...</td>\n",
       "      <td>...</td>\n",
       "      <td>...</td>\n",
       "      <td>...</td>\n",
       "      <td>...</td>\n",
       "    </tr>\n",
       "    <tr>\n",
       "      <td>4603116</td>\n",
       "      <td>5154fc30</td>\n",
       "      <td>44c688fa447ffd57</td>\n",
       "      <td>2019-08-26 13:26:20.726000+00:00</td>\n",
       "      <td>{\"description\":\"1\",\"identifier\":\"count1\",\"medi...</td>\n",
       "      <td>8b384f5c</td>\n",
       "      <td>80</td>\n",
       "      <td>3010</td>\n",
       "      <td>74902</td>\n",
       "      <td>Crystals Rule</td>\n",
       "      <td>Game</td>\n",
       "      <td>...</td>\n",
       "      <td>2019-08-26</td>\n",
       "      <td>8</td>\n",
       "      <td>13</td>\n",
       "      <td>2019</td>\n",
       "      <td>0</td>\n",
       "      <td>35</td>\n",
       "      <td>238</td>\n",
       "      <td>3</td>\n",
       "      <td>2019-08-27 21:28:30.342000+00:00</td>\n",
       "      <td>-115329.616</td>\n",
       "    </tr>\n",
       "    <tr>\n",
       "      <td>3488552</td>\n",
       "      <td>c1cac9a2</td>\n",
       "      <td>6eedf903c152e2db</td>\n",
       "      <td>2019-08-05 15:48:15.642000+00:00</td>\n",
       "      <td>{\"movie_id\":\"scrubadub_outro\",\"duration\":13900...</td>\n",
       "      <td>69ec51b9</td>\n",
       "      <td>77</td>\n",
       "      <td>2081</td>\n",
       "      <td>60898</td>\n",
       "      <td>Scrub-A-Dub</td>\n",
       "      <td>Game</td>\n",
       "      <td>...</td>\n",
       "      <td>2019-08-05</td>\n",
       "      <td>8</td>\n",
       "      <td>15</td>\n",
       "      <td>2019</td>\n",
       "      <td>0</td>\n",
       "      <td>32</td>\n",
       "      <td>217</td>\n",
       "      <td>3</td>\n",
       "      <td>2019-08-02 16:28:40.476000+00:00</td>\n",
       "      <td>256775.166</td>\n",
       "    </tr>\n",
       "    <tr>\n",
       "      <td>5116308</td>\n",
       "      <td>884228c8</td>\n",
       "      <td>33b2a7db758a20a2</td>\n",
       "      <td>2019-09-02 17:25:25.191000+00:00</td>\n",
       "      <td>{\"coordinates\":{\"x\":401,\"y\":644,\"stage_width\":...</td>\n",
       "      <td>9cefacd0</td>\n",
       "      <td>80</td>\n",
       "      <td>4070</td>\n",
       "      <td>67058</td>\n",
       "      <td>Fireworks (Activity)</td>\n",
       "      <td>Activity</td>\n",
       "      <td>...</td>\n",
       "      <td>2019-09-02</td>\n",
       "      <td>9</td>\n",
       "      <td>17</td>\n",
       "      <td>2019</td>\n",
       "      <td>0</td>\n",
       "      <td>36</td>\n",
       "      <td>245</td>\n",
       "      <td>3</td>\n",
       "      <td>2019-08-27 03:56:14.286000+00:00</td>\n",
       "      <td>566950.905</td>\n",
       "    </tr>\n",
       "    <tr>\n",
       "      <td>7427685</td>\n",
       "      <td>c952eb01</td>\n",
       "      <td>3c489284a62ea16f</td>\n",
       "      <td>2019-08-06 23:01:37.938000+00:00</td>\n",
       "      <td>{\"coordinates\":{\"x\":488,\"y\":443,\"stage_width\":...</td>\n",
       "      <td>e4c57aab</td>\n",
       "      <td>7</td>\n",
       "      <td>4070</td>\n",
       "      <td>10508</td>\n",
       "      <td>Watering Hole (Activity)</td>\n",
       "      <td>Activity</td>\n",
       "      <td>...</td>\n",
       "      <td>2019-08-06</td>\n",
       "      <td>8</td>\n",
       "      <td>23</td>\n",
       "      <td>2019</td>\n",
       "      <td>1</td>\n",
       "      <td>32</td>\n",
       "      <td>218</td>\n",
       "      <td>3</td>\n",
       "      <td>2019-08-05 21:13:41.267000+00:00</td>\n",
       "      <td>92876.671</td>\n",
       "    </tr>\n",
       "    <tr>\n",
       "      <td>2731389</td>\n",
       "      <td>bb3e370b</td>\n",
       "      <td>17bef4c2ecdc9901</td>\n",
       "      <td>2019-09-12 22:53:41.167000+00:00</td>\n",
       "      <td>{\"bottle\":{\"amount\":1,\"color\":\"yellow\"},\"bottl...</td>\n",
       "      <td>51950157</td>\n",
       "      <td>212</td>\n",
       "      <td>4030</td>\n",
       "      <td>277734</td>\n",
       "      <td>Bottle Filler (Activity)</td>\n",
       "      <td>Activity</td>\n",
       "      <td>...</td>\n",
       "      <td>2019-09-12</td>\n",
       "      <td>9</td>\n",
       "      <td>22</td>\n",
       "      <td>2019</td>\n",
       "      <td>3</td>\n",
       "      <td>37</td>\n",
       "      <td>255</td>\n",
       "      <td>3</td>\n",
       "      <td>2019-09-12 22:53:18.029000+00:00</td>\n",
       "      <td>23.138</td>\n",
       "    </tr>\n",
       "  </tbody>\n",
       "</table>\n",
       "<p>10000 rows × 21 columns</p>\n",
       "</div>"
      ],
      "text/plain": [
       "         event_id      game_session                        timestamp  \\\n",
       "5966892  6bf9e3e1  0d6c034852d557d5 2019-08-25 21:57:15.619000+00:00   \n",
       "379367   e080a381  f1ba7b2718d2831b 2019-08-06 18:56:01.398000+00:00   \n",
       "4392771  49ed92e9  43f726a91b643cae 2019-09-13 10:33:21.243000+00:00   \n",
       "1413637  0a08139c  cb7dfdc98a8f7eef 2019-08-02 17:49:28.039000+00:00   \n",
       "1031219  1325467d  af1bccb7f75295e2 2019-08-10 00:45:55.066000+00:00   \n",
       "...           ...               ...                              ...   \n",
       "4603116  5154fc30  44c688fa447ffd57 2019-08-26 13:26:20.726000+00:00   \n",
       "3488552  c1cac9a2  6eedf903c152e2db 2019-08-05 15:48:15.642000+00:00   \n",
       "5116308  884228c8  33b2a7db758a20a2 2019-09-02 17:25:25.191000+00:00   \n",
       "7427685  c952eb01  3c489284a62ea16f 2019-08-06 23:01:37.938000+00:00   \n",
       "2731389  bb3e370b  17bef4c2ecdc9901 2019-09-12 22:53:41.167000+00:00   \n",
       "\n",
       "                                                event_data installation_id  \\\n",
       "5966892  {\"source\":\"scale\",\"has_toy\":false,\"bowl_id\":1,...        b69d5756   \n",
       "379367   {\"scale_weights\":1,\"target_weight\":3,\"table_we...        0b6d68e5   \n",
       "4392771  {\"description\":\"Looks like there's no water le...        85099eda   \n",
       "1413637  {\"description\":\"Four!\",\"identifier\":\"sid_4\",\"m...        2cb958cf   \n",
       "1031219  {\"coordinates\":{\"x\":812,\"y\":231,\"stage_width\":...        1f71eb61   \n",
       "...                                                    ...             ...   \n",
       "4603116  {\"description\":\"1\",\"identifier\":\"count1\",\"medi...        8b384f5c   \n",
       "3488552  {\"movie_id\":\"scrubadub_outro\",\"duration\":13900...        69ec51b9   \n",
       "5116308  {\"coordinates\":{\"x\":401,\"y\":644,\"stage_width\":...        9cefacd0   \n",
       "7427685  {\"coordinates\":{\"x\":488,\"y\":443,\"stage_width\":...        e4c57aab   \n",
       "2731389  {\"bottle\":{\"amount\":1,\"color\":\"yellow\"},\"bottl...        51950157   \n",
       "\n",
       "         event_count  event_code  game_time                          title  \\\n",
       "5966892           17        4040      36327                    Happy Camel   \n",
       "379367           131        4090     232777                    Pan Balance   \n",
       "4392771           55        3010      91230       Watering Hole (Activity)   \n",
       "1413637           45        3010      23776        Bug Measurer (Activity)   \n",
       "1031219           76        4070      50354  Sandcastle Builder (Activity)   \n",
       "...              ...         ...        ...                            ...   \n",
       "4603116           80        3010      74902                  Crystals Rule   \n",
       "3488552           77        2081      60898                    Scrub-A-Dub   \n",
       "5116308           80        4070      67058           Fireworks (Activity)   \n",
       "7427685            7        4070      10508       Watering Hole (Activity)   \n",
       "2731389          212        4030     277734       Bottle Filler (Activity)   \n",
       "\n",
       "             type  ...        date month  hour  year  dayofweek  weekofyear  \\\n",
       "5966892      Game  ...  2019-08-25     8    21  2019          6          34   \n",
       "379367       Game  ...  2019-08-06     8    18  2019          1          32   \n",
       "4392771  Activity  ...  2019-09-13     9    10  2019          4          37   \n",
       "1413637  Activity  ...  2019-08-02     8    17  2019          4          31   \n",
       "1031219  Activity  ...  2019-08-10     8     0  2019          5          32   \n",
       "...           ...  ...         ...   ...   ...   ...        ...         ...   \n",
       "4603116      Game  ...  2019-08-26     8    13  2019          0          35   \n",
       "3488552      Game  ...  2019-08-05     8    15  2019          0          32   \n",
       "5116308  Activity  ...  2019-09-02     9    17  2019          0          36   \n",
       "7427685  Activity  ...  2019-08-06     8    23  2019          1          32   \n",
       "2731389  Activity  ...  2019-09-12     9    22  2019          3          37   \n",
       "\n",
       "         dayofyear  quarter                     lastPlay_time  \\\n",
       "5966892        237        3                                 0   \n",
       "379367         218        3                                 0   \n",
       "4392771        256        3                                 0   \n",
       "1413637        214        3                                 0   \n",
       "1031219        222        3                                 0   \n",
       "...            ...      ...                               ...   \n",
       "4603116        238        3  2019-08-27 21:28:30.342000+00:00   \n",
       "3488552        217        3  2019-08-02 16:28:40.476000+00:00   \n",
       "5116308        245        3  2019-08-27 03:56:14.286000+00:00   \n",
       "7427685        218        3  2019-08-05 21:13:41.267000+00:00   \n",
       "2731389        255        3  2019-09-12 22:53:18.029000+00:00   \n",
       "\n",
       "        time_since_lastPlay  \n",
       "5966892               0.000  \n",
       "379367                0.000  \n",
       "4392771               0.000  \n",
       "1413637               0.000  \n",
       "1031219               0.000  \n",
       "...                     ...  \n",
       "4603116         -115329.616  \n",
       "3488552          256775.166  \n",
       "5116308          566950.905  \n",
       "7427685           92876.671  \n",
       "2731389              23.138  \n",
       "\n",
       "[10000 rows x 21 columns]"
      ]
     },
     "execution_count": 9,
     "metadata": {},
     "output_type": "execute_result"
    }
   ],
   "source": [
    "timeTrain_ext = timeTrain.groupby('installation_id').apply(timeAvgs)\n",
    "timeTrain_ext.fillna(0, inplace=True)\n",
    "timeTrain_ext"
   ]
  },
  {
   "cell_type": "code",
   "execution_count": 10,
   "metadata": {},
   "outputs": [],
   "source": [
    "from sklearn.cluster import KMeans\n",
    "\n",
    "from sklearn.preprocessing import StandardScaler\n",
    "from sklearn.feature_extraction import DictVectorizer\n",
    "\n",
    "\n",
    "#extract time related features only\n",
    "timeOnly = timeTrain_ext[['time_since_lastPlay', 'game_time', 'hour']]\n",
    "\n",
    "timeOnly_dict = timeOnly.to_dict(orient='records')\n",
    "\n",
    "vec = DictVectorizer(sparse=False)\n",
    "vec.fit(timeOnly_dict)\n",
    "\n",
    "timeOnly = vec.transform(timeOnly_dict)\n",
    "\n",
    "# Standardization\n",
    "scaler = StandardScaler()\n",
    "scaler.fit(timeOnly)\n",
    "timeOnly = scaler.transform(timeOnly)\n",
    "\n",
    "# use the same number of clusters as their are accuracy groups\n",
    "model = KMeans(n_clusters=4)\n",
    "model.fit(timeOnly)\n",
    "\n",
    "centroids = model.cluster_centers_\n",
    "clusters = model.labels_"
   ]
  },
  {
   "cell_type": "code",
   "execution_count": 11,
   "metadata": {},
   "outputs": [
    {
     "data": {
      "text/plain": [
       "<matplotlib.axes._subplots.AxesSubplot at 0x7f9a3a89efd0>"
      ]
     },
     "execution_count": 11,
     "metadata": {},
     "output_type": "execute_result"
    },
    {
     "data": {
      "image/png": "[encoded data removed]",
      "text/plain": [
       "<Figure size 432x288 with 1 Axes>"
      ]
     },
     "metadata": {
      "needs_background": "light"
     },
     "output_type": "display_data"
    }
   ],
   "source": [
    "clusterDf = pd.DataFrame({'accuracy' : clusters})\n",
    "clusterDf.accuracy.value_counts().plot.bar()"
   ]
  },
  {
   "cell_type": "code",
   "execution_count": 12,
   "metadata": {},
   "outputs": [
    {
     "data": {
      "text/plain": [
       "array([[-2.30917116e-01,  9.10510764e-01, -5.44524905e-04],\n",
       "       [ 1.41564570e-01,  4.72989574e-01, -5.44524905e-04],\n",
       "       [-1.26817539e-01, -6.93733598e-01, -5.44524905e-04],\n",
       "       ...,\n",
       "       [-1.72649187e-01,  3.27149178e-01,  4.69342171e-01],\n",
       "       [-2.79871581e-01,  1.20219156e+00,  7.64312973e-02],\n",
       "       [ 2.26805900e-01,  1.05635116e+00, -5.25348221e-04]])"
      ]
     },
     "execution_count": 12,
     "metadata": {},
     "output_type": "execute_result"
    }
   ],
   "source": [
    "timeOnly"
   ]
  },
  {
   "cell_type": "code",
   "execution_count": 14,
   "metadata": {
    "scrolled": true
   },
   "outputs": [
    {
     "data": {
      "image/png": "[encoded data removed]",
      "text/plain": [
       "<Figure size 432x288 with 1 Axes>"
      ]
     },
     "metadata": {
      "needs_background": "light"
     },
     "output_type": "display_data"
    }
   ],
   "source": [
    "# Build a silhouette plot to represent the distance between clusters\n",
    "from sklearn.metrics import silhouette_samples, silhouette_score\n",
    "\n",
    "# Get silhouette samples\n",
    "silhouette_vals = silhouette_samples(timeOnly, clusters)\n",
    "\n",
    "# Silhouette plot\n",
    "y_lower, y_upper = 0, 0\n",
    "for i, cluster in enumerate(np.unique(clusters)):\n",
    "    cluster_silhouette_vals = silhouette_vals[clusters == cluster]\n",
    "    cluster_silhouette_vals.sort()\n",
    "    y_upper += len(cluster_silhouette_vals)\n",
    "    plt.barh(range(y_lower, y_upper), cluster_silhouette_vals, edgecolor='none', height=1)\n",
    "    plt.text(-0.03, (y_lower + y_upper) / 2, str(i))\n",
    "    y_lower += len(cluster_silhouette_vals)\n",
    "\n",
    "# Get the average silhouette score and plot it\n",
    "avg_score = np.mean(silhouette_vals)\n",
    "plt.axvline(avg_score, linestyle='--', linewidth=2, color='green')\n",
    "plt.yticks([])\n",
    "plt.xlim([-0.1, 1])\n",
    "plt.xlabel('Silhouette coefficient values')\n",
    "plt.ylabel('Cluster labels')\n",
    "plt.title('Silhouette plot for the various clusters', y=1.02);"
   ]
  },
  {
   "cell_type": "markdown",
   "metadata": {},
   "source": [
    "### Conclusion\n",
    "\n",
    "This time data actually looks quite correlated to accuracy groups, with 3 being the most common and 0 the next, with very few 1s and 2s. The silhouette plot tells us how clustered vs scattered the data is, with numbers closer to 1 being more clustered. Both the 3 and 0 groups are decently clustered meaning they are probably relevant based on the features. This is a fairly good result for unsupervised learning."
   ]
  },
  {
   "cell_type": "code",
   "execution_count": null,
   "metadata": {},
   "outputs": [],
   "source": []
  }
 ],
 "metadata": {
  "kernelspec": {
   "display_name": "Python 3",
   "language": "python",
   "name": "python3"
  },
  "language_info": {
   "codemirror_mode": {
    "name": "ipython",
    "version": 3
   },
   "file_extension": ".py",
   "mimetype": "text/x-python",
   "name": "python",
   "nbconvert_exporter": "python",
   "pygments_lexer": "ipython3",
   "version": "3.7.4"
  }
 },
 "nbformat": 4,
 "nbformat_minor": 2
}
