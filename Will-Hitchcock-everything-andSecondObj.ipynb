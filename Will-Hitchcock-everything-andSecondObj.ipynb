{
 "cells": [
  {
   "cell_type": "markdown",
   "metadata": {},
   "source": [
    "# Final Project\n",
    "## outline:\n",
    "    - Investigate the given data:\n",
    "        - Investigate train data set and distribution of variables\n",
    "        - Look into the Test data set and compare to the train data set\n",
    "        - summarize data from the train labels\n",
    "    - Data pre-proccessing plan:\n",
    "        - Walk through the steps with a single installation ID\n",
    "        - pre-process a large portion of the data\n",
    "        - investigate the the features in relation to accuracy group\n",
    "    - Machine learning model:\n",
    "        - fit KNN model to the processed data\n",
    "        - fit SGD model for comparison\n",
    "        - evalute model and get cohen kappa score and accuracy on train data\n",
    "    - Submission:\n",
    "        - preproccess test data to fit model correctly\n",
    "        - make predictions using the best model weve created"
   ]
  },
  {
   "cell_type": "markdown",
   "metadata": {},
   "source": [
    "## Explore the Data\n",
    "\n",
    "The first step we want to do is read in all of our data and preprare our packages"
   ]
  },
  {
   "cell_type": "code",
   "execution_count": 163,
   "metadata": {},
   "outputs": [],
   "source": [
    "import pandas as pd\n",
    "import numpy as np\n",
    "%matplotlib inline\n",
    "train = pd.read_csv('train.csv')\n",
    "train_labels = pd.read_csv('train_labels.csv')\n",
    "test = pd.read_csv('test.csv')"
   ]
  },
  {
   "cell_type": "code",
   "execution_count": 137,
   "metadata": {},
   "outputs": [
    {
     "data": {
      "text/html": [
       "<div>\n",
       "<style scoped>\n",
       "    .dataframe tbody tr th:only-of-type {\n",
       "        vertical-align: middle;\n",
       "    }\n",
       "\n",
       "    .dataframe tbody tr th {\n",
       "        vertical-align: top;\n",
       "    }\n",
       "\n",
       "    .dataframe thead th {\n",
       "        text-align: right;\n",
       "    }\n",
       "</style>\n",
       "<table border=\"1\" class=\"dataframe\">\n",
       "  <thead>\n",
       "    <tr style=\"text-align: right;\">\n",
       "      <th></th>\n",
       "      <th>event_id</th>\n",
       "      <th>game_session</th>\n",
       "      <th>timestamp</th>\n",
       "      <th>event_data</th>\n",
       "      <th>installation_id</th>\n",
       "      <th>event_count</th>\n",
       "      <th>event_code</th>\n",
       "      <th>game_time</th>\n",
       "      <th>title</th>\n",
       "      <th>type</th>\n",
       "      <th>world</th>\n",
       "    </tr>\n",
       "  </thead>\n",
       "  <tbody>\n",
       "    <tr>\n",
       "      <th>0</th>\n",
       "      <td>27253bdc</td>\n",
       "      <td>45bb1e1b6b50c07b</td>\n",
       "      <td>2019-09-06T17:53:46.937Z</td>\n",
       "      <td>{\"event_code\": 2000, \"event_count\": 1}</td>\n",
       "      <td>0001e90f</td>\n",
       "      <td>1</td>\n",
       "      <td>2000</td>\n",
       "      <td>0</td>\n",
       "      <td>Welcome to Lost Lagoon!</td>\n",
       "      <td>Clip</td>\n",
       "      <td>NONE</td>\n",
       "    </tr>\n",
       "    <tr>\n",
       "      <th>1</th>\n",
       "      <td>27253bdc</td>\n",
       "      <td>17eeb7f223665f53</td>\n",
       "      <td>2019-09-06T17:54:17.519Z</td>\n",
       "      <td>{\"event_code\": 2000, \"event_count\": 1}</td>\n",
       "      <td>0001e90f</td>\n",
       "      <td>1</td>\n",
       "      <td>2000</td>\n",
       "      <td>0</td>\n",
       "      <td>Magma Peak - Level 1</td>\n",
       "      <td>Clip</td>\n",
       "      <td>MAGMAPEAK</td>\n",
       "    </tr>\n",
       "    <tr>\n",
       "      <th>2</th>\n",
       "      <td>77261ab5</td>\n",
       "      <td>0848ef14a8dc6892</td>\n",
       "      <td>2019-09-06T17:54:56.302Z</td>\n",
       "      <td>{\"version\":\"1.0\",\"event_count\":1,\"game_time\":0...</td>\n",
       "      <td>0001e90f</td>\n",
       "      <td>1</td>\n",
       "      <td>2000</td>\n",
       "      <td>0</td>\n",
       "      <td>Sandcastle Builder (Activity)</td>\n",
       "      <td>Activity</td>\n",
       "      <td>MAGMAPEAK</td>\n",
       "    </tr>\n",
       "    <tr>\n",
       "      <th>3</th>\n",
       "      <td>b2dba42b</td>\n",
       "      <td>0848ef14a8dc6892</td>\n",
       "      <td>2019-09-06T17:54:56.387Z</td>\n",
       "      <td>{\"description\":\"Let's build a sandcastle! Firs...</td>\n",
       "      <td>0001e90f</td>\n",
       "      <td>2</td>\n",
       "      <td>3010</td>\n",
       "      <td>53</td>\n",
       "      <td>Sandcastle Builder (Activity)</td>\n",
       "      <td>Activity</td>\n",
       "      <td>MAGMAPEAK</td>\n",
       "    </tr>\n",
       "    <tr>\n",
       "      <th>4</th>\n",
       "      <td>1bb5fbdb</td>\n",
       "      <td>0848ef14a8dc6892</td>\n",
       "      <td>2019-09-06T17:55:03.253Z</td>\n",
       "      <td>{\"description\":\"Let's build a sandcastle! Firs...</td>\n",
       "      <td>0001e90f</td>\n",
       "      <td>3</td>\n",
       "      <td>3110</td>\n",
       "      <td>6972</td>\n",
       "      <td>Sandcastle Builder (Activity)</td>\n",
       "      <td>Activity</td>\n",
       "      <td>MAGMAPEAK</td>\n",
       "    </tr>\n",
       "  </tbody>\n",
       "</table>\n",
       "</div>"
      ],
      "text/plain": [
       "   event_id      game_session                 timestamp  \\\n",
       "0  27253bdc  45bb1e1b6b50c07b  2019-09-06T17:53:46.937Z   \n",
       "1  27253bdc  17eeb7f223665f53  2019-09-06T17:54:17.519Z   \n",
       "2  77261ab5  0848ef14a8dc6892  2019-09-06T17:54:56.302Z   \n",
       "3  b2dba42b  0848ef14a8dc6892  2019-09-06T17:54:56.387Z   \n",
       "4  1bb5fbdb  0848ef14a8dc6892  2019-09-06T17:55:03.253Z   \n",
       "\n",
       "                                          event_data installation_id  \\\n",
       "0             {\"event_code\": 2000, \"event_count\": 1}        0001e90f   \n",
       "1             {\"event_code\": 2000, \"event_count\": 1}        0001e90f   \n",
       "2  {\"version\":\"1.0\",\"event_count\":1,\"game_time\":0...        0001e90f   \n",
       "3  {\"description\":\"Let's build a sandcastle! Firs...        0001e90f   \n",
       "4  {\"description\":\"Let's build a sandcastle! Firs...        0001e90f   \n",
       "\n",
       "   event_count  event_code  game_time                          title  \\\n",
       "0            1        2000          0        Welcome to Lost Lagoon!   \n",
       "1            1        2000          0           Magma Peak - Level 1   \n",
       "2            1        2000          0  Sandcastle Builder (Activity)   \n",
       "3            2        3010         53  Sandcastle Builder (Activity)   \n",
       "4            3        3110       6972  Sandcastle Builder (Activity)   \n",
       "\n",
       "       type      world  \n",
       "0      Clip       NONE  \n",
       "1      Clip  MAGMAPEAK  \n",
       "2  Activity  MAGMAPEAK  \n",
       "3  Activity  MAGMAPEAK  \n",
       "4  Activity  MAGMAPEAK  "
      ]
     },
     "execution_count": 137,
     "metadata": {},
     "output_type": "execute_result"
    }
   ],
   "source": [
    "train.head()"
   ]
  },
  {
   "cell_type": "markdown",
   "metadata": {},
   "source": [
    "Were first going to do some very basic feature engineering on our train data set. Since I haven't previously dealt with time stamps I've decided to reformat that data into something I'm more familiar with."
   ]
  },
  {
   "cell_type": "code",
   "execution_count": 143,
   "metadata": {},
   "outputs": [],
   "source": [
    "train['timestamp'] = pd.to_datetime(train['timestamp'])\n",
    "train['date'] = train['timestamp'].dt.date\n",
    "train['hour'] = train['timestamp'].dt.hour\n",
    "train['weekday_name'] = train['timestamp'].dt.weekday_name"
   ]
  },
  {
   "cell_type": "markdown",
   "metadata": {},
   "source": [
    "### investigate train data\n",
    "\n",
    "The first data set we want to take a look at is the train data set. However, because creating visualizations with such a large amount of data would take a lot of computing time, we will be using a sample of 10000 rows."
   ]
  },
  {
   "cell_type": "code",
   "execution_count": 53,
   "metadata": {},
   "outputs": [],
   "source": [
    "train_sample = train.sample(10000)"
   ]
  },
  {
   "cell_type": "code",
   "execution_count": 50,
   "metadata": {},
   "outputs": [
    {
     "data": {
      "text/html": [
       "<div>\n",
       "<style scoped>\n",
       "    .dataframe tbody tr th:only-of-type {\n",
       "        vertical-align: middle;\n",
       "    }\n",
       "\n",
       "    .dataframe tbody tr th {\n",
       "        vertical-align: top;\n",
       "    }\n",
       "\n",
       "    .dataframe thead th {\n",
       "        text-align: right;\n",
       "    }\n",
       "</style>\n",
       "<table border=\"1\" class=\"dataframe\">\n",
       "  <thead>\n",
       "    <tr style=\"text-align: right;\">\n",
       "      <th></th>\n",
       "      <th>event_id</th>\n",
       "      <th>game_session</th>\n",
       "      <th>timestamp</th>\n",
       "      <th>event_data</th>\n",
       "      <th>installation_id</th>\n",
       "      <th>event_count</th>\n",
       "      <th>event_code</th>\n",
       "      <th>game_time</th>\n",
       "      <th>title</th>\n",
       "      <th>type</th>\n",
       "      <th>world</th>\n",
       "      <th>date</th>\n",
       "      <th>hour</th>\n",
       "      <th>weekday_name</th>\n",
       "    </tr>\n",
       "  </thead>\n",
       "  <tbody>\n",
       "    <tr>\n",
       "      <th>1438910</th>\n",
       "      <td>ab3136ba</td>\n",
       "      <td>5bd4b6981fb96f1f</td>\n",
       "      <td>2019-08-22 00:13:14.003</td>\n",
       "      <td>{\"description\":\"The warm-up is over, folks. Le...</td>\n",
       "      <td>206e5f51</td>\n",
       "      <td>18</td>\n",
       "      <td>3110</td>\n",
       "      <td>31930</td>\n",
       "      <td>Dino Dive</td>\n",
       "      <td>Game</td>\n",
       "      <td>MAGMAPEAK</td>\n",
       "      <td>2019-08-22</td>\n",
       "      <td>0</td>\n",
       "      <td>Thursday</td>\n",
       "    </tr>\n",
       "    <tr>\n",
       "      <th>5053935</th>\n",
       "      <td>1325467d</td>\n",
       "      <td>3371edd2fadc9d35</td>\n",
       "      <td>2019-08-25 19:20:59.361</td>\n",
       "      <td>{\"coordinates\":{\"x\":884,\"y\":181,\"stage_width\":...</td>\n",
       "      <td>717f1d3a</td>\n",
       "      <td>3</td>\n",
       "      <td>4070</td>\n",
       "      <td>1514</td>\n",
       "      <td>Sandcastle Builder (Activity)</td>\n",
       "      <td>Activity</td>\n",
       "      <td>MAGMAPEAK</td>\n",
       "      <td>2019-08-25</td>\n",
       "      <td>19</td>\n",
       "      <td>Sunday</td>\n",
       "    </tr>\n",
       "    <tr>\n",
       "      <th>5727156</th>\n",
       "      <td>51102b85</td>\n",
       "      <td>cec10265833e5d0c</td>\n",
       "      <td>2019-08-09 16:06:50.884</td>\n",
       "      <td>{\"hat\":5,\"caterpillar\":\"\",\"coordinates\":{\"x\":2...</td>\n",
       "      <td>7f012464</td>\n",
       "      <td>39</td>\n",
       "      <td>4030</td>\n",
       "      <td>31543</td>\n",
       "      <td>Bird Measurer (Assessment)</td>\n",
       "      <td>Assessment</td>\n",
       "      <td>TREETOPCITY</td>\n",
       "      <td>2019-08-09</td>\n",
       "      <td>16</td>\n",
       "      <td>Friday</td>\n",
       "    </tr>\n",
       "    <tr>\n",
       "      <th>7494410</th>\n",
       "      <td>2230fab4</td>\n",
       "      <td>e17e15aa1f0751df</td>\n",
       "      <td>2019-08-18 14:58:51.154</td>\n",
       "      <td>{\"description\":\"That's not enough food. Try pu...</td>\n",
       "      <td>a6ea082f</td>\n",
       "      <td>72</td>\n",
       "      <td>3120</td>\n",
       "      <td>85022</td>\n",
       "      <td>Chow Time</td>\n",
       "      <td>Game</td>\n",
       "      <td>CRYSTALCAVES</td>\n",
       "      <td>2019-08-18</td>\n",
       "      <td>14</td>\n",
       "      <td>Sunday</td>\n",
       "    </tr>\n",
       "    <tr>\n",
       "      <th>3640238</th>\n",
       "      <td>cf82af56</td>\n",
       "      <td>ae5f0da93abd1a96</td>\n",
       "      <td>2019-09-14 09:23:58.650</td>\n",
       "      <td>{\"coordinates\":{\"x\":816,\"y\":375,\"stage_width\":...</td>\n",
       "      <td>505c0a39</td>\n",
       "      <td>17</td>\n",
       "      <td>4070</td>\n",
       "      <td>12159</td>\n",
       "      <td>Scrub-A-Dub</td>\n",
       "      <td>Game</td>\n",
       "      <td>MAGMAPEAK</td>\n",
       "      <td>2019-09-14</td>\n",
       "      <td>9</td>\n",
       "      <td>Saturday</td>\n",
       "    </tr>\n",
       "  </tbody>\n",
       "</table>\n",
       "</div>"
      ],
      "text/plain": [
       "         event_id      game_session               timestamp  \\\n",
       "1438910  ab3136ba  5bd4b6981fb96f1f 2019-08-22 00:13:14.003   \n",
       "5053935  1325467d  3371edd2fadc9d35 2019-08-25 19:20:59.361   \n",
       "5727156  51102b85  cec10265833e5d0c 2019-08-09 16:06:50.884   \n",
       "7494410  2230fab4  e17e15aa1f0751df 2019-08-18 14:58:51.154   \n",
       "3640238  cf82af56  ae5f0da93abd1a96 2019-09-14 09:23:58.650   \n",
       "\n",
       "                                                event_data installation_id  \\\n",
       "1438910  {\"description\":\"The warm-up is over, folks. Le...        206e5f51   \n",
       "5053935  {\"coordinates\":{\"x\":884,\"y\":181,\"stage_width\":...        717f1d3a   \n",
       "5727156  {\"hat\":5,\"caterpillar\":\"\",\"coordinates\":{\"x\":2...        7f012464   \n",
       "7494410  {\"description\":\"That's not enough food. Try pu...        a6ea082f   \n",
       "3640238  {\"coordinates\":{\"x\":816,\"y\":375,\"stage_width\":...        505c0a39   \n",
       "\n",
       "         event_count  event_code  game_time                          title  \\\n",
       "1438910           18        3110      31930                      Dino Dive   \n",
       "5053935            3        4070       1514  Sandcastle Builder (Activity)   \n",
       "5727156           39        4030      31543     Bird Measurer (Assessment)   \n",
       "7494410           72        3120      85022                      Chow Time   \n",
       "3640238           17        4070      12159                    Scrub-A-Dub   \n",
       "\n",
       "               type         world        date  hour weekday_name  \n",
       "1438910        Game     MAGMAPEAK  2019-08-22     0     Thursday  \n",
       "5053935    Activity     MAGMAPEAK  2019-08-25    19       Sunday  \n",
       "5727156  Assessment   TREETOPCITY  2019-08-09    16       Friday  \n",
       "7494410        Game  CRYSTALCAVES  2019-08-18    14       Sunday  \n",
       "3640238        Game     MAGMAPEAK  2019-09-14     9     Saturday  "
      ]
     },
     "execution_count": 50,
     "metadata": {},
     "output_type": "execute_result"
    }
   ],
   "source": [
    "train_sample.head()"
   ]
  },
  {
   "cell_type": "code",
   "execution_count": 10,
   "metadata": {},
   "outputs": [
    {
     "data": {
      "text/plain": [
       "<matplotlib.axes._subplots.AxesSubplot at 0x138513ff5f8>"
      ]
     },
     "execution_count": 10,
     "metadata": {},
     "output_type": "execute_result"
    },
    {
     "data": {
      "image/png": "[encoded data removed]",
      "text/plain": [
       "<Figure size 432x288 with 1 Axes>"
      ]
     },
     "metadata": {
      "needs_background": "light"
     },
     "output_type": "display_data"
    }
   ],
   "source": [
    "train_sample.event_code.value_counts().plot.bar()"
   ]
  },
  {
   "cell_type": "markdown",
   "metadata": {},
   "source": [
    "We note that the most popular event codes are 4070, 4030, and 3010"
   ]
  },
  {
   "cell_type": "markdown",
   "metadata": {},
   "source": [
    "Since our goal is to predict assessment scores for installation ids, we should look at what percentage of installs, actually go on to even attempt an assessment"
   ]
  },
  {
   "cell_type": "code",
   "execution_count": 11,
   "metadata": {},
   "outputs": [
    {
     "name": "stdout",
     "output_type": "stream",
     "text": [
      "num of installation IDS:  4378\n",
      "num of installs that attempted assessment  671\n",
      "percentage  0.15326633165829145\n"
     ]
    }
   ],
   "source": [
    "print('num of installation IDS: ', (len(train_sample.installation_id.unique())))\n",
    "print('num of installs that attempted assessment ', train_sample.groupby('installation_id').type.value_counts().unstack().Assessment.count())\n",
    "percent = train_sample.groupby('installation_id').type.value_counts().unstack().Assessment.count() / len(train_sample.installation_id.unique())\n",
    "print('percentage ', percent )"
   ]
  },
  {
   "cell_type": "markdown",
   "metadata": {},
   "source": [
    "Just 15% of our sample of installation ID's ever attempt an assessment.\n",
    "\n",
    "One feature we created earlier was days of the week. Lets see if children are more likely to play on different days."
   ]
  },
  {
   "cell_type": "code",
   "execution_count": 54,
   "metadata": {},
   "outputs": [
    {
     "data": {
      "text/plain": [
       "<matplotlib.axes._subplots.AxesSubplot at 0x13864d41470>"
      ]
     },
     "execution_count": 54,
     "metadata": {},
     "output_type": "execute_result"
    },
    {
     "data": {
      "image/png": "[encoded data removed]",
      "text/plain": [
       "<Figure size 432x288 with 1 Axes>"
      ]
     },
     "metadata": {
      "needs_background": "light"
     },
     "output_type": "display_data"
    }
   ],
   "source": [
    "train_sample.weekday_name.value_counts().plot.bar()"
   ]
  },
  {
   "cell_type": "markdown",
   "metadata": {},
   "source": [
    "It appears Friday and Thursday are the most popular days for the app. However, all days are relatively similiar."
   ]
  },
  {
   "cell_type": "code",
   "execution_count": 55,
   "metadata": {},
   "outputs": [
    {
     "data": {
      "text/plain": [
       "<matplotlib.axes._subplots.AxesSubplot at 0x13882273748>"
      ]
     },
     "execution_count": 55,
     "metadata": {},
     "output_type": "execute_result"
    },
    {
     "data": {
      "image/png": "[encoded data removed]",
      "text/plain": [
       "<Figure size 432x288 with 1 Axes>"
      ]
     },
     "metadata": {
      "needs_background": "light"
     },
     "output_type": "display_data"
    }
   ],
   "source": [
    "train_sample.event_count.plot.hist(bins=500)"
   ]
  },
  {
   "cell_type": "markdown",
   "metadata": {},
   "source": [
    "Looking at the distribution of event count, we can see that its strongly skewed right with the vase majority close to 0.\n",
    "Interestingly, we see several values over 500. Its fair to wonder is this an error, or are there really children playing this much of the measure up app."
   ]
  },
  {
   "cell_type": "code",
   "execution_count": 56,
   "metadata": {},
   "outputs": [
    {
     "data": {
      "text/plain": [
       "<matplotlib.axes._subplots.AxesSubplot at 0x13852754dd8>"
      ]
     },
     "execution_count": 56,
     "metadata": {},
     "output_type": "execute_result"
    },
    {
     "data": {
      "image/png": "[encoded data removed]",
      "text/plain": [
       "<Figure size 432x288 with 1 Axes>"
      ]
     },
     "metadata": {
      "needs_background": "light"
     },
     "output_type": "display_data"
    }
   ],
   "source": [
    "train_sample.type.value_counts().plot.bar()"
   ]
  },
  {
   "cell_type": "markdown",
   "metadata": {},
   "source": [
    "Among the sample, games are the most popular event type. there could be several reasons for this. Its possible that users do play more games then they participate with activitys or assesments, but its also possible that interacting with a game simply creates more events."
   ]
  },
  {
   "cell_type": "code",
   "execution_count": 57,
   "metadata": {},
   "outputs": [
    {
     "data": {
      "text/plain": [
       "<matplotlib.axes._subplots.AxesSubplot at 0x13852859710>"
      ]
     },
     "execution_count": 57,
     "metadata": {},
     "output_type": "execute_result"
    },
    {
     "data": {
      "image/png": "[encoded data removed]",
      "text/plain": [
       "<Figure size 432x288 with 1 Axes>"
      ]
     },
     "metadata": {
      "needs_background": "light"
     },
     "output_type": "display_data"
    }
   ],
   "source": [
    "train_sample.world.value_counts().plot.bar()"
   ]
  },
  {
   "cell_type": "markdown",
   "metadata": {},
   "source": [
    "## Investigate Test Data\n",
    "It's important to see how this data set compares to the training dataset."
   ]
  },
  {
   "cell_type": "code",
   "execution_count": 16,
   "metadata": {},
   "outputs": [
    {
     "data": {
      "text/html": [
       "<div>\n",
       "<style scoped>\n",
       "    .dataframe tbody tr th:only-of-type {\n",
       "        vertical-align: middle;\n",
       "    }\n",
       "\n",
       "    .dataframe tbody tr th {\n",
       "        vertical-align: top;\n",
       "    }\n",
       "\n",
       "    .dataframe thead th {\n",
       "        text-align: right;\n",
       "    }\n",
       "</style>\n",
       "<table border=\"1\" class=\"dataframe\">\n",
       "  <thead>\n",
       "    <tr style=\"text-align: right;\">\n",
       "      <th></th>\n",
       "      <th>event_id</th>\n",
       "      <th>game_session</th>\n",
       "      <th>timestamp</th>\n",
       "      <th>event_data</th>\n",
       "      <th>installation_id</th>\n",
       "      <th>event_count</th>\n",
       "      <th>event_code</th>\n",
       "      <th>game_time</th>\n",
       "      <th>title</th>\n",
       "      <th>type</th>\n",
       "      <th>world</th>\n",
       "    </tr>\n",
       "  </thead>\n",
       "  <tbody>\n",
       "    <tr>\n",
       "      <th>0</th>\n",
       "      <td>27253bdc</td>\n",
       "      <td>0ea9ecc81a565215</td>\n",
       "      <td>2019-09-10T16:50:24.910Z</td>\n",
       "      <td>{\"event_code\": 2000, \"event_count\": 1}</td>\n",
       "      <td>00abaee7</td>\n",
       "      <td>1</td>\n",
       "      <td>2000</td>\n",
       "      <td>0</td>\n",
       "      <td>Welcome to Lost Lagoon!</td>\n",
       "      <td>Clip</td>\n",
       "      <td>NONE</td>\n",
       "    </tr>\n",
       "    <tr>\n",
       "      <th>1</th>\n",
       "      <td>27253bdc</td>\n",
       "      <td>c1ea43d8b8261d27</td>\n",
       "      <td>2019-09-10T16:50:55.503Z</td>\n",
       "      <td>{\"event_code\": 2000, \"event_count\": 1}</td>\n",
       "      <td>00abaee7</td>\n",
       "      <td>1</td>\n",
       "      <td>2000</td>\n",
       "      <td>0</td>\n",
       "      <td>Magma Peak - Level 1</td>\n",
       "      <td>Clip</td>\n",
       "      <td>MAGMAPEAK</td>\n",
       "    </tr>\n",
       "    <tr>\n",
       "      <th>2</th>\n",
       "      <td>27253bdc</td>\n",
       "      <td>7ed86c6b72e725e2</td>\n",
       "      <td>2019-09-10T16:51:51.805Z</td>\n",
       "      <td>{\"event_code\": 2000, \"event_count\": 1}</td>\n",
       "      <td>00abaee7</td>\n",
       "      <td>1</td>\n",
       "      <td>2000</td>\n",
       "      <td>0</td>\n",
       "      <td>Magma Peak - Level 2</td>\n",
       "      <td>Clip</td>\n",
       "      <td>MAGMAPEAK</td>\n",
       "    </tr>\n",
       "    <tr>\n",
       "      <th>3</th>\n",
       "      <td>27253bdc</td>\n",
       "      <td>7e516ace50e7fe67</td>\n",
       "      <td>2019-09-10T16:53:12.825Z</td>\n",
       "      <td>{\"event_code\": 2000, \"event_count\": 1}</td>\n",
       "      <td>00abaee7</td>\n",
       "      <td>1</td>\n",
       "      <td>2000</td>\n",
       "      <td>0</td>\n",
       "      <td>Crystal Caves - Level 1</td>\n",
       "      <td>Clip</td>\n",
       "      <td>CRYSTALCAVES</td>\n",
       "    </tr>\n",
       "    <tr>\n",
       "      <th>4</th>\n",
       "      <td>7d093bf9</td>\n",
       "      <td>a022c3f60ba547e7</td>\n",
       "      <td>2019-09-10T16:54:12.115Z</td>\n",
       "      <td>{\"version\":\"1.0\",\"round\":0,\"event_count\":1,\"ga...</td>\n",
       "      <td>00abaee7</td>\n",
       "      <td>1</td>\n",
       "      <td>2000</td>\n",
       "      <td>0</td>\n",
       "      <td>Chow Time</td>\n",
       "      <td>Game</td>\n",
       "      <td>CRYSTALCAVES</td>\n",
       "    </tr>\n",
       "  </tbody>\n",
       "</table>\n",
       "</div>"
      ],
      "text/plain": [
       "   event_id      game_session                 timestamp  \\\n",
       "0  27253bdc  0ea9ecc81a565215  2019-09-10T16:50:24.910Z   \n",
       "1  27253bdc  c1ea43d8b8261d27  2019-09-10T16:50:55.503Z   \n",
       "2  27253bdc  7ed86c6b72e725e2  2019-09-10T16:51:51.805Z   \n",
       "3  27253bdc  7e516ace50e7fe67  2019-09-10T16:53:12.825Z   \n",
       "4  7d093bf9  a022c3f60ba547e7  2019-09-10T16:54:12.115Z   \n",
       "\n",
       "                                          event_data installation_id  \\\n",
       "0             {\"event_code\": 2000, \"event_count\": 1}        00abaee7   \n",
       "1             {\"event_code\": 2000, \"event_count\": 1}        00abaee7   \n",
       "2             {\"event_code\": 2000, \"event_count\": 1}        00abaee7   \n",
       "3             {\"event_code\": 2000, \"event_count\": 1}        00abaee7   \n",
       "4  {\"version\":\"1.0\",\"round\":0,\"event_count\":1,\"ga...        00abaee7   \n",
       "\n",
       "   event_count  event_code  game_time                    title  type  \\\n",
       "0            1        2000          0  Welcome to Lost Lagoon!  Clip   \n",
       "1            1        2000          0     Magma Peak - Level 1  Clip   \n",
       "2            1        2000          0     Magma Peak - Level 2  Clip   \n",
       "3            1        2000          0  Crystal Caves - Level 1  Clip   \n",
       "4            1        2000          0                Chow Time  Game   \n",
       "\n",
       "          world  \n",
       "0          NONE  \n",
       "1     MAGMAPEAK  \n",
       "2     MAGMAPEAK  \n",
       "3  CRYSTALCAVES  \n",
       "4  CRYSTALCAVES  "
      ]
     },
     "execution_count": 16,
     "metadata": {},
     "output_type": "execute_result"
    }
   ],
   "source": [
    "test.head()"
   ]
  },
  {
   "cell_type": "code",
   "execution_count": 17,
   "metadata": {},
   "outputs": [
    {
     "name": "stdout",
     "output_type": "stream",
     "text": [
      "num of installation IDS:  1000\n",
      "num of installs that attempted assessment  1000\n",
      "percentage  1.0\n"
     ]
    }
   ],
   "source": [
    "print('num of installation IDS: ', (len(test.installation_id.unique())))\n",
    "print('num of installs that attempted assessment ', test.groupby('installation_id').type.value_counts().unstack().Assessment.count())\n",
    "percent = test.groupby('installation_id').type.value_counts().unstack().Assessment.count() / len(test.installation_id.unique())\n",
    "print('percentage ', percent )"
   ]
  },
  {
   "cell_type": "markdown",
   "metadata": {},
   "source": [
    "As you can see, unlike the training set, the test set has no installation ID\"s that never took an assessment. This will be important to keep in mind later on."
   ]
  },
  {
   "cell_type": "code",
   "execution_count": 58,
   "metadata": {},
   "outputs": [
    {
     "data": {
      "text/plain": [
       "<matplotlib.axes._subplots.AxesSubplot at 0x1385274a630>"
      ]
     },
     "execution_count": 58,
     "metadata": {},
     "output_type": "execute_result"
    },
    {
     "data": {
      "image/png": "[encoded data removed]",
      "text/plain": [
       "<Figure size 432x288 with 1 Axes>"
      ]
     },
     "metadata": {
      "needs_background": "light"
     },
     "output_type": "display_data"
    }
   ],
   "source": [
    "test.event_code.value_counts().plot.bar()"
   ]
  },
  {
   "cell_type": "markdown",
   "metadata": {},
   "source": [
    "The graph of event code for the test data looks almost identitical to the train data."
   ]
  },
  {
   "cell_type": "code",
   "execution_count": 59,
   "metadata": {},
   "outputs": [
    {
     "data": {
      "text/plain": [
       "<matplotlib.axes._subplots.AxesSubplot at 0x13852859748>"
      ]
     },
     "execution_count": 59,
     "metadata": {},
     "output_type": "execute_result"
    },
    {
     "data": {
      "image/png": "[encoded data removed]",
      "text/plain": [
       "<Figure size 432x288 with 1 Axes>"
      ]
     },
     "metadata": {
      "needs_background": "light"
     },
     "output_type": "display_data"
    }
   ],
   "source": [
    "test.world.value_counts().plot.bar()"
   ]
  },
  {
   "cell_type": "code",
   "execution_count": 60,
   "metadata": {},
   "outputs": [
    {
     "data": {
      "text/plain": [
       "<matplotlib.axes._subplots.AxesSubplot at 0x13852a1b198>"
      ]
     },
     "execution_count": 60,
     "metadata": {},
     "output_type": "execute_result"
    },
    {
     "data": {
      "image/png": "[encoded data removed]",
      "text/plain": [
       "<Figure size 432x288 with 1 Axes>"
      ]
     },
     "metadata": {
      "needs_background": "light"
     },
     "output_type": "display_data"
    }
   ],
   "source": [
    "test.event_count.plot.hist(bins=500)"
   ]
  },
  {
   "cell_type": "markdown",
   "metadata": {},
   "source": [
    "The distributions of both event count and world look very similiar to train data sets.\n",
    "\n",
    "## summarize train labels data"
   ]
  },
  {
   "cell_type": "code",
   "execution_count": 61,
   "metadata": {},
   "outputs": [
    {
     "data": {
      "text/plain": [
       "<matplotlib.axes._subplots.AxesSubplot at 0x1388355d208>"
      ]
     },
     "execution_count": 61,
     "metadata": {},
     "output_type": "execute_result"
    },
    {
     "data": {
      "image/png": "[encoded data removed]",
      "text/plain": [
       "<Figure size 432x288 with 1 Axes>"
      ]
     },
     "metadata": {
      "needs_background": "light"
     },
     "output_type": "display_data"
    }
   ],
   "source": [
    "train_labels.accuracy_group.value_counts().plot.bar()"
   ]
  },
  {
   "cell_type": "code",
   "execution_count": 62,
   "metadata": {},
   "outputs": [
    {
     "data": {
      "text/plain": [
       "3614"
      ]
     },
     "execution_count": 62,
     "metadata": {},
     "output_type": "execute_result"
    }
   ],
   "source": [
    "train_labels.installation_id.nunique()"
   ]
  },
  {
   "cell_type": "markdown",
   "metadata": {},
   "source": [
    "We see that 3 is the most common accuracy score, occuring almost 50% of the time. We also want to note that there are 3614 unique installation ids in the train labels set. Many installation ids have assessment scores for multiple different assessments and game sessions."
   ]
  },
  {
   "cell_type": "markdown",
   "metadata": {},
   "source": [
    "## Explore the Data in context of the problem\n",
    "\n",
    "\n",
    "### Important information to know for data pre-proccesing\n",
    "Some very important information was given to us by PBS. Firstly its important to know that assessments attempts are marked with and event code of either 4100, or 4110.\n",
    "\n",
    "We should also take note that the user begining any type of event is marked with an event code of 2000.\n",
    "\n",
    "Were are asked to predict for each installation ID, What their final assessment score is going to be.\n",
    "To do this we want to use all of the installation IDs play history up until the assesment to predict is begun.\n",
    "\n",
    "We can see that for any individual installation ID, the last row of Test DF is always an assesment with event code 200.\n",
    "We will try to get our training data into a similar working format."
   ]
  },
  {
   "cell_type": "code",
   "execution_count": 23,
   "metadata": {},
   "outputs": [
    {
     "data": {
      "text/plain": [
       "2000    1000\n",
       "Name: event_code, dtype: int64"
      ]
     },
     "execution_count": 23,
     "metadata": {},
     "output_type": "execute_result"
    }
   ],
   "source": [
    "test.groupby('installation_id').tail(1).event_code.value_counts()"
   ]
  },
  {
   "cell_type": "markdown",
   "metadata": {},
   "source": [
    "## Walk through with single Installation ID"
   ]
  },
  {
   "cell_type": "code",
   "execution_count": 31,
   "metadata": {},
   "outputs": [],
   "source": [
    "single_id = train[train.installation_id == '85697782']\n",
    "single_id = single_id.sort_values('timestamp')\n",
    "single_id['lastPlay_time'] = single_id['timestamp'].shift(periods=1)\n",
    "single_id['time_since_lastPlay'] =( single_id['timestamp'] - single_id['lastPlay_time'])\n",
    "single_id['time_since_lastPlay'] = single_id['time_since_lastPlay']/np.timedelta64(1, 's')"
   ]
  },
  {
   "cell_type": "markdown",
   "metadata": {},
   "source": [
    "We have taken all of the play data for a single installation ID and put it into a data frame of its own. Then we went on to do some simple feature engineering to get the amount of time elapsed since this user last played the game. I beleive this data may be useful as children tend to forget things they learned a while back."
   ]
  },
  {
   "cell_type": "markdown",
   "metadata": {},
   "source": [
    "As stated above we want to use the history prior to the beginning of the final assessment attempted, to make a prediction for that final assessment.\n",
    "\n",
    "So, lets find where the beginning of the final assessment is, take all the data prior to the point and make that our X.\n",
    "We then want to go into training labels and find the true assessment group for that assesment, and make it our Y."
   ]
  },
  {
   "cell_type": "code",
   "execution_count": 32,
   "metadata": {},
   "outputs": [
    {
     "data": {
      "text/plain": [
       "index                                                            6012423\n",
       "event_id                                                        90d848e0\n",
       "game_session                                            b74ddc8c115f9857\n",
       "timestamp                                     2019-08-23 14:25:09.357000\n",
       "event_data             {\"version\":\"1.0\",\"event_count\":1,\"game_time\":0...\n",
       "installation_id                                                 85697782\n",
       "event_count                                                            1\n",
       "event_code                                                          2000\n",
       "game_time                                                              0\n",
       "title                                       Cauldron Filler (Assessment)\n",
       "type                                                          Assessment\n",
       "world                                                          MAGMAPEAK\n",
       "date                                                          2019-08-23\n",
       "hour                                                                  14\n",
       "weekday_name                                                      Friday\n",
       "lastPlay_time                                 2019-08-23 14:24:47.871000\n",
       "time_since_lastPlay                                               21.486\n",
       "Name: 4727, dtype: object"
      ]
     },
     "execution_count": 32,
     "metadata": {},
     "output_type": "execute_result"
    }
   ],
   "source": [
    "single_id.reset_index(inplace=True)\n",
    "assessment_begins = single_id[(single_id['type'] == 'Assessment') & (single_id['event_code'] == 2000)]\n",
    "assessments_with_attempts = assessment_begins[assessment_begins.game_session.isin(train_labels.game_session.unique())]\n",
    "cut_off_idx = assessments_with_attempts.tail(1).index\n",
    "single_id.iloc[cut_off_idx[0]]"
   ]
  },
  {
   "cell_type": "markdown",
   "metadata": {},
   "source": [
    "As you can see, our X is now in the same form for a single installation ID as the test set."
   ]
  },
  {
   "cell_type": "code",
   "execution_count": 27,
   "metadata": {},
   "outputs": [
    {
     "data": {
      "text/html": [
       "<div>\n",
       "<style scoped>\n",
       "    .dataframe tbody tr th:only-of-type {\n",
       "        vertical-align: middle;\n",
       "    }\n",
       "\n",
       "    .dataframe tbody tr th {\n",
       "        vertical-align: top;\n",
       "    }\n",
       "\n",
       "    .dataframe thead th {\n",
       "        text-align: right;\n",
       "    }\n",
       "</style>\n",
       "<table border=\"1\" class=\"dataframe\">\n",
       "  <thead>\n",
       "    <tr style=\"text-align: right;\">\n",
       "      <th></th>\n",
       "      <th>game_session</th>\n",
       "      <th>installation_id</th>\n",
       "      <th>title</th>\n",
       "      <th>num_correct</th>\n",
       "      <th>num_incorrect</th>\n",
       "      <th>accuracy</th>\n",
       "      <th>accuracy_group</th>\n",
       "    </tr>\n",
       "  </thead>\n",
       "  <tbody>\n",
       "    <tr>\n",
       "      <th>9529</th>\n",
       "      <td>b74ddc8c115f9857</td>\n",
       "      <td>85697782</td>\n",
       "      <td>Cauldron Filler (Assessment)</td>\n",
       "      <td>1</td>\n",
       "      <td>2</td>\n",
       "      <td>0.333333</td>\n",
       "      <td>1</td>\n",
       "    </tr>\n",
       "  </tbody>\n",
       "</table>\n",
       "</div>"
      ],
      "text/plain": [
       "          game_session installation_id                         title  \\\n",
       "9529  b74ddc8c115f9857        85697782  Cauldron Filler (Assessment)   \n",
       "\n",
       "      num_correct  num_incorrect  accuracy  accuracy_group  \n",
       "9529            1              2  0.333333               1  "
      ]
     },
     "execution_count": 27,
     "metadata": {},
     "output_type": "execute_result"
    }
   ],
   "source": [
    "labels_install = train_labels[train_labels['installation_id'] == '85697782']\n",
    "Y = labels_install[labels_install.game_session == single_id.iloc[cut_off_idx[0]].game_session]\n",
    "Y"
   ]
  },
  {
   "cell_type": "markdown",
   "metadata": {},
   "source": [
    "To find our Y we simply needed to go into the train labels and find the row representing the data that corresponds to the assessment were trying to predict for."
   ]
  },
  {
   "cell_type": "markdown",
   "metadata": {},
   "source": [
    "If your wondering how train labels calculates accuracy, we can look at the corresponding assessment attempts from the train data"
   ]
  },
  {
   "cell_type": "code",
   "execution_count": 28,
   "metadata": {},
   "outputs": [
    {
     "data": {
      "text/html": [
       "<div>\n",
       "<style scoped>\n",
       "    .dataframe tbody tr th:only-of-type {\n",
       "        vertical-align: middle;\n",
       "    }\n",
       "\n",
       "    .dataframe tbody tr th {\n",
       "        vertical-align: top;\n",
       "    }\n",
       "\n",
       "    .dataframe thead th {\n",
       "        text-align: right;\n",
       "    }\n",
       "</style>\n",
       "<table border=\"1\" class=\"dataframe\">\n",
       "  <thead>\n",
       "    <tr style=\"text-align: right;\">\n",
       "      <th></th>\n",
       "      <th>index</th>\n",
       "      <th>event_id</th>\n",
       "      <th>game_session</th>\n",
       "      <th>timestamp</th>\n",
       "      <th>event_data</th>\n",
       "      <th>installation_id</th>\n",
       "      <th>event_count</th>\n",
       "      <th>event_code</th>\n",
       "      <th>game_time</th>\n",
       "      <th>title</th>\n",
       "      <th>type</th>\n",
       "      <th>world</th>\n",
       "      <th>date</th>\n",
       "      <th>hour</th>\n",
       "      <th>weekday_name</th>\n",
       "      <th>lastPlay_time</th>\n",
       "      <th>time_since_lastPlay</th>\n",
       "    </tr>\n",
       "  </thead>\n",
       "  <tbody>\n",
       "    <tr>\n",
       "      <th>4743</th>\n",
       "      <td>6012439</td>\n",
       "      <td>392e14df</td>\n",
       "      <td>b74ddc8c115f9857</td>\n",
       "      <td>2019-08-23 14:25:26.542</td>\n",
       "      <td>{\"buckets\":[0,0,0],\"correct\":false,\"buckets_pl...</td>\n",
       "      <td>85697782</td>\n",
       "      <td>17</td>\n",
       "      <td>4100</td>\n",
       "      <td>17364</td>\n",
       "      <td>Cauldron Filler (Assessment)</td>\n",
       "      <td>Assessment</td>\n",
       "      <td>MAGMAPEAK</td>\n",
       "      <td>2019-08-23</td>\n",
       "      <td>14</td>\n",
       "      <td>Friday</td>\n",
       "      <td>2019-08-23 14:25:25.125</td>\n",
       "      <td>1.417</td>\n",
       "    </tr>\n",
       "    <tr>\n",
       "      <th>4753</th>\n",
       "      <td>6012449</td>\n",
       "      <td>392e14df</td>\n",
       "      <td>b74ddc8c115f9857</td>\n",
       "      <td>2019-08-23 14:25:33.954</td>\n",
       "      <td>{\"buckets\":[0,0,0],\"correct\":false,\"buckets_pl...</td>\n",
       "      <td>85697782</td>\n",
       "      <td>27</td>\n",
       "      <td>4100</td>\n",
       "      <td>24787</td>\n",
       "      <td>Cauldron Filler (Assessment)</td>\n",
       "      <td>Assessment</td>\n",
       "      <td>MAGMAPEAK</td>\n",
       "      <td>2019-08-23</td>\n",
       "      <td>14</td>\n",
       "      <td>Friday</td>\n",
       "      <td>2019-08-23 14:25:32.720</td>\n",
       "      <td>1.234</td>\n",
       "    </tr>\n",
       "    <tr>\n",
       "      <th>4762</th>\n",
       "      <td>6012458</td>\n",
       "      <td>392e14df</td>\n",
       "      <td>b74ddc8c115f9857</td>\n",
       "      <td>2019-08-23 14:25:40.359</td>\n",
       "      <td>{\"buckets\":[0,0,0],\"correct\":true,\"buckets_pla...</td>\n",
       "      <td>85697782</td>\n",
       "      <td>36</td>\n",
       "      <td>4100</td>\n",
       "      <td>31196</td>\n",
       "      <td>Cauldron Filler (Assessment)</td>\n",
       "      <td>Assessment</td>\n",
       "      <td>MAGMAPEAK</td>\n",
       "      <td>2019-08-23</td>\n",
       "      <td>14</td>\n",
       "      <td>Friday</td>\n",
       "      <td>2019-08-23 14:25:38.759</td>\n",
       "      <td>1.600</td>\n",
       "    </tr>\n",
       "  </tbody>\n",
       "</table>\n",
       "</div>"
      ],
      "text/plain": [
       "        index  event_id      game_session               timestamp  \\\n",
       "4743  6012439  392e14df  b74ddc8c115f9857 2019-08-23 14:25:26.542   \n",
       "4753  6012449  392e14df  b74ddc8c115f9857 2019-08-23 14:25:33.954   \n",
       "4762  6012458  392e14df  b74ddc8c115f9857 2019-08-23 14:25:40.359   \n",
       "\n",
       "                                             event_data installation_id  \\\n",
       "4743  {\"buckets\":[0,0,0],\"correct\":false,\"buckets_pl...        85697782   \n",
       "4753  {\"buckets\":[0,0,0],\"correct\":false,\"buckets_pl...        85697782   \n",
       "4762  {\"buckets\":[0,0,0],\"correct\":true,\"buckets_pla...        85697782   \n",
       "\n",
       "      event_count  event_code  game_time                         title  \\\n",
       "4743           17        4100      17364  Cauldron Filler (Assessment)   \n",
       "4753           27        4100      24787  Cauldron Filler (Assessment)   \n",
       "4762           36        4100      31196  Cauldron Filler (Assessment)   \n",
       "\n",
       "            type      world        date  hour weekday_name  \\\n",
       "4743  Assessment  MAGMAPEAK  2019-08-23    14       Friday   \n",
       "4753  Assessment  MAGMAPEAK  2019-08-23    14       Friday   \n",
       "4762  Assessment  MAGMAPEAK  2019-08-23    14       Friday   \n",
       "\n",
       "               lastPlay_time  time_since_lastPlay  \n",
       "4743 2019-08-23 14:25:25.125                1.417  \n",
       "4753 2019-08-23 14:25:32.720                1.234  \n",
       "4762 2019-08-23 14:25:38.759                1.600  "
      ]
     },
     "execution_count": 28,
     "metadata": {},
     "output_type": "execute_result"
    }
   ],
   "source": [
    "single_id[(single_id['type'] == 'Assessment') & (single_id.event_code.isin([4100, 4110])) & (single_id['game_session'] == 'b74ddc8c115f9857')]"
   ]
  },
  {
   "cell_type": "markdown",
   "metadata": {},
   "source": [
    "There are 3 attempts here. To check if an attempt is succesful or not, you look at the event Data and check if correct: -> True.\n",
    "Here the user fails the first 2 attempts at the Cauldron filler and succesfully completes the assessment on their third.\n",
    "\n",
    "\n",
    "## pre-proccess large portion of data"
   ]
  },
  {
   "cell_type": "code",
   "execution_count": 4,
   "metadata": {},
   "outputs": [],
   "source": [
    "installs = train_labels.installation_id.unique()\n",
    "train_installs = train.installation_id.unique()\n",
    "\n",
    "baselineTrain = pd.DataFrame()\n",
    "installs = installs[:200]  #planning to run and save with joblib, currently running with 500 for quick reiterations of project\n",
    "for install in installs:\n",
    "    if install in train_installs:\n",
    "        \n",
    "        single_id = train[train.installation_id == install]\n",
    "        single_id = single_id.sort_values('timestamp')\n",
    "        single_id['lastPlay_time'] = single_id['timestamp'].shift(periods=1)\n",
    "        single_id['time_since_lastPlay'] =( single_id['timestamp'] - single_id['lastPlay_time'])\n",
    "        single_id['time_since_lastPlay'] = single_id['time_since_lastPlay']/np.timedelta64(1, 's')\n",
    "\n",
    "        single_id.reset_index(inplace=True)\n",
    "        assessment_begins = single_id[(single_id['type'] == 'Assessment') & (single_id['event_code'] == 2000)]\n",
    "        assessments_with_attempts = assessment_begins[assessment_begins.game_session.isin(train_labels.game_session.unique())]\n",
    "        cut_off_idx = assessments_with_attempts.tail(1).index\n",
    "\n",
    "        X = single_id.iloc[:cut_off_idx[0] + 1]\n",
    "\n",
    "\n",
    "        labels_install = train_labels[train_labels['installation_id'] == install]\n",
    "        Y = labels_install[labels_install.game_session == single_id.iloc[cut_off_idx[0]].game_session]\n",
    "\n",
    "        toAppend = pd.DataFrame({'installation_id' : [X.iloc[0].installation_id]})\n",
    "        toAppend['event_count'] = X.event_count.mean()\n",
    "        toAppend['event_code'] = X.event_code.mean()\n",
    "        toAppend['hour'] = X.hour.mean()\n",
    "        toAppend['time_since_lastPlay'] = X.time_since_lastPlay.mean()\n",
    "        toAppend['game_time'] = X.game_time.mean()\n",
    "        toAppend['accuracy_group'] = Y.iloc[0].accuracy_group\n",
    "        toAppend['Magma_World_count'] = X[X.world == 'MAGMAPEAK'].size      \n",
    "        toAppend['Crystal_World_count'] = X[X.world == 'CRYSTALCAVES'].size\n",
    "        toAppend['Treetop_World_count'] = X[X.world == 'TREETOPCITY'].size\n",
    "        toAppend['None_World_count'] = X[X.world == 'NONE'].size\n",
    "        toAppend['game_count'] = X[X.type == 'Game'].size\n",
    "        toAppend['clip_count'] = X[X.type == 'Clip'].size\n",
    "        toAppend['Activity_count'] = X[X.type == 'Activity'].size\n",
    "        toAppend['Assessment_count'] = X[X.type == 'Assessment'].size\n",
    "\n",
    "\n",
    "        \n",
    "        baselineTrain = baselineTrain.append(toAppend)"
   ]
  },
  {
   "cell_type": "code",
   "execution_count": null,
   "metadata": {},
   "outputs": [],
   "source": [
    "activity_gameTimes = toSummarize.groupby(['installation_id']).game_time.sum().unstack().fillna(0)\n",
    "activity_gameTimes.rename(columns = {'Activity' : 'Activty_Time', 'Clip' : 'Clip_Time', 'Game' : 'Game_Time', 'Assessment' : 'Assessment_Time'}, inplace=True)\n",
    "pd.merge(baselineTrain, activity_gameTimes)"
   ]
  },
  {
   "cell_type": "markdown",
   "metadata": {},
   "source": [
    "while the method above was effective, this only created one data point for each session ID. It would be much better if we had data that matched the train labels. We will do this by groupying on game_session as well. We will also engineer more useful features.\n",
    "\n",
    "We are going to keep the data from the previous function as we will still use it for our second obj clustering."
   ]
  },
  {
   "cell_type": "markdown",
   "metadata": {},
   "source": [
    "## final train prepoccesing function"
   ]
  },
  {
   "cell_type": "code",
   "execution_count": 147,
   "metadata": {},
   "outputs": [],
   "source": [
    "\n",
    "proccessed = pd.DataFrame()\n",
    "\n",
    "to_train = train.iloc[:100000]\n",
    "for i, frame in to_train.groupby(['installation_id', 'game_session']):\n",
    "    assessBegins = frame[(frame['type'] == 'Assessment') & (frame['event_code'] == 2000)]\n",
    "    if len(assessBegins) > 0:\n",
    "        assesswithAttempts = assessBegins[assessBegins.game_session.isin(train_labels.game_session.unique())]\n",
    "        if(len(assesswithAttempts) > 0):\n",
    "\n",
    "            cut_off_idx = train[train.installation_id == frame.installation_id.iloc[0]]\n",
    "            cut_off_idx = cut_off_idx[cut_off_idx.game_session == frame.game_session.iloc[0]]\n",
    "            cut_off_idx  = cut_off_idx[cut_off_idx.event_code == 2000]\n",
    "            cut_off_idx = cut_off_idx[cut_off_idx.type == 'Assessment']\n",
    "            \n",
    "            toSummarize = train.iloc[:cut_off_idx.index[0] + 1]\n",
    "            toSummarize = toSummarize[toSummarize.installation_id == frame.installation_id.iloc[0]]\n",
    "           \n",
    "            typecountsWorld =  toSummarize.groupby('world').type.value_counts().unstack()\n",
    "            typecountsWorld = pd.DataFrame(typecountsWorld.fillna(0).stack()).transpose()\n",
    "            toAppend = pd.DataFrame()\n",
    "            \n",
    "            if typecountsWorld.columns.levels[0].contains('MAGMAPEAK'):\n",
    "                try:\n",
    "                    toAppend['MagmaAssessmentCount'] = typecountsWorld['MAGMAPEAK']['Assessment']\n",
    "                except:\n",
    "                    toAppend['MagmaAssessmentCount'] = 0\n",
    "                try:\n",
    "                    toAppend['MagmaClipCount'] = typecountsWorld['MAGMAPEAK']['Clip']\n",
    "                except:\n",
    "                    toAppend['MagmaClipCount'] = 0\n",
    "\n",
    "                try:\n",
    "                    toAppend['MagmaActivityCount'] = typecountsWorld['MAGMAPEAK']['Activity']\n",
    "                except:\n",
    "                    toAppend['MagmaActivityCount'] = 0\n",
    "\n",
    "                try:\n",
    "                    toAppend['MagmaGameCount'] = typecountsWorld['MAGMAPEAK']['Game']\n",
    "                except:\n",
    "                    toAppend['MagmaGameCount'] = 0\n",
    "                    \n",
    "            else:\n",
    "                toAppend['MagmaAssessmentCount'] = 0\n",
    "                toAppend['MagmaClipCount'] = 0\n",
    "                toAppend['MagmaActivityCount'] = 0\n",
    "                toAppend['MagmaGameCount'] = 0\n",
    "                \n",
    "            \n",
    "            if typecountsWorld.columns.levels[0].contains('TREETOPCITY'):\n",
    "                try:\n",
    "                    toAppend['TreeAssessmentCount'] = typecountsWorld['TREETOPCITY']['Assessment']\n",
    "                except:\n",
    "                    toAppend['TreeAssessmentCount'] = 0\n",
    "                try:\n",
    "                    toAppend['TreeClipCount'] = typecountsWorld['TREETOPCITY']['Clip']\n",
    "                except:\n",
    "                    toAppend['TreeClipCount'] = 0\n",
    "                try:\n",
    "                    toAppend['TreeActivityCount'] = typecountsWorld['TREETOPCITY']['Activity']\n",
    "                except:\n",
    "                    toAppend['TreeActivityCount'] = 0\n",
    "                try:\n",
    "                    toAppend['TreeGameCount'] = typecountsWorld['TREETOPCITY']['Game']\n",
    "                except:\n",
    "                    toAppend['TreeGameCount'] = 0\n",
    "\n",
    "            else:\n",
    "                toAppend['TreeAssessmentCount'] = 0\n",
    "                toAppend['TreeClipCount'] = 0\n",
    "                toAppend['TreeActivityCount'] = 0\n",
    "                toAppend['TreeGameCount'] = 0\n",
    "\n",
    "                \n",
    "                \n",
    "            if typecountsWorld.columns.levels[0].contains('CRYSTALCAVES'):\n",
    "                try:\n",
    "                    toAppend['CrystalAssessmentCount'] = typecountsWorld['CRYSTALCAVES']['Assessment']\n",
    "                except:\n",
    "                    toAppend['CrystalAssessmentCount'] = 0\n",
    "                try:\n",
    "                    toAppend['CrystalClipCount'] = typecountsWorld['CRYSTALCAVES']['Clip']\n",
    "                except:\n",
    "                    toAppend['CrystalClipCount'] = 0\n",
    "                try:\n",
    "                    toAppend['CrystalActivityCount'] = typecountsWorld['CRYSTALCAVES']['Activity']\n",
    "                except:\n",
    "                    toAppend['CrystalActivityCount'] = 0\n",
    "                try:\n",
    "                    toAppend['CrystalGameCount'] = typecountsWorld['CRYSTALCAVES']['Game']\n",
    "                \n",
    "                except:\n",
    "                    toAppend['CrystalGameCount'] = 0\n",
    "                    \n",
    "            else:\n",
    "                toAppend['CrystalAssessmentCount'] = 0\n",
    "                toAppend['CrystalClipCount'] = 0\n",
    "                toAppend['CrystalActivityCount'] = 0\n",
    "                toAppend['CrystalGameCount'] = 0\n",
    "\n",
    "            Assess = toSummarize[(toSummarize.type == 'Assessment') & (toSummarize.world == toSummarize.tail(1).world.iloc[0])]\n",
    "            toAppend['CorrectAtts'] = Assess[Assess['event_data'].str.contains('true')].size\n",
    "            toAppend['FalseAtts'] = Assess[Assess['event_data'].str.contains('false')].size\n",
    "            \n",
    "            \n",
    "            toAppend['time_sinceLastAtt'] = (Assess[Assess.event_code == 2000].tail(2).iloc[0].timestamp  - toSummarize.tail(1).timestamp.iloc[0]) \n",
    "            toAppend['time_sinceLastAtt'] = toAppend['time_sinceLastAtt'] / np.timedelta64(1, 's')\n",
    "            toAppend['installation_id'] = i[0]\n",
    "            toAppend['game_session'] = i[1]\n",
    "            \n",
    "\n",
    "            proccessed = proccessed.append(toAppend)\n",
    "    "
   ]
  },
  {
   "cell_type": "markdown",
   "metadata": {},
   "source": [
    "## Investigate features by accuracy group"
   ]
  },
  {
   "cell_type": "code",
   "execution_count": 33,
   "metadata": {},
   "outputs": [],
   "source": [
    "acc_grouped_df = baselineTrain.groupby('accuracy_group')"
   ]
  },
  {
   "cell_type": "code",
   "execution_count": 65,
   "metadata": {},
   "outputs": [
    {
     "data": {
      "text/plain": [
       "<matplotlib.axes._subplots.AxesSubplot at 0x1385a8a7dd8>"
      ]
     },
     "execution_count": 65,
     "metadata": {},
     "output_type": "execute_result"
    },
    {
     "data": {
      "image/png": "[encoded data removed]",
      "text/plain": [
       "<Figure size 432x288 with 1 Axes>"
      ]
     },
     "metadata": {
      "needs_background": "light"
     },
     "output_type": "display_data"
    }
   ],
   "source": [
    "acc_grouped_df.game_time.mean().plot.bar()"
   ]
  },
  {
   "cell_type": "code",
   "execution_count": 35,
   "metadata": {},
   "outputs": [
    {
     "data": {
      "text/plain": [
       "<matplotlib.axes._subplots.AxesSubplot at 0x13851c9bf28>"
      ]
     },
     "execution_count": 35,
     "metadata": {},
     "output_type": "execute_result"
    },
    {
     "data": {
      "image/png": "[encoded data removed]",
      "text/plain": [
       "<Figure size 432x288 with 1 Axes>"
      ]
     },
     "metadata": {
      "needs_background": "light"
     },
     "output_type": "display_data"
    }
   ],
   "source": [
    "acc_grouped_df.hour.mean().plot.bar()"
   ]
  },
  {
   "cell_type": "code",
   "execution_count": 36,
   "metadata": {},
   "outputs": [
    {
     "data": {
      "text/plain": [
       "<matplotlib.axes._subplots.AxesSubplot at 0x138522f69e8>"
      ]
     },
     "execution_count": 36,
     "metadata": {},
     "output_type": "execute_result"
    },
    {
     "data": {
      "image/png": "[encoded data removed]",
      "text/plain": [
       "<Figure size 432x288 with 1 Axes>"
      ]
     },
     "metadata": {
      "needs_background": "light"
     },
     "output_type": "display_data"
    }
   ],
   "source": [
    "acc_grouped_df.time_since_lastPlay.mean().plot.bar()"
   ]
  },
  {
   "cell_type": "markdown",
   "metadata": {},
   "source": [
    "This is Awesome to see! it means I potentially created a feature that will be useful in predicting accuracy group. Lets look into this a little more."
   ]
  },
  {
   "cell_type": "code",
   "execution_count": 37,
   "metadata": {},
   "outputs": [
    {
     "data": {
      "text/plain": [
       "<matplotlib.axes._subplots.AxesSubplot at 0x13852344470>"
      ]
     },
     "execution_count": 37,
     "metadata": {},
     "output_type": "execute_result"
    },
    {
     "data": {
      "image/png": "[encoded data removed]",
      "text/plain": [
       "<Figure size 432x288 with 1 Axes>"
      ]
     },
     "metadata": {
      "needs_background": "light"
     },
     "output_type": "display_data"
    }
   ],
   "source": [
    "acc_grouped_df.time_since_lastPlay.std().plot.bar()"
   ]
  },
  {
   "cell_type": "markdown",
   "metadata": {},
   "source": [
    "As you can see the std of the time since last play for accuracy group 3 is is very large. however its nearly none existent for group 2. this could mean a number very close to the mean of accuracy group 2 could be a good indicator."
   ]
  },
  {
   "cell_type": "code",
   "execution_count": 38,
   "metadata": {},
   "outputs": [
    {
     "data": {
      "text/plain": [
       "<matplotlib.axes._subplots.AxesSubplot at 0x138523a04a8>"
      ]
     },
     "execution_count": 38,
     "metadata": {},
     "output_type": "execute_result"
    },
    {
     "data": {
      "image/png": "[encoded data removed]",
      "text/plain": [
       "<Figure size 432x288 with 1 Axes>"
      ]
     },
     "metadata": {
      "needs_background": "light"
     },
     "output_type": "display_data"
    }
   ],
   "source": [
    "acc_grouped_df.event_count.mean().plot.bar()"
   ]
  },
  {
   "cell_type": "code",
   "execution_count": 66,
   "metadata": {},
   "outputs": [
    {
     "data": {
      "text/plain": [
       "<matplotlib.axes._subplots.AxesSubplot at 0x1385a902da0>"
      ]
     },
     "metadata": {},
     "output_type": "display_data"
    },
    {
     "data": {
      "image/png": "[encoded data removed]",
      "text/plain": [
       "<Figure size 432x288 with 1 Axes>"
      ]
     },
     "metadata": {
      "needs_background": "light"
     },
     "output_type": "display_data"
    }
   ],
   "source": [
    "acc_grouped_df.Magma_World_count.mean().plot.bar()"
   ]
  },
  {
   "cell_type": "code",
   "execution_count": 71,
   "metadata": {},
   "outputs": [
    {
     "data": {
      "text/plain": [
       "<matplotlib.axes._subplots.AxesSubplot at 0x1385a9697f0>"
      ]
     },
     "execution_count": 71,
     "metadata": {},
     "output_type": "execute_result"
    },
    {
     "data": {
      "image/png": "[encoded data removed]",
      "text/plain": [
       "<Figure size 432x288 with 1 Axes>"
      ]
     },
     "metadata": {
      "needs_background": "light"
     },
     "output_type": "display_data"
    }
   ],
   "source": [
    "acc_grouped_df.clip_count.mean().plot.bar()"
   ]
  },
  {
   "cell_type": "markdown",
   "metadata": {},
   "source": [
    "## Create Model"
   ]
  },
  {
   "cell_type": "code",
   "execution_count": 181,
   "metadata": {},
   "outputs": [
    {
     "name": "stdout",
     "output_type": "stream",
     "text": [
      "-------------FITTING MODELS-------------\n"
     ]
    },
    {
     "name": "stderr",
     "output_type": "stream",
     "text": [
      "[Parallel(n_jobs=-1)]: Using backend LokyBackend with 8 concurrent workers.\n"
     ]
    },
    {
     "name": "stdout",
     "output_type": "stream",
     "text": [
      "-------------SCORING MODELS-------------\n"
     ]
    },
    {
     "name": "stderr",
     "output_type": "stream",
     "text": [
      "[Parallel(n_jobs=-1)]: Done   2 out of   8 | elapsed:    6.2s remaining:   18.9s\n",
      "[Parallel(n_jobs=-1)]: Done   3 out of   8 | elapsed:    6.2s remaining:   10.4s\n",
      "[Parallel(n_jobs=-1)]: Done   4 out of   8 | elapsed:    6.2s remaining:    6.2s\n",
      "[Parallel(n_jobs=-1)]: Done   5 out of   8 | elapsed:    6.2s remaining:    3.7s\n",
      "[Parallel(n_jobs=-1)]: Done   6 out of   8 | elapsed:    6.2s remaining:    2.0s\n",
      "[Parallel(n_jobs=-1)]: Done   8 out of   8 | elapsed:    6.2s remaining:    0.0s\n",
      "[Parallel(n_jobs=-1)]: Done   8 out of   8 | elapsed:    6.3s finished\n",
      "[Parallel(n_jobs=-1)]: Using backend LokyBackend with 8 concurrent workers.\n",
      "[Parallel(n_jobs=-1)]: Done   2 out of   8 | elapsed:    0.0s remaining:    0.0s\n",
      "[Parallel(n_jobs=-1)]: Done   8 out of   8 | elapsed:    0.0s finished\n"
     ]
    },
    {
     "data": {
      "image/png": "[encoded data removed]",
      "text/plain": [
       "<Figure size 432x432 with 1 Axes>"
      ]
     },
     "metadata": {
      "needs_background": "light"
     },
     "output_type": "display_data"
    },
    {
     "name": "stdout",
     "output_type": "stream",
     "text": [
      "SGDClassifier(alpha=0.0001, average=False, class_weight=None,\n",
      "       early_stopping=False, epsilon=0.1, eta0=0.0, fit_intercept=True,\n",
      "       l1_ratio=0.15, learning_rate='optimal', loss='log', max_iter=None,\n",
      "       n_iter=1000, n_iter_no_change=5, n_jobs=-1, penalty='l2',\n",
      "       power_t=0.5, random_state=None, shuffle=True, tol=None,\n",
      "       validation_fraction=0.1, verbose=0, warm_start=False) 0.10601719197707749\n"
     ]
    }
   ],
   "source": [
    "from sklearn.preprocessing import StandardScaler\n",
    "from sklearn.feature_extraction import DictVectorizer\n",
    "from sklearn.neighbors import KNeighborsClassifier\n",
    "from sklearn.metrics import accuracy_score\n",
    "from sklearn.metrics import cohen_kappa_score\n",
    "from sklearn.model_selection import train_test_split\n",
    "import parfit.parfit as pf\n",
    "from sklearn.model_selection import ParameterGrid\n",
    "from sklearn.linear_model import SGDClassifier\n",
    "\n",
    "\n",
    "X = proccessed.fillna(0).drop(columns = ['installation_id', 'game_session'])\n",
    "\n",
    "y = train_labels.iloc[:len(X)].accuracy_group\n",
    "\n",
    "X_dict = X.to_dict(orient='records')\n",
    "\n",
    "vec = DictVectorizer(sparse=False)\n",
    "vec.fit(X_dict)\n",
    "\n",
    "X = vec.transform(X_dict)\n",
    "\n",
    "# Standardization\n",
    "scaler = StandardScaler()\n",
    "scaler.fit(X)\n",
    "X = scaler.transform(X)\n",
    "\n",
    "X_train, X_test, y_train, y_test = train_test_split(\n",
    "    X, y, test_size=0.33, shuffle=True, random_state=42)\n",
    "\n",
    "# K-Nearest Neighbors Model\n",
    "model = KNeighborsClassifier(n_neighbors=5)\n",
    "model.fit(X_train, y_train)\n",
    "\n",
    "KNNpredictions = model.predict(X_test)\n",
    "\n",
    "\n",
    "#SGD classifier\n",
    "\n",
    "import parfit.parfit as pf\n",
    "\n",
    "##found this grid online:\n",
    "grid = {\n",
    "\n",
    "    'alpha': [1e-4, 1e-3, 1e-2, 1e-1, 1e0, 1e1, 1e2, 1e3], # learning rate\n",
    "\n",
    "    'n_iter': [1000], # number of epochs\n",
    "\n",
    "    'loss': ['log'], # logistic regression,\n",
    "\n",
    "    'penalty': ['l2'],\n",
    "\n",
    "    'n_jobs': [-1]\n",
    "\n",
    "}\n",
    "\n",
    "\n",
    "paramGrid = ParameterGrid(grid)\n",
    "\n",
    "\n",
    "bestModel, bestScore, allModels, allScores = pf.bestFit(SGDClassifier, paramGrid,\n",
    "\n",
    "           X_train, y_train, X_test, y_test, \n",
    "\n",
    "           metric = cohen_kappa_score)\n",
    "\n",
    "\n",
    "\n",
    "print(bestModel, bestScore)\n",
    "\n",
    "SGDpredictions = bestModel.predict(X_test)"
   ]
  },
  {
   "cell_type": "code",
   "execution_count": null,
   "metadata": {},
   "outputs": [],
   "source": []
  },
  {
   "cell_type": "markdown",
   "metadata": {},
   "source": [
    "## Evaluate baseline model"
   ]
  },
  {
   "cell_type": "code",
   "execution_count": 182,
   "metadata": {},
   "outputs": [
    {
     "name": "stdout",
     "output_type": "stream",
     "text": [
      "KNN kappa score -0.049180327868852514\n",
      "KNN accuracy score 0.3333333333333333\n",
      "SGD kappa score 0.10601719197707749\n",
      "SGD accuracy score 0.4583333333333333\n"
     ]
    }
   ],
   "source": [
    "print('KNN kappa score', cohen_kappa_score(y_test, KNNpredictions))\n",
    "print('KNN accuracy score', accuracy_score(y_test, KNNpredictions))\n",
    "\n",
    "print('SGD kappa score', cohen_kappa_score(y_test, SGDpredictions))\n",
    "print('SGD accuracy score', accuracy_score(y_test, SGDpredictions))\n",
    "\n"
   ]
  },
  {
   "cell_type": "markdown",
   "metadata": {},
   "source": [
    "## Proccess Test Data "
   ]
  },
  {
   "cell_type": "code",
   "execution_count": 195,
   "metadata": {},
   "outputs": [],
   "source": [
    "testProccessed = pd.DataFrame()\n",
    "\n",
    "test['timestamp'] = pd.to_datetime(test['timestamp'])\n",
    "\n",
    "for i, frame in test.groupby(['installation_id']):\n",
    "    \n",
    "    typecountsWorld =  frame.groupby('world').type.value_counts().unstack()\n",
    "    typecountsWorld = pd.DataFrame(typecountsWorld.fillna(0).stack()).transpose()\n",
    "    toAppend = pd.DataFrame()\n",
    "            \n",
    "    if typecountsWorld.columns.levels[0].contains('MAGMAPEAK'):\n",
    "        try:\n",
    "            toAppend['MagmaAssessmentCount'] = typecountsWorld['MAGMAPEAK']['Assessment']\n",
    "        except:\n",
    "            toAppend['MagmaAssessmentCount'] = 0\n",
    "        try:\n",
    "            toAppend['MagmaClipCount'] = typecountsWorld['MAGMAPEAK']['Clip']\n",
    "        except:\n",
    "            toAppend['MagmaClipCount'] = 0\n",
    "\n",
    "        try:\n",
    "            toAppend['MagmaActivityCount'] = typecountsWorld['MAGMAPEAK']['Activity']\n",
    "        except:\n",
    "            toAppend['MagmaActivityCount'] = 0\n",
    "\n",
    "        try:\n",
    "            toAppend['MagmaGameCount'] = typecountsWorld['MAGMAPEAK']['Game']\n",
    "        except:\n",
    "            toAppend['MagmaGameCount'] = 0\n",
    "                    \n",
    "        else:\n",
    "            toAppend['MagmaAssessmentCount'] = 0\n",
    "            toAppend['MagmaClipCount'] = 0\n",
    "            toAppend['MagmaActivityCount'] = 0\n",
    "            toAppend['MagmaGameCount'] = 0\n",
    "                \n",
    "            \n",
    "        if typecountsWorld.columns.levels[0].contains('TREETOPCITY'):\n",
    "            try:\n",
    "                toAppend['TreeAssessmentCount'] = typecountsWorld['TREETOPCITY']['Assessment']\n",
    "            except:\n",
    "                toAppend['TreeAssessmentCount'] = 0\n",
    "            try:\n",
    "                toAppend['TreeClipCount'] = typecountsWorld['TREETOPCITY']['Clip']\n",
    "            except:\n",
    "                toAppend['TreeClipCount'] = 0\n",
    "            try:\n",
    "                toAppend['TreeActivityCount'] = typecountsWorld['TREETOPCITY']['Activity']\n",
    "            except:\n",
    "                toAppend['TreeActivityCount'] = 0\n",
    "            try:\n",
    "                toAppend['TreeGameCount'] = typecountsWorld['TREETOPCITY']['Game']\n",
    "            except:\n",
    "                toAppend['TreeGameCount'] = 0\n",
    "\n",
    "        else:\n",
    "            toAppend['TreeAssessmentCount'] = 0\n",
    "            toAppend['TreeClipCount'] = 0\n",
    "            toAppend['TreeActivityCount'] = 0\n",
    "            toAppend['TreeGameCount'] = 0\n",
    "\n",
    "                \n",
    "                \n",
    "        if typecountsWorld.columns.levels[0].contains('CRYSTALCAVES'):\n",
    "            try:\n",
    "                toAppend['CrystalAssessmentCount'] = typecountsWorld['CRYSTALCAVES']['Assessment']\n",
    "            except:\n",
    "                toAppend['CrystalAssessmentCount'] = 0\n",
    "            try:\n",
    "                toAppend['CrystalClipCount'] = typecountsWorld['CRYSTALCAVES']['Clip']\n",
    "            except:\n",
    "                toAppend['CrystalClipCount'] = 0\n",
    "            try:\n",
    "                toAppend['CrystalActivityCount'] = typecountsWorld['CRYSTALCAVES']['Activity']\n",
    "            except:\n",
    "                toAppend['CrystalActivityCount'] = 0\n",
    "            try:\n",
    "                toAppend['CrystalGameCount'] = typecountsWorld['CRYSTALCAVES']['Game']\n",
    "                \n",
    "            except:\n",
    "                toAppend['CrystalGameCount'] = 0\n",
    "                    \n",
    "        else:\n",
    "            toAppend['CrystalAssessmentCount'] = 0\n",
    "            toAppend['CrystalClipCount'] = 0\n",
    "            toAppend['CrystalActivityCount'] = 0\n",
    "            toAppend['CrystalGameCount'] = 0\n",
    "\n",
    "        Assess = frame[(frame.type == 'Assessment') & (frame.world == frame.tail(1).world.iloc[0])]\n",
    "        toAppend['CorrectAtts'] = Assess[Assess['event_data'].str.contains('true')].size\n",
    "        toAppend['FalseAtts'] = Assess[Assess['event_data'].str.contains('false')].size\n",
    "            \n",
    "            \n",
    "        toAppend['time_sinceLastAtt'] = (Assess[Assess.event_code == 2000].tail(2).iloc[0].timestamp  - frame.tail(1).timestamp.iloc[0]) \n",
    "        toAppend['time_sinceLastAtt'] = toAppend['time_sinceLastAtt'] / np.timedelta64(1, 's')\n",
    "        toAppend['installation_id'] = i\n",
    "        testProccessed = testProccessed.append(toAppend)\n",
    "            \n",
    "    "
   ]
  },
  {
   "cell_type": "markdown",
   "metadata": {},
   "source": [
    "## Create prediction for submission"
   ]
  },
  {
   "cell_type": "code",
   "execution_count": 196,
   "metadata": {},
   "outputs": [],
   "source": [
    "installs = testProccessed.installation_id\n",
    "\n",
    "Xtest = testProccessed.fillna(0).drop(columns = ['installation_id'])\n",
    "X_dict = Xtest.to_dict(orient='records')\n",
    "vec = DictVectorizer(sparse=False)\n",
    "vec.fit(X_dict)\n",
    "\n",
    "Xtest = vec.transform(X_dict)\n",
    "\n",
    "# Standardization\n",
    "scaler = StandardScaler()\n",
    "scaler.fit(Xtest)\n",
    "Xtest = scaler.transform(Xtest)\n",
    "\n",
    "testPredictions = bestModel.predict(Xtest)"
   ]
  },
  {
   "cell_type": "code",
   "execution_count": 199,
   "metadata": {},
   "outputs": [],
   "source": [
    "submission = pd.DataFrame({'installation_id' : installs, 'accuracy_group' : testPredictions})\n"
   ]
  },
  {
   "cell_type": "code",
   "execution_count": 198,
   "metadata": {},
   "outputs": [
    {
     "data": {
      "text/html": [
       "<div>\n",
       "<style scoped>\n",
       "    .dataframe tbody tr th:only-of-type {\n",
       "        vertical-align: middle;\n",
       "    }\n",
       "\n",
       "    .dataframe tbody tr th {\n",
       "        vertical-align: top;\n",
       "    }\n",
       "\n",
       "    .dataframe thead th {\n",
       "        text-align: right;\n",
       "    }\n",
       "</style>\n",
       "<table border=\"1\" class=\"dataframe\">\n",
       "  <thead>\n",
       "    <tr style=\"text-align: right;\">\n",
       "      <th></th>\n",
       "      <th>installation_id</th>\n",
       "      <th>accuracy_group</th>\n",
       "    </tr>\n",
       "  </thead>\n",
       "  <tbody>\n",
       "    <tr>\n",
       "      <th>0</th>\n",
       "      <td>00abaee7</td>\n",
       "      <td>3</td>\n",
       "    </tr>\n",
       "    <tr>\n",
       "      <th>0</th>\n",
       "      <td>01242218</td>\n",
       "      <td>3</td>\n",
       "    </tr>\n",
       "    <tr>\n",
       "      <th>0</th>\n",
       "      <td>01bc6cb6</td>\n",
       "      <td>3</td>\n",
       "    </tr>\n",
       "    <tr>\n",
       "      <th>0</th>\n",
       "      <td>02256298</td>\n",
       "      <td>3</td>\n",
       "    </tr>\n",
       "    <tr>\n",
       "      <th>0</th>\n",
       "      <td>0267757a</td>\n",
       "      <td>0</td>\n",
       "    </tr>\n",
       "  </tbody>\n",
       "</table>\n",
       "</div>"
      ],
      "text/plain": [
       "  installation_id  accuracy_group\n",
       "0        00abaee7               3\n",
       "0        01242218               3\n",
       "0        01bc6cb6               3\n",
       "0        02256298               3\n",
       "0        0267757a               0"
      ]
     },
     "execution_count": 198,
     "metadata": {},
     "output_type": "execute_result"
    }
   ],
   "source": [
    "submission.head()"
   ]
  },
  {
   "cell_type": "markdown",
   "metadata": {},
   "source": [
    "## Second Objective"
   ]
  },
  {
   "cell_type": "markdown",
   "metadata": {},
   "source": [
    "### Plan\n",
    "#####  - Use unsupervised learning to cluster micro and macro time data for each installation ID\n",
    "##### - Compare the Distribution of clusters to the distribution of accuracy score"
   ]
  },
  {
   "cell_type": "code",
   "execution_count": 8,
   "metadata": {},
   "outputs": [
    {
     "name": "stderr",
     "output_type": "stream",
     "text": [
      "C:\\Users\\will hitchcock\\anaconda\\lib\\site-packages\\pandas\\core\\frame.py:3790: SettingWithCopyWarning: \n",
      "A value is trying to be set on a copy of a slice from a DataFrame\n",
      "\n",
      "See the caveats in the documentation: http://pandas.pydata.org/pandas-docs/stable/indexing.html#indexing-view-versus-copy\n",
      "  downcast=downcast, **kwargs)\n"
     ]
    },
    {
     "data": {
      "text/plain": [
       "<matplotlib.axes._subplots.AxesSubplot at 0x170d29057b8>"
      ]
     },
     "execution_count": 8,
     "metadata": {},
     "output_type": "execute_result"
    },
    {
     "data": {
      "image/png": "[encoded data removed]",
      "text/plain": [
       "<Figure size 432x288 with 1 Axes>"
      ]
     },
     "metadata": {
      "needs_background": "light"
     },
     "output_type": "display_data"
    }
   ],
   "source": [
    "from sklearn.cluster import KMeans\n",
    "\n",
    "timeTrain = baselineTrain[['time_since_lastPlay','Assessment_Time', 'Game_Time', 'Activty_Time', 'hour' ]]\n",
    "\n",
    "timeTrain.fillna(0, inplace=True)\n",
    "\n",
    "timeTrain_dict = timeTrain.to_dict(orient='records')\n",
    "#X_val_dict = X_val.to_dict(orient='records')\n",
    "\n",
    "vec = DictVectorizer(sparse=False)\n",
    "vec.fit(timeTrain_dict)\n",
    "\n",
    "timeTrain = vec.transform(timeTrain_dict)\n",
    "\n",
    "# Standardization\n",
    "scaler = StandardScaler()\n",
    "scaler.fit(timeTrain)\n",
    "timeTrain = scaler.transform(timeTrain)\n",
    "\n",
    "\n",
    "model = KMeans(n_clusters=4)\n",
    "model.fit(timeTrain)\n",
    "\n",
    "centroids = model.cluster_centers_\n",
    "clusters = model.labels_\n",
    "\n",
    "clusterDf = pd.DataFrame({'accuracy' : clusters})\n",
    "clusterDf.accuracy.value_counts().plot.bar()\n"
   ]
  },
  {
   "cell_type": "code",
   "execution_count": 15,
   "metadata": {},
   "outputs": [],
   "source": [
    "clusterDf['true_accuracy'] = y"
   ]
  },
  {
   "cell_type": "code",
   "execution_count": 26,
   "metadata": {},
   "outputs": [],
   "source": [
    "letterMap = {3 : 'A' , 2 : 'B', 1: 'C', 0 : 'D'}\n",
    "clusterDf = clusterDf.replace({'accuracy' : letterMap})"
   ]
  },
  {
   "cell_type": "code",
   "execution_count": 28,
   "metadata": {},
   "outputs": [
    {
     "data": {
      "text/html": [
       "<div>\n",
       "<style scoped>\n",
       "    .dataframe tbody tr th:only-of-type {\n",
       "        vertical-align: middle;\n",
       "    }\n",
       "\n",
       "    .dataframe tbody tr th {\n",
       "        vertical-align: top;\n",
       "    }\n",
       "\n",
       "    .dataframe thead th {\n",
       "        text-align: right;\n",
       "    }\n",
       "</style>\n",
       "<table border=\"1\" class=\"dataframe\">\n",
       "  <thead>\n",
       "    <tr style=\"text-align: right;\">\n",
       "      <th>true_accuracy</th>\n",
       "      <th>0</th>\n",
       "      <th>1</th>\n",
       "      <th>2</th>\n",
       "      <th>3</th>\n",
       "    </tr>\n",
       "    <tr>\n",
       "      <th>accuracy</th>\n",
       "      <th></th>\n",
       "      <th></th>\n",
       "      <th></th>\n",
       "      <th></th>\n",
       "    </tr>\n",
       "  </thead>\n",
       "  <tbody>\n",
       "    <tr>\n",
       "      <th>A</th>\n",
       "      <td>NaN</td>\n",
       "      <td>NaN</td>\n",
       "      <td>NaN</td>\n",
       "      <td>1.0</td>\n",
       "    </tr>\n",
       "    <tr>\n",
       "      <th>B</th>\n",
       "      <td>1.0</td>\n",
       "      <td>NaN</td>\n",
       "      <td>NaN</td>\n",
       "      <td>1.0</td>\n",
       "    </tr>\n",
       "    <tr>\n",
       "      <th>C</th>\n",
       "      <td>13.0</td>\n",
       "      <td>9.0</td>\n",
       "      <td>6.0</td>\n",
       "      <td>22.0</td>\n",
       "    </tr>\n",
       "    <tr>\n",
       "      <th>D</th>\n",
       "      <td>42.0</td>\n",
       "      <td>15.0</td>\n",
       "      <td>25.0</td>\n",
       "      <td>65.0</td>\n",
       "    </tr>\n",
       "  </tbody>\n",
       "</table>\n",
       "</div>"
      ],
      "text/plain": [
       "true_accuracy     0     1     2     3\n",
       "accuracy                             \n",
       "A               NaN   NaN   NaN   1.0\n",
       "B               1.0   NaN   NaN   1.0\n",
       "C              13.0   9.0   6.0  22.0\n",
       "D              42.0  15.0  25.0  65.0"
      ]
     },
     "execution_count": 28,
     "metadata": {},
     "output_type": "execute_result"
    }
   ],
   "source": [
    "clusterDf.groupby('accuracy').true_accuracy.value_counts().unstack()"
   ]
  },
  {
   "cell_type": "markdown",
   "metadata": {},
   "source": [
    "To the raw eye, it doesnt appear that these clusters really correlate to difference accuracy score"
   ]
  },
  {
   "cell_type": "code",
   "execution_count": 107,
   "metadata": {},
   "outputs": [
    {
     "data": {
      "text/plain": [
       "<matplotlib.axes._subplots.AxesSubplot at 0x241e00698d0>"
      ]
     },
     "execution_count": 107,
     "metadata": {},
     "output_type": "execute_result"
    },
    {
     "data": {
      "image/png": "[encoded data removed]",
      "text/plain": [
       "<Figure size 432x288 with 1 Axes>"
      ]
     },
     "metadata": {
      "needs_background": "light"
     },
     "output_type": "display_data"
    }
   ],
   "source": [
    "pd.DataFrame({'accuracy' : y}).accuracy.value_counts().plot.bar()"
   ]
  },
  {
   "cell_type": "code",
   "execution_count": 109,
   "metadata": {},
   "outputs": [
    {
     "data": {
      "text/plain": [
       "<matplotlib.axes._subplots.AxesSubplot at 0x241e00e0550>"
      ]
     },
     "execution_count": 109,
     "metadata": {},
     "output_type": "execute_result"
    },
    {
     "data": {
      "image/png": "[encoded data removed]",
      "text/plain": [
       "<Figure size 432x288 with 1 Axes>"
      ]
     },
     "metadata": {
      "needs_background": "light"
     },
     "output_type": "display_data"
    }
   ],
   "source": [
    "clusterDf.accuracy.value_counts().plot.bar()"
   ]
  },
  {
   "cell_type": "code",
   "execution_count": 162,
   "metadata": {},
   "outputs": [
    {
     "ename": "NameError",
     "evalue": "name 'clusterDf' is not defined",
     "output_type": "error",
     "traceback": [
      "\u001b[1;31m---------------------------------------------------------------------------\u001b[0m",
      "\u001b[1;31mNameError\u001b[0m                                 Traceback (most recent call last)",
      "\u001b[1;32m<ipython-input-162-4b2051cd412a>\u001b[0m in \u001b[0;36m<module>\u001b[1;34m\u001b[0m\n\u001b[0;32m      1\u001b[0m \u001b[1;32mfrom\u001b[0m \u001b[0mscipy\u001b[0m\u001b[1;33m.\u001b[0m\u001b[0mstats\u001b[0m \u001b[1;32mimport\u001b[0m \u001b[0mchisquare\u001b[0m\u001b[1;33m\u001b[0m\u001b[1;33m\u001b[0m\u001b[0m\n\u001b[0;32m      2\u001b[0m \u001b[1;33m\u001b[0m\u001b[0m\n\u001b[1;32m----> 3\u001b[1;33m \u001b[0mchisquare\u001b[0m\u001b[1;33m(\u001b[0m\u001b[0mclusterDf\u001b[0m\u001b[1;33m.\u001b[0m\u001b[0maccuracy\u001b[0m\u001b[1;33m,\u001b[0m \u001b[0mclusterDf\u001b[0m\u001b[1;33m.\u001b[0m\u001b[0mtrue_accuracy\u001b[0m\u001b[1;33m)\u001b[0m\u001b[1;33m\u001b[0m\u001b[1;33m\u001b[0m\u001b[0m\n\u001b[0m",
      "\u001b[1;31mNameError\u001b[0m: name 'clusterDf' is not defined"
     ]
    }
   ],
   "source": [
    "from scipy.stats import chisquare\n",
    "\n",
    "chisquare(clusterDf.accuracy, clusterDf.true_accuracy)"
   ]
  },
  {
   "cell_type": "markdown",
   "metadata": {},
   "source": [
    "looking at the chiSquare we can see that the clusters are a poor representiation of accuracy score."
   ]
  }
 ],
 "metadata": {
  "kernelspec": {
   "display_name": "Python 3",
   "language": "python",
   "name": "python3"
  },
  "language_info": {
   "codemirror_mode": {
    "name": "ipython",
    "version": 3
   },
   "file_extension": ".py",
   "mimetype": "text/x-python",
   "name": "python",
   "nbconvert_exporter": "python",
   "pygments_lexer": "ipython3",
   "version": "3.7.1"
  }
 },
 "nbformat": 4,
 "nbformat_minor": 2
}
