{
 "cells": [
  {
   "cell_type": "code",
   "execution_count": 125,
   "metadata": {},
   "outputs": [],
   "source": [
    "#imports\n",
    "\n",
    "import pandas as pd\n",
    "import numpy as np\n",
    "import json\n",
    "import matplotlib\n",
    "%matplotlib inline\n",
    "\n",
    "import joblib"
   ]
  },
  {
   "cell_type": "markdown",
   "metadata": {},
   "source": [
    "## Problem Overview\n",
    "\n",
    "In this project, we were tasked with making a model to predict performance on assessements in the PBS Kids learning mobile application based on logged application data."
   ]
  },
  {
   "cell_type": "markdown",
   "metadata": {},
   "source": [
    "# Outline\n",
    "\n",
    "- Begin the process by taking a look at the *training* data basic features:\n",
    "    - Event code counts\n",
    "    - unique installations\n",
    "    - unique sessions\n",
    "- Add another layer by looking at grouped features:\n",
    "    - group by installation id: game time, event code counts,\n",
    "    - group by session within an installation\n",
    "- Compare train and test data as a reality check\n",
    "- Unpack inner data\n",
    "    - event data\n",
    "    - specs args\n",
    "- Join the train_labels to train data\n",
    "- Set up an initial naive baseline\n",
    "    - feature engineering\n",
    "    - K Nearest Neighbors\n",
    "- Improve the model by trying alternative methods\n",
    "    - CatBoost\n",
    "    - Light GBM Regression"
   ]
  },
  {
   "cell_type": "code",
   "execution_count": 2,
   "metadata": {},
   "outputs": [],
   "source": [
    "#Read in training data first\n",
    "train = pd.read_csv(\"../DSB2019/data-science-bowl-2019/train.csv\")"
   ]
  },
  {
   "cell_type": "code",
   "execution_count": 3,
   "metadata": {},
   "outputs": [
    {
     "data": {
      "text/html": [
       "<div>\n",
       "<style scoped>\n",
       "    .dataframe tbody tr th:only-of-type {\n",
       "        vertical-align: middle;\n",
       "    }\n",
       "\n",
       "    .dataframe tbody tr th {\n",
       "        vertical-align: top;\n",
       "    }\n",
       "\n",
       "    .dataframe thead th {\n",
       "        text-align: right;\n",
       "    }\n",
       "</style>\n",
       "<table border=\"1\" class=\"dataframe\">\n",
       "  <thead>\n",
       "    <tr style=\"text-align: right;\">\n",
       "      <th></th>\n",
       "      <th>event_id</th>\n",
       "      <th>game_session</th>\n",
       "      <th>timestamp</th>\n",
       "      <th>event_data</th>\n",
       "      <th>installation_id</th>\n",
       "      <th>event_count</th>\n",
       "      <th>event_code</th>\n",
       "      <th>game_time</th>\n",
       "      <th>title</th>\n",
       "      <th>type</th>\n",
       "      <th>world</th>\n",
       "    </tr>\n",
       "  </thead>\n",
       "  <tbody>\n",
       "    <tr>\n",
       "      <td>0</td>\n",
       "      <td>27253bdc</td>\n",
       "      <td>45bb1e1b6b50c07b</td>\n",
       "      <td>2019-09-06T17:53:46.937Z</td>\n",
       "      <td>{\"event_code\": 2000, \"event_count\": 1}</td>\n",
       "      <td>0001e90f</td>\n",
       "      <td>1</td>\n",
       "      <td>2000</td>\n",
       "      <td>0</td>\n",
       "      <td>Welcome to Lost Lagoon!</td>\n",
       "      <td>Clip</td>\n",
       "      <td>NONE</td>\n",
       "    </tr>\n",
       "    <tr>\n",
       "      <td>1</td>\n",
       "      <td>27253bdc</td>\n",
       "      <td>17eeb7f223665f53</td>\n",
       "      <td>2019-09-06T17:54:17.519Z</td>\n",
       "      <td>{\"event_code\": 2000, \"event_count\": 1}</td>\n",
       "      <td>0001e90f</td>\n",
       "      <td>1</td>\n",
       "      <td>2000</td>\n",
       "      <td>0</td>\n",
       "      <td>Magma Peak - Level 1</td>\n",
       "      <td>Clip</td>\n",
       "      <td>MAGMAPEAK</td>\n",
       "    </tr>\n",
       "    <tr>\n",
       "      <td>2</td>\n",
       "      <td>77261ab5</td>\n",
       "      <td>0848ef14a8dc6892</td>\n",
       "      <td>2019-09-06T17:54:56.302Z</td>\n",
       "      <td>{\"version\":\"1.0\",\"event_count\":1,\"game_time\":0...</td>\n",
       "      <td>0001e90f</td>\n",
       "      <td>1</td>\n",
       "      <td>2000</td>\n",
       "      <td>0</td>\n",
       "      <td>Sandcastle Builder (Activity)</td>\n",
       "      <td>Activity</td>\n",
       "      <td>MAGMAPEAK</td>\n",
       "    </tr>\n",
       "    <tr>\n",
       "      <td>3</td>\n",
       "      <td>b2dba42b</td>\n",
       "      <td>0848ef14a8dc6892</td>\n",
       "      <td>2019-09-06T17:54:56.387Z</td>\n",
       "      <td>{\"description\":\"Let's build a sandcastle! Firs...</td>\n",
       "      <td>0001e90f</td>\n",
       "      <td>2</td>\n",
       "      <td>3010</td>\n",
       "      <td>53</td>\n",
       "      <td>Sandcastle Builder (Activity)</td>\n",
       "      <td>Activity</td>\n",
       "      <td>MAGMAPEAK</td>\n",
       "    </tr>\n",
       "    <tr>\n",
       "      <td>4</td>\n",
       "      <td>1bb5fbdb</td>\n",
       "      <td>0848ef14a8dc6892</td>\n",
       "      <td>2019-09-06T17:55:03.253Z</td>\n",
       "      <td>{\"description\":\"Let's build a sandcastle! Firs...</td>\n",
       "      <td>0001e90f</td>\n",
       "      <td>3</td>\n",
       "      <td>3110</td>\n",
       "      <td>6972</td>\n",
       "      <td>Sandcastle Builder (Activity)</td>\n",
       "      <td>Activity</td>\n",
       "      <td>MAGMAPEAK</td>\n",
       "    </tr>\n",
       "  </tbody>\n",
       "</table>\n",
       "</div>"
      ],
      "text/plain": [
       "   event_id      game_session                 timestamp  \\\n",
       "0  27253bdc  45bb1e1b6b50c07b  2019-09-06T17:53:46.937Z   \n",
       "1  27253bdc  17eeb7f223665f53  2019-09-06T17:54:17.519Z   \n",
       "2  77261ab5  0848ef14a8dc6892  2019-09-06T17:54:56.302Z   \n",
       "3  b2dba42b  0848ef14a8dc6892  2019-09-06T17:54:56.387Z   \n",
       "4  1bb5fbdb  0848ef14a8dc6892  2019-09-06T17:55:03.253Z   \n",
       "\n",
       "                                          event_data installation_id  \\\n",
       "0             {\"event_code\": 2000, \"event_count\": 1}        0001e90f   \n",
       "1             {\"event_code\": 2000, \"event_count\": 1}        0001e90f   \n",
       "2  {\"version\":\"1.0\",\"event_count\":1,\"game_time\":0...        0001e90f   \n",
       "3  {\"description\":\"Let's build a sandcastle! Firs...        0001e90f   \n",
       "4  {\"description\":\"Let's build a sandcastle! Firs...        0001e90f   \n",
       "\n",
       "   event_count  event_code  game_time                          title  \\\n",
       "0            1        2000          0        Welcome to Lost Lagoon!   \n",
       "1            1        2000          0           Magma Peak - Level 1   \n",
       "2            1        2000          0  Sandcastle Builder (Activity)   \n",
       "3            2        3010         53  Sandcastle Builder (Activity)   \n",
       "4            3        3110       6972  Sandcastle Builder (Activity)   \n",
       "\n",
       "       type      world  \n",
       "0      Clip       NONE  \n",
       "1      Clip  MAGMAPEAK  \n",
       "2  Activity  MAGMAPEAK  \n",
       "3  Activity  MAGMAPEAK  \n",
       "4  Activity  MAGMAPEAK  "
      ]
     },
     "execution_count": 3,
     "metadata": {},
     "output_type": "execute_result"
    }
   ],
   "source": [
    "train.head()"
   ]
  },
  {
   "cell_type": "markdown",
   "metadata": {},
   "source": [
    "Taking a brief look at some example observations we see that each represents information related to an \"event\". We get event data in an internal object as well as event meta data such as ID, related installation ID (normally one user), timestamp, and where they are in the application (title, world, type). "
   ]
  },
  {
   "cell_type": "code",
   "execution_count": 4,
   "metadata": {},
   "outputs": [
    {
     "data": {
      "text/plain": [
       "(11341042, 11)"
      ]
     },
     "execution_count": 4,
     "metadata": {},
     "output_type": "execute_result"
    }
   ],
   "source": [
    "train.shape"
   ]
  },
  {
   "cell_type": "markdown",
   "metadata": {},
   "source": [
    "In order to explore the features more easily let's sample a small piece of the total. Total shape has over 11 million observations.\n",
    "It's also worth noting that some of the installation ids in the training data don't contain assessments so we can eliminate those as they are not useful for training."
   ]
  },
  {
   "cell_type": "code",
   "execution_count": 6,
   "metadata": {},
   "outputs": [],
   "source": [
    "hasAssessmentIds = train[train[\"type\"] == \"Assessment\"].loc[:,'installation_id'].drop_duplicates()\n",
    "useful_train = pd.merge(train, hasAssessmentIds, on=\"installation_id\", how=\"inner\")\n",
    "del train"
   ]
  },
  {
   "cell_type": "code",
   "execution_count": 7,
   "metadata": {},
   "outputs": [
    {
     "data": {
      "text/plain": [
       "(8294138, 11)"
      ]
     },
     "execution_count": 7,
     "metadata": {},
     "output_type": "execute_result"
    }
   ],
   "source": [
    "useful_train.shape"
   ]
  },
  {
   "cell_type": "code",
   "execution_count": 58,
   "metadata": {},
   "outputs": [],
   "source": [
    "train_sample = useful_train.sample(1000000)"
   ]
  },
  {
   "cell_type": "markdown",
   "metadata": {},
   "source": [
    "Let's list out the columns we're going to need to look at for each observation."
   ]
  },
  {
   "cell_type": "code",
   "execution_count": 9,
   "metadata": {},
   "outputs": [
    {
     "data": {
      "text/plain": [
       "Index(['event_id', 'game_session', 'timestamp', 'event_data',\n",
       "       'installation_id', 'event_count', 'event_code', 'game_time', 'title',\n",
       "       'type', 'world'],\n",
       "      dtype='object')"
      ]
     },
     "execution_count": 9,
     "metadata": {},
     "output_type": "execute_result"
    }
   ],
   "source": [
    "train_sample.columns"
   ]
  },
  {
   "cell_type": "markdown",
   "metadata": {},
   "source": [
    "It seems like it could be useful to categorize different observations in the data. Event codes could represent some of these differences."
   ]
  },
  {
   "cell_type": "code",
   "execution_count": 10,
   "metadata": {},
   "outputs": [
    {
     "data": {
      "text/plain": [
       "<matplotlib.axes._subplots.AxesSubplot at 0x7ff86f900c10>"
      ]
     },
     "execution_count": 10,
     "metadata": {},
     "output_type": "execute_result"
    },
    {
     "data": {
      "image/png": "[encoded data removed]",
      "text/plain": [
       "<Figure size 432x288 with 1 Axes>"
      ]
     },
     "metadata": {
      "needs_background": "light"
     },
     "output_type": "display_data"
    }
   ],
   "source": [
    "train_sample[\"event_code\"].value_counts().plot.bar()"
   ]
  },
  {
   "cell_type": "code",
   "execution_count": 11,
   "metadata": {},
   "outputs": [
    {
     "data": {
      "text/html": [
       "<div>\n",
       "<style scoped>\n",
       "    .dataframe tbody tr th:only-of-type {\n",
       "        vertical-align: middle;\n",
       "    }\n",
       "\n",
       "    .dataframe tbody tr th {\n",
       "        vertical-align: top;\n",
       "    }\n",
       "\n",
       "    .dataframe thead th {\n",
       "        text-align: right;\n",
       "    }\n",
       "</style>\n",
       "<table border=\"1\" class=\"dataframe\">\n",
       "  <thead>\n",
       "    <tr style=\"text-align: right;\">\n",
       "      <th></th>\n",
       "      <th>event_count</th>\n",
       "      <th>event_code</th>\n",
       "      <th>game_time</th>\n",
       "    </tr>\n",
       "    <tr>\n",
       "      <th>installation_id</th>\n",
       "      <th></th>\n",
       "      <th></th>\n",
       "      <th></th>\n",
       "    </tr>\n",
       "  </thead>\n",
       "  <tbody>\n",
       "    <tr>\n",
       "      <td>0006a69f</td>\n",
       "      <td>2418</td>\n",
       "      <td>155838</td>\n",
       "      <td>2994032</td>\n",
       "    </tr>\n",
       "    <tr>\n",
       "      <td>0006c192</td>\n",
       "      <td>2466</td>\n",
       "      <td>84224</td>\n",
       "      <td>2368500</td>\n",
       "    </tr>\n",
       "    <tr>\n",
       "      <td>00129856</td>\n",
       "      <td>1363</td>\n",
       "      <td>49469</td>\n",
       "      <td>1805639</td>\n",
       "    </tr>\n",
       "    <tr>\n",
       "      <td>001d0ed0</td>\n",
       "      <td>734</td>\n",
       "      <td>35594</td>\n",
       "      <td>815923</td>\n",
       "    </tr>\n",
       "    <tr>\n",
       "      <td>00225f67</td>\n",
       "      <td>597</td>\n",
       "      <td>28540</td>\n",
       "      <td>571335</td>\n",
       "    </tr>\n",
       "    <tr>\n",
       "      <td>...</td>\n",
       "      <td>...</td>\n",
       "      <td>...</td>\n",
       "      <td>...</td>\n",
       "    </tr>\n",
       "    <tr>\n",
       "      <td>ff9715db</td>\n",
       "      <td>1872</td>\n",
       "      <td>96986</td>\n",
       "      <td>2024098</td>\n",
       "    </tr>\n",
       "    <tr>\n",
       "      <td>ffc90c32</td>\n",
       "      <td>557</td>\n",
       "      <td>55851</td>\n",
       "      <td>632449</td>\n",
       "    </tr>\n",
       "    <tr>\n",
       "      <td>ffd2871d</td>\n",
       "      <td>3024</td>\n",
       "      <td>114203</td>\n",
       "      <td>5537152</td>\n",
       "    </tr>\n",
       "    <tr>\n",
       "      <td>ffe3b25d</td>\n",
       "      <td>119</td>\n",
       "      <td>6090</td>\n",
       "      <td>104553</td>\n",
       "    </tr>\n",
       "    <tr>\n",
       "      <td>ffeb0b1b</td>\n",
       "      <td>1849</td>\n",
       "      <td>66958</td>\n",
       "      <td>2502118</td>\n",
       "    </tr>\n",
       "  </tbody>\n",
       "</table>\n",
       "<p>4070 rows × 3 columns</p>\n",
       "</div>"
      ],
      "text/plain": [
       "                 event_count  event_code  game_time\n",
       "installation_id                                    \n",
       "0006a69f                2418      155838    2994032\n",
       "0006c192                2466       84224    2368500\n",
       "00129856                1363       49469    1805639\n",
       "001d0ed0                 734       35594     815923\n",
       "00225f67                 597       28540     571335\n",
       "...                      ...         ...        ...\n",
       "ff9715db                1872       96986    2024098\n",
       "ffc90c32                 557       55851     632449\n",
       "ffd2871d                3024      114203    5537152\n",
       "ffe3b25d                 119        6090     104553\n",
       "ffeb0b1b                1849       66958    2502118\n",
       "\n",
       "[4070 rows x 3 columns]"
      ]
     },
     "execution_count": 11,
     "metadata": {},
     "output_type": "execute_result"
    }
   ],
   "source": [
    "train_sample.groupby(\"installation_id\").sum()"
   ]
  },
  {
   "cell_type": "markdown",
   "metadata": {},
   "source": [
    "This tells us there are about 4000 installation ids in the sample and gives us information about total game time."
   ]
  },
  {
   "cell_type": "code",
   "execution_count": 12,
   "metadata": {},
   "outputs": [
    {
     "data": {
      "text/html": [
       "<div>\n",
       "<style scoped>\n",
       "    .dataframe tbody tr th:only-of-type {\n",
       "        vertical-align: middle;\n",
       "    }\n",
       "\n",
       "    .dataframe tbody tr th {\n",
       "        vertical-align: top;\n",
       "    }\n",
       "\n",
       "    .dataframe thead th {\n",
       "        text-align: right;\n",
       "    }\n",
       "</style>\n",
       "<table border=\"1\" class=\"dataframe\">\n",
       "  <thead>\n",
       "    <tr style=\"text-align: right;\">\n",
       "      <th></th>\n",
       "      <th>event_count</th>\n",
       "      <th>event_code</th>\n",
       "      <th>game_time</th>\n",
       "    </tr>\n",
       "    <tr>\n",
       "      <th>game_session</th>\n",
       "      <th></th>\n",
       "      <th></th>\n",
       "      <th></th>\n",
       "    </tr>\n",
       "  </thead>\n",
       "  <tbody>\n",
       "    <tr>\n",
       "      <td>000050630c4b081b</td>\n",
       "      <td>3</td>\n",
       "      <td>2060</td>\n",
       "      <td>4804</td>\n",
       "    </tr>\n",
       "    <tr>\n",
       "      <td>00020f3bd042b3f0</td>\n",
       "      <td>2</td>\n",
       "      <td>4010</td>\n",
       "      <td>2230</td>\n",
       "    </tr>\n",
       "    <tr>\n",
       "      <td>00030865234e6b3d</td>\n",
       "      <td>27</td>\n",
       "      <td>4020</td>\n",
       "      <td>36526</td>\n",
       "    </tr>\n",
       "    <tr>\n",
       "      <td>000319989d08f8aa</td>\n",
       "      <td>494</td>\n",
       "      <td>9160</td>\n",
       "      <td>745700</td>\n",
       "    </tr>\n",
       "    <tr>\n",
       "      <td>0007729b666af371</td>\n",
       "      <td>167</td>\n",
       "      <td>4070</td>\n",
       "      <td>194174</td>\n",
       "    </tr>\n",
       "    <tr>\n",
       "      <td>...</td>\n",
       "      <td>...</td>\n",
       "      <td>...</td>\n",
       "      <td>...</td>\n",
       "    </tr>\n",
       "    <tr>\n",
       "      <td>fffc036248965403</td>\n",
       "      <td>124</td>\n",
       "      <td>4070</td>\n",
       "      <td>93425</td>\n",
       "    </tr>\n",
       "    <tr>\n",
       "      <td>fffc152654849cbe</td>\n",
       "      <td>120</td>\n",
       "      <td>7210</td>\n",
       "      <td>125564</td>\n",
       "    </tr>\n",
       "    <tr>\n",
       "      <td>fffc54cfd9f4d7b2</td>\n",
       "      <td>37</td>\n",
       "      <td>3110</td>\n",
       "      <td>49684</td>\n",
       "    </tr>\n",
       "    <tr>\n",
       "      <td>fffcdc3a0ff75a77</td>\n",
       "      <td>1244</td>\n",
       "      <td>16142</td>\n",
       "      <td>1673053</td>\n",
       "    </tr>\n",
       "    <tr>\n",
       "      <td>fffda980b07029a3</td>\n",
       "      <td>23</td>\n",
       "      <td>4022</td>\n",
       "      <td>23902</td>\n",
       "    </tr>\n",
       "  </tbody>\n",
       "</table>\n",
       "<p>49348 rows × 3 columns</p>\n",
       "</div>"
      ],
      "text/plain": [
       "                  event_count  event_code  game_time\n",
       "game_session                                        \n",
       "000050630c4b081b            3        2060       4804\n",
       "00020f3bd042b3f0            2        4010       2230\n",
       "00030865234e6b3d           27        4020      36526\n",
       "000319989d08f8aa          494        9160     745700\n",
       "0007729b666af371          167        4070     194174\n",
       "...                       ...         ...        ...\n",
       "fffc036248965403          124        4070      93425\n",
       "fffc152654849cbe          120        7210     125564\n",
       "fffc54cfd9f4d7b2           37        3110      49684\n",
       "fffcdc3a0ff75a77         1244       16142    1673053\n",
       "fffda980b07029a3           23        4022      23902\n",
       "\n",
       "[49348 rows x 3 columns]"
      ]
     },
     "execution_count": 12,
     "metadata": {},
     "output_type": "execute_result"
    }
   ],
   "source": [
    "train_sample.groupby(\"game_session\").sum()"
   ]
  },
  {
   "cell_type": "markdown",
   "metadata": {},
   "source": [
    "Not sure game session ids are telling me what I thought they were here. They don't seem to overlap much, some sessions only contining 1 obseravtion.\n",
    "\n",
    "Let's take a deeper look at a set of events for a single ID."
   ]
  },
  {
   "cell_type": "code",
   "execution_count": 13,
   "metadata": {},
   "outputs": [
    {
     "data": {
      "text/html": [
       "<div>\n",
       "<style scoped>\n",
       "    .dataframe tbody tr th:only-of-type {\n",
       "        vertical-align: middle;\n",
       "    }\n",
       "\n",
       "    .dataframe tbody tr th {\n",
       "        vertical-align: top;\n",
       "    }\n",
       "\n",
       "    .dataframe thead th {\n",
       "        text-align: right;\n",
       "    }\n",
       "</style>\n",
       "<table border=\"1\" class=\"dataframe\">\n",
       "  <thead>\n",
       "    <tr style=\"text-align: right;\">\n",
       "      <th></th>\n",
       "      <th>event_id</th>\n",
       "      <th>game_session</th>\n",
       "      <th>timestamp</th>\n",
       "      <th>event_data</th>\n",
       "      <th>installation_id</th>\n",
       "      <th>event_count</th>\n",
       "      <th>event_code</th>\n",
       "      <th>game_time</th>\n",
       "      <th>title</th>\n",
       "      <th>type</th>\n",
       "      <th>world</th>\n",
       "    </tr>\n",
       "  </thead>\n",
       "  <tbody>\n",
       "    <tr>\n",
       "      <td>819</td>\n",
       "      <td>28f975ea</td>\n",
       "      <td>80d34a30c2998653</td>\n",
       "      <td>2019-08-06T05:25:31.088Z</td>\n",
       "      <td>{\"distance\":4,\"dinosaur\":\"don\",\"target_distanc...</td>\n",
       "      <td>0006a69f</td>\n",
       "      <td>125</td>\n",
       "      <td>4020</td>\n",
       "      <td>155126</td>\n",
       "      <td>Air Show</td>\n",
       "      <td>Game</td>\n",
       "      <td>TREETOPCITY</td>\n",
       "    </tr>\n",
       "    <tr>\n",
       "      <td>471</td>\n",
       "      <td>02a42007</td>\n",
       "      <td>05921a6eb858eeba</td>\n",
       "      <td>2019-08-06T05:16:12.546Z</td>\n",
       "      <td>{\"rocket\":3,\"coordinates\":{\"x\":330,\"y\":607,\"st...</td>\n",
       "      <td>0006a69f</td>\n",
       "      <td>78</td>\n",
       "      <td>4030</td>\n",
       "      <td>81224</td>\n",
       "      <td>Fireworks (Activity)</td>\n",
       "      <td>Activity</td>\n",
       "      <td>TREETOPCITY</td>\n",
       "    </tr>\n",
       "    <tr>\n",
       "      <td>3585</td>\n",
       "      <td>e9c52111</td>\n",
       "      <td>667e94bc234d1dbd</td>\n",
       "      <td>2019-08-29T16:26:04.802Z</td>\n",
       "      <td>{\"jar\":[{\"color\":\"blue\",\"amount\":1},{\"color\":\"...</td>\n",
       "      <td>0006a69f</td>\n",
       "      <td>31</td>\n",
       "      <td>2030</td>\n",
       "      <td>46808</td>\n",
       "      <td>Bottle Filler (Activity)</td>\n",
       "      <td>Activity</td>\n",
       "      <td>MAGMAPEAK</td>\n",
       "    </tr>\n",
       "    <tr>\n",
       "      <td>1515</td>\n",
       "      <td>6c517a88</td>\n",
       "      <td>cfc0fcbfcace6a52</td>\n",
       "      <td>2019-08-06T05:46:33.542Z</td>\n",
       "      <td>{\"coordinates\":{\"x\":311,\"y\":55,\"stage_width\":1...</td>\n",
       "      <td>0006a69f</td>\n",
       "      <td>74</td>\n",
       "      <td>4070</td>\n",
       "      <td>93480</td>\n",
       "      <td>Dino Drink</td>\n",
       "      <td>Game</td>\n",
       "      <td>MAGMAPEAK</td>\n",
       "    </tr>\n",
       "    <tr>\n",
       "      <td>1764</td>\n",
       "      <td>363d3849</td>\n",
       "      <td>faed1805baea37b0</td>\n",
       "      <td>2019-08-06T17:46:05.315Z</td>\n",
       "      <td>{\"media_type\":\"animation\",\"total_duration\":410...</td>\n",
       "      <td>0006a69f</td>\n",
       "      <td>4</td>\n",
       "      <td>3010</td>\n",
       "      <td>4293</td>\n",
       "      <td>All Star Sorting</td>\n",
       "      <td>Game</td>\n",
       "      <td>TREETOPCITY</td>\n",
       "    </tr>\n",
       "  </tbody>\n",
       "</table>\n",
       "</div>"
      ],
      "text/plain": [
       "      event_id      game_session                 timestamp  \\\n",
       "819   28f975ea  80d34a30c2998653  2019-08-06T05:25:31.088Z   \n",
       "471   02a42007  05921a6eb858eeba  2019-08-06T05:16:12.546Z   \n",
       "3585  e9c52111  667e94bc234d1dbd  2019-08-29T16:26:04.802Z   \n",
       "1515  6c517a88  cfc0fcbfcace6a52  2019-08-06T05:46:33.542Z   \n",
       "1764  363d3849  faed1805baea37b0  2019-08-06T17:46:05.315Z   \n",
       "\n",
       "                                             event_data installation_id  \\\n",
       "819   {\"distance\":4,\"dinosaur\":\"don\",\"target_distanc...        0006a69f   \n",
       "471   {\"rocket\":3,\"coordinates\":{\"x\":330,\"y\":607,\"st...        0006a69f   \n",
       "3585  {\"jar\":[{\"color\":\"blue\",\"amount\":1},{\"color\":\"...        0006a69f   \n",
       "1515  {\"coordinates\":{\"x\":311,\"y\":55,\"stage_width\":1...        0006a69f   \n",
       "1764  {\"media_type\":\"animation\",\"total_duration\":410...        0006a69f   \n",
       "\n",
       "      event_count  event_code  game_time                     title      type  \\\n",
       "819           125        4020     155126                  Air Show      Game   \n",
       "471            78        4030      81224      Fireworks (Activity)  Activity   \n",
       "3585           31        2030      46808  Bottle Filler (Activity)  Activity   \n",
       "1515           74        4070      93480                Dino Drink      Game   \n",
       "1764            4        3010       4293          All Star Sorting      Game   \n",
       "\n",
       "            world  \n",
       "819   TREETOPCITY  \n",
       "471   TREETOPCITY  \n",
       "3585    MAGMAPEAK  \n",
       "1515    MAGMAPEAK  \n",
       "1764  TREETOPCITY  "
      ]
     },
     "execution_count": 13,
     "metadata": {},
     "output_type": "execute_result"
    }
   ],
   "source": [
    "single_id = train_sample.query('installation_id==\"0006a69f\"')\n",
    "single_id.head()"
   ]
  },
  {
   "cell_type": "code",
   "execution_count": 14,
   "metadata": {},
   "outputs": [
    {
     "data": {
      "text/plain": [
       "<matplotlib.axes._subplots.AxesSubplot at 0x7ff86f75a390>"
      ]
     },
     "execution_count": 14,
     "metadata": {},
     "output_type": "execute_result"
    },
    {
     "data": {
      "image/png": "[encoded data removed]",
      "text/plain": [
       "<Figure size 432x288 with 1 Axes>"
      ]
     },
     "metadata": {
      "needs_background": "light"
     },
     "output_type": "display_data"
    }
   ],
   "source": [
    "single_id[\"event_code\"].value_counts().plot.bar()"
   ]
  },
  {
   "cell_type": "code",
   "execution_count": 15,
   "metadata": {},
   "outputs": [
    {
     "data": {
      "text/plain": [
       "25"
      ]
     },
     "execution_count": 15,
     "metadata": {},
     "output_type": "execute_result"
    }
   ],
   "source": [
    "#This user has 25 different game sessions\n",
    "single_id[\"game_session\"].value_counts().count()"
   ]
  },
  {
   "cell_type": "code",
   "execution_count": 16,
   "metadata": {},
   "outputs": [
    {
     "data": {
      "text/plain": [
       "Game          28\n",
       "Activity      15\n",
       "Assessment     2\n",
       "Name: type, dtype: int64"
      ]
     },
     "execution_count": 16,
     "metadata": {},
     "output_type": "execute_result"
    }
   ],
   "source": [
    "single_id[\"type\"].value_counts()"
   ]
  },
  {
   "cell_type": "markdown",
   "metadata": {},
   "source": [
    "It might be interesting to compare some features in the train data to the test data, as a reality check that things are relatively similar."
   ]
  },
  {
   "cell_type": "code",
   "execution_count": 20,
   "metadata": {},
   "outputs": [],
   "source": [
    "test = pd.read_csv(\"../DSB2019/data-science-bowl-2019/test.csv\")"
   ]
  },
  {
   "cell_type": "code",
   "execution_count": 21,
   "metadata": {},
   "outputs": [
    {
     "data": {
      "text/plain": [
       "(1156414, 11)"
      ]
     },
     "execution_count": 21,
     "metadata": {},
     "output_type": "execute_result"
    }
   ],
   "source": [
    "test.shape"
   ]
  },
  {
   "cell_type": "code",
   "execution_count": 22,
   "metadata": {},
   "outputs": [
    {
     "data": {
      "text/plain": [
       "<matplotlib.axes._subplots.AxesSubplot at 0x7ff775d68910>"
      ]
     },
     "execution_count": 22,
     "metadata": {},
     "output_type": "execute_result"
    },
    {
     "data": {
      "image/png": "[encoded data removed]",
      "text/plain": [
       "<Figure size 432x288 with 1 Axes>"
      ]
     },
     "metadata": {
      "needs_background": "light"
     },
     "output_type": "display_data"
    }
   ],
   "source": [
    "test[\"event_code\"].value_counts().plot.bar()"
   ]
  },
  {
   "cell_type": "markdown",
   "metadata": {},
   "source": [
    "Event code, at least, looks fairly similar. That's good!\n",
    "Next, let's look at various other statistics."
   ]
  },
  {
   "cell_type": "code",
   "execution_count": 23,
   "metadata": {},
   "outputs": [
    {
     "data": {
      "text/plain": [
       "42"
      ]
     },
     "metadata": {},
     "output_type": "display_data"
    },
    {
     "data": {
      "text/plain": [
       "42"
      ]
     },
     "metadata": {},
     "output_type": "display_data"
    }
   ],
   "source": [
    "display(train_sample[\"event_code\"].nunique())\n",
    "display(test[\"event_code\"].nunique())"
   ]
  },
  {
   "cell_type": "code",
   "execution_count": 24,
   "metadata": {},
   "outputs": [
    {
     "data": {
      "text/plain": [
       "358"
      ]
     },
     "metadata": {},
     "output_type": "display_data"
    },
    {
     "data": {
      "text/plain": [
       "365"
      ]
     },
     "metadata": {},
     "output_type": "display_data"
    }
   ],
   "source": [
    "display(train_sample[\"event_id\"].nunique())\n",
    "display(test[\"event_id\"].nunique())"
   ]
  },
  {
   "cell_type": "code",
   "execution_count": 25,
   "metadata": {},
   "outputs": [
    {
     "data": {
      "text/plain": [
       "4070"
      ]
     },
     "metadata": {},
     "output_type": "display_data"
    },
    {
     "data": {
      "text/plain": [
       "1000"
      ]
     },
     "metadata": {},
     "output_type": "display_data"
    }
   ],
   "source": [
    "display(train_sample[\"installation_id\"].nunique())\n",
    "display(test[\"installation_id\"].nunique())"
   ]
  },
  {
   "cell_type": "markdown",
   "metadata": {},
   "source": [
    "Unpack the inner data"
   ]
  },
  {
   "cell_type": "code",
   "execution_count": 26,
   "metadata": {},
   "outputs": [],
   "source": [
    "# Code below based on code original written/published by Gabriel Preda\n",
    "# on Kaggle, accessed Mon, 18 Nov, 2019\n",
    "# https://www.kaggle.com/gpreda/2019-data-science-bowl-eda\n",
    "extracted_event_data = pd.io.json.json_normalize(train_sample.event_data.apply(json.loads))"
   ]
  },
  {
   "cell_type": "code",
   "execution_count": 27,
   "metadata": {},
   "outputs": [
    {
     "data": {
      "text/plain": [
       "(100000, 135)"
      ]
     },
     "execution_count": 27,
     "metadata": {},
     "output_type": "execute_result"
    }
   ],
   "source": [
    "extracted_event_data.shape"
   ]
  },
  {
   "cell_type": "code",
   "execution_count": 28,
   "metadata": {},
   "outputs": [
    {
     "data": {
      "text/html": [
       "<div>\n",
       "<style scoped>\n",
       "    .dataframe tbody tr th:only-of-type {\n",
       "        vertical-align: middle;\n",
       "    }\n",
       "\n",
       "    .dataframe tbody tr th {\n",
       "        vertical-align: top;\n",
       "    }\n",
       "\n",
       "    .dataframe thead th {\n",
       "        text-align: right;\n",
       "    }\n",
       "</style>\n",
       "<table border=\"1\" class=\"dataframe\">\n",
       "  <thead>\n",
       "    <tr style=\"text-align: right;\">\n",
       "      <th></th>\n",
       "      <th>description</th>\n",
       "      <th>identifier</th>\n",
       "      <th>media_type</th>\n",
       "      <th>duration</th>\n",
       "      <th>level</th>\n",
       "      <th>round</th>\n",
       "      <th>event_count</th>\n",
       "      <th>game_time</th>\n",
       "      <th>event_code</th>\n",
       "      <th>coordinates.x</th>\n",
       "      <th>...</th>\n",
       "      <th>bowls</th>\n",
       "      <th>bird_height</th>\n",
       "      <th>hats_placed</th>\n",
       "      <th>stage_number</th>\n",
       "      <th>tutorial_step</th>\n",
       "      <th>toy_earned</th>\n",
       "      <th>molds</th>\n",
       "      <th>dwell_time</th>\n",
       "      <th>tape_length</th>\n",
       "      <th>bug_length</th>\n",
       "    </tr>\n",
       "  </thead>\n",
       "  <tbody>\n",
       "    <tr>\n",
       "      <td>0</td>\n",
       "      <td>Which pail is right for the chicken?</td>\n",
       "      <td>chicken_whichwater</td>\n",
       "      <td>animation</td>\n",
       "      <td>902.0</td>\n",
       "      <td>5.0</td>\n",
       "      <td>12.0</td>\n",
       "      <td>126</td>\n",
       "      <td>169840.0</td>\n",
       "      <td>3110</td>\n",
       "      <td>NaN</td>\n",
       "      <td>...</td>\n",
       "      <td>NaN</td>\n",
       "      <td>NaN</td>\n",
       "      <td>NaN</td>\n",
       "      <td>NaN</td>\n",
       "      <td>NaN</td>\n",
       "      <td>NaN</td>\n",
       "      <td>NaN</td>\n",
       "      <td>NaN</td>\n",
       "      <td>NaN</td>\n",
       "      <td>NaN</td>\n",
       "    </tr>\n",
       "    <tr>\n",
       "      <td>1</td>\n",
       "      <td>NaN</td>\n",
       "      <td>NaN</td>\n",
       "      <td>NaN</td>\n",
       "      <td>NaN</td>\n",
       "      <td>NaN</td>\n",
       "      <td>1.0</td>\n",
       "      <td>26</td>\n",
       "      <td>28093.0</td>\n",
       "      <td>4070</td>\n",
       "      <td>661.0</td>\n",
       "      <td>...</td>\n",
       "      <td>NaN</td>\n",
       "      <td>NaN</td>\n",
       "      <td>NaN</td>\n",
       "      <td>NaN</td>\n",
       "      <td>NaN</td>\n",
       "      <td>NaN</td>\n",
       "      <td>NaN</td>\n",
       "      <td>NaN</td>\n",
       "      <td>NaN</td>\n",
       "      <td>NaN</td>\n",
       "    </tr>\n",
       "    <tr>\n",
       "      <td>2</td>\n",
       "      <td>Tap the bucket that holds the least amount of ...</td>\n",
       "      <td>Dot_TapBucketLeast</td>\n",
       "      <td>audio</td>\n",
       "      <td>NaN</td>\n",
       "      <td>NaN</td>\n",
       "      <td>NaN</td>\n",
       "      <td>24</td>\n",
       "      <td>26100.0</td>\n",
       "      <td>3010</td>\n",
       "      <td>NaN</td>\n",
       "      <td>...</td>\n",
       "      <td>NaN</td>\n",
       "      <td>NaN</td>\n",
       "      <td>NaN</td>\n",
       "      <td>NaN</td>\n",
       "      <td>NaN</td>\n",
       "      <td>NaN</td>\n",
       "      <td>NaN</td>\n",
       "      <td>NaN</td>\n",
       "      <td>NaN</td>\n",
       "      <td>NaN</td>\n",
       "    </tr>\n",
       "    <tr>\n",
       "      <td>3</td>\n",
       "      <td>Amazing!</td>\n",
       "      <td>Dot_Amazing</td>\n",
       "      <td>audio</td>\n",
       "      <td>1132.0</td>\n",
       "      <td>NaN</td>\n",
       "      <td>NaN</td>\n",
       "      <td>20</td>\n",
       "      <td>25383.0</td>\n",
       "      <td>3110</td>\n",
       "      <td>NaN</td>\n",
       "      <td>...</td>\n",
       "      <td>NaN</td>\n",
       "      <td>NaN</td>\n",
       "      <td>NaN</td>\n",
       "      <td>NaN</td>\n",
       "      <td>NaN</td>\n",
       "      <td>NaN</td>\n",
       "      <td>NaN</td>\n",
       "      <td>NaN</td>\n",
       "      <td>NaN</td>\n",
       "      <td>NaN</td>\n",
       "    </tr>\n",
       "    <tr>\n",
       "      <td>4</td>\n",
       "      <td>Three!</td>\n",
       "      <td>sid_3</td>\n",
       "      <td>animation</td>\n",
       "      <td>467.0</td>\n",
       "      <td>NaN</td>\n",
       "      <td>NaN</td>\n",
       "      <td>100</td>\n",
       "      <td>67773.0</td>\n",
       "      <td>3110</td>\n",
       "      <td>NaN</td>\n",
       "      <td>...</td>\n",
       "      <td>NaN</td>\n",
       "      <td>NaN</td>\n",
       "      <td>NaN</td>\n",
       "      <td>NaN</td>\n",
       "      <td>NaN</td>\n",
       "      <td>NaN</td>\n",
       "      <td>NaN</td>\n",
       "      <td>NaN</td>\n",
       "      <td>NaN</td>\n",
       "      <td>NaN</td>\n",
       "    </tr>\n",
       "  </tbody>\n",
       "</table>\n",
       "<p>5 rows × 135 columns</p>\n",
       "</div>"
      ],
      "text/plain": [
       "                                         description          identifier  \\\n",
       "0               Which pail is right for the chicken?  chicken_whichwater   \n",
       "1                                                NaN                 NaN   \n",
       "2  Tap the bucket that holds the least amount of ...  Dot_TapBucketLeast   \n",
       "3                                           Amazing!         Dot_Amazing   \n",
       "4                                             Three!               sid_3   \n",
       "\n",
       "  media_type  duration  level  round  event_count  game_time  event_code  \\\n",
       "0  animation     902.0    5.0   12.0          126   169840.0        3110   \n",
       "1        NaN       NaN    NaN    1.0           26    28093.0        4070   \n",
       "2      audio       NaN    NaN    NaN           24    26100.0        3010   \n",
       "3      audio    1132.0    NaN    NaN           20    25383.0        3110   \n",
       "4  animation     467.0    NaN    NaN          100    67773.0        3110   \n",
       "\n",
       "   coordinates.x  ...  bowls  bird_height  hats_placed  stage_number  \\\n",
       "0            NaN  ...    NaN          NaN          NaN           NaN   \n",
       "1          661.0  ...    NaN          NaN          NaN           NaN   \n",
       "2            NaN  ...    NaN          NaN          NaN           NaN   \n",
       "3            NaN  ...    NaN          NaN          NaN           NaN   \n",
       "4            NaN  ...    NaN          NaN          NaN           NaN   \n",
       "\n",
       "  tutorial_step toy_earned molds  dwell_time tape_length  bug_length  \n",
       "0           NaN        NaN   NaN         NaN         NaN         NaN  \n",
       "1           NaN        NaN   NaN         NaN         NaN         NaN  \n",
       "2           NaN        NaN   NaN         NaN         NaN         NaN  \n",
       "3           NaN        NaN   NaN         NaN         NaN         NaN  \n",
       "4           NaN        NaN   NaN         NaN         NaN         NaN  \n",
       "\n",
       "[5 rows x 135 columns]"
      ]
     },
     "execution_count": 28,
     "metadata": {},
     "output_type": "execute_result"
    }
   ],
   "source": [
    "extracted_event_data.head()"
   ]
  },
  {
   "cell_type": "code",
   "execution_count": 29,
   "metadata": {},
   "outputs": [
    {
     "data": {
      "text/plain": [
       "<matplotlib.axes._subplots.AxesSubplot at 0x7ff767aab7d0>"
      ]
     },
     "execution_count": 29,
     "metadata": {},
     "output_type": "execute_result"
    },
    {
     "data": {
      "image/png": "[encoded data removed]",
      "text/plain": [
       "<Figure size 432x288 with 1 Axes>"
      ]
     },
     "metadata": {
      "needs_background": "light"
     },
     "output_type": "display_data"
    }
   ],
   "source": [
    "extracted_event_data[\"event_code\"].value_counts().plot.bar()"
   ]
  },
  {
   "cell_type": "markdown",
   "metadata": {},
   "source": [
    "Join the labels to the training set."
   ]
  },
  {
   "cell_type": "code",
   "execution_count": 31,
   "metadata": {},
   "outputs": [],
   "source": [
    "train_labels = pd.read_csv(\"../DSB2019/data-science-bowl-2019/train_labels.csv\")"
   ]
  },
  {
   "cell_type": "code",
   "execution_count": 59,
   "metadata": {},
   "outputs": [],
   "source": [
    "# Code below based on code original written/published by Gabriel Preda\n",
    "# on Kaggle, accessed Mon, 18 Nov, 2019\n",
    "# https://www.kaggle.com/gpreda/2019-data-science-bowl-eda\n",
    "\n",
    "numerical_columns = ['game_time']\n",
    "categorical_columns = ['type', 'world']\n",
    "\n",
    "comp_train_sample = pd.DataFrame({'installation_id': train_sample['installation_id'].unique()})\n",
    "comp_train_sample.set_index('installation_id', inplace = True)"
   ]
  },
  {
   "cell_type": "code",
   "execution_count": 60,
   "metadata": {},
   "outputs": [],
   "source": [
    "def get_numeric_columns(df, column):\n",
    "    df = df.groupby('installation_id').agg({f'{column}': ['mean', 'sum', 'min', 'max', 'std', 'skew']})\n",
    "    df[column].fillna(df[column].mean(), inplace = True)\n",
    "    df.columns = [f'{column}_mean', f'{column}_sum', f'{column}_min', f'{column}_max', f'{column}_std', f'{column}_skew']\n",
    "    return df"
   ]
  },
  {
   "cell_type": "code",
   "execution_count": 61,
   "metadata": {},
   "outputs": [
    {
     "name": "stderr",
     "output_type": "stream",
     "text": [
      "/home/maxwell/anaconda3/lib/python3.7/site-packages/pandas/core/generic.py:6287: SettingWithCopyWarning: \n",
      "A value is trying to be set on a copy of a slice from a DataFrame\n",
      "\n",
      "See the caveats in the documentation: http://pandas.pydata.org/pandas-docs/stable/user_guide/indexing.html#returning-a-view-versus-a-copy\n",
      "  self._update_inplace(new_data)\n"
     ]
    }
   ],
   "source": [
    "for i in numerical_columns:\n",
    "    comp_train_sample = comp_train_sample.merge(get_numeric_columns(train_sample, i), left_index = True, right_index = True)"
   ]
  },
  {
   "cell_type": "code",
   "execution_count": 62,
   "metadata": {},
   "outputs": [
    {
     "name": "stdout",
     "output_type": "stream",
     "text": [
      "We have 17690 training rows\n"
     ]
    }
   ],
   "source": [
    "# get the mode of the title\n",
    "labels_map = dict(train_labels.groupby('title')['accuracy_group'].agg(lambda x:x.value_counts().index[0]))\n",
    "# merge target\n",
    "labels = train_labels.loc[:, ['installation_id', 'title', 'accuracy_group']]\n",
    "# replace title with the mode\n",
    "labels['title'] = labels['title'].map(labels_map)\n",
    "# join train with labels\n",
    "comp_train_sample = labels.merge(comp_train_sample, on = 'installation_id', how = 'left')\n",
    "print('We have {} training rows'.format(comp_train_sample.shape[0]))"
   ]
  },
  {
   "cell_type": "markdown",
   "metadata": {},
   "source": [
    "This gives us the number of rows we can actually use in a future model.\n",
    "\n",
    "## Let's establish a naive baseline model to work from"
   ]
  },
  {
   "cell_type": "code",
   "execution_count": 63,
   "metadata": {},
   "outputs": [],
   "source": [
    "# Code below based on code original written/published by Massoud Hosseinali\n",
    "# on Kaggle, accessed 20 Nov, 2019\n",
    "# https://www.kaggle.com/mhviraf/a-baseline-for-dsb-2019\n",
    "submission = pd.read_csv(\"../DSB2019/data-science-bowl-2019/sample_submission.csv\")"
   ]
  },
  {
   "cell_type": "code",
   "execution_count": 64,
   "metadata": {},
   "outputs": [
    {
     "data": {
      "text/plain": [
       "{'Bird Measurer (Assessment)': 0,\n",
       " 'Cart Balancer (Assessment)': 3,\n",
       " 'Cauldron Filler (Assessment)': 3,\n",
       " 'Chest Sorter (Assessment)': 0,\n",
       " 'Mushroom Sorter (Assessment)': 3}"
      ]
     },
     "execution_count": 64,
     "metadata": {},
     "output_type": "execute_result"
    }
   ],
   "source": [
    "labels_map = dict(train_labels.groupby('title')['accuracy_group'].agg(lambda x:x.value_counts().index[0])) # get the mode\n",
    "labels_map"
   ]
  },
  {
   "cell_type": "code",
   "execution_count": 65,
   "metadata": {},
   "outputs": [
    {
     "data": {
      "text/plain": [
       "(1000, 2)"
      ]
     },
     "metadata": {},
     "output_type": "display_data"
    },
    {
     "data": {
      "text/html": [
       "<div>\n",
       "<style scoped>\n",
       "    .dataframe tbody tr th:only-of-type {\n",
       "        vertical-align: middle;\n",
       "    }\n",
       "\n",
       "    .dataframe tbody tr th {\n",
       "        vertical-align: top;\n",
       "    }\n",
       "\n",
       "    .dataframe thead th {\n",
       "        text-align: right;\n",
       "    }\n",
       "</style>\n",
       "<table border=\"1\" class=\"dataframe\">\n",
       "  <thead>\n",
       "    <tr style=\"text-align: right;\">\n",
       "      <th></th>\n",
       "      <th>installation_id</th>\n",
       "      <th>accuracy_group</th>\n",
       "    </tr>\n",
       "  </thead>\n",
       "  <tbody>\n",
       "    <tr>\n",
       "      <td>0</td>\n",
       "      <td>00abaee7</td>\n",
       "      <td>NaN</td>\n",
       "    </tr>\n",
       "    <tr>\n",
       "      <td>1</td>\n",
       "      <td>01242218</td>\n",
       "      <td>NaN</td>\n",
       "    </tr>\n",
       "    <tr>\n",
       "      <td>2</td>\n",
       "      <td>017c5718</td>\n",
       "      <td>NaN</td>\n",
       "    </tr>\n",
       "    <tr>\n",
       "      <td>3</td>\n",
       "      <td>01a44906</td>\n",
       "      <td>NaN</td>\n",
       "    </tr>\n",
       "    <tr>\n",
       "      <td>4</td>\n",
       "      <td>01bc6cb6</td>\n",
       "      <td>NaN</td>\n",
       "    </tr>\n",
       "  </tbody>\n",
       "</table>\n",
       "</div>"
      ],
      "text/plain": [
       "  installation_id  accuracy_group\n",
       "0        00abaee7             NaN\n",
       "1        01242218             NaN\n",
       "2        017c5718             NaN\n",
       "3        01a44906             NaN\n",
       "4        01bc6cb6             NaN"
      ]
     },
     "execution_count": 65,
     "metadata": {},
     "output_type": "execute_result"
    }
   ],
   "source": [
    "submission['accuracy_group'] = test.groupby('installation_id').last()['title'].map(labels_map).reset_index(drop=True)\n",
    "submission.to_csv('submission.csv', index=None)\n",
    "display(submission.shape)\n",
    "submission.head()"
   ]
  },
  {
   "cell_type": "code",
   "execution_count": 66,
   "metadata": {},
   "outputs": [
    {
     "data": {
      "text/plain": [
       "<matplotlib.axes._subplots.AxesSubplot at 0x7ff76855e9d0>"
      ]
     },
     "execution_count": 66,
     "metadata": {},
     "output_type": "execute_result"
    },
    {
     "data": {
      "image/png": "[encoded data removed]",
      "text/plain": [
       "<Figure size 432x288 with 1 Axes>"
      ]
     },
     "metadata": {
      "needs_background": "light"
     },
     "output_type": "display_data"
    }
   ],
   "source": [
    "submission['accuracy_group'].plot(kind='hist')"
   ]
  },
  {
   "cell_type": "code",
   "execution_count": 67,
   "metadata": {},
   "outputs": [
    {
     "data": {
      "text/plain": [
       "<matplotlib.axes._subplots.AxesSubplot at 0x7ff767b4d590>"
      ]
     },
     "execution_count": 67,
     "metadata": {},
     "output_type": "execute_result"
    },
    {
     "data": {
      "image/png": "[encoded data removed]",
      "text/plain": [
       "<Figure size 432x288 with 1 Axes>"
      ]
     },
     "metadata": {
      "needs_background": "light"
     },
     "output_type": "display_data"
    }
   ],
   "source": [
    "train_labels['accuracy_group'].plot(kind='hist')"
   ]
  },
  {
   "cell_type": "markdown",
   "metadata": {},
   "source": [
    "## Feature Engineering"
   ]
  },
  {
   "cell_type": "markdown",
   "metadata": {},
   "source": [
    "In order to do any modeling, the data needs to be preprocessed and prepared. I have chosen to do a categorical aggregation of the data into summary statistics grouped by installion id (user) and accumulated for each session prior to an assessment."
   ]
  },
  {
   "cell_type": "code",
   "execution_count": 68,
   "metadata": {},
   "outputs": [],
   "source": [
    "# Code below based on code original written/published by Massoud Hosseinali\n",
    "# on Kaggle, accessed 13 Dec, 2019\n",
    "# https://www.kaggle.com/mhviraf/a-new-baseline-for-dsb-2019-catboost-model\n",
    "\n",
    "#first we need to make a mapping to the proper event code for a completion of each event\n",
    "\n",
    "#list all activity titles\n",
    "list_of_user_activities = list(set(train_sample['title'].value_counts().index).union(set(test['title'].value_counts().index)))\n",
    "#map each activity to its integer index (very simple hash)\n",
    "activities_map = dict(zip(list_of_user_activities, np.arange(len(list_of_user_activities))))\n",
    "\n",
    "# modify the df (essentially a rename)\n",
    "train_sample['title'] = train_sample['title'].map(activities_map)\n",
    "test['title'] = test['title'].map(activities_map)\n",
    "\n",
    "#assessment successful event, or win code, is 4100 for most\n",
    "#assesments but 4110 for the final\n",
    "#make a mapping for this \n",
    "win_code = dict(zip(activities_map.values(), (4100*np.ones(len(activities_map))).astype('int')))\n",
    "win_code[activities_map['Bird Measurer (Assessment)']] = 4110"
   ]
  },
  {
   "cell_type": "code",
   "execution_count": 69,
   "metadata": {},
   "outputs": [],
   "source": [
    "#convert the time data\n",
    "train_sample['timestamp'] = pd.to_datetime(train_sample['timestamp'])\n",
    "test['timestamp'] = pd.to_datetime(test['timestamp'])"
   ]
  },
  {
   "cell_type": "code",
   "execution_count": 83,
   "metadata": {},
   "outputs": [],
   "source": [
    "#Make some dictionaries of unique event values to track their aggregrates\n",
    "list_of_event_code = list(set(train_sample['event_code'].unique()).union(set(test['event_code'].unique())))\n",
    "list_of_event_id = list(set(train_sample['event_id'].unique()).union(set(test['event_id'].unique())))\n",
    "activities_labels = dict(zip(np.arange(len(list_of_user_activities)), list_of_user_activities))"
   ]
  },
  {
   "cell_type": "code",
   "execution_count": 101,
   "metadata": {},
   "outputs": [],
   "source": [
    "from collections import Counter\n",
    "\n",
    "# create a function to summarize the data in each session\n",
    "\n",
    "def agg_data(data, test_set=False):\n",
    "    \n",
    "    activityData = []\n",
    "    user_activities_count = {'Clip':0, 'Activity': 0, 'Assessment': 0, 'Game':0}\n",
    "    accuracy_groups = {0:0, 1:0, 2:0, 3:0}\n",
    "    accumulated_accuracy_group = 0\n",
    "    accumulated_accuracy=0\n",
    "    accumulated_correct_attempts = 0 \n",
    "    accumulated_incorrect_attempts = 0 \n",
    "    accumulated_actions = 0\n",
    "    counter = 0\n",
    "    durations = []\n",
    "    last_activity = 0\n",
    "    \n",
    "    event_code_count: Dict[str, int] = {ev: 0 for ev in list_of_event_code}\n",
    "    event_id_count: Dict[str, int] = {eve: 0 for eve in list_of_event_id}\n",
    "    title_count: Dict[str, int] = {eve: 0 for eve in activities_labels.values()} \n",
    "    \n",
    "    for i, session in data.groupby('game_session', sort=False):\n",
    "        session_type = session['type'].iloc[0]\n",
    "        session_title = session['title'].iloc[0]\n",
    "        \n",
    "        #if we find an assessment and a session\n",
    "        #look at assessment data\n",
    "        if (session_type == 'Assessment') & (test_set or len(session) > 1):\n",
    "            \n",
    "            all_attempts = session.query(f'event_code == {win_code[session_title]}')\n",
    "            #check true or false by searching json event data str\n",
    "            true_attempts = all_attempts['event_data'].str.contains('true').sum()\n",
    "            false_attempts = all_attempts['event_data'].str.contains('false').sum()\n",
    "            \n",
    "            features = user_activities_count.copy()\n",
    "            features.update(event_code_count.copy())\n",
    "            features.update(event_id_count.copy())\n",
    "            features.update(title_count.copy())\n",
    "            \n",
    "            #baseline the number of attempts\n",
    "            features['session_title'] = session['title'].iloc[0] \n",
    "            features['accumulated_correct_attempts'] = accumulated_correct_attempts\n",
    "            features['accumulated_incorrect_attempts'] = accumulated_incorrect_attempts\n",
    "            accumulated_correct_attempts += true_attempts \n",
    "            accumulated_incorrect_attempts += false_attempts\n",
    "            \n",
    "            #recalc average of the duration\n",
    "            if durations == []:\n",
    "                features['duration_mean'] = 0\n",
    "            else:\n",
    "                features['duration_mean'] = np.mean(durations)\n",
    "            durations.append((session.iloc[-1, 2] - session.iloc[0, 2]).seconds)\n",
    "            \n",
    "            #compute accuracy as described in the competition\n",
    "            features['accumulated_accuracy'] = accumulated_accuracy/counter if counter > 0 else 0\n",
    "            accuracy = true_attempts/(true_attempts+false_attempts) if (true_attempts+false_attempts) != 0 else 0\n",
    "            accumulated_accuracy += accuracy\n",
    "            if accuracy == 0:\n",
    "                features['accuracy_group'] = 0\n",
    "            elif accuracy == 1:\n",
    "                features['accuracy_group'] = 3\n",
    "            elif accuracy == 0.5:\n",
    "                features['accuracy_group'] = 2\n",
    "            else:\n",
    "                features['accuracy_group'] = 1\n",
    "                \n",
    "            \n",
    "            features.update(accuracy_groups)\n",
    "            features['accumulated_accuracy_group'] = accumulated_accuracy_group/counter if counter > 0 else 0\n",
    "            features['accumulated_actions'] = accumulated_actions\n",
    "            accumulated_accuracy_group += features['accuracy_group']\n",
    "            accuracy_groups[features['accuracy_group']] += 1\n",
    "                \n",
    "            if test_set or true_attempts+false_attempts > 0:\n",
    "                activityData.append(features)\n",
    "                \n",
    "            counter += 1\n",
    "            \n",
    "        # count how many actions in each event_code so far by type\n",
    "        def update_counters(counter: dict, col: str):\n",
    "                num_of_session_count = Counter(session[col])\n",
    "                for k in num_of_session_count.keys():\n",
    "                    x = k\n",
    "                    if col == 'title':\n",
    "                        x = activities_labels[k]\n",
    "                    counter[x] += num_of_session_count[k]\n",
    "                return counter\n",
    "            \n",
    "        event_code_count = update_counters(event_code_count, \"event_code\")\n",
    "        event_id_count = update_counters(event_id_count, \"event_id\")\n",
    "        title_count = update_counters(title_count, 'title')\n",
    "        \n",
    "        # sum total actions for a session\n",
    "        accumulated_actions += len(session)\n",
    "        if last_activity != session_type:\n",
    "            user_activities_count[session_type] += 1\n",
    "            last_activitiy = session_type\n",
    "                \n",
    "    return activityData[-1] if test_set else activityData"
   ]
  },
  {
   "cell_type": "code",
   "execution_count": 102,
   "metadata": {},
   "outputs": [
    {
     "data": {
      "text/html": [
       "<div>\n",
       "<style scoped>\n",
       "    .dataframe tbody tr th:only-of-type {\n",
       "        vertical-align: middle;\n",
       "    }\n",
       "\n",
       "    .dataframe tbody tr th {\n",
       "        vertical-align: top;\n",
       "    }\n",
       "\n",
       "    .dataframe thead th {\n",
       "        text-align: right;\n",
       "    }\n",
       "</style>\n",
       "<table border=\"1\" class=\"dataframe\">\n",
       "  <thead>\n",
       "    <tr style=\"text-align: right;\">\n",
       "      <th></th>\n",
       "      <th>Clip</th>\n",
       "      <th>Activity</th>\n",
       "      <th>Assessment</th>\n",
       "      <th>Game</th>\n",
       "      <th>2050</th>\n",
       "      <th>4100</th>\n",
       "      <th>2060</th>\n",
       "      <th>4110</th>\n",
       "      <th>2070</th>\n",
       "      <th>2075</th>\n",
       "      <th>...</th>\n",
       "      <th>Egg Dropper (Activity)</th>\n",
       "      <th>Tree Top City - Level 2</th>\n",
       "      <th>session_title</th>\n",
       "      <th>accumulated_correct_attempts</th>\n",
       "      <th>accumulated_incorrect_attempts</th>\n",
       "      <th>duration_mean</th>\n",
       "      <th>accumulated_accuracy</th>\n",
       "      <th>accuracy_group</th>\n",
       "      <th>accumulated_accuracy_group</th>\n",
       "      <th>accumulated_actions</th>\n",
       "    </tr>\n",
       "  </thead>\n",
       "  <tbody>\n",
       "    <tr>\n",
       "      <td>0</td>\n",
       "      <td>0</td>\n",
       "      <td>1</td>\n",
       "      <td>2</td>\n",
       "      <td>1</td>\n",
       "      <td>0</td>\n",
       "      <td>0</td>\n",
       "      <td>0</td>\n",
       "      <td>0</td>\n",
       "      <td>0</td>\n",
       "      <td>0</td>\n",
       "      <td>...</td>\n",
       "      <td>0</td>\n",
       "      <td>0</td>\n",
       "      <td>81</td>\n",
       "      <td>0</td>\n",
       "      <td>0</td>\n",
       "      <td>3.0</td>\n",
       "      <td>0.00</td>\n",
       "      <td>0</td>\n",
       "      <td>0.00</td>\n",
       "      <td>35</td>\n",
       "    </tr>\n",
       "    <tr>\n",
       "      <td>1</td>\n",
       "      <td>0</td>\n",
       "      <td>1</td>\n",
       "      <td>0</td>\n",
       "      <td>0</td>\n",
       "      <td>0</td>\n",
       "      <td>0</td>\n",
       "      <td>0</td>\n",
       "      <td>0</td>\n",
       "      <td>0</td>\n",
       "      <td>0</td>\n",
       "      <td>...</td>\n",
       "      <td>0</td>\n",
       "      <td>0</td>\n",
       "      <td>81</td>\n",
       "      <td>0</td>\n",
       "      <td>0</td>\n",
       "      <td>0.0</td>\n",
       "      <td>0.00</td>\n",
       "      <td>3</td>\n",
       "      <td>0.00</td>\n",
       "      <td>16</td>\n",
       "    </tr>\n",
       "    <tr>\n",
       "      <td>2</td>\n",
       "      <td>0</td>\n",
       "      <td>2</td>\n",
       "      <td>1</td>\n",
       "      <td>2</td>\n",
       "      <td>0</td>\n",
       "      <td>0</td>\n",
       "      <td>0</td>\n",
       "      <td>1</td>\n",
       "      <td>0</td>\n",
       "      <td>0</td>\n",
       "      <td>...</td>\n",
       "      <td>0</td>\n",
       "      <td>0</td>\n",
       "      <td>64</td>\n",
       "      <td>1</td>\n",
       "      <td>0</td>\n",
       "      <td>86379.0</td>\n",
       "      <td>1.00</td>\n",
       "      <td>0</td>\n",
       "      <td>3.00</td>\n",
       "      <td>65</td>\n",
       "    </tr>\n",
       "    <tr>\n",
       "      <td>3</td>\n",
       "      <td>1</td>\n",
       "      <td>5</td>\n",
       "      <td>2</td>\n",
       "      <td>13</td>\n",
       "      <td>2</td>\n",
       "      <td>1</td>\n",
       "      <td>1</td>\n",
       "      <td>1</td>\n",
       "      <td>2</td>\n",
       "      <td>0</td>\n",
       "      <td>...</td>\n",
       "      <td>0</td>\n",
       "      <td>0</td>\n",
       "      <td>81</td>\n",
       "      <td>1</td>\n",
       "      <td>1</td>\n",
       "      <td>43199.0</td>\n",
       "      <td>0.50</td>\n",
       "      <td>0</td>\n",
       "      <td>1.50</td>\n",
       "      <td>261</td>\n",
       "    </tr>\n",
       "    <tr>\n",
       "      <td>4</td>\n",
       "      <td>1</td>\n",
       "      <td>20</td>\n",
       "      <td>4</td>\n",
       "      <td>24</td>\n",
       "      <td>5</td>\n",
       "      <td>4</td>\n",
       "      <td>2</td>\n",
       "      <td>3</td>\n",
       "      <td>2</td>\n",
       "      <td>0</td>\n",
       "      <td>...</td>\n",
       "      <td>0</td>\n",
       "      <td>0</td>\n",
       "      <td>76</td>\n",
       "      <td>1</td>\n",
       "      <td>3</td>\n",
       "      <td>64794.5</td>\n",
       "      <td>0.25</td>\n",
       "      <td>0</td>\n",
       "      <td>0.75</td>\n",
       "      <td>603</td>\n",
       "    </tr>\n",
       "    <tr>\n",
       "      <td>...</td>\n",
       "      <td>...</td>\n",
       "      <td>...</td>\n",
       "      <td>...</td>\n",
       "      <td>...</td>\n",
       "      <td>...</td>\n",
       "      <td>...</td>\n",
       "      <td>...</td>\n",
       "      <td>...</td>\n",
       "      <td>...</td>\n",
       "      <td>...</td>\n",
       "      <td>...</td>\n",
       "      <td>...</td>\n",
       "      <td>...</td>\n",
       "      <td>...</td>\n",
       "      <td>...</td>\n",
       "      <td>...</td>\n",
       "      <td>...</td>\n",
       "      <td>...</td>\n",
       "      <td>...</td>\n",
       "      <td>...</td>\n",
       "      <td>...</td>\n",
       "    </tr>\n",
       "    <tr>\n",
       "      <td>3974</td>\n",
       "      <td>0</td>\n",
       "      <td>1</td>\n",
       "      <td>0</td>\n",
       "      <td>0</td>\n",
       "      <td>0</td>\n",
       "      <td>0</td>\n",
       "      <td>0</td>\n",
       "      <td>0</td>\n",
       "      <td>0</td>\n",
       "      <td>0</td>\n",
       "      <td>...</td>\n",
       "      <td>0</td>\n",
       "      <td>0</td>\n",
       "      <td>82</td>\n",
       "      <td>0</td>\n",
       "      <td>0</td>\n",
       "      <td>0.0</td>\n",
       "      <td>0.00</td>\n",
       "      <td>3</td>\n",
       "      <td>0.00</td>\n",
       "      <td>15</td>\n",
       "    </tr>\n",
       "    <tr>\n",
       "      <td>3975</td>\n",
       "      <td>0</td>\n",
       "      <td>0</td>\n",
       "      <td>0</td>\n",
       "      <td>0</td>\n",
       "      <td>0</td>\n",
       "      <td>0</td>\n",
       "      <td>0</td>\n",
       "      <td>0</td>\n",
       "      <td>0</td>\n",
       "      <td>0</td>\n",
       "      <td>...</td>\n",
       "      <td>0</td>\n",
       "      <td>0</td>\n",
       "      <td>29</td>\n",
       "      <td>0</td>\n",
       "      <td>0</td>\n",
       "      <td>0.0</td>\n",
       "      <td>0.00</td>\n",
       "      <td>0</td>\n",
       "      <td>0.00</td>\n",
       "      <td>0</td>\n",
       "    </tr>\n",
       "    <tr>\n",
       "      <td>3976</td>\n",
       "      <td>0</td>\n",
       "      <td>0</td>\n",
       "      <td>1</td>\n",
       "      <td>0</td>\n",
       "      <td>0</td>\n",
       "      <td>1</td>\n",
       "      <td>0</td>\n",
       "      <td>0</td>\n",
       "      <td>0</td>\n",
       "      <td>0</td>\n",
       "      <td>...</td>\n",
       "      <td>0</td>\n",
       "      <td>0</td>\n",
       "      <td>29</td>\n",
       "      <td>0</td>\n",
       "      <td>1</td>\n",
       "      <td>7.0</td>\n",
       "      <td>0.00</td>\n",
       "      <td>3</td>\n",
       "      <td>0.00</td>\n",
       "      <td>6</td>\n",
       "    </tr>\n",
       "    <tr>\n",
       "      <td>3977</td>\n",
       "      <td>0</td>\n",
       "      <td>0</td>\n",
       "      <td>0</td>\n",
       "      <td>0</td>\n",
       "      <td>0</td>\n",
       "      <td>0</td>\n",
       "      <td>0</td>\n",
       "      <td>0</td>\n",
       "      <td>0</td>\n",
       "      <td>0</td>\n",
       "      <td>...</td>\n",
       "      <td>0</td>\n",
       "      <td>0</td>\n",
       "      <td>76</td>\n",
       "      <td>0</td>\n",
       "      <td>0</td>\n",
       "      <td>0.0</td>\n",
       "      <td>0.00</td>\n",
       "      <td>3</td>\n",
       "      <td>0.00</td>\n",
       "      <td>0</td>\n",
       "    </tr>\n",
       "    <tr>\n",
       "      <td>3978</td>\n",
       "      <td>0</td>\n",
       "      <td>0</td>\n",
       "      <td>0</td>\n",
       "      <td>0</td>\n",
       "      <td>0</td>\n",
       "      <td>0</td>\n",
       "      <td>0</td>\n",
       "      <td>0</td>\n",
       "      <td>0</td>\n",
       "      <td>0</td>\n",
       "      <td>...</td>\n",
       "      <td>0</td>\n",
       "      <td>0</td>\n",
       "      <td>29</td>\n",
       "      <td>0</td>\n",
       "      <td>0</td>\n",
       "      <td>0.0</td>\n",
       "      <td>0.00</td>\n",
       "      <td>3</td>\n",
       "      <td>0.00</td>\n",
       "      <td>0</td>\n",
       "    </tr>\n",
       "  </tbody>\n",
       "</table>\n",
       "<p>3979 rows × 513 columns</p>\n",
       "</div>"
      ],
      "text/plain": [
       "      Clip  Activity  Assessment  Game  2050  4100  2060  4110  2070  2075  \\\n",
       "0        0         1           2     1     0     0     0     0     0     0   \n",
       "1        0         1           0     0     0     0     0     0     0     0   \n",
       "2        0         2           1     2     0     0     0     1     0     0   \n",
       "3        1         5           2    13     2     1     1     1     2     0   \n",
       "4        1        20           4    24     5     4     2     3     2     0   \n",
       "...    ...       ...         ...   ...   ...   ...   ...   ...   ...   ...   \n",
       "3974     0         1           0     0     0     0     0     0     0     0   \n",
       "3975     0         0           0     0     0     0     0     0     0     0   \n",
       "3976     0         0           1     0     0     1     0     0     0     0   \n",
       "3977     0         0           0     0     0     0     0     0     0     0   \n",
       "3978     0         0           0     0     0     0     0     0     0     0   \n",
       "\n",
       "      ...  Egg Dropper (Activity)  Tree Top City - Level 2  session_title  \\\n",
       "0     ...                       0                        0             81   \n",
       "1     ...                       0                        0             81   \n",
       "2     ...                       0                        0             64   \n",
       "3     ...                       0                        0             81   \n",
       "4     ...                       0                        0             76   \n",
       "...   ...                     ...                      ...            ...   \n",
       "3974  ...                       0                        0             82   \n",
       "3975  ...                       0                        0             29   \n",
       "3976  ...                       0                        0             29   \n",
       "3977  ...                       0                        0             76   \n",
       "3978  ...                       0                        0             29   \n",
       "\n",
       "      accumulated_correct_attempts  accumulated_incorrect_attempts  \\\n",
       "0                                0                               0   \n",
       "1                                0                               0   \n",
       "2                                1                               0   \n",
       "3                                1                               1   \n",
       "4                                1                               3   \n",
       "...                            ...                             ...   \n",
       "3974                             0                               0   \n",
       "3975                             0                               0   \n",
       "3976                             0                               1   \n",
       "3977                             0                               0   \n",
       "3978                             0                               0   \n",
       "\n",
       "      duration_mean  accumulated_accuracy  accuracy_group  \\\n",
       "0               3.0                  0.00               0   \n",
       "1               0.0                  0.00               3   \n",
       "2           86379.0                  1.00               0   \n",
       "3           43199.0                  0.50               0   \n",
       "4           64794.5                  0.25               0   \n",
       "...             ...                   ...             ...   \n",
       "3974            0.0                  0.00               3   \n",
       "3975            0.0                  0.00               0   \n",
       "3976            7.0                  0.00               3   \n",
       "3977            0.0                  0.00               3   \n",
       "3978            0.0                  0.00               3   \n",
       "\n",
       "      accumulated_accuracy_group  accumulated_actions  \n",
       "0                           0.00                   35  \n",
       "1                           0.00                   16  \n",
       "2                           3.00                   65  \n",
       "3                           1.50                  261  \n",
       "4                           0.75                  603  \n",
       "...                          ...                  ...  \n",
       "3974                        0.00                   15  \n",
       "3975                        0.00                    0  \n",
       "3976                        0.00                    6  \n",
       "3977                        0.00                    0  \n",
       "3978                        0.00                    0  \n",
       "\n",
       "[3979 rows x 513 columns]"
      ]
     },
     "execution_count": 102,
     "metadata": {},
     "output_type": "execute_result"
    }
   ],
   "source": [
    "#compile data for each installation id by running above function\n",
    "compiled_data = []\n",
    "for i, (ins_id, data) in enumerate(train_sample.groupby('installation_id', sort=False)):\n",
    "    compiled_data += agg_data(data)\n",
    "\n",
    "new_train_sample = pd.DataFrame(compiled_data)\n",
    "del compiled_data\n",
    "new_train_sample"
   ]
  },
  {
   "cell_type": "code",
   "execution_count": 103,
   "metadata": {},
   "outputs": [
    {
     "data": {
      "text/plain": [
       "(3979, 512)"
      ]
     },
     "execution_count": 103,
     "metadata": {},
     "output_type": "execute_result"
    }
   ],
   "source": [
    "all_features = [x for x in new_train_sample.columns if x not in ['accuracy_group']]\n",
    "X, y = new_train_sample[all_features], new_train_sample['accuracy_group']\n",
    "X.shape"
   ]
  },
  {
   "cell_type": "markdown",
   "metadata": {},
   "source": [
    "Fit and predict based on the model:"
   ]
  },
  {
   "cell_type": "code",
   "execution_count": 104,
   "metadata": {},
   "outputs": [
    {
     "name": "stdout",
     "output_type": "stream",
     "text": [
      "0.0    3745\n",
      "3.0     229\n",
      "2.0       5\n",
      "dtype: int64\n",
      "0    2414\n",
      "3    1412\n",
      "2     127\n",
      "1      26\n",
      "Name: accuracy_group, dtype: int64\n"
     ]
    },
    {
     "data": {
      "text/plain": [
       "0.591605931138477"
      ]
     },
     "metadata": {},
     "output_type": "display_data"
    },
    {
     "data": {
      "text/plain": [
       "0.0007181355734393602"
      ]
     },
     "execution_count": 104,
     "metadata": {},
     "output_type": "execute_result"
    }
   ],
   "source": [
    "from sklearn.neighbors import KNeighborsClassifier\n",
    "from sklearn.metrics import accuracy_score\n",
    "from sklearn.metrics import cohen_kappa_score\n",
    "from sklearn.model_selection import KFold\n",
    "from sklearn.preprocessing import StandardScaler\n",
    "from sklearn.feature_extraction import DictVectorizer\n",
    "\n",
    "oof = np.zeros(len(X))\n",
    "\n",
    "NFOLDS = 2\n",
    "folds = KFold(n_splits=NFOLDS, shuffle=True, random_state=2019)\n",
    "\n",
    "for fold, (trn_idx, test_idx) in enumerate(folds.split(X, y)):\n",
    "    currX = X.loc[trn_idx, all_features]\n",
    "    scaler = StandardScaler()\n",
    "    scaler.fit(currX)\n",
    "    currX_sc = scaler.transform(currX)\n",
    "    \n",
    "    # K-Nearest Neighbors Model\n",
    "    model = KNeighborsClassifier(n_neighbors=4)\n",
    "    model.fit(currX_sc, y.loc[trn_idx])\n",
    "    oof[test_idx] = model.predict(X.loc[test_idx,all_features])\n",
    "\n",
    "print(pd.Series(oof).value_counts())\n",
    "print(pd.Series(y).value_counts())\n",
    "display(accuracy_score(y, oof))\n",
    "cohen_kappa_score(y, oof, weights=\"quadratic\")"
   ]
  },
  {
   "cell_type": "markdown",
   "metadata": {},
   "source": [
    "Looks like this model is pretty poor because the features are not really set up properly for a KNN classification. Let's move on to some better modeling."
   ]
  },
  {
   "cell_type": "markdown",
   "metadata": {},
   "source": [
    "# Model Improvements"
   ]
  },
  {
   "cell_type": "markdown",
   "metadata": {},
   "source": [
    "## Cat Boost\n",
    "Code below based on code original written/published by Massoud Hosseinali\n",
    "on Kaggle, accessed 13 Dec, 2019\n",
    "https://www.kaggle.com/mhviraf/a-new-baseline-for-dsb-2019-catboost-model\n",
    "\n",
    "Use our previously aggregated features to fit a category boosting model."
   ]
  },
  {
   "cell_type": "code",
   "execution_count": 105,
   "metadata": {},
   "outputs": [],
   "source": [
    "from catboost import CatBoostClassifier"
   ]
  },
  {
   "cell_type": "code",
   "execution_count": 106,
   "metadata": {},
   "outputs": [],
   "source": [
    "cat_features = ['session_title']"
   ]
  },
  {
   "cell_type": "code",
   "execution_count": 107,
   "metadata": {},
   "outputs": [],
   "source": [
    "def make_classifier():\n",
    "    return CatBoostClassifier(loss_function='MultiClass',\n",
    "            task_type=\"CPU\",\n",
    "            learning_rate=0.01,\n",
    "            iterations=2000,\n",
    "            od_type=\"Iter\",\n",
    "            early_stopping_rounds=500,\n",
    "            random_seed=1001);"
   ]
  },
  {
   "cell_type": "code",
   "execution_count": 108,
   "metadata": {},
   "outputs": [
    {
     "data": {
      "text/plain": [
       "0.40278917827350325"
      ]
     },
     "execution_count": 108,
     "metadata": {},
     "output_type": "execute_result"
    }
   ],
   "source": [
    "cb_oof = np.zeros(len(X))\n",
    "folds = KFold(n_splits=5, shuffle=True, random_state=1001)\n",
    "\n",
    "for fold, (trn_idx, test_idx) in enumerate(folds.split(X, y)):\n",
    "    clf = make_classifier()\n",
    "    clf.fit(X.loc[trn_idx, all_features], y.loc[trn_idx], eval_set=(X.loc[test_idx, all_features], y.loc[test_idx]),\n",
    "                          use_best_model=True, verbose = False, cat_features=cat_features)\n",
    "\n",
    "    cb_oof[test_idx] = clf.predict(X.loc[test_idx, all_features]).reshape(len(test_idx))\n",
    "    \n",
    "cohen_kappa_score(y, cb_oof, weights=\"quadratic\")"
   ]
  },
  {
   "cell_type": "markdown",
   "metadata": {},
   "source": [
    "As we can see this model gives a much better result due to better use of the features produced earlier. It uses a gradient boosting on decision trees technique to achieve these results.\n",
    "I found this article particularly helpful to understanding how it performs compared to other methods. \n",
    "\n",
    "https://towardsdatascience.com/catboost-vs-light-gbm-vs-xgboost-5f93620723db"
   ]
  },
  {
   "cell_type": "markdown",
   "metadata": {},
   "source": [
    "## Regression model\n",
    "\n",
    "Let's test one of the regression options to see how it performs. There is a fair amount of numerical data so it could be decent.\n",
    "\n",
    "Code below based on code original written/published by Andrew Lukyanenko\n",
    "on Kaggle, accessed 13 Dec, 2019\n",
    "https://www.kaggle.com/artgor/quick-and-dirty-regression"
   ]
  },
  {
   "cell_type": "code",
   "execution_count": 112,
   "metadata": {},
   "outputs": [],
   "source": [
    "import lightgbm as lgb"
   ]
  },
  {
   "cell_type": "code",
   "execution_count": 115,
   "metadata": {},
   "outputs": [],
   "source": [
    "#specify params\n",
    "\n",
    "params = {  \n",
    "            'n_estimators':2000,\n",
    "            'boosting_type': 'gbdt',\n",
    "            'objective': 'regression',\n",
    "            'metric': 'rmse',\n",
    "            'subsample': 0.75,\n",
    "            'subsample_freq': 1,\n",
    "            'learning_rate': 0.04,\n",
    "            'feature_fraction': 0.9,\n",
    "            'max_depth': 15,\n",
    "            'lambda_l1': 1,  \n",
    "            'lambda_l2': 1,\n",
    "            'verbose': 100,\n",
    "            'early_stopping_rounds': 100,\n",
    "            'eval_metric': 'cappa'\n",
    "          }"
   ]
  },
  {
   "cell_type": "code",
   "execution_count": 116,
   "metadata": {},
   "outputs": [],
   "source": [
    "lgb_oof = np.zeros(len(X))\n",
    "folds = KFold(n_splits=5, shuffle=True, random_state=1001)"
   ]
  },
  {
   "cell_type": "code",
   "execution_count": 118,
   "metadata": {},
   "outputs": [],
   "source": [
    "for fold, (trn_idx, test_idx) in enumerate(folds.split(X, y)):\n",
    "    reg_model = lgb.LGBMRegressor()\n",
    "    reg_model.set_params(**params)\n",
    "    \n",
    "    reg_model.fit(X.loc[trn_idx, all_features], y.loc[trn_idx], eval_set=(X.loc[test_idx, all_features], y.loc[test_idx]),\n",
    "                    verbose = False, early_stopping_rounds=params['early_stopping_rounds'])\n",
    "\n",
    "    lgb_oof[test_idx] = reg_model.predict(X.loc[test_idx, all_features]).reshape(len(test_idx))"
   ]
  },
  {
   "cell_type": "code",
   "execution_count": 122,
   "metadata": {},
   "outputs": [],
   "source": [
    "#convert to kappa scoreable resuls\n",
    "lgb_oof[lgb_oof <= 1.12232214] = 0\n",
    "lgb_oof[np.where(np.logical_and(lgb_oof > 1.12232214, lgb_oof <= 1.73925866))] = 1\n",
    "lgb_oof[np.where(np.logical_and(lgb_oof > 1.73925866, lgb_oof <= 2.22506454))] = 2\n",
    "lgb_oof[lgb_oof > 2.22506454] = 3"
   ]
  },
  {
   "cell_type": "code",
   "execution_count": 123,
   "metadata": {},
   "outputs": [
    {
     "data": {
      "text/plain": [
       "0.33278018643269935"
      ]
     },
     "execution_count": 123,
     "metadata": {},
     "output_type": "execute_result"
    }
   ],
   "source": [
    "cohen_kappa_score(y, lgb_oof, weights=\"quadratic\")"
   ]
  },
  {
   "cell_type": "markdown",
   "metadata": {},
   "source": [
    "As we can see this model gives a somewhat worse result as compared to CatBoost due to worse use of the categorical features."
   ]
  },
  {
   "cell_type": "markdown",
   "metadata": {},
   "source": [
    "## Reflection"
   ]
  },
  {
   "cell_type": "markdown",
   "metadata": {},
   "source": [
    "Data Science is an interative process full of trial and error exploration. This project gave me great insight into the process of tuning and retuning features and testing different types of modeling to predict an outcome. I'm looking forward to rerunning on the entire data set in order to make a submission to the competition."
   ]
  }
 ],
 "metadata": {
  "kernelspec": {
   "display_name": "Python 3",
   "language": "python",
   "name": "python3"
  },
  "language_info": {
   "codemirror_mode": {
    "name": "ipython",
    "version": 3
   },
   "file_extension": ".py",
   "mimetype": "text/x-python",
   "name": "python",
   "nbconvert_exporter": "python",
   "pygments_lexer": "ipython3",
   "version": "3.7.4"
  }
 },
 "nbformat": 4,
 "nbformat_minor": 2
}
