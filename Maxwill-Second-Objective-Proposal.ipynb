{
 "cells": [
  {
   "cell_type": "markdown",
   "metadata": {},
   "source": [
    "# Secondary Objective\n",
    "\n",
    "### Time data and types of users\n",
    "\n",
    "The competition poses a rather one dimensional question about predicting performance of a user. It could be interesting instead to use the user data to create a profile of types of players and see if that more wholesome approach can lead to better predictions. Specifically, looking at macro and micro time data information could provide meta insights that could be indirect predictors of performance and gauge engagement with the application.\n",
    "\n",
    "Macro time information potential\n",
    "- Time of day, Day of week, Month\n",
    "- Consistency of play (similar times of day, days of week)\n",
    "- time spent on activity type\n",
    "\n",
    "Micro time information potential\n",
    "- Frequency between events (gauge frustration?)\n",
    "- Number of time clustered observations (length of sessions)\n",
    "\n",
    "Outcomes and objectives:\n",
    "- Look for clustering in time data\n",
    "- Potentially classify clusters\n",
    "- See if this correlates with first objective"
   ]
  },
  {
   "cell_type": "markdown",
   "metadata": {},
   "source": [
    "# Feedback \n",
    "Looks good. Looking forward to see what you find."
   ]
  },
  {
   "cell_type": "code",
   "execution_count": null,
   "metadata": {},
   "outputs": [],
   "source": []
  }
 ],
 "metadata": {
  "kernelspec": {
   "display_name": "Python 3",
   "language": "python",
   "name": "python3"
  },
  "language_info": {
   "codemirror_mode": {
    "name": "ipython",
    "version": 3
   },
   "file_extension": ".py",
   "mimetype": "text/x-python",
   "name": "python",
   "nbconvert_exporter": "python",
   "pygments_lexer": "ipython3",
   "version": "3.7.3"
  }
 },
 "nbformat": 4,
 "nbformat_minor": 4
}
